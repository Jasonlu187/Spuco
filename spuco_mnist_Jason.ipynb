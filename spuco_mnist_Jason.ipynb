{
  "cells": [
    {
      "cell_type": "markdown",
      "metadata": {
        "id": "view-in-github",
        "colab_type": "text"
      },
      "source": [
        "<a href=\"https://colab.research.google.com/github/Jasonlu187/Spuco/blob/main/spuco_mnist_Jason.ipynb\" target=\"_parent\"><img src=\"https://colab.research.google.com/assets/colab-badge.svg\" alt=\"Open In Colab\"/></a>"
      ]
    },
    {
      "cell_type": "code",
      "execution_count": null,
      "metadata": {
        "colab": {
          "base_uri": "https://localhost:8080/"
        },
        "id": "wnTG8L026SZA",
        "outputId": "78ea17d8-faf0-498d-b43b-0b12edd13e26"
      },
      "outputs": [
        {
          "output_type": "stream",
          "name": "stdout",
          "text": [
            "Collecting spuco\n",
            "  Downloading spuco-2.0.3-py3-none-any.whl.metadata (4.3 kB)\n",
            "Requirement already satisfied: matplotlib>=3.7.1 in /usr/local/lib/python3.11/dist-packages (from spuco) (3.10.0)\n",
            "Requirement already satisfied: numpy>=1.23.5 in /usr/local/lib/python3.11/dist-packages (from spuco) (2.0.2)\n",
            "Requirement already satisfied: setuptools>=61.0 in /usr/local/lib/python3.11/dist-packages (from spuco) (75.2.0)\n",
            "Requirement already satisfied: torch>=2.0.0 in /usr/local/lib/python3.11/dist-packages (from spuco) (2.6.0+cu124)\n",
            "Requirement already satisfied: torchvision>=0.15.1 in /usr/local/lib/python3.11/dist-packages (from spuco) (0.21.0+cu124)\n",
            "Requirement already satisfied: tqdm>=4.65.0 in /usr/local/lib/python3.11/dist-packages (from spuco) (4.67.1)\n",
            "Requirement already satisfied: scikit-learn>=0.20.0 in /usr/local/lib/python3.11/dist-packages (from spuco) (1.6.1)\n",
            "Collecting wilds>=2.0.0 (from spuco)\n",
            "  Downloading wilds-2.0.0-py3-none-any.whl.metadata (22 kB)\n",
            "Requirement already satisfied: transformers>=3.5.0 in /usr/local/lib/python3.11/dist-packages (from spuco) (4.51.3)\n",
            "Requirement already satisfied: umap-learn>=0.5.5 in /usr/local/lib/python3.11/dist-packages (from spuco) (0.5.7)\n",
            "Collecting grad-cam>=1.5.0 (from spuco)\n",
            "  Downloading grad-cam-1.5.5.tar.gz (7.8 MB)\n",
            "\u001b[2K     \u001b[90m━━━━━━━━━━━━━━━━━━━━━━━━━━━━━━━━━━━━━━━━\u001b[0m \u001b[32m7.8/7.8 MB\u001b[0m \u001b[31m63.9 MB/s\u001b[0m eta \u001b[36m0:00:00\u001b[0m\n",
            "\u001b[?25h  Installing build dependencies ... \u001b[?25l\u001b[?25hdone\n",
            "  Getting requirements to build wheel ... \u001b[?25l\u001b[?25hdone\n",
            "  Preparing metadata (pyproject.toml) ... \u001b[?25l\u001b[?25hdone\n",
            "Requirement already satisfied: Pillow in /usr/local/lib/python3.11/dist-packages (from grad-cam>=1.5.0->spuco) (11.2.1)\n",
            "Collecting ttach (from grad-cam>=1.5.0->spuco)\n",
            "  Downloading ttach-0.0.3-py3-none-any.whl.metadata (5.2 kB)\n",
            "Requirement already satisfied: opencv-python in /usr/local/lib/python3.11/dist-packages (from grad-cam>=1.5.0->spuco) (4.11.0.86)\n",
            "Requirement already satisfied: contourpy>=1.0.1 in /usr/local/lib/python3.11/dist-packages (from matplotlib>=3.7.1->spuco) (1.3.2)\n",
            "Requirement already satisfied: cycler>=0.10 in /usr/local/lib/python3.11/dist-packages (from matplotlib>=3.7.1->spuco) (0.12.1)\n",
            "Requirement already satisfied: fonttools>=4.22.0 in /usr/local/lib/python3.11/dist-packages (from matplotlib>=3.7.1->spuco) (4.58.0)\n",
            "Requirement already satisfied: kiwisolver>=1.3.1 in /usr/local/lib/python3.11/dist-packages (from matplotlib>=3.7.1->spuco) (1.4.8)\n",
            "Requirement already satisfied: packaging>=20.0 in /usr/local/lib/python3.11/dist-packages (from matplotlib>=3.7.1->spuco) (24.2)\n",
            "Requirement already satisfied: pyparsing>=2.3.1 in /usr/local/lib/python3.11/dist-packages (from matplotlib>=3.7.1->spuco) (3.2.3)\n",
            "Requirement already satisfied: python-dateutil>=2.7 in /usr/local/lib/python3.11/dist-packages (from matplotlib>=3.7.1->spuco) (2.9.0.post0)\n",
            "Requirement already satisfied: scipy>=1.6.0 in /usr/local/lib/python3.11/dist-packages (from scikit-learn>=0.20.0->spuco) (1.15.3)\n",
            "Requirement already satisfied: joblib>=1.2.0 in /usr/local/lib/python3.11/dist-packages (from scikit-learn>=0.20.0->spuco) (1.5.0)\n",
            "Requirement already satisfied: threadpoolctl>=3.1.0 in /usr/local/lib/python3.11/dist-packages (from scikit-learn>=0.20.0->spuco) (3.6.0)\n",
            "Requirement already satisfied: filelock in /usr/local/lib/python3.11/dist-packages (from torch>=2.0.0->spuco) (3.18.0)\n",
            "Requirement already satisfied: typing-extensions>=4.10.0 in /usr/local/lib/python3.11/dist-packages (from torch>=2.0.0->spuco) (4.13.2)\n",
            "Requirement already satisfied: networkx in /usr/local/lib/python3.11/dist-packages (from torch>=2.0.0->spuco) (3.4.2)\n",
            "Requirement already satisfied: jinja2 in /usr/local/lib/python3.11/dist-packages (from torch>=2.0.0->spuco) (3.1.6)\n",
            "Requirement already satisfied: fsspec in /usr/local/lib/python3.11/dist-packages (from torch>=2.0.0->spuco) (2025.3.2)\n",
            "Collecting nvidia-cuda-nvrtc-cu12==12.4.127 (from torch>=2.0.0->spuco)\n",
            "  Downloading nvidia_cuda_nvrtc_cu12-12.4.127-py3-none-manylinux2014_x86_64.whl.metadata (1.5 kB)\n",
            "Collecting nvidia-cuda-runtime-cu12==12.4.127 (from torch>=2.0.0->spuco)\n",
            "  Downloading nvidia_cuda_runtime_cu12-12.4.127-py3-none-manylinux2014_x86_64.whl.metadata (1.5 kB)\n",
            "Collecting nvidia-cuda-cupti-cu12==12.4.127 (from torch>=2.0.0->spuco)\n",
            "  Downloading nvidia_cuda_cupti_cu12-12.4.127-py3-none-manylinux2014_x86_64.whl.metadata (1.6 kB)\n",
            "Collecting nvidia-cudnn-cu12==9.1.0.70 (from torch>=2.0.0->spuco)\n",
            "  Downloading nvidia_cudnn_cu12-9.1.0.70-py3-none-manylinux2014_x86_64.whl.metadata (1.6 kB)\n",
            "Collecting nvidia-cublas-cu12==12.4.5.8 (from torch>=2.0.0->spuco)\n",
            "  Downloading nvidia_cublas_cu12-12.4.5.8-py3-none-manylinux2014_x86_64.whl.metadata (1.5 kB)\n",
            "Collecting nvidia-cufft-cu12==11.2.1.3 (from torch>=2.0.0->spuco)\n",
            "  Downloading nvidia_cufft_cu12-11.2.1.3-py3-none-manylinux2014_x86_64.whl.metadata (1.5 kB)\n",
            "Collecting nvidia-curand-cu12==10.3.5.147 (from torch>=2.0.0->spuco)\n",
            "  Downloading nvidia_curand_cu12-10.3.5.147-py3-none-manylinux2014_x86_64.whl.metadata (1.5 kB)\n",
            "Collecting nvidia-cusolver-cu12==11.6.1.9 (from torch>=2.0.0->spuco)\n",
            "  Downloading nvidia_cusolver_cu12-11.6.1.9-py3-none-manylinux2014_x86_64.whl.metadata (1.6 kB)\n",
            "Collecting nvidia-cusparse-cu12==12.3.1.170 (from torch>=2.0.0->spuco)\n",
            "  Downloading nvidia_cusparse_cu12-12.3.1.170-py3-none-manylinux2014_x86_64.whl.metadata (1.6 kB)\n",
            "Requirement already satisfied: nvidia-cusparselt-cu12==0.6.2 in /usr/local/lib/python3.11/dist-packages (from torch>=2.0.0->spuco) (0.6.2)\n",
            "Requirement already satisfied: nvidia-nccl-cu12==2.21.5 in /usr/local/lib/python3.11/dist-packages (from torch>=2.0.0->spuco) (2.21.5)\n",
            "Requirement already satisfied: nvidia-nvtx-cu12==12.4.127 in /usr/local/lib/python3.11/dist-packages (from torch>=2.0.0->spuco) (12.4.127)\n",
            "Collecting nvidia-nvjitlink-cu12==12.4.127 (from torch>=2.0.0->spuco)\n",
            "  Downloading nvidia_nvjitlink_cu12-12.4.127-py3-none-manylinux2014_x86_64.whl.metadata (1.5 kB)\n",
            "Requirement already satisfied: triton==3.2.0 in /usr/local/lib/python3.11/dist-packages (from torch>=2.0.0->spuco) (3.2.0)\n",
            "Requirement already satisfied: sympy==1.13.1 in /usr/local/lib/python3.11/dist-packages (from torch>=2.0.0->spuco) (1.13.1)\n",
            "Requirement already satisfied: mpmath<1.4,>=1.1.0 in /usr/local/lib/python3.11/dist-packages (from sympy==1.13.1->torch>=2.0.0->spuco) (1.3.0)\n",
            "Requirement already satisfied: huggingface-hub<1.0,>=0.30.0 in /usr/local/lib/python3.11/dist-packages (from transformers>=3.5.0->spuco) (0.31.2)\n",
            "Requirement already satisfied: pyyaml>=5.1 in /usr/local/lib/python3.11/dist-packages (from transformers>=3.5.0->spuco) (6.0.2)\n",
            "Requirement already satisfied: regex!=2019.12.17 in /usr/local/lib/python3.11/dist-packages (from transformers>=3.5.0->spuco) (2024.11.6)\n",
            "Requirement already satisfied: requests in /usr/local/lib/python3.11/dist-packages (from transformers>=3.5.0->spuco) (2.32.3)\n",
            "Requirement already satisfied: tokenizers<0.22,>=0.21 in /usr/local/lib/python3.11/dist-packages (from transformers>=3.5.0->spuco) (0.21.1)\n",
            "Requirement already satisfied: safetensors>=0.4.3 in /usr/local/lib/python3.11/dist-packages (from transformers>=3.5.0->spuco) (0.5.3)\n",
            "Requirement already satisfied: numba>=0.51.2 in /usr/local/lib/python3.11/dist-packages (from umap-learn>=0.5.5->spuco) (0.60.0)\n",
            "Requirement already satisfied: pynndescent>=0.5 in /usr/local/lib/python3.11/dist-packages (from umap-learn>=0.5.5->spuco) (0.5.13)\n",
            "Collecting ogb>=1.2.6 (from wilds>=2.0.0->spuco)\n",
            "  Downloading ogb-1.3.6-py3-none-any.whl.metadata (6.2 kB)\n",
            "Collecting outdated>=0.2.0 (from wilds>=2.0.0->spuco)\n",
            "  Downloading outdated-0.2.2-py2.py3-none-any.whl.metadata (4.7 kB)\n",
            "Requirement already satisfied: pandas>=1.1.0 in /usr/local/lib/python3.11/dist-packages (from wilds>=2.0.0->spuco) (2.2.2)\n",
            "Requirement already satisfied: pytz>=2020.4 in /usr/local/lib/python3.11/dist-packages (from wilds>=2.0.0->spuco) (2025.2)\n",
            "Requirement already satisfied: llvmlite<0.44,>=0.43.0dev0 in /usr/local/lib/python3.11/dist-packages (from numba>=0.51.2->umap-learn>=0.5.5->spuco) (0.43.0)\n",
            "Requirement already satisfied: six>=1.12.0 in /usr/local/lib/python3.11/dist-packages (from ogb>=1.2.6->wilds>=2.0.0->spuco) (1.17.0)\n",
            "Requirement already satisfied: urllib3>=1.24.0 in /usr/local/lib/python3.11/dist-packages (from ogb>=1.2.6->wilds>=2.0.0->spuco) (2.4.0)\n",
            "Collecting littleutils (from outdated>=0.2.0->wilds>=2.0.0->spuco)\n",
            "  Downloading littleutils-0.2.4-py3-none-any.whl.metadata (679 bytes)\n",
            "Requirement already satisfied: tzdata>=2022.7 in /usr/local/lib/python3.11/dist-packages (from pandas>=1.1.0->wilds>=2.0.0->spuco) (2025.2)\n",
            "Requirement already satisfied: MarkupSafe>=2.0 in /usr/local/lib/python3.11/dist-packages (from jinja2->torch>=2.0.0->spuco) (3.0.2)\n",
            "Requirement already satisfied: charset-normalizer<4,>=2 in /usr/local/lib/python3.11/dist-packages (from requests->transformers>=3.5.0->spuco) (3.4.2)\n",
            "Requirement already satisfied: idna<4,>=2.5 in /usr/local/lib/python3.11/dist-packages (from requests->transformers>=3.5.0->spuco) (3.10)\n",
            "Requirement already satisfied: certifi>=2017.4.17 in /usr/local/lib/python3.11/dist-packages (from requests->transformers>=3.5.0->spuco) (2025.4.26)\n",
            "Downloading spuco-2.0.3-py3-none-any.whl (127 kB)\n",
            "\u001b[2K   \u001b[90m━━━━━━━━━━━━━━━━━━━━━━━━━━━━━━━━━━━━━━━━\u001b[0m \u001b[32m127.4/127.4 kB\u001b[0m \u001b[31m8.7 MB/s\u001b[0m eta \u001b[36m0:00:00\u001b[0m\n",
            "\u001b[?25hDownloading nvidia_cublas_cu12-12.4.5.8-py3-none-manylinux2014_x86_64.whl (363.4 MB)\n",
            "\u001b[2K   \u001b[90m━━━━━━━━━━━━━━━━━━━━━━━━━━━━━━━━━━━━━━━━\u001b[0m \u001b[32m363.4/363.4 MB\u001b[0m \u001b[31m2.9 MB/s\u001b[0m eta \u001b[36m0:00:00\u001b[0m\n",
            "\u001b[?25hDownloading nvidia_cuda_cupti_cu12-12.4.127-py3-none-manylinux2014_x86_64.whl (13.8 MB)\n",
            "\u001b[2K   \u001b[90m━━━━━━━━━━━━━━━━━━━━━━━━━━━━━━━━━━━━━━━━\u001b[0m \u001b[32m13.8/13.8 MB\u001b[0m \u001b[31m113.6 MB/s\u001b[0m eta \u001b[36m0:00:00\u001b[0m\n",
            "\u001b[?25hDownloading nvidia_cuda_nvrtc_cu12-12.4.127-py3-none-manylinux2014_x86_64.whl (24.6 MB)\n",
            "\u001b[2K   \u001b[90m━━━━━━━━━━━━━━━━━━━━━━━━━━━━━━━━━━━━━━━━\u001b[0m \u001b[32m24.6/24.6 MB\u001b[0m \u001b[31m100.7 MB/s\u001b[0m eta \u001b[36m0:00:00\u001b[0m\n",
            "\u001b[?25hDownloading nvidia_cuda_runtime_cu12-12.4.127-py3-none-manylinux2014_x86_64.whl (883 kB)\n",
            "\u001b[2K   \u001b[90m━━━━━━━━━━━━━━━━━━━━━━━━━━━━━━━━━━━━━━━━\u001b[0m \u001b[32m883.7/883.7 kB\u001b[0m \u001b[31m57.9 MB/s\u001b[0m eta \u001b[36m0:00:00\u001b[0m\n",
            "\u001b[?25hDownloading nvidia_cudnn_cu12-9.1.0.70-py3-none-manylinux2014_x86_64.whl (664.8 MB)\n",
            "\u001b[2K   \u001b[90m━━━━━━━━━━━━━━━━━━━━━━━━━━━━━━━━━━━━━━━━\u001b[0m \u001b[32m664.8/664.8 MB\u001b[0m \u001b[31m1.7 MB/s\u001b[0m eta \u001b[36m0:00:00\u001b[0m\n",
            "\u001b[?25hDownloading nvidia_cufft_cu12-11.2.1.3-py3-none-manylinux2014_x86_64.whl (211.5 MB)\n",
            "\u001b[2K   \u001b[90m━━━━━━━━━━━━━━━━━━━━━━━━━━━━━━━━━━━━━━━━\u001b[0m \u001b[32m211.5/211.5 MB\u001b[0m \u001b[31m10.7 MB/s\u001b[0m eta \u001b[36m0:00:00\u001b[0m\n",
            "\u001b[?25hDownloading nvidia_curand_cu12-10.3.5.147-py3-none-manylinux2014_x86_64.whl (56.3 MB)\n",
            "\u001b[2K   \u001b[90m━━━━━━━━━━━━━━━━━━━━━━━━━━━━━━━━━━━━━━━━\u001b[0m \u001b[32m56.3/56.3 MB\u001b[0m \u001b[31m33.9 MB/s\u001b[0m eta \u001b[36m0:00:00\u001b[0m\n",
            "\u001b[?25hDownloading nvidia_cusolver_cu12-11.6.1.9-py3-none-manylinux2014_x86_64.whl (127.9 MB)\n",
            "\u001b[2K   \u001b[90m━━━━━━━━━━━━━━━━━━━━━━━━━━━━━━━━━━━━━━━━\u001b[0m \u001b[32m127.9/127.9 MB\u001b[0m \u001b[31m9.9 MB/s\u001b[0m eta \u001b[36m0:00:00\u001b[0m\n",
            "\u001b[?25hDownloading nvidia_cusparse_cu12-12.3.1.170-py3-none-manylinux2014_x86_64.whl (207.5 MB)\n",
            "\u001b[2K   \u001b[90m━━━━━━━━━━━━━━━━━━━━━━━━━━━━━━━━━━━━━━━━\u001b[0m \u001b[32m207.5/207.5 MB\u001b[0m \u001b[31m12.0 MB/s\u001b[0m eta \u001b[36m0:00:00\u001b[0m\n",
            "\u001b[?25hDownloading nvidia_nvjitlink_cu12-12.4.127-py3-none-manylinux2014_x86_64.whl (21.1 MB)\n",
            "\u001b[2K   \u001b[90m━━━━━━━━━━━━━━━━━━━━━━━━━━━━━━━━━━━━━━━━\u001b[0m \u001b[32m21.1/21.1 MB\u001b[0m \u001b[31m76.2 MB/s\u001b[0m eta \u001b[36m0:00:00\u001b[0m\n",
            "\u001b[?25hDownloading wilds-2.0.0-py3-none-any.whl (126 kB)\n",
            "\u001b[2K   \u001b[90m━━━━━━━━━━━━━━━━━━━━━━━━━━━━━━━━━━━━━━━━\u001b[0m \u001b[32m126.2/126.2 kB\u001b[0m \u001b[31m13.4 MB/s\u001b[0m eta \u001b[36m0:00:00\u001b[0m\n",
            "\u001b[?25hDownloading ogb-1.3.6-py3-none-any.whl (78 kB)\n",
            "\u001b[2K   \u001b[90m━━━━━━━━━━━━━━━━━━━━━━━━━━━━━━━━━━━━━━━━\u001b[0m \u001b[32m78.8/78.8 kB\u001b[0m \u001b[31m7.8 MB/s\u001b[0m eta \u001b[36m0:00:00\u001b[0m\n",
            "\u001b[?25hDownloading outdated-0.2.2-py2.py3-none-any.whl (7.5 kB)\n",
            "Downloading ttach-0.0.3-py3-none-any.whl (9.8 kB)\n",
            "Downloading littleutils-0.2.4-py3-none-any.whl (8.1 kB)\n",
            "Building wheels for collected packages: grad-cam\n",
            "  Building wheel for grad-cam (pyproject.toml) ... \u001b[?25l\u001b[?25hdone\n",
            "  Created wheel for grad-cam: filename=grad_cam-1.5.5-py3-none-any.whl size=44284 sha256=c145f6a167119ffbc57d87006990f427f4155fac8717c3aed8be19834827915d\n",
            "  Stored in directory: /root/.cache/pip/wheels/bc/52/78/893c3b94279ef238f43a9e89608af648de401b96415bebbd1f\n",
            "Successfully built grad-cam\n",
            "Installing collected packages: ttach, nvidia-nvjitlink-cu12, nvidia-curand-cu12, nvidia-cufft-cu12, nvidia-cuda-runtime-cu12, nvidia-cuda-nvrtc-cu12, nvidia-cuda-cupti-cu12, nvidia-cublas-cu12, littleutils, outdated, nvidia-cusparse-cu12, nvidia-cudnn-cu12, nvidia-cusolver-cu12, ogb, wilds, grad-cam, spuco\n",
            "  Attempting uninstall: nvidia-nvjitlink-cu12\n",
            "    Found existing installation: nvidia-nvjitlink-cu12 12.5.82\n",
            "    Uninstalling nvidia-nvjitlink-cu12-12.5.82:\n",
            "      Successfully uninstalled nvidia-nvjitlink-cu12-12.5.82\n",
            "  Attempting uninstall: nvidia-curand-cu12\n",
            "    Found existing installation: nvidia-curand-cu12 10.3.6.82\n",
            "    Uninstalling nvidia-curand-cu12-10.3.6.82:\n",
            "      Successfully uninstalled nvidia-curand-cu12-10.3.6.82\n",
            "  Attempting uninstall: nvidia-cufft-cu12\n",
            "    Found existing installation: nvidia-cufft-cu12 11.2.3.61\n",
            "    Uninstalling nvidia-cufft-cu12-11.2.3.61:\n",
            "      Successfully uninstalled nvidia-cufft-cu12-11.2.3.61\n",
            "  Attempting uninstall: nvidia-cuda-runtime-cu12\n",
            "    Found existing installation: nvidia-cuda-runtime-cu12 12.5.82\n",
            "    Uninstalling nvidia-cuda-runtime-cu12-12.5.82:\n",
            "      Successfully uninstalled nvidia-cuda-runtime-cu12-12.5.82\n",
            "  Attempting uninstall: nvidia-cuda-nvrtc-cu12\n",
            "    Found existing installation: nvidia-cuda-nvrtc-cu12 12.5.82\n",
            "    Uninstalling nvidia-cuda-nvrtc-cu12-12.5.82:\n",
            "      Successfully uninstalled nvidia-cuda-nvrtc-cu12-12.5.82\n",
            "  Attempting uninstall: nvidia-cuda-cupti-cu12\n",
            "    Found existing installation: nvidia-cuda-cupti-cu12 12.5.82\n",
            "    Uninstalling nvidia-cuda-cupti-cu12-12.5.82:\n",
            "      Successfully uninstalled nvidia-cuda-cupti-cu12-12.5.82\n",
            "  Attempting uninstall: nvidia-cublas-cu12\n",
            "    Found existing installation: nvidia-cublas-cu12 12.5.3.2\n",
            "    Uninstalling nvidia-cublas-cu12-12.5.3.2:\n",
            "      Successfully uninstalled nvidia-cublas-cu12-12.5.3.2\n",
            "  Attempting uninstall: nvidia-cusparse-cu12\n",
            "    Found existing installation: nvidia-cusparse-cu12 12.5.1.3\n",
            "    Uninstalling nvidia-cusparse-cu12-12.5.1.3:\n",
            "      Successfully uninstalled nvidia-cusparse-cu12-12.5.1.3\n",
            "  Attempting uninstall: nvidia-cudnn-cu12\n",
            "    Found existing installation: nvidia-cudnn-cu12 9.3.0.75\n",
            "    Uninstalling nvidia-cudnn-cu12-9.3.0.75:\n",
            "      Successfully uninstalled nvidia-cudnn-cu12-9.3.0.75\n",
            "  Attempting uninstall: nvidia-cusolver-cu12\n",
            "    Found existing installation: nvidia-cusolver-cu12 11.6.3.83\n",
            "    Uninstalling nvidia-cusolver-cu12-11.6.3.83:\n",
            "      Successfully uninstalled nvidia-cusolver-cu12-11.6.3.83\n",
            "Successfully installed grad-cam-1.5.5 littleutils-0.2.4 nvidia-cublas-cu12-12.4.5.8 nvidia-cuda-cupti-cu12-12.4.127 nvidia-cuda-nvrtc-cu12-12.4.127 nvidia-cuda-runtime-cu12-12.4.127 nvidia-cudnn-cu12-9.1.0.70 nvidia-cufft-cu12-11.2.1.3 nvidia-curand-cu12-10.3.5.147 nvidia-cusolver-cu12-11.6.1.9 nvidia-cusparse-cu12-12.3.1.170 nvidia-nvjitlink-cu12-12.4.127 ogb-1.3.6 outdated-0.2.2 spuco-2.0.3 ttach-0.0.3 wilds-2.0.0\n"
          ]
        }
      ],
      "source": [
        "%pip install spuco"
      ]
    },
    {
      "cell_type": "code",
      "execution_count": null,
      "metadata": {
        "id": "MLInmdR66SZD"
      },
      "outputs": [],
      "source": [
        "import torch\n",
        "\n",
        "device = torch.device(\"cuda:0\")"
      ]
    },
    {
      "cell_type": "code",
      "execution_count": null,
      "metadata": {
        "id": "BnKvFAXT6SZD"
      },
      "outputs": [],
      "source": [
        "from spuco.datasets import SpuCoMNIST, SpuriousFeatureDifficulty\n",
        "import torchvision.transforms as T\n",
        "\n",
        "classes = [[0, 1], [2, 3], [4, 5], [6, 7], [8, 9]]\n",
        "difficulty = SpuriousFeatureDifficulty.MAGNITUDE_LARGE\n",
        "\n",
        "trainset = SpuCoMNIST(\n",
        "    root=\"/data/mnist/\",\n",
        "    spurious_feature_difficulty=difficulty,\n",
        "    spurious_correlation_strength=0.995,\n",
        "    classes=classes,\n",
        "    split=\"train\"\n",
        ")\n",
        "trainset.initialize()\n",
        "\n",
        "valset = SpuCoMNIST(\n",
        "    root=\"/data/mnist/\",\n",
        "    spurious_feature_difficulty=difficulty,\n",
        "    classes=classes,\n",
        "    split=\"val\"\n",
        ")\n",
        "valset.initialize()\n",
        "\n",
        "testset = SpuCoMNIST(\n",
        "    root=\"/data/mnist/\",\n",
        "    spurious_feature_difficulty=difficulty,\n",
        "    classes=classes,\n",
        "    split=\"test\"\n",
        ")\n",
        "testset.initialize()"
      ]
    },
    {
      "cell_type": "code",
      "source": [
        "print(len(valset))\n",
        "print(len(trainset))\n",
        "print(len(testset))"
      ],
      "metadata": {
        "colab": {
          "base_uri": "https://localhost:8080/"
        },
        "id": "Q3ShmgqO_CMx",
        "outputId": "81f5d178-48d5-45e0-dc66-861308cb5696"
      },
      "execution_count": null,
      "outputs": [
        {
          "output_type": "stream",
          "name": "stdout",
          "text": [
            "11996\n",
            "48004\n",
            "10000\n"
          ]
        }
      ]
    },
    {
      "cell_type": "code",
      "source": [
        "T.ToPILImage()(trainset[1000][0]).resize((28,28))"
      ],
      "metadata": {
        "colab": {
          "base_uri": "https://localhost:8080/",
          "height": 45
        },
        "id": "A69qyf77_E8U",
        "outputId": "5036a1b5-8197-44cd-d2b4-ac4c5995e4c0"
      },
      "execution_count": null,
      "outputs": [
        {
          "output_type": "execute_result",
          "data": {
            "text/plain": [
              "<PIL.Image.Image image mode=RGB size=28x28>"
            ],
            "image/png": "[encoded data removed]",
            "image/jpeg": "[encoded data removed]"
          },
          "metadata": {},
          "execution_count": 58
        }
      ]
    },
    {
      "cell_type": "code",
      "execution_count": null,
      "metadata": {
        "id": "TC4HYnAn6SZE"
      },
      "outputs": [],
      "source": [
        "from spuco.models import model_factory\n",
        "from spuco.utils import Trainer\n",
        "from torch.optim import SGD\n",
        "\n",
        "model = model_factory(\"lenet\", trainset[0][0].shape, trainset.num_classes).to(device)"
      ]
    },
    {
      "cell_type": "code",
      "source": [
        "from spuco.robust_train import ERM\n",
        "erm = ERM(\n",
        "    model=model,\n",
        "    num_epochs=1,\n",
        "    trainset=trainset,\n",
        "    batch_size=64,\n",
        "    optimizer=SGD(model.parameters(), lr=1e-2, momentum=0.9, nesterov=True),\n",
        "    device=device,\n",
        "    verbose=True\n",
        ")"
      ],
      "metadata": {
        "id": "ZZ6MMUhU-bwX"
      },
      "execution_count": null,
      "outputs": []
    },
    {
      "cell_type": "code",
      "source": [
        "erm.train()"
      ],
      "metadata": {
        "colab": {
          "base_uri": "https://localhost:8080/"
        },
        "id": "UcQPizji_bFr",
        "outputId": "a4b4c38d-0e14-4d88-f451-4903dd45851f"
      },
      "execution_count": null,
      "outputs": [
        {
          "output_type": "stream",
          "name": "stderr",
          "text": [
            "Epoch 0:   3%|▎         | 21/751 [00:00<00:08, 84.05batch/s, accuracy=40.625%, loss=1.57]"
          ]
        },
        {
          "output_type": "stream",
          "name": "stdout",
          "text": [
            "ERM | Epoch 0 | Loss: 1.6123837232589722 | Accuracy: 15.625%\n",
            "ERM | Epoch 0 | Loss: 1.6188805103302002 | Accuracy: 18.75%\n",
            "ERM | Epoch 0 | Loss: 1.612783432006836 | Accuracy: 21.875%\n",
            "ERM | Epoch 0 | Loss: 1.61403489112854 | Accuracy: 23.4375%\n",
            "ERM | Epoch 0 | Loss: 1.6101547479629517 | Accuracy: 25.0%\n",
            "ERM | Epoch 0 | Loss: 1.6082497835159302 | Accuracy: 25.0%\n",
            "ERM | Epoch 0 | Loss: 1.6068898439407349 | Accuracy: 29.6875%\n",
            "ERM | Epoch 0 | Loss: 1.5953209400177002 | Accuracy: 39.0625%\n",
            "ERM | Epoch 0 | Loss: 1.61431884765625 | Accuracy: 18.75%\n",
            "ERM | Epoch 0 | Loss: 1.6003599166870117 | Accuracy: 40.625%\n",
            "ERM | Epoch 0 | Loss: 1.609549641609192 | Accuracy: 32.8125%\n",
            "ERM | Epoch 0 | Loss: 1.6140512228012085 | Accuracy: 25.0%\n",
            "ERM | Epoch 0 | Loss: 1.614189863204956 | Accuracy: 17.1875%\n",
            "ERM | Epoch 0 | Loss: 1.6121330261230469 | Accuracy: 18.75%\n",
            "ERM | Epoch 0 | Loss: 1.6108287572860718 | Accuracy: 21.875%\n",
            "ERM | Epoch 0 | Loss: 1.6004871129989624 | Accuracy: 20.3125%\n",
            "ERM | Epoch 0 | Loss: 1.616189956665039 | Accuracy: 9.375%\n",
            "ERM | Epoch 0 | Loss: 1.6014575958251953 | Accuracy: 25.0%\n",
            "ERM | Epoch 0 | Loss: 1.5977379083633423 | Accuracy: 26.5625%\n",
            "ERM | Epoch 0 | Loss: 1.6031183004379272 | Accuracy: 21.875%\n",
            "ERM | Epoch 0 | Loss: 1.607494831085205 | Accuracy: 28.125%\n",
            "ERM | Epoch 0 | Loss: 1.6014782190322876 | Accuracy: 31.25%\n",
            "ERM | Epoch 0 | Loss: 1.6130506992340088 | Accuracy: 29.6875%\n",
            "ERM | Epoch 0 | Loss: 1.5999594926834106 | Accuracy: 39.0625%\n",
            "ERM | Epoch 0 | Loss: 1.6041181087493896 | Accuracy: 35.9375%\n",
            "ERM | Epoch 0 | Loss: 1.6074522733688354 | Accuracy: 28.125%\n",
            "ERM | Epoch 0 | Loss: 1.5927705764770508 | Accuracy: 48.4375%\n",
            "ERM | Epoch 0 | Loss: 1.5940923690795898 | Accuracy: 43.75%\n",
            "ERM | Epoch 0 | Loss: 1.5905354022979736 | Accuracy: 42.1875%\n",
            "ERM | Epoch 0 | Loss: 1.596461534500122 | Accuracy: 32.8125%\n",
            "ERM | Epoch 0 | Loss: 1.594295620918274 | Accuracy: 40.625%\n",
            "ERM | Epoch 0 | Loss: 1.5884888172149658 | Accuracy: 62.5%\n",
            "ERM | Epoch 0 | Loss: 1.5880775451660156 | Accuracy: 59.375%\n",
            "ERM | Epoch 0 | Loss: 1.5869184732437134 | Accuracy: 35.9375%\n",
            "ERM | Epoch 0 | Loss: 1.5800418853759766 | Accuracy: 46.875%\n",
            "ERM | Epoch 0 | Loss: 1.5838035345077515 | Accuracy: 34.375%\n",
            "ERM | Epoch 0 | Loss: 1.5802851915359497 | Accuracy: 35.9375%\n",
            "ERM | Epoch 0 | Loss: 1.5729490518569946 | Accuracy: 48.4375%\n",
            "ERM | Epoch 0 | Loss: 1.572538137435913 | Accuracy: 40.625%\n",
            "ERM | Epoch 0 | Loss: 1.5673917531967163 | Accuracy: 40.625%\n"
          ]
        },
        {
          "output_type": "stream",
          "name": "stderr",
          "text": [
            "Epoch 0:   8%|▊         | 61/751 [00:00<00:04, 148.85batch/s, accuracy=100.0%, loss=0.00251]"
          ]
        },
        {
          "output_type": "stream",
          "name": "stdout",
          "text": [
            "ERM | Epoch 0 | Loss: 1.566551685333252 | Accuracy: 35.9375%\n",
            "ERM | Epoch 0 | Loss: 1.5587037801742554 | Accuracy: 43.75%\n",
            "ERM | Epoch 0 | Loss: 1.5570372343063354 | Accuracy: 34.375%\n",
            "ERM | Epoch 0 | Loss: 1.5507910251617432 | Accuracy: 45.3125%\n",
            "ERM | Epoch 0 | Loss: 1.540135383605957 | Accuracy: 42.1875%\n",
            "ERM | Epoch 0 | Loss: 1.5299975872039795 | Accuracy: 51.5625%\n",
            "ERM | Epoch 0 | Loss: 1.5263524055480957 | Accuracy: 37.5%\n",
            "ERM | Epoch 0 | Loss: 1.520022988319397 | Accuracy: 37.5%\n",
            "ERM | Epoch 0 | Loss: 1.4960315227508545 | Accuracy: 45.3125%\n",
            "ERM | Epoch 0 | Loss: 1.4905271530151367 | Accuracy: 35.9375%\n",
            "ERM | Epoch 0 | Loss: 1.482511043548584 | Accuracy: 34.375%\n",
            "ERM | Epoch 0 | Loss: 1.4613350629806519 | Accuracy: 37.5%\n",
            "ERM | Epoch 0 | Loss: 1.4241302013397217 | Accuracy: 34.375%\n",
            "ERM | Epoch 0 | Loss: 1.401853084564209 | Accuracy: 45.3125%\n",
            "ERM | Epoch 0 | Loss: 1.338887095451355 | Accuracy: 56.25%\n",
            "ERM | Epoch 0 | Loss: 1.3015307188034058 | Accuracy: 64.0625%\n",
            "ERM | Epoch 0 | Loss: 1.284250259399414 | Accuracy: 59.375%\n",
            "ERM | Epoch 0 | Loss: 1.2491027116775513 | Accuracy: 57.8125%\n",
            "ERM | Epoch 0 | Loss: 1.1902846097946167 | Accuracy: 53.125%\n",
            "ERM | Epoch 0 | Loss: 1.1285914182662964 | Accuracy: 57.8125%\n",
            "ERM | Epoch 0 | Loss: 1.0549163818359375 | Accuracy: 76.5625%\n",
            "ERM | Epoch 0 | Loss: 0.9813095331192017 | Accuracy: 59.375%\n",
            "ERM | Epoch 0 | Loss: 0.9224969744682312 | Accuracy: 57.8125%\n",
            "ERM | Epoch 0 | Loss: 0.8529369831085205 | Accuracy: 53.125%\n",
            "ERM | Epoch 0 | Loss: 0.7605103850364685 | Accuracy: 85.9375%\n",
            "ERM | Epoch 0 | Loss: 0.7829229235649109 | Accuracy: 57.8125%\n",
            "ERM | Epoch 0 | Loss: 0.6671117544174194 | Accuracy: 100.0%\n",
            "ERM | Epoch 0 | Loss: 0.6670398712158203 | Accuracy: 96.875%\n",
            "ERM | Epoch 0 | Loss: 0.6779911518096924 | Accuracy: 93.75%\n",
            "ERM | Epoch 0 | Loss: 0.41906195878982544 | Accuracy: 93.75%\n",
            "ERM | Epoch 0 | Loss: 0.33958569169044495 | Accuracy: 100.0%\n",
            "ERM | Epoch 0 | Loss: 0.36520636081695557 | Accuracy: 93.75%\n",
            "ERM | Epoch 0 | Loss: 0.3605307936668396 | Accuracy: 65.625%\n",
            "ERM | Epoch 0 | Loss: 0.5723099708557129 | Accuracy: 82.8125%\n",
            "ERM | Epoch 0 | Loss: 0.06194214150309563 | Accuracy: 100.0%\n",
            "ERM | Epoch 0 | Loss: 0.034269366413354874 | Accuracy: 100.0%\n",
            "ERM | Epoch 0 | Loss: 0.03278769180178642 | Accuracy: 100.0%\n",
            "ERM | Epoch 0 | Loss: 0.011443586088716984 | Accuracy: 100.0%\n",
            "ERM | Epoch 0 | Loss: 0.005984782706946135 | Accuracy: 100.0%\n",
            "ERM | Epoch 0 | Loss: 0.002507277997210622 | Accuracy: 100.0%\n"
          ]
        },
        {
          "output_type": "stream",
          "name": "stderr",
          "text": [
            "Epoch 0:  14%|█▍        | 105/751 [00:00<00:03, 185.61batch/s, accuracy=98.4375%, loss=0.164]"
          ]
        },
        {
          "output_type": "stream",
          "name": "stdout",
          "text": [
            "ERM | Epoch 0 | Loss: 0.0018931512022390962 | Accuracy: 100.0%\n",
            "ERM | Epoch 0 | Loss: 0.004412653855979443 | Accuracy: 100.0%\n",
            "ERM | Epoch 0 | Loss: 0.0013442739145830274 | Accuracy: 100.0%\n",
            "ERM | Epoch 0 | Loss: 0.0007128850556910038 | Accuracy: 100.0%\n",
            "ERM | Epoch 0 | Loss: 0.4369954466819763 | Accuracy: 98.4375%\n",
            "ERM | Epoch 0 | Loss: 0.0004192000487819314 | Accuracy: 100.0%\n",
            "ERM | Epoch 0 | Loss: 0.0005184296169318259 | Accuracy: 100.0%\n",
            "ERM | Epoch 0 | Loss: 0.0006907031056471169 | Accuracy: 100.0%\n",
            "ERM | Epoch 0 | Loss: 0.0006347054149955511 | Accuracy: 100.0%\n",
            "ERM | Epoch 0 | Loss: 0.0006044956389814615 | Accuracy: 100.0%\n",
            "ERM | Epoch 0 | Loss: 0.00040839932626113296 | Accuracy: 100.0%\n",
            "ERM | Epoch 0 | Loss: 0.0006030544172972441 | Accuracy: 100.0%\n",
            "ERM | Epoch 0 | Loss: 0.00095570576377213 | Accuracy: 100.0%\n",
            "ERM | Epoch 0 | Loss: 0.0005904979188926518 | Accuracy: 100.0%\n",
            "ERM | Epoch 0 | Loss: 0.0006992308190092444 | Accuracy: 100.0%\n",
            "ERM | Epoch 0 | Loss: 0.000707991246599704 | Accuracy: 100.0%\n",
            "ERM | Epoch 0 | Loss: 0.514532744884491 | Accuracy: 98.4375%\n",
            "ERM | Epoch 0 | Loss: 0.441789835691452 | Accuracy: 98.4375%\n",
            "ERM | Epoch 0 | Loss: 0.000754545268137008 | Accuracy: 100.0%\n",
            "ERM | Epoch 0 | Loss: 0.000981966033577919 | Accuracy: 100.0%\n",
            "ERM | Epoch 0 | Loss: 0.0022412552498281 | Accuracy: 100.0%\n",
            "ERM | Epoch 0 | Loss: 0.0026948002632707357 | Accuracy: 100.0%\n",
            "ERM | Epoch 0 | Loss: 0.001133421203121543 | Accuracy: 100.0%\n",
            "ERM | Epoch 0 | Loss: 0.13441485166549683 | Accuracy: 98.4375%\n",
            "ERM | Epoch 0 | Loss: 0.0011825136607512832 | Accuracy: 100.0%\n",
            "ERM | Epoch 0 | Loss: 0.0021406945306807756 | Accuracy: 100.0%\n",
            "ERM | Epoch 0 | Loss: 0.36853697896003723 | Accuracy: 96.875%\n",
            "ERM | Epoch 0 | Loss: 0.0037287315353751183 | Accuracy: 100.0%\n",
            "ERM | Epoch 0 | Loss: 0.25571486353874207 | Accuracy: 98.4375%\n",
            "ERM | Epoch 0 | Loss: 0.009375007823109627 | Accuracy: 100.0%\n",
            "ERM | Epoch 0 | Loss: 0.007968266494572163 | Accuracy: 100.0%\n",
            "ERM | Epoch 0 | Loss: 0.010820666328072548 | Accuracy: 100.0%\n",
            "ERM | Epoch 0 | Loss: 0.01180137600749731 | Accuracy: 100.0%\n",
            "ERM | Epoch 0 | Loss: 0.018222535029053688 | Accuracy: 100.0%\n",
            "ERM | Epoch 0 | Loss: 0.011648071929812431 | Accuracy: 100.0%\n",
            "ERM | Epoch 0 | Loss: 0.010785406455397606 | Accuracy: 100.0%\n",
            "ERM | Epoch 0 | Loss: 0.008416776545345783 | Accuracy: 100.0%\n",
            "ERM | Epoch 0 | Loss: 0.006764720659703016 | Accuracy: 100.0%\n",
            "ERM | Epoch 0 | Loss: 0.005760079249739647 | Accuracy: 100.0%\n",
            "ERM | Epoch 0 | Loss: 0.004122850019484758 | Accuracy: 100.0%\n",
            "ERM | Epoch 0 | Loss: 0.14933833479881287 | Accuracy: 98.4375%\n",
            "ERM | Epoch 0 | Loss: 0.0032373301219195127 | Accuracy: 100.0%\n",
            "ERM | Epoch 0 | Loss: 0.00417091092094779 | Accuracy: 100.0%\n",
            "ERM | Epoch 0 | Loss: 0.003321406664326787 | Accuracy: 100.0%\n",
            "ERM | Epoch 0 | Loss: 0.004298344254493713 | Accuracy: 100.0%\n",
            "ERM | Epoch 0 | Loss: 0.4624425768852234 | Accuracy: 96.875%\n",
            "ERM | Epoch 0 | Loss: 0.004410117864608765 | Accuracy: 100.0%\n",
            "ERM | Epoch 0 | Loss: 0.22520442306995392 | Accuracy: 98.4375%\n",
            "ERM | Epoch 0 | Loss: 0.1642174869775772 | Accuracy: 98.4375%\n"
          ]
        },
        {
          "output_type": "stream",
          "name": "stderr",
          "text": [
            "Epoch 0:  21%|██        | 158/751 [00:01<00:02, 225.30batch/s, accuracy=98.4375%, loss=0.107]"
          ]
        },
        {
          "output_type": "stream",
          "name": "stdout",
          "text": [
            "ERM | Epoch 0 | Loss: 0.007131041493266821 | Accuracy: 100.0%\n",
            "ERM | Epoch 0 | Loss: 0.008085379377007484 | Accuracy: 100.0%\n",
            "ERM | Epoch 0 | Loss: 0.010184012353420258 | Accuracy: 100.0%\n",
            "ERM | Epoch 0 | Loss: 0.11536958813667297 | Accuracy: 98.4375%\n",
            "ERM | Epoch 0 | Loss: 0.016233203932642937 | Accuracy: 100.0%\n",
            "ERM | Epoch 0 | Loss: 0.012812630273401737 | Accuracy: 100.0%\n",
            "ERM | Epoch 0 | Loss: 0.011030065827071667 | Accuracy: 100.0%\n",
            "ERM | Epoch 0 | Loss: 0.009740947745740414 | Accuracy: 100.0%\n",
            "ERM | Epoch 0 | Loss: 0.011684620752930641 | Accuracy: 100.0%\n",
            "ERM | Epoch 0 | Loss: 0.1234564334154129 | Accuracy: 98.4375%\n",
            "ERM | Epoch 0 | Loss: 0.007878812029957771 | Accuracy: 100.0%\n",
            "ERM | Epoch 0 | Loss: 0.008639988489449024 | Accuracy: 100.0%\n",
            "ERM | Epoch 0 | Loss: 0.10859984159469604 | Accuracy: 98.4375%\n",
            "ERM | Epoch 0 | Loss: 0.010091657750308514 | Accuracy: 100.0%\n",
            "ERM | Epoch 0 | Loss: 0.009349518455564976 | Accuracy: 100.0%\n",
            "ERM | Epoch 0 | Loss: 0.28875812888145447 | Accuracy: 98.4375%\n",
            "ERM | Epoch 0 | Loss: 0.009434850886464119 | Accuracy: 100.0%\n",
            "ERM | Epoch 0 | Loss: 0.008326456882059574 | Accuracy: 100.0%\n",
            "ERM | Epoch 0 | Loss: 0.10062570869922638 | Accuracy: 98.4375%\n",
            "ERM | Epoch 0 | Loss: 0.11795827746391296 | Accuracy: 98.4375%\n",
            "ERM | Epoch 0 | Loss: 0.08275444060564041 | Accuracy: 98.4375%\n",
            "ERM | Epoch 0 | Loss: 0.008379650302231312 | Accuracy: 100.0%\n",
            "ERM | Epoch 0 | Loss: 0.011656763963401318 | Accuracy: 100.0%\n",
            "ERM | Epoch 0 | Loss: 0.009222769178450108 | Accuracy: 100.0%\n",
            "ERM | Epoch 0 | Loss: 0.011726436205208302 | Accuracy: 100.0%\n",
            "ERM | Epoch 0 | Loss: 0.012027747929096222 | Accuracy: 100.0%\n",
            "ERM | Epoch 0 | Loss: 0.008800671435892582 | Accuracy: 100.0%\n",
            "ERM | Epoch 0 | Loss: 0.14497482776641846 | Accuracy: 98.4375%\n",
            "ERM | Epoch 0 | Loss: 0.010267768055200577 | Accuracy: 100.0%\n",
            "ERM | Epoch 0 | Loss: 0.007334554102271795 | Accuracy: 100.0%\n",
            "ERM | Epoch 0 | Loss: 0.007558424025774002 | Accuracy: 100.0%\n",
            "ERM | Epoch 0 | Loss: 0.007334353867918253 | Accuracy: 100.0%\n",
            "ERM | Epoch 0 | Loss: 0.0066308225505054 | Accuracy: 100.0%\n",
            "ERM | Epoch 0 | Loss: 0.00482500996440649 | Accuracy: 100.0%\n",
            "ERM | Epoch 0 | Loss: 0.35399070382118225 | Accuracy: 98.4375%\n",
            "ERM | Epoch 0 | Loss: 0.003950326703488827 | Accuracy: 100.0%\n",
            "ERM | Epoch 0 | Loss: 0.13081032037734985 | Accuracy: 98.4375%\n",
            "ERM | Epoch 0 | Loss: 0.005629389546811581 | Accuracy: 100.0%\n",
            "ERM | Epoch 0 | Loss: 0.004971189424395561 | Accuracy: 100.0%\n",
            "ERM | Epoch 0 | Loss: 0.004768156446516514 | Accuracy: 100.0%\n",
            "ERM | Epoch 0 | Loss: 0.12433846294879913 | Accuracy: 98.4375%\n",
            "ERM | Epoch 0 | Loss: 0.005512960255146027 | Accuracy: 100.0%\n",
            "ERM | Epoch 0 | Loss: 0.007066946942359209 | Accuracy: 100.0%\n",
            "ERM | Epoch 0 | Loss: 0.005225130822509527 | Accuracy: 100.0%\n",
            "ERM | Epoch 0 | Loss: 0.005198681261390448 | Accuracy: 100.0%\n",
            "ERM | Epoch 0 | Loss: 0.0045038675889372826 | Accuracy: 100.0%\n",
            "ERM | Epoch 0 | Loss: 0.1033361405134201 | Accuracy: 98.4375%\n",
            "ERM | Epoch 0 | Loss: 0.005538653116673231 | Accuracy: 100.0%\n",
            "ERM | Epoch 0 | Loss: 0.0053194244392216206 | Accuracy: 100.0%\n",
            "ERM | Epoch 0 | Loss: 0.12864996492862701 | Accuracy: 98.4375%\n",
            "ERM | Epoch 0 | Loss: 0.07015170902013779 | Accuracy: 98.4375%\n",
            "ERM | Epoch 0 | Loss: 0.006697742734104395 | Accuracy: 100.0%\n"
          ]
        },
        {
          "output_type": "stream",
          "name": "stderr",
          "text": [
            "Epoch 0:  28%|██▊       | 208/751 [00:01<00:02, 235.65batch/s, accuracy=98.4375%, loss=0.125]"
          ]
        },
        {
          "output_type": "stream",
          "name": "stdout",
          "text": [
            "ERM | Epoch 0 | Loss: 0.10743632167577744 | Accuracy: 98.4375%\n",
            "ERM | Epoch 0 | Loss: 0.008627321571111679 | Accuracy: 100.0%\n",
            "ERM | Epoch 0 | Loss: 0.006866228301078081 | Accuracy: 100.0%\n",
            "ERM | Epoch 0 | Loss: 0.005948088131844997 | Accuracy: 100.0%\n",
            "ERM | Epoch 0 | Loss: 0.007669033017009497 | Accuracy: 100.0%\n",
            "ERM | Epoch 0 | Loss: 0.010821676813066006 | Accuracy: 100.0%\n",
            "ERM | Epoch 0 | Loss: 0.21055246889591217 | Accuracy: 98.4375%\n",
            "ERM | Epoch 0 | Loss: 0.007140022236853838 | Accuracy: 100.0%\n",
            "ERM | Epoch 0 | Loss: 0.005538917612284422 | Accuracy: 100.0%\n",
            "ERM | Epoch 0 | Loss: 0.0059717437252402306 | Accuracy: 100.0%\n",
            "ERM | Epoch 0 | Loss: 0.006118896882981062 | Accuracy: 100.0%\n",
            "ERM | Epoch 0 | Loss: 0.004541417118161917 | Accuracy: 100.0%\n",
            "ERM | Epoch 0 | Loss: 0.19803805649280548 | Accuracy: 98.4375%\n",
            "ERM | Epoch 0 | Loss: 0.004573015030473471 | Accuracy: 100.0%\n",
            "ERM | Epoch 0 | Loss: 0.11364886164665222 | Accuracy: 98.4375%\n",
            "ERM | Epoch 0 | Loss: 0.004260263871401548 | Accuracy: 100.0%\n",
            "ERM | Epoch 0 | Loss: 0.16429033875465393 | Accuracy: 98.4375%\n",
            "ERM | Epoch 0 | Loss: 0.0049977535381913185 | Accuracy: 100.0%\n",
            "ERM | Epoch 0 | Loss: 0.09849774092435837 | Accuracy: 98.4375%\n",
            "ERM | Epoch 0 | Loss: 0.005174295976758003 | Accuracy: 100.0%\n",
            "ERM | Epoch 0 | Loss: 0.17223156988620758 | Accuracy: 98.4375%\n",
            "ERM | Epoch 0 | Loss: 0.08221183717250824 | Accuracy: 98.4375%\n",
            "ERM | Epoch 0 | Loss: 0.264487624168396 | Accuracy: 98.4375%\n",
            "ERM | Epoch 0 | Loss: 0.011576613411307335 | Accuracy: 100.0%\n",
            "ERM | Epoch 0 | Loss: 0.011269823648035526 | Accuracy: 100.0%\n",
            "ERM | Epoch 0 | Loss: 0.016307227313518524 | Accuracy: 100.0%\n",
            "ERM | Epoch 0 | Loss: 0.3719879388809204 | Accuracy: 96.875%\n",
            "ERM | Epoch 0 | Loss: 0.015300742350518703 | Accuracy: 100.0%\n",
            "ERM | Epoch 0 | Loss: 0.273169606924057 | Accuracy: 98.4375%\n",
            "ERM | Epoch 0 | Loss: 0.016928717494010925 | Accuracy: 100.0%\n",
            "ERM | Epoch 0 | Loss: 0.017933204770088196 | Accuracy: 100.0%\n",
            "ERM | Epoch 0 | Loss: 0.016385551542043686 | Accuracy: 100.0%\n",
            "ERM | Epoch 0 | Loss: 0.018759222701191902 | Accuracy: 100.0%\n",
            "ERM | Epoch 0 | Loss: 0.016159646213054657 | Accuracy: 100.0%\n",
            "ERM | Epoch 0 | Loss: 0.19364891946315765 | Accuracy: 98.4375%\n",
            "ERM | Epoch 0 | Loss: 0.13419586420059204 | Accuracy: 98.4375%\n",
            "ERM | Epoch 0 | Loss: 0.08430088311433792 | Accuracy: 98.4375%\n",
            "ERM | Epoch 0 | Loss: 0.017239803448319435 | Accuracy: 100.0%\n",
            "ERM | Epoch 0 | Loss: 0.017046479508280754 | Accuracy: 100.0%\n",
            "ERM | Epoch 0 | Loss: 0.014367861673235893 | Accuracy: 100.0%\n",
            "ERM | Epoch 0 | Loss: 0.2309686690568924 | Accuracy: 98.4375%\n",
            "ERM | Epoch 0 | Loss: 0.09924478083848953 | Accuracy: 98.4375%\n",
            "ERM | Epoch 0 | Loss: 0.011105967685580254 | Accuracy: 100.0%\n",
            "ERM | Epoch 0 | Loss: 0.011064254678785801 | Accuracy: 100.0%\n",
            "ERM | Epoch 0 | Loss: 0.010823109187185764 | Accuracy: 100.0%\n",
            "ERM | Epoch 0 | Loss: 0.012322168797254562 | Accuracy: 100.0%\n",
            "ERM | Epoch 0 | Loss: 0.011055300012230873 | Accuracy: 100.0%\n",
            "ERM | Epoch 0 | Loss: 0.1989312469959259 | Accuracy: 98.4375%\n",
            "ERM | Epoch 0 | Loss: 0.11655894666910172 | Accuracy: 98.4375%\n",
            "ERM | Epoch 0 | Loss: 0.3399975597858429 | Accuracy: 96.875%\n",
            "ERM | Epoch 0 | Loss: 0.12492165714502335 | Accuracy: 98.4375%\n"
          ]
        },
        {
          "output_type": "stream",
          "name": "stderr",
          "text": [
            "Epoch 0:  35%|███▍      | 261/751 [00:01<00:01, 248.74batch/s, accuracy=100.0%, loss=0.00699]"
          ]
        },
        {
          "output_type": "stream",
          "name": "stdout",
          "text": [
            "ERM | Epoch 0 | Loss: 0.21831384301185608 | Accuracy: 98.4375%\n",
            "ERM | Epoch 0 | Loss: 0.01175252441316843 | Accuracy: 100.0%\n",
            "ERM | Epoch 0 | Loss: 0.017106449231505394 | Accuracy: 100.0%\n",
            "ERM | Epoch 0 | Loss: 0.014929205179214478 | Accuracy: 100.0%\n",
            "ERM | Epoch 0 | Loss: 0.015550070442259312 | Accuracy: 100.0%\n",
            "ERM | Epoch 0 | Loss: 0.01671471819281578 | Accuracy: 100.0%\n",
            "ERM | Epoch 0 | Loss: 0.0902615338563919 | Accuracy: 98.4375%\n",
            "ERM | Epoch 0 | Loss: 0.014812689274549484 | Accuracy: 100.0%\n",
            "ERM | Epoch 0 | Loss: 0.013419982977211475 | Accuracy: 100.0%\n",
            "ERM | Epoch 0 | Loss: 0.013090474531054497 | Accuracy: 100.0%\n",
            "ERM | Epoch 0 | Loss: 0.0119490846991539 | Accuracy: 100.0%\n",
            "ERM | Epoch 0 | Loss: 0.10098918527364731 | Accuracy: 98.4375%\n",
            "ERM | Epoch 0 | Loss: 0.01654958911240101 | Accuracy: 100.0%\n",
            "ERM | Epoch 0 | Loss: 0.01227374654263258 | Accuracy: 100.0%\n",
            "ERM | Epoch 0 | Loss: 0.010773846879601479 | Accuracy: 100.0%\n",
            "ERM | Epoch 0 | Loss: 0.010269684717059135 | Accuracy: 100.0%\n",
            "ERM | Epoch 0 | Loss: 0.2152239829301834 | Accuracy: 98.4375%\n",
            "ERM | Epoch 0 | Loss: 0.006576256360858679 | Accuracy: 100.0%\n",
            "ERM | Epoch 0 | Loss: 0.09202302992343903 | Accuracy: 98.4375%\n",
            "ERM | Epoch 0 | Loss: 0.06779216974973679 | Accuracy: 98.4375%\n",
            "ERM | Epoch 0 | Loss: 0.020697619765996933 | Accuracy: 100.0%\n",
            "ERM | Epoch 0 | Loss: 0.012845968827605247 | Accuracy: 100.0%\n",
            "ERM | Epoch 0 | Loss: 0.10535912960767746 | Accuracy: 98.4375%\n",
            "ERM | Epoch 0 | Loss: 0.013432220555841923 | Accuracy: 100.0%\n",
            "ERM | Epoch 0 | Loss: 0.006379296071827412 | Accuracy: 100.0%\n",
            "ERM | Epoch 0 | Loss: 0.004863258451223373 | Accuracy: 100.0%\n",
            "ERM | Epoch 0 | Loss: 0.0039027072489261627 | Accuracy: 100.0%\n",
            "ERM | Epoch 0 | Loss: 0.25715771317481995 | Accuracy: 96.875%\n",
            "ERM | Epoch 0 | Loss: 0.21549099683761597 | Accuracy: 98.4375%\n",
            "ERM | Epoch 0 | Loss: 0.0043631382286548615 | Accuracy: 100.0%\n",
            "ERM | Epoch 0 | Loss: 0.18754658102989197 | Accuracy: 98.4375%\n",
            "ERM | Epoch 0 | Loss: 0.008373202756047249 | Accuracy: 100.0%\n",
            "ERM | Epoch 0 | Loss: 0.011859913356602192 | Accuracy: 100.0%\n",
            "ERM | Epoch 0 | Loss: 0.11419101059436798 | Accuracy: 98.4375%\n",
            "ERM | Epoch 0 | Loss: 0.012637471780180931 | Accuracy: 100.0%\n",
            "ERM | Epoch 0 | Loss: 0.07677272707223892 | Accuracy: 98.4375%\n",
            "ERM | Epoch 0 | Loss: 0.013903288170695305 | Accuracy: 100.0%\n",
            "ERM | Epoch 0 | Loss: 0.1446230709552765 | Accuracy: 98.4375%\n",
            "ERM | Epoch 0 | Loss: 0.2939166724681854 | Accuracy: 96.875%\n",
            "ERM | Epoch 0 | Loss: 0.008885939605534077 | Accuracy: 100.0%\n",
            "ERM | Epoch 0 | Loss: 0.007749804295599461 | Accuracy: 100.0%\n",
            "ERM | Epoch 0 | Loss: 0.009843965992331505 | Accuracy: 100.0%\n",
            "ERM | Epoch 0 | Loss: 0.009720577858388424 | Accuracy: 100.0%\n",
            "ERM | Epoch 0 | Loss: 0.00901680625975132 | Accuracy: 100.0%\n",
            "ERM | Epoch 0 | Loss: 0.00960718933492899 | Accuracy: 100.0%\n",
            "ERM | Epoch 0 | Loss: 0.008671950548887253 | Accuracy: 100.0%\n",
            "ERM | Epoch 0 | Loss: 0.009751827456057072 | Accuracy: 100.0%\n",
            "ERM | Epoch 0 | Loss: 0.008741731755435467 | Accuracy: 100.0%\n",
            "ERM | Epoch 0 | Loss: 0.25736331939697266 | Accuracy: 96.875%\n",
            "ERM | Epoch 0 | Loss: 0.008314741775393486 | Accuracy: 100.0%\n",
            "ERM | Epoch 0 | Loss: 0.006992053240537643 | Accuracy: 100.0%\n"
          ]
        },
        {
          "output_type": "stream",
          "name": "stderr",
          "text": [
            "Epoch 0:  42%|████▏     | 314/751 [00:01<00:01, 254.20batch/s, accuracy=100.0%, loss=0.00382]"
          ]
        },
        {
          "output_type": "stream",
          "name": "stdout",
          "text": [
            "ERM | Epoch 0 | Loss: 0.006727566476911306 | Accuracy: 100.0%\n",
            "ERM | Epoch 0 | Loss: 0.007035223767161369 | Accuracy: 100.0%\n",
            "ERM | Epoch 0 | Loss: 0.005921757780015469 | Accuracy: 100.0%\n",
            "ERM | Epoch 0 | Loss: 0.005457282066345215 | Accuracy: 100.0%\n",
            "ERM | Epoch 0 | Loss: 0.15987570583820343 | Accuracy: 98.4375%\n",
            "ERM | Epoch 0 | Loss: 0.005325191654264927 | Accuracy: 100.0%\n",
            "ERM | Epoch 0 | Loss: 0.006253193598240614 | Accuracy: 100.0%\n",
            "ERM | Epoch 0 | Loss: 0.08513335138559341 | Accuracy: 98.4375%\n",
            "ERM | Epoch 0 | Loss: 0.0068220109678804874 | Accuracy: 100.0%\n",
            "ERM | Epoch 0 | Loss: 0.006085538771003485 | Accuracy: 100.0%\n",
            "ERM | Epoch 0 | Loss: 0.007757437881082296 | Accuracy: 100.0%\n",
            "ERM | Epoch 0 | Loss: 0.006378059275448322 | Accuracy: 100.0%\n",
            "ERM | Epoch 0 | Loss: 0.0071503836661577225 | Accuracy: 100.0%\n",
            "ERM | Epoch 0 | Loss: 0.006275460589677095 | Accuracy: 100.0%\n",
            "ERM | Epoch 0 | Loss: 0.15560738742351532 | Accuracy: 98.4375%\n",
            "ERM | Epoch 0 | Loss: 0.004961212165653706 | Accuracy: 100.0%\n",
            "ERM | Epoch 0 | Loss: 0.004530495498329401 | Accuracy: 100.0%\n",
            "ERM | Epoch 0 | Loss: 0.32222780585289 | Accuracy: 96.875%\n",
            "ERM | Epoch 0 | Loss: 0.0062963953241705894 | Accuracy: 100.0%\n",
            "ERM | Epoch 0 | Loss: 0.006017634645104408 | Accuracy: 100.0%\n",
            "ERM | Epoch 0 | Loss: 0.21344970166683197 | Accuracy: 96.875%\n",
            "ERM | Epoch 0 | Loss: 0.006722135469317436 | Accuracy: 100.0%\n",
            "ERM | Epoch 0 | Loss: 0.13166436553001404 | Accuracy: 98.4375%\n",
            "ERM | Epoch 0 | Loss: 0.008768144994974136 | Accuracy: 100.0%\n",
            "ERM | Epoch 0 | Loss: 0.11446427553892136 | Accuracy: 98.4375%\n",
            "ERM | Epoch 0 | Loss: 0.009607376530766487 | Accuracy: 100.0%\n",
            "ERM | Epoch 0 | Loss: 0.008769117295742035 | Accuracy: 100.0%\n",
            "ERM | Epoch 0 | Loss: 0.007512733805924654 | Accuracy: 100.0%\n",
            "ERM | Epoch 0 | Loss: 0.0083403205499053 | Accuracy: 100.0%\n",
            "ERM | Epoch 0 | Loss: 0.00982538890093565 | Accuracy: 100.0%\n",
            "ERM | Epoch 0 | Loss: 0.09611281007528305 | Accuracy: 98.4375%\n",
            "ERM | Epoch 0 | Loss: 0.009181913919746876 | Accuracy: 100.0%\n",
            "ERM | Epoch 0 | Loss: 0.009480567649006844 | Accuracy: 100.0%\n",
            "ERM | Epoch 0 | Loss: 0.009643875993788242 | Accuracy: 100.0%\n",
            "ERM | Epoch 0 | Loss: 0.24955427646636963 | Accuracy: 98.4375%\n",
            "ERM | Epoch 0 | Loss: 0.3319702446460724 | Accuracy: 96.875%\n",
            "ERM | Epoch 0 | Loss: 0.010368883609771729 | Accuracy: 100.0%\n",
            "ERM | Epoch 0 | Loss: 0.012637670151889324 | Accuracy: 100.0%\n",
            "ERM | Epoch 0 | Loss: 0.011823472566902637 | Accuracy: 100.0%\n",
            "ERM | Epoch 0 | Loss: 0.013044148683547974 | Accuracy: 100.0%\n",
            "ERM | Epoch 0 | Loss: 0.01477421447634697 | Accuracy: 100.0%\n",
            "ERM | Epoch 0 | Loss: 0.01441962644457817 | Accuracy: 100.0%\n",
            "ERM | Epoch 0 | Loss: 0.01134827546775341 | Accuracy: 100.0%\n",
            "ERM | Epoch 0 | Loss: 0.009969786740839481 | Accuracy: 100.0%\n",
            "ERM | Epoch 0 | Loss: 0.006039904430508614 | Accuracy: 100.0%\n",
            "ERM | Epoch 0 | Loss: 0.007504933513700962 | Accuracy: 100.0%\n",
            "ERM | Epoch 0 | Loss: 0.1134793683886528 | Accuracy: 98.4375%\n",
            "ERM | Epoch 0 | Loss: 0.007147008553147316 | Accuracy: 100.0%\n",
            "ERM | Epoch 0 | Loss: 0.005486763082444668 | Accuracy: 100.0%\n",
            "ERM | Epoch 0 | Loss: 0.005270019173622131 | Accuracy: 100.0%\n",
            "ERM | Epoch 0 | Loss: 0.004927500616759062 | Accuracy: 100.0%\n",
            "ERM | Epoch 0 | Loss: 0.0049319458194077015 | Accuracy: 100.0%\n",
            "ERM | Epoch 0 | Loss: 0.003655336331576109 | Accuracy: 100.0%\n"
          ]
        },
        {
          "output_type": "stream",
          "name": "stderr",
          "text": [
            "Epoch 0:  49%|████▉     | 368/751 [00:01<00:01, 259.12batch/s, accuracy=100.0%, loss=0.014] "
          ]
        },
        {
          "output_type": "stream",
          "name": "stdout",
          "text": [
            "ERM | Epoch 0 | Loss: 0.0038237315602600574 | Accuracy: 100.0%\n",
            "ERM | Epoch 0 | Loss: 0.003561231540516019 | Accuracy: 100.0%\n",
            "ERM | Epoch 0 | Loss: 0.0031160085927695036 | Accuracy: 100.0%\n",
            "ERM | Epoch 0 | Loss: 0.0029599852859973907 | Accuracy: 100.0%\n",
            "ERM | Epoch 0 | Loss: 0.0033411902841180563 | Accuracy: 100.0%\n",
            "ERM | Epoch 0 | Loss: 0.10841307044029236 | Accuracy: 98.4375%\n",
            "ERM | Epoch 0 | Loss: 0.002429236425086856 | Accuracy: 100.0%\n",
            "ERM | Epoch 0 | Loss: 0.0037490741815418005 | Accuracy: 100.0%\n",
            "ERM | Epoch 0 | Loss: 0.0023169221822172403 | Accuracy: 100.0%\n",
            "ERM | Epoch 0 | Loss: 0.0034736625384539366 | Accuracy: 100.0%\n",
            "ERM | Epoch 0 | Loss: 0.003128549549728632 | Accuracy: 100.0%\n",
            "ERM | Epoch 0 | Loss: 0.16817568242549896 | Accuracy: 98.4375%\n",
            "ERM | Epoch 0 | Loss: 0.22924286127090454 | Accuracy: 98.4375%\n",
            "ERM | Epoch 0 | Loss: 0.00345027819275856 | Accuracy: 100.0%\n",
            "ERM | Epoch 0 | Loss: 0.0027839953545480967 | Accuracy: 100.0%\n",
            "ERM | Epoch 0 | Loss: 0.004247251432389021 | Accuracy: 100.0%\n",
            "ERM | Epoch 0 | Loss: 0.004706438165158033 | Accuracy: 100.0%\n",
            "ERM | Epoch 0 | Loss: 0.004246195312589407 | Accuracy: 100.0%\n",
            "ERM | Epoch 0 | Loss: 0.003917711786925793 | Accuracy: 100.0%\n",
            "ERM | Epoch 0 | Loss: 0.0029931769240647554 | Accuracy: 100.0%\n",
            "ERM | Epoch 0 | Loss: 0.0033858157694339752 | Accuracy: 100.0%\n",
            "ERM | Epoch 0 | Loss: 0.0033844562713056803 | Accuracy: 100.0%\n",
            "ERM | Epoch 0 | Loss: 0.13339616358280182 | Accuracy: 98.4375%\n",
            "ERM | Epoch 0 | Loss: 0.003258431563153863 | Accuracy: 100.0%\n",
            "ERM | Epoch 0 | Loss: 0.003527712542563677 | Accuracy: 100.0%\n",
            "ERM | Epoch 0 | Loss: 0.0029356065206229687 | Accuracy: 100.0%\n",
            "ERM | Epoch 0 | Loss: 0.002808099379763007 | Accuracy: 100.0%\n",
            "ERM | Epoch 0 | Loss: 0.10892358422279358 | Accuracy: 98.4375%\n",
            "ERM | Epoch 0 | Loss: 0.003321368247270584 | Accuracy: 100.0%\n",
            "ERM | Epoch 0 | Loss: 0.00415153568610549 | Accuracy: 100.0%\n",
            "ERM | Epoch 0 | Loss: 0.004603267181664705 | Accuracy: 100.0%\n",
            "ERM | Epoch 0 | Loss: 0.005515075754374266 | Accuracy: 100.0%\n",
            "ERM | Epoch 0 | Loss: 0.2511155903339386 | Accuracy: 98.4375%\n",
            "ERM | Epoch 0 | Loss: 0.3466646075248718 | Accuracy: 96.875%\n",
            "ERM | Epoch 0 | Loss: 0.004361260216683149 | Accuracy: 100.0%\n",
            "ERM | Epoch 0 | Loss: 0.0058850315399467945 | Accuracy: 100.0%\n",
            "ERM | Epoch 0 | Loss: 0.2146405279636383 | Accuracy: 98.4375%\n",
            "ERM | Epoch 0 | Loss: 0.00714371120557189 | Accuracy: 100.0%\n",
            "ERM | Epoch 0 | Loss: 0.15889105200767517 | Accuracy: 98.4375%\n",
            "ERM | Epoch 0 | Loss: 0.1199713945388794 | Accuracy: 98.4375%\n",
            "ERM | Epoch 0 | Loss: 0.009648005478084087 | Accuracy: 100.0%\n",
            "ERM | Epoch 0 | Loss: 0.009063178673386574 | Accuracy: 100.0%\n",
            "ERM | Epoch 0 | Loss: 0.010021678172051907 | Accuracy: 100.0%\n",
            "ERM | Epoch 0 | Loss: 0.009649887681007385 | Accuracy: 100.0%\n",
            "ERM | Epoch 0 | Loss: 0.010026019997894764 | Accuracy: 100.0%\n",
            "ERM | Epoch 0 | Loss: 0.01146028470247984 | Accuracy: 100.0%\n",
            "ERM | Epoch 0 | Loss: 0.20167627930641174 | Accuracy: 98.4375%\n",
            "ERM | Epoch 0 | Loss: 0.2202538549900055 | Accuracy: 96.875%\n",
            "ERM | Epoch 0 | Loss: 0.013526653870940208 | Accuracy: 100.0%\n",
            "ERM | Epoch 0 | Loss: 0.09589511156082153 | Accuracy: 98.4375%\n",
            "ERM | Epoch 0 | Loss: 0.16305199265480042 | Accuracy: 98.4375%\n",
            "ERM | Epoch 0 | Loss: 0.013217498548328876 | Accuracy: 100.0%\n",
            "ERM | Epoch 0 | Loss: 0.013961871154606342 | Accuracy: 100.0%\n"
          ]
        },
        {
          "output_type": "stream",
          "name": "stderr",
          "text": [
            "Epoch 0:  56%|█████▌    | 420/751 [00:02<00:01, 256.07batch/s, accuracy=100.0%, loss=0.00938] "
          ]
        },
        {
          "output_type": "stream",
          "name": "stdout",
          "text": [
            "ERM | Epoch 0 | Loss: 0.015341483056545258 | Accuracy: 100.0%\n",
            "ERM | Epoch 0 | Loss: 0.013080206699669361 | Accuracy: 100.0%\n",
            "ERM | Epoch 0 | Loss: 0.16635192930698395 | Accuracy: 98.4375%\n",
            "ERM | Epoch 0 | Loss: 0.012683303095400333 | Accuracy: 100.0%\n",
            "ERM | Epoch 0 | Loss: 0.28952765464782715 | Accuracy: 96.875%\n",
            "ERM | Epoch 0 | Loss: 0.012543517164885998 | Accuracy: 100.0%\n",
            "ERM | Epoch 0 | Loss: 0.013478788547217846 | Accuracy: 100.0%\n",
            "ERM | Epoch 0 | Loss: 0.0894203931093216 | Accuracy: 98.4375%\n",
            "ERM | Epoch 0 | Loss: 0.012645985931158066 | Accuracy: 100.0%\n",
            "ERM | Epoch 0 | Loss: 0.011435535736382008 | Accuracy: 100.0%\n",
            "ERM | Epoch 0 | Loss: 0.22607573866844177 | Accuracy: 96.875%\n",
            "ERM | Epoch 0 | Loss: 0.1099163219332695 | Accuracy: 98.4375%\n",
            "ERM | Epoch 0 | Loss: 0.012734070420265198 | Accuracy: 100.0%\n",
            "ERM | Epoch 0 | Loss: 0.013029622845351696 | Accuracy: 100.0%\n",
            "ERM | Epoch 0 | Loss: 0.012185191735625267 | Accuracy: 100.0%\n",
            "ERM | Epoch 0 | Loss: 0.011802932247519493 | Accuracy: 100.0%\n",
            "ERM | Epoch 0 | Loss: 0.07927402853965759 | Accuracy: 98.4375%\n",
            "ERM | Epoch 0 | Loss: 0.01205766387283802 | Accuracy: 100.0%\n",
            "ERM | Epoch 0 | Loss: 0.011081811040639877 | Accuracy: 100.0%\n",
            "ERM | Epoch 0 | Loss: 0.009784305468201637 | Accuracy: 100.0%\n",
            "ERM | Epoch 0 | Loss: 0.010911591351032257 | Accuracy: 100.0%\n",
            "ERM | Epoch 0 | Loss: 0.008017560467123985 | Accuracy: 100.0%\n",
            "ERM | Epoch 0 | Loss: 0.10474328696727753 | Accuracy: 98.4375%\n",
            "ERM | Epoch 0 | Loss: 0.006165615748614073 | Accuracy: 100.0%\n",
            "ERM | Epoch 0 | Loss: 0.00520929042249918 | Accuracy: 100.0%\n",
            "ERM | Epoch 0 | Loss: 0.1290283501148224 | Accuracy: 98.4375%\n",
            "ERM | Epoch 0 | Loss: 0.112492635846138 | Accuracy: 98.4375%\n",
            "ERM | Epoch 0 | Loss: 0.00550276692956686 | Accuracy: 100.0%\n",
            "ERM | Epoch 0 | Loss: 0.15253093838691711 | Accuracy: 98.4375%\n",
            "ERM | Epoch 0 | Loss: 0.005101810209453106 | Accuracy: 100.0%\n",
            "ERM | Epoch 0 | Loss: 0.006120224017649889 | Accuracy: 100.0%\n",
            "ERM | Epoch 0 | Loss: 0.005959890782833099 | Accuracy: 100.0%\n",
            "ERM | Epoch 0 | Loss: 0.10600791871547699 | Accuracy: 98.4375%\n",
            "ERM | Epoch 0 | Loss: 0.005006108898669481 | Accuracy: 100.0%\n",
            "ERM | Epoch 0 | Loss: 0.3123128414154053 | Accuracy: 96.875%\n",
            "ERM | Epoch 0 | Loss: 0.008317696861922741 | Accuracy: 100.0%\n",
            "ERM | Epoch 0 | Loss: 0.008278468623757362 | Accuracy: 100.0%\n",
            "ERM | Epoch 0 | Loss: 0.009312886744737625 | Accuracy: 100.0%\n",
            "ERM | Epoch 0 | Loss: 0.11580637097358704 | Accuracy: 98.4375%\n",
            "ERM | Epoch 0 | Loss: 0.010029897093772888 | Accuracy: 100.0%\n",
            "ERM | Epoch 0 | Loss: 0.009726346470415592 | Accuracy: 100.0%\n",
            "ERM | Epoch 0 | Loss: 0.008678033016622066 | Accuracy: 100.0%\n",
            "ERM | Epoch 0 | Loss: 0.10179951041936874 | Accuracy: 98.4375%\n",
            "ERM | Epoch 0 | Loss: 0.10704871267080307 | Accuracy: 98.4375%\n",
            "ERM | Epoch 0 | Loss: 0.13424798846244812 | Accuracy: 98.4375%\n",
            "ERM | Epoch 0 | Loss: 0.008021396584808826 | Accuracy: 100.0%\n",
            "ERM | Epoch 0 | Loss: 0.11479721963405609 | Accuracy: 98.4375%\n",
            "ERM | Epoch 0 | Loss: 0.00954146683216095 | Accuracy: 100.0%\n",
            "ERM | Epoch 0 | Loss: 0.009385286830365658 | Accuracy: 100.0%\n",
            "ERM | Epoch 0 | Loss: 0.08477987349033356 | Accuracy: 98.4375%\n",
            "ERM | Epoch 0 | Loss: 0.00937849935144186 | Accuracy: 100.0%\n"
          ]
        },
        {
          "output_type": "stream",
          "name": "stderr",
          "text": [
            "Epoch 0:  63%|██████▎   | 472/751 [00:02<00:01, 254.79batch/s, accuracy=100.0%, loss=0.0109]"
          ]
        },
        {
          "output_type": "stream",
          "name": "stdout",
          "text": [
            "ERM | Epoch 0 | Loss: 0.009150346741080284 | Accuracy: 100.0%\n",
            "ERM | Epoch 0 | Loss: 0.008322339504957199 | Accuracy: 100.0%\n",
            "ERM | Epoch 0 | Loss: 0.00862543098628521 | Accuracy: 100.0%\n",
            "ERM | Epoch 0 | Loss: 0.010742002166807652 | Accuracy: 100.0%\n",
            "ERM | Epoch 0 | Loss: 0.009662686847150326 | Accuracy: 100.0%\n",
            "ERM | Epoch 0 | Loss: 0.12622898817062378 | Accuracy: 98.4375%\n",
            "ERM | Epoch 0 | Loss: 0.005978783592581749 | Accuracy: 100.0%\n",
            "ERM | Epoch 0 | Loss: 0.10677338391542435 | Accuracy: 98.4375%\n",
            "ERM | Epoch 0 | Loss: 0.005802931729704142 | Accuracy: 100.0%\n",
            "ERM | Epoch 0 | Loss: 0.004406889900565147 | Accuracy: 100.0%\n",
            "ERM | Epoch 0 | Loss: 0.09468404203653336 | Accuracy: 98.4375%\n",
            "ERM | Epoch 0 | Loss: 0.004258971661329269 | Accuracy: 100.0%\n",
            "ERM | Epoch 0 | Loss: 0.10995835810899734 | Accuracy: 98.4375%\n",
            "ERM | Epoch 0 | Loss: 0.0044096363708376884 | Accuracy: 100.0%\n",
            "ERM | Epoch 0 | Loss: 0.004617480095475912 | Accuracy: 100.0%\n",
            "ERM | Epoch 0 | Loss: 0.09959582984447479 | Accuracy: 98.4375%\n",
            "ERM | Epoch 0 | Loss: 0.11842691153287888 | Accuracy: 98.4375%\n",
            "ERM | Epoch 0 | Loss: 0.005327899474650621 | Accuracy: 100.0%\n",
            "ERM | Epoch 0 | Loss: 0.005297097377479076 | Accuracy: 100.0%\n",
            "ERM | Epoch 0 | Loss: 0.1107512041926384 | Accuracy: 98.4375%\n",
            "ERM | Epoch 0 | Loss: 0.005971239879727364 | Accuracy: 100.0%\n",
            "ERM | Epoch 0 | Loss: 0.006534957326948643 | Accuracy: 100.0%\n",
            "ERM | Epoch 0 | Loss: 0.07178284972906113 | Accuracy: 98.4375%\n",
            "ERM | Epoch 0 | Loss: 0.09563492238521576 | Accuracy: 98.4375%\n",
            "ERM | Epoch 0 | Loss: 0.11481518298387527 | Accuracy: 98.4375%\n",
            "ERM | Epoch 0 | Loss: 0.014053433202207088 | Accuracy: 100.0%\n",
            "ERM | Epoch 0 | Loss: 0.011790361255407333 | Accuracy: 100.0%\n",
            "ERM | Epoch 0 | Loss: 0.008200534619390965 | Accuracy: 100.0%\n",
            "ERM | Epoch 0 | Loss: 0.15942911803722382 | Accuracy: 98.4375%\n",
            "ERM | Epoch 0 | Loss: 0.11072690039873123 | Accuracy: 98.4375%\n",
            "ERM | Epoch 0 | Loss: 0.10995364934206009 | Accuracy: 98.4375%\n",
            "ERM | Epoch 0 | Loss: 0.007819144986569881 | Accuracy: 100.0%\n",
            "ERM | Epoch 0 | Loss: 0.15552693605422974 | Accuracy: 98.4375%\n",
            "ERM | Epoch 0 | Loss: 0.008039929904043674 | Accuracy: 100.0%\n",
            "ERM | Epoch 0 | Loss: 0.00782617274671793 | Accuracy: 100.0%\n",
            "ERM | Epoch 0 | Loss: 0.008289411664009094 | Accuracy: 100.0%\n",
            "ERM | Epoch 0 | Loss: 0.1953577995300293 | Accuracy: 98.4375%\n",
            "ERM | Epoch 0 | Loss: 0.11471859365701675 | Accuracy: 98.4375%\n",
            "ERM | Epoch 0 | Loss: 0.009150376543402672 | Accuracy: 100.0%\n",
            "ERM | Epoch 0 | Loss: 0.009741391986608505 | Accuracy: 100.0%\n",
            "ERM | Epoch 0 | Loss: 0.12462042272090912 | Accuracy: 98.4375%\n",
            "ERM | Epoch 0 | Loss: 0.009372327476739883 | Accuracy: 100.0%\n",
            "ERM | Epoch 0 | Loss: 0.08343572169542313 | Accuracy: 98.4375%\n",
            "ERM | Epoch 0 | Loss: 0.010892041958868504 | Accuracy: 100.0%\n",
            "ERM | Epoch 0 | Loss: 0.08663950860500336 | Accuracy: 98.4375%\n",
            "ERM | Epoch 0 | Loss: 0.010229513980448246 | Accuracy: 100.0%\n",
            "ERM | Epoch 0 | Loss: 0.15436582267284393 | Accuracy: 98.4375%\n",
            "ERM | Epoch 0 | Loss: 0.0915553867816925 | Accuracy: 98.4375%\n",
            "ERM | Epoch 0 | Loss: 0.16545140743255615 | Accuracy: 98.4375%\n",
            "ERM | Epoch 0 | Loss: 0.09435863792896271 | Accuracy: 98.4375%\n",
            "ERM | Epoch 0 | Loss: 0.012871911749243736 | Accuracy: 100.0%\n",
            "ERM | Epoch 0 | Loss: 0.013591722585260868 | Accuracy: 100.0%\n"
          ]
        },
        {
          "output_type": "stream",
          "name": "stderr",
          "text": [
            "Epoch 0:  70%|███████   | 526/751 [00:02<00:00, 259.12batch/s, accuracy=100.0%, loss=0.00519]"
          ]
        },
        {
          "output_type": "stream",
          "name": "stdout",
          "text": [
            "ERM | Epoch 0 | Loss: 0.010875389911234379 | Accuracy: 100.0%\n",
            "ERM | Epoch 0 | Loss: 0.13230666518211365 | Accuracy: 98.4375%\n",
            "ERM | Epoch 0 | Loss: 0.09649311006069183 | Accuracy: 98.4375%\n",
            "ERM | Epoch 0 | Loss: 0.11727117002010345 | Accuracy: 98.4375%\n",
            "ERM | Epoch 0 | Loss: 0.012142927385866642 | Accuracy: 100.0%\n",
            "ERM | Epoch 0 | Loss: 0.16277740895748138 | Accuracy: 98.4375%\n",
            "ERM | Epoch 0 | Loss: 0.014891490340232849 | Accuracy: 100.0%\n",
            "ERM | Epoch 0 | Loss: 0.10640659928321838 | Accuracy: 98.4375%\n",
            "ERM | Epoch 0 | Loss: 0.10830622911453247 | Accuracy: 98.4375%\n",
            "ERM | Epoch 0 | Loss: 0.015282315202057362 | Accuracy: 100.0%\n",
            "ERM | Epoch 0 | Loss: 0.014267177321016788 | Accuracy: 100.0%\n",
            "ERM | Epoch 0 | Loss: 0.08402913808822632 | Accuracy: 98.4375%\n",
            "ERM | Epoch 0 | Loss: 0.011745274998247623 | Accuracy: 100.0%\n",
            "ERM | Epoch 0 | Loss: 0.011834329925477505 | Accuracy: 100.0%\n",
            "ERM | Epoch 0 | Loss: 0.012266136705875397 | Accuracy: 100.0%\n",
            "ERM | Epoch 0 | Loss: 0.009344476275146008 | Accuracy: 100.0%\n",
            "ERM | Epoch 0 | Loss: 0.008785183541476727 | Accuracy: 100.0%\n",
            "ERM | Epoch 0 | Loss: 0.007291421294212341 | Accuracy: 100.0%\n",
            "ERM | Epoch 0 | Loss: 0.006308417767286301 | Accuracy: 100.0%\n",
            "ERM | Epoch 0 | Loss: 0.005889106076210737 | Accuracy: 100.0%\n",
            "ERM | Epoch 0 | Loss: 0.005485354457050562 | Accuracy: 100.0%\n",
            "ERM | Epoch 0 | Loss: 0.004481298383325338 | Accuracy: 100.0%\n",
            "ERM | Epoch 0 | Loss: 0.00404204661026597 | Accuracy: 100.0%\n",
            "ERM | Epoch 0 | Loss: 0.00344255194067955 | Accuracy: 100.0%\n",
            "ERM | Epoch 0 | Loss: 0.003366328775882721 | Accuracy: 100.0%\n",
            "ERM | Epoch 0 | Loss: 0.0028411068487912416 | Accuracy: 100.0%\n",
            "ERM | Epoch 0 | Loss: 0.002827399643138051 | Accuracy: 100.0%\n",
            "ERM | Epoch 0 | Loss: 0.14479529857635498 | Accuracy: 98.4375%\n",
            "ERM | Epoch 0 | Loss: 0.002830748911947012 | Accuracy: 100.0%\n",
            "ERM | Epoch 0 | Loss: 0.0022517540492117405 | Accuracy: 100.0%\n",
            "ERM | Epoch 0 | Loss: 0.1876634955406189 | Accuracy: 98.4375%\n",
            "ERM | Epoch 0 | Loss: 0.002808776218444109 | Accuracy: 100.0%\n",
            "ERM | Epoch 0 | Loss: 0.12158085405826569 | Accuracy: 98.4375%\n",
            "ERM | Epoch 0 | Loss: 0.2853185534477234 | Accuracy: 96.875%\n",
            "ERM | Epoch 0 | Loss: 0.004251775797456503 | Accuracy: 100.0%\n",
            "ERM | Epoch 0 | Loss: 0.004204499535262585 | Accuracy: 100.0%\n",
            "ERM | Epoch 0 | Loss: 0.004782850854098797 | Accuracy: 100.0%\n",
            "ERM | Epoch 0 | Loss: 0.0050810896791517735 | Accuracy: 100.0%\n",
            "ERM | Epoch 0 | Loss: 0.10871176421642303 | Accuracy: 98.4375%\n",
            "ERM | Epoch 0 | Loss: 0.006563794799149036 | Accuracy: 100.0%\n",
            "ERM | Epoch 0 | Loss: 0.005974123254418373 | Accuracy: 100.0%\n",
            "ERM | Epoch 0 | Loss: 0.006006807088851929 | Accuracy: 100.0%\n",
            "ERM | Epoch 0 | Loss: 0.007675041910260916 | Accuracy: 100.0%\n",
            "ERM | Epoch 0 | Loss: 0.006031944882124662 | Accuracy: 100.0%\n",
            "ERM | Epoch 0 | Loss: 0.0066455272026360035 | Accuracy: 100.0%\n",
            "ERM | Epoch 0 | Loss: 0.006572694517672062 | Accuracy: 100.0%\n",
            "ERM | Epoch 0 | Loss: 0.004799455404281616 | Accuracy: 100.0%\n",
            "ERM | Epoch 0 | Loss: 0.12987284362316132 | Accuracy: 98.4375%\n",
            "ERM | Epoch 0 | Loss: 0.00524765532463789 | Accuracy: 100.0%\n",
            "ERM | Epoch 0 | Loss: 0.004722866229712963 | Accuracy: 100.0%\n",
            "ERM | Epoch 0 | Loss: 0.005823133047670126 | Accuracy: 100.0%\n",
            "ERM | Epoch 0 | Loss: 0.005450030788779259 | Accuracy: 100.0%\n",
            "ERM | Epoch 0 | Loss: 0.005190100520849228 | Accuracy: 100.0%\n"
          ]
        },
        {
          "output_type": "stream",
          "name": "stderr",
          "text": [
            "Epoch 0:  77%|███████▋  | 580/751 [00:02<00:00, 261.65batch/s, accuracy=98.4375%, loss=0.1]  "
          ]
        },
        {
          "output_type": "stream",
          "name": "stdout",
          "text": [
            "ERM | Epoch 0 | Loss: 0.00495564192533493 | Accuracy: 100.0%\n",
            "ERM | Epoch 0 | Loss: 0.0931210145354271 | Accuracy: 98.4375%\n",
            "ERM | Epoch 0 | Loss: 0.13674819469451904 | Accuracy: 98.4375%\n",
            "ERM | Epoch 0 | Loss: 0.0038855350576341152 | Accuracy: 100.0%\n",
            "ERM | Epoch 0 | Loss: 0.005238309036940336 | Accuracy: 100.0%\n",
            "ERM | Epoch 0 | Loss: 0.005392204504460096 | Accuracy: 100.0%\n",
            "ERM | Epoch 0 | Loss: 0.0043950858525931835 | Accuracy: 100.0%\n",
            "ERM | Epoch 0 | Loss: 0.003755216719582677 | Accuracy: 100.0%\n",
            "ERM | Epoch 0 | Loss: 0.00415378762409091 | Accuracy: 100.0%\n",
            "ERM | Epoch 0 | Loss: 0.004323130939155817 | Accuracy: 100.0%\n",
            "ERM | Epoch 0 | Loss: 0.0027418434619903564 | Accuracy: 100.0%\n",
            "ERM | Epoch 0 | Loss: 0.09155202656984329 | Accuracy: 98.4375%\n",
            "ERM | Epoch 0 | Loss: 0.0038819843903183937 | Accuracy: 100.0%\n",
            "ERM | Epoch 0 | Loss: 0.12851156294345856 | Accuracy: 98.4375%\n",
            "ERM | Epoch 0 | Loss: 0.004437306430190802 | Accuracy: 100.0%\n",
            "ERM | Epoch 0 | Loss: 0.0035678897984325886 | Accuracy: 100.0%\n",
            "ERM | Epoch 0 | Loss: 0.006831936072558165 | Accuracy: 100.0%\n",
            "ERM | Epoch 0 | Loss: 0.0056119500659406185 | Accuracy: 100.0%\n",
            "ERM | Epoch 0 | Loss: 0.008238768205046654 | Accuracy: 100.0%\n",
            "ERM | Epoch 0 | Loss: 0.005515902768820524 | Accuracy: 100.0%\n",
            "ERM | Epoch 0 | Loss: 0.005776092875748873 | Accuracy: 100.0%\n",
            "ERM | Epoch 0 | Loss: 0.259952574968338 | Accuracy: 96.875%\n",
            "ERM | Epoch 0 | Loss: 0.003979865461587906 | Accuracy: 100.0%\n",
            "ERM | Epoch 0 | Loss: 0.005154325161129236 | Accuracy: 100.0%\n",
            "ERM | Epoch 0 | Loss: 0.004575837403535843 | Accuracy: 100.0%\n",
            "ERM | Epoch 0 | Loss: 0.2763931453227997 | Accuracy: 96.875%\n",
            "ERM | Epoch 0 | Loss: 0.11672189831733704 | Accuracy: 98.4375%\n",
            "ERM | Epoch 0 | Loss: 0.005073022563010454 | Accuracy: 100.0%\n",
            "ERM | Epoch 0 | Loss: 0.004966823384165764 | Accuracy: 100.0%\n",
            "ERM | Epoch 0 | Loss: 0.006916956976056099 | Accuracy: 100.0%\n",
            "ERM | Epoch 0 | Loss: 0.007360031362622976 | Accuracy: 100.0%\n",
            "ERM | Epoch 0 | Loss: 0.008000149391591549 | Accuracy: 100.0%\n",
            "ERM | Epoch 0 | Loss: 0.0077944351360201836 | Accuracy: 100.0%\n",
            "ERM | Epoch 0 | Loss: 0.006053684279322624 | Accuracy: 100.0%\n",
            "ERM | Epoch 0 | Loss: 0.004601973574608564 | Accuracy: 100.0%\n",
            "ERM | Epoch 0 | Loss: 0.004917706362903118 | Accuracy: 100.0%\n",
            "ERM | Epoch 0 | Loss: 0.00509821018204093 | Accuracy: 100.0%\n",
            "ERM | Epoch 0 | Loss: 0.0037265424616634846 | Accuracy: 100.0%\n",
            "ERM | Epoch 0 | Loss: 0.00435595540329814 | Accuracy: 100.0%\n",
            "ERM | Epoch 0 | Loss: 0.0035156914964318275 | Accuracy: 100.0%\n",
            "ERM | Epoch 0 | Loss: 0.003186413086950779 | Accuracy: 100.0%\n",
            "ERM | Epoch 0 | Loss: 0.13028736412525177 | Accuracy: 98.4375%\n",
            "ERM | Epoch 0 | Loss: 0.0032275868579745293 | Accuracy: 100.0%\n",
            "ERM | Epoch 0 | Loss: 0.0030565713532269 | Accuracy: 100.0%\n",
            "ERM | Epoch 0 | Loss: 0.14539308845996857 | Accuracy: 98.4375%\n",
            "ERM | Epoch 0 | Loss: 0.11433087289333344 | Accuracy: 98.4375%\n",
            "ERM | Epoch 0 | Loss: 0.17217019200325012 | Accuracy: 98.4375%\n",
            "ERM | Epoch 0 | Loss: 0.16496556997299194 | Accuracy: 98.4375%\n",
            "ERM | Epoch 0 | Loss: 0.10143738240003586 | Accuracy: 98.4375%\n",
            "ERM | Epoch 0 | Loss: 0.006573709659278393 | Accuracy: 100.0%\n",
            "ERM | Epoch 0 | Loss: 0.0060412222519516945 | Accuracy: 100.0%\n",
            "ERM | Epoch 0 | Loss: 0.1000446155667305 | Accuracy: 98.4375%\n"
          ]
        },
        {
          "output_type": "stream",
          "name": "stderr",
          "text": [
            "Epoch 0:  84%|████████▍ | 634/751 [00:02<00:00, 258.40batch/s, accuracy=98.4375%, loss=0.132] "
          ]
        },
        {
          "output_type": "stream",
          "name": "stdout",
          "text": [
            "ERM | Epoch 0 | Loss: 0.09553442895412445 | Accuracy: 98.4375%\n",
            "ERM | Epoch 0 | Loss: 0.009419101290404797 | Accuracy: 100.0%\n",
            "ERM | Epoch 0 | Loss: 0.01045395527034998 | Accuracy: 100.0%\n",
            "ERM | Epoch 0 | Loss: 0.009212633594870567 | Accuracy: 100.0%\n",
            "ERM | Epoch 0 | Loss: 0.07853391021490097 | Accuracy: 98.4375%\n",
            "ERM | Epoch 0 | Loss: 0.0996110588312149 | Accuracy: 98.4375%\n",
            "ERM | Epoch 0 | Loss: 0.014722668565809727 | Accuracy: 100.0%\n",
            "ERM | Epoch 0 | Loss: 0.014057749882340431 | Accuracy: 100.0%\n",
            "ERM | Epoch 0 | Loss: 0.012456841766834259 | Accuracy: 100.0%\n",
            "ERM | Epoch 0 | Loss: 0.011607781052589417 | Accuracy: 100.0%\n",
            "ERM | Epoch 0 | Loss: 0.01023927889764309 | Accuracy: 100.0%\n",
            "ERM | Epoch 0 | Loss: 0.22331306338310242 | Accuracy: 96.875%\n",
            "ERM | Epoch 0 | Loss: 0.010816283524036407 | Accuracy: 100.0%\n",
            "ERM | Epoch 0 | Loss: 0.010380570776760578 | Accuracy: 100.0%\n",
            "ERM | Epoch 0 | Loss: 0.0092966603115201 | Accuracy: 100.0%\n",
            "ERM | Epoch 0 | Loss: 0.007867184467613697 | Accuracy: 100.0%\n",
            "ERM | Epoch 0 | Loss: 0.00778436753898859 | Accuracy: 100.0%\n",
            "ERM | Epoch 0 | Loss: 0.00648550083860755 | Accuracy: 100.0%\n",
            "ERM | Epoch 0 | Loss: 0.005166790913790464 | Accuracy: 100.0%\n",
            "ERM | Epoch 0 | Loss: 0.13295988738536835 | Accuracy: 98.4375%\n",
            "ERM | Epoch 0 | Loss: 0.0051215896382927895 | Accuracy: 100.0%\n",
            "ERM | Epoch 0 | Loss: 0.1226811632514 | Accuracy: 98.4375%\n",
            "ERM | Epoch 0 | Loss: 0.08560575544834137 | Accuracy: 98.4375%\n",
            "ERM | Epoch 0 | Loss: 0.004938012454658747 | Accuracy: 100.0%\n",
            "ERM | Epoch 0 | Loss: 0.004686592612415552 | Accuracy: 100.0%\n",
            "ERM | Epoch 0 | Loss: 0.00531042879447341 | Accuracy: 100.0%\n",
            "ERM | Epoch 0 | Loss: 0.005005932878702879 | Accuracy: 100.0%\n",
            "ERM | Epoch 0 | Loss: 0.00581499794498086 | Accuracy: 100.0%\n",
            "ERM | Epoch 0 | Loss: 0.004769360180944204 | Accuracy: 100.0%\n",
            "ERM | Epoch 0 | Loss: 0.00490448996424675 | Accuracy: 100.0%\n",
            "ERM | Epoch 0 | Loss: 0.1369454562664032 | Accuracy: 98.4375%\n",
            "ERM | Epoch 0 | Loss: 0.004849045071750879 | Accuracy: 100.0%\n",
            "ERM | Epoch 0 | Loss: 0.2569124698638916 | Accuracy: 96.875%\n",
            "ERM | Epoch 0 | Loss: 0.09858929365873337 | Accuracy: 98.4375%\n",
            "ERM | Epoch 0 | Loss: 0.005014850292354822 | Accuracy: 100.0%\n",
            "ERM | Epoch 0 | Loss: 0.006314249709248543 | Accuracy: 100.0%\n",
            "ERM | Epoch 0 | Loss: 0.10327623039484024 | Accuracy: 98.4375%\n",
            "ERM | Epoch 0 | Loss: 0.006611770484596491 | Accuracy: 100.0%\n",
            "ERM | Epoch 0 | Loss: 0.006923704873770475 | Accuracy: 100.0%\n",
            "ERM | Epoch 0 | Loss: 0.2416391521692276 | Accuracy: 96.875%\n",
            "ERM | Epoch 0 | Loss: 0.0075601376593112946 | Accuracy: 100.0%\n",
            "ERM | Epoch 0 | Loss: 0.007975121960043907 | Accuracy: 100.0%\n",
            "ERM | Epoch 0 | Loss: 0.006391108501702547 | Accuracy: 100.0%\n",
            "ERM | Epoch 0 | Loss: 0.10340877622365952 | Accuracy: 98.4375%\n",
            "ERM | Epoch 0 | Loss: 0.008137821219861507 | Accuracy: 100.0%\n",
            "ERM | Epoch 0 | Loss: 0.007058433722704649 | Accuracy: 100.0%\n",
            "ERM | Epoch 0 | Loss: 0.007352550979703665 | Accuracy: 100.0%\n",
            "ERM | Epoch 0 | Loss: 0.13851512968540192 | Accuracy: 98.4375%\n",
            "ERM | Epoch 0 | Loss: 0.12144181877374649 | Accuracy: 98.4375%\n",
            "ERM | Epoch 0 | Loss: 0.00711649376899004 | Accuracy: 100.0%\n",
            "ERM | Epoch 0 | Loss: 0.09591083973646164 | Accuracy: 98.4375%\n",
            "ERM | Epoch 0 | Loss: 0.1318141669034958 | Accuracy: 98.4375%\n"
          ]
        },
        {
          "output_type": "stream",
          "name": "stderr",
          "text": [
            "Epoch 0:  91%|█████████▏| 686/751 [00:03<00:00, 258.68batch/s, accuracy=100.0%, loss=0.00533]"
          ]
        },
        {
          "output_type": "stream",
          "name": "stdout",
          "text": [
            "ERM | Epoch 0 | Loss: 0.00818490982055664 | Accuracy: 100.0%\n",
            "ERM | Epoch 0 | Loss: 0.009258836507797241 | Accuracy: 100.0%\n",
            "ERM | Epoch 0 | Loss: 0.009507769718766212 | Accuracy: 100.0%\n",
            "ERM | Epoch 0 | Loss: 0.009374245069921017 | Accuracy: 100.0%\n",
            "ERM | Epoch 0 | Loss: 0.007687834091484547 | Accuracy: 100.0%\n",
            "ERM | Epoch 0 | Loss: 0.0077560292556881905 | Accuracy: 100.0%\n",
            "ERM | Epoch 0 | Loss: 0.13417039811611176 | Accuracy: 98.4375%\n",
            "ERM | Epoch 0 | Loss: 0.11023536324501038 | Accuracy: 98.4375%\n",
            "ERM | Epoch 0 | Loss: 0.005408305674791336 | Accuracy: 100.0%\n",
            "ERM | Epoch 0 | Loss: 0.0062675513327121735 | Accuracy: 100.0%\n",
            "ERM | Epoch 0 | Loss: 0.0068959882482886314 | Accuracy: 100.0%\n",
            "ERM | Epoch 0 | Loss: 0.00637975987046957 | Accuracy: 100.0%\n",
            "ERM | Epoch 0 | Loss: 0.005787752103060484 | Accuracy: 100.0%\n",
            "ERM | Epoch 0 | Loss: 0.0053648012690246105 | Accuracy: 100.0%\n",
            "ERM | Epoch 0 | Loss: 0.09979449957609177 | Accuracy: 98.4375%\n",
            "ERM | Epoch 0 | Loss: 0.005284648854285479 | Accuracy: 100.0%\n",
            "ERM | Epoch 0 | Loss: 0.005239292047917843 | Accuracy: 100.0%\n",
            "ERM | Epoch 0 | Loss: 0.13087822496891022 | Accuracy: 98.4375%\n",
            "ERM | Epoch 0 | Loss: 0.005127482116222382 | Accuracy: 100.0%\n",
            "ERM | Epoch 0 | Loss: 0.005654029082506895 | Accuracy: 100.0%\n",
            "ERM | Epoch 0 | Loss: 0.005598787218332291 | Accuracy: 100.0%\n",
            "ERM | Epoch 0 | Loss: 0.12064016610383987 | Accuracy: 98.4375%\n",
            "ERM | Epoch 0 | Loss: 0.005363317672163248 | Accuracy: 100.0%\n",
            "ERM | Epoch 0 | Loss: 0.005469700787216425 | Accuracy: 100.0%\n",
            "ERM | Epoch 0 | Loss: 0.13615858554840088 | Accuracy: 98.4375%\n",
            "ERM | Epoch 0 | Loss: 0.005320271942764521 | Accuracy: 100.0%\n",
            "ERM | Epoch 0 | Loss: 0.004851435776799917 | Accuracy: 100.0%\n",
            "ERM | Epoch 0 | Loss: 0.004922712221741676 | Accuracy: 100.0%\n",
            "ERM | Epoch 0 | Loss: 0.005082426127046347 | Accuracy: 100.0%\n",
            "ERM | Epoch 0 | Loss: 0.09824535995721817 | Accuracy: 98.4375%\n",
            "ERM | Epoch 0 | Loss: 0.005135011859238148 | Accuracy: 100.0%\n",
            "ERM | Epoch 0 | Loss: 0.10510129481554031 | Accuracy: 98.4375%\n",
            "ERM | Epoch 0 | Loss: 0.12003912776708603 | Accuracy: 98.4375%\n",
            "ERM | Epoch 0 | Loss: 0.0069079771637916565 | Accuracy: 100.0%\n",
            "ERM | Epoch 0 | Loss: 0.13544349372386932 | Accuracy: 98.4375%\n",
            "ERM | Epoch 0 | Loss: 0.1304473727941513 | Accuracy: 98.4375%\n",
            "ERM | Epoch 0 | Loss: 0.09235220402479172 | Accuracy: 98.4375%\n",
            "ERM | Epoch 0 | Loss: 0.09859347343444824 | Accuracy: 98.4375%\n",
            "ERM | Epoch 0 | Loss: 0.008385132998228073 | Accuracy: 100.0%\n",
            "ERM | Epoch 0 | Loss: 0.00941622257232666 | Accuracy: 100.0%\n",
            "ERM | Epoch 0 | Loss: 0.11036936938762665 | Accuracy: 98.4375%\n",
            "ERM | Epoch 0 | Loss: 0.009466471150517464 | Accuracy: 100.0%\n",
            "ERM | Epoch 0 | Loss: 0.007715326268225908 | Accuracy: 100.0%\n",
            "ERM | Epoch 0 | Loss: 0.006487936247140169 | Accuracy: 100.0%\n",
            "ERM | Epoch 0 | Loss: 0.007255238015204668 | Accuracy: 100.0%\n",
            "ERM | Epoch 0 | Loss: 0.007106338627636433 | Accuracy: 100.0%\n",
            "ERM | Epoch 0 | Loss: 0.007459466345608234 | Accuracy: 100.0%\n",
            "ERM | Epoch 0 | Loss: 0.005933358334004879 | Accuracy: 100.0%\n",
            "ERM | Epoch 0 | Loss: 0.11704975366592407 | Accuracy: 98.4375%\n",
            "ERM | Epoch 0 | Loss: 0.005442928057163954 | Accuracy: 100.0%\n",
            "ERM | Epoch 0 | Loss: 0.005672895815223455 | Accuracy: 100.0%\n",
            "ERM | Epoch 0 | Loss: 0.10747578740119934 | Accuracy: 98.4375%\n"
          ]
        },
        {
          "output_type": "stream",
          "name": "stderr",
          "text": [
            "Epoch 0:  98%|█████████▊| 738/751 [00:03<00:00, 256.98batch/s, accuracy=100.0%, loss=0.00325]"
          ]
        },
        {
          "output_type": "stream",
          "name": "stdout",
          "text": [
            "ERM | Epoch 0 | Loss: 0.0053312405943870544 | Accuracy: 100.0%\n",
            "ERM | Epoch 0 | Loss: 0.0048077721148729324 | Accuracy: 100.0%\n",
            "ERM | Epoch 0 | Loss: 0.13255445659160614 | Accuracy: 98.4375%\n",
            "ERM | Epoch 0 | Loss: 0.11841915547847748 | Accuracy: 98.4375%\n",
            "ERM | Epoch 0 | Loss: 0.00534874526783824 | Accuracy: 100.0%\n",
            "ERM | Epoch 0 | Loss: 0.00724593922495842 | Accuracy: 100.0%\n",
            "ERM | Epoch 0 | Loss: 0.006400533951818943 | Accuracy: 100.0%\n",
            "ERM | Epoch 0 | Loss: 0.006151589099317789 | Accuracy: 100.0%\n",
            "ERM | Epoch 0 | Loss: 0.0058079492300748825 | Accuracy: 100.0%\n",
            "ERM | Epoch 0 | Loss: 0.21516700088977814 | Accuracy: 96.875%\n",
            "ERM | Epoch 0 | Loss: 0.005311636254191399 | Accuracy: 100.0%\n",
            "ERM | Epoch 0 | Loss: 0.005720051471143961 | Accuracy: 100.0%\n",
            "ERM | Epoch 0 | Loss: 0.004726874176412821 | Accuracy: 100.0%\n",
            "ERM | Epoch 0 | Loss: 0.005325766280293465 | Accuracy: 100.0%\n",
            "ERM | Epoch 0 | Loss: 0.0046341316774487495 | Accuracy: 100.0%\n",
            "ERM | Epoch 0 | Loss: 0.004414450377225876 | Accuracy: 100.0%\n",
            "ERM | Epoch 0 | Loss: 0.004036822821944952 | Accuracy: 100.0%\n",
            "ERM | Epoch 0 | Loss: 0.20695355534553528 | Accuracy: 96.875%\n",
            "ERM | Epoch 0 | Loss: 0.0043632881715893745 | Accuracy: 100.0%\n",
            "ERM | Epoch 0 | Loss: 0.005136988591402769 | Accuracy: 100.0%\n",
            "ERM | Epoch 0 | Loss: 0.004528863821178675 | Accuracy: 100.0%\n",
            "ERM | Epoch 0 | Loss: 0.09856198728084564 | Accuracy: 98.4375%\n",
            "ERM | Epoch 0 | Loss: 0.0050393459387123585 | Accuracy: 100.0%\n",
            "ERM | Epoch 0 | Loss: 0.00452310498803854 | Accuracy: 100.0%\n",
            "ERM | Epoch 0 | Loss: 0.004682399798184633 | Accuracy: 100.0%\n",
            "ERM | Epoch 0 | Loss: 0.004950738977640867 | Accuracy: 100.0%\n",
            "ERM | Epoch 0 | Loss: 0.10529940575361252 | Accuracy: 98.4375%\n",
            "ERM | Epoch 0 | Loss: 0.005567862186580896 | Accuracy: 100.0%\n",
            "ERM | Epoch 0 | Loss: 0.12380757927894592 | Accuracy: 98.4375%\n",
            "ERM | Epoch 0 | Loss: 0.005816405639052391 | Accuracy: 100.0%\n",
            "ERM | Epoch 0 | Loss: 0.005795614793896675 | Accuracy: 100.0%\n",
            "ERM | Epoch 0 | Loss: 0.12772467732429504 | Accuracy: 98.4375%\n",
            "ERM | Epoch 0 | Loss: 0.004902405198663473 | Accuracy: 100.0%\n",
            "ERM | Epoch 0 | Loss: 0.09619949012994766 | Accuracy: 98.4375%\n",
            "ERM | Epoch 0 | Loss: 0.00461000157520175 | Accuracy: 100.0%\n",
            "ERM | Epoch 0 | Loss: 0.00525222672149539 | Accuracy: 100.0%\n",
            "ERM | Epoch 0 | Loss: 0.004546732176095247 | Accuracy: 100.0%\n",
            "ERM | Epoch 0 | Loss: 0.005756181199103594 | Accuracy: 100.0%\n",
            "ERM | Epoch 0 | Loss: 0.005479831248521805 | Accuracy: 100.0%\n",
            "ERM | Epoch 0 | Loss: 0.006138165481388569 | Accuracy: 100.0%\n",
            "ERM | Epoch 0 | Loss: 0.005761895794421434 | Accuracy: 100.0%\n",
            "ERM | Epoch 0 | Loss: 0.005598149728029966 | Accuracy: 100.0%\n",
            "ERM | Epoch 0 | Loss: 0.004932015668600798 | Accuracy: 100.0%\n",
            "ERM | Epoch 0 | Loss: 0.0035722835455089808 | Accuracy: 100.0%\n",
            "ERM | Epoch 0 | Loss: 0.003649878315627575 | Accuracy: 100.0%\n",
            "ERM | Epoch 0 | Loss: 0.003420870518311858 | Accuracy: 100.0%\n",
            "ERM | Epoch 0 | Loss: 0.003616741858422756 | Accuracy: 100.0%\n",
            "ERM | Epoch 0 | Loss: 0.002441809745505452 | Accuracy: 100.0%\n",
            "ERM | Epoch 0 | Loss: 0.0026841789949685335 | Accuracy: 100.0%\n",
            "ERM | Epoch 0 | Loss: 0.003246680833399296 | Accuracy: 100.0%\n"
          ]
        },
        {
          "output_type": "stream",
          "name": "stderr",
          "text": [
            "\rEpoch 0: 100%|██████████| 751/751 [00:03<00:00, 228.01batch/s, accuracy=100.0%, loss=0.00325]\n"
          ]
        }
      ]
    },
    {
      "cell_type": "code",
      "execution_count": null,
      "metadata": {
        "id": "EopvZUfi6SZE",
        "outputId": "d8562814-4e67-4fbc-8a34-cb0593642ea6",
        "colab": {
          "base_uri": "https://localhost:8080/"
        }
      },
      "outputs": [
        {
          "output_type": "stream",
          "name": "stderr",
          "text": [
            "Evaluating group-wise accuracy:   4%|▍         | 1/25 [00:00<00:06,  3.59it/s]"
          ]
        },
        {
          "output_type": "stream",
          "name": "stdout",
          "text": [
            "Group (0, 0) Accuracy: 100.0\n"
          ]
        },
        {
          "output_type": "stream",
          "name": "stderr",
          "text": [
            "\rEvaluating group-wise accuracy:   8%|▊         | 2/25 [00:00<00:06,  3.31it/s]"
          ]
        },
        {
          "output_type": "stream",
          "name": "stdout",
          "text": [
            "Group (0, 1) Accuracy: 0.0\n"
          ]
        },
        {
          "output_type": "stream",
          "name": "stderr",
          "text": [
            "\rEvaluating group-wise accuracy:  12%|█▏        | 3/25 [00:00<00:06,  3.49it/s]"
          ]
        },
        {
          "output_type": "stream",
          "name": "stdout",
          "text": [
            "Group (0, 2) Accuracy: 0.0\n"
          ]
        },
        {
          "output_type": "stream",
          "name": "stderr",
          "text": [
            "\rEvaluating group-wise accuracy:  16%|█▌        | 4/25 [00:01<00:05,  3.52it/s]"
          ]
        },
        {
          "output_type": "stream",
          "name": "stdout",
          "text": [
            "Group (0, 3) Accuracy: 0.0\n"
          ]
        },
        {
          "output_type": "stream",
          "name": "stderr",
          "text": [
            "\rEvaluating group-wise accuracy:  20%|██        | 5/25 [00:01<00:05,  3.58it/s]"
          ]
        },
        {
          "output_type": "stream",
          "name": "stdout",
          "text": [
            "Group (0, 4) Accuracy: 0.0\n"
          ]
        },
        {
          "output_type": "stream",
          "name": "stderr",
          "text": [
            "\rEvaluating group-wise accuracy:  24%|██▍       | 6/25 [00:01<00:05,  3.62it/s]"
          ]
        },
        {
          "output_type": "stream",
          "name": "stdout",
          "text": [
            "Group (1, 0) Accuracy: 0.0\n"
          ]
        },
        {
          "output_type": "stream",
          "name": "stderr",
          "text": [
            "\rEvaluating group-wise accuracy:  28%|██▊       | 7/25 [00:01<00:04,  3.60it/s]"
          ]
        },
        {
          "output_type": "stream",
          "name": "stdout",
          "text": [
            "Group (1, 1) Accuracy: 100.0\n"
          ]
        },
        {
          "output_type": "stream",
          "name": "stderr",
          "text": [
            "\rEvaluating group-wise accuracy:  32%|███▏      | 8/25 [00:02<00:04,  3.64it/s]"
          ]
        },
        {
          "output_type": "stream",
          "name": "stdout",
          "text": [
            "Group (1, 2) Accuracy: 0.0\n"
          ]
        },
        {
          "output_type": "stream",
          "name": "stderr",
          "text": [
            "\rEvaluating group-wise accuracy:  36%|███▌      | 9/25 [00:02<00:04,  3.68it/s]"
          ]
        },
        {
          "output_type": "stream",
          "name": "stdout",
          "text": [
            "Group (1, 3) Accuracy: 0.0\n"
          ]
        },
        {
          "output_type": "stream",
          "name": "stderr",
          "text": [
            "\rEvaluating group-wise accuracy:  40%|████      | 10/25 [00:02<00:04,  3.65it/s]"
          ]
        },
        {
          "output_type": "stream",
          "name": "stdout",
          "text": [
            "Group (1, 4) Accuracy: 0.0\n"
          ]
        },
        {
          "output_type": "stream",
          "name": "stderr",
          "text": [
            "\rEvaluating group-wise accuracy:  44%|████▍     | 11/25 [00:03<00:03,  3.70it/s]"
          ]
        },
        {
          "output_type": "stream",
          "name": "stdout",
          "text": [
            "Group (2, 0) Accuracy: 0.0\n"
          ]
        },
        {
          "output_type": "stream",
          "name": "stderr",
          "text": [
            "\rEvaluating group-wise accuracy:  48%|████▊     | 12/25 [00:03<00:03,  3.74it/s]"
          ]
        },
        {
          "output_type": "stream",
          "name": "stdout",
          "text": [
            "Group (2, 1) Accuracy: 0.0\n"
          ]
        },
        {
          "output_type": "stream",
          "name": "stderr",
          "text": [
            "\rEvaluating group-wise accuracy:  52%|█████▏    | 13/25 [00:03<00:03,  3.70it/s]"
          ]
        },
        {
          "output_type": "stream",
          "name": "stdout",
          "text": [
            "Group (2, 2) Accuracy: 100.0\n"
          ]
        },
        {
          "output_type": "stream",
          "name": "stderr",
          "text": [
            "\rEvaluating group-wise accuracy:  56%|█████▌    | 14/25 [00:03<00:02,  3.72it/s]"
          ]
        },
        {
          "output_type": "stream",
          "name": "stdout",
          "text": [
            "Group (2, 3) Accuracy: 0.0\n"
          ]
        },
        {
          "output_type": "stream",
          "name": "stderr",
          "text": [
            "\rEvaluating group-wise accuracy:  60%|██████    | 15/25 [00:04<00:02,  3.74it/s]"
          ]
        },
        {
          "output_type": "stream",
          "name": "stdout",
          "text": [
            "Group (2, 4) Accuracy: 0.0\n"
          ]
        },
        {
          "output_type": "stream",
          "name": "stderr",
          "text": [
            "\rEvaluating group-wise accuracy:  64%|██████▍   | 16/25 [00:04<00:02,  3.76it/s]"
          ]
        },
        {
          "output_type": "stream",
          "name": "stdout",
          "text": [
            "Group (3, 0) Accuracy: 0.0\n"
          ]
        },
        {
          "output_type": "stream",
          "name": "stderr",
          "text": [
            "\rEvaluating group-wise accuracy:  68%|██████▊   | 17/25 [00:04<00:02,  3.77it/s]"
          ]
        },
        {
          "output_type": "stream",
          "name": "stdout",
          "text": [
            "Group (3, 1) Accuracy: 0.0\n"
          ]
        },
        {
          "output_type": "stream",
          "name": "stderr",
          "text": [
            "\rEvaluating group-wise accuracy:  72%|███████▏  | 18/25 [00:04<00:01,  3.75it/s]"
          ]
        },
        {
          "output_type": "stream",
          "name": "stdout",
          "text": [
            "Group (3, 2) Accuracy: 0.0\n"
          ]
        },
        {
          "output_type": "stream",
          "name": "stderr",
          "text": [
            "\rEvaluating group-wise accuracy:  76%|███████▌  | 19/25 [00:05<00:01,  3.73it/s]"
          ]
        },
        {
          "output_type": "stream",
          "name": "stdout",
          "text": [
            "Group (3, 3) Accuracy: 100.0\n"
          ]
        },
        {
          "output_type": "stream",
          "name": "stderr",
          "text": [
            "\rEvaluating group-wise accuracy:  80%|████████  | 20/25 [00:05<00:01,  3.70it/s]"
          ]
        },
        {
          "output_type": "stream",
          "name": "stdout",
          "text": [
            "Group (3, 4) Accuracy: 0.0\n"
          ]
        },
        {
          "output_type": "stream",
          "name": "stderr",
          "text": [
            "\rEvaluating group-wise accuracy:  84%|████████▍ | 21/25 [00:05<00:01,  3.69it/s]"
          ]
        },
        {
          "output_type": "stream",
          "name": "stdout",
          "text": [
            "Group (4, 0) Accuracy: 0.0\n"
          ]
        },
        {
          "output_type": "stream",
          "name": "stderr",
          "text": [
            "\rEvaluating group-wise accuracy:  88%|████████▊ | 22/25 [00:05<00:00,  3.72it/s]"
          ]
        },
        {
          "output_type": "stream",
          "name": "stdout",
          "text": [
            "Group (4, 1) Accuracy: 0.0\n"
          ]
        },
        {
          "output_type": "stream",
          "name": "stderr",
          "text": [
            "\rEvaluating group-wise accuracy:  92%|█████████▏| 23/25 [00:06<00:00,  3.71it/s]"
          ]
        },
        {
          "output_type": "stream",
          "name": "stdout",
          "text": [
            "Group (4, 2) Accuracy: 0.0\n"
          ]
        },
        {
          "output_type": "stream",
          "name": "stderr",
          "text": [
            "\rEvaluating group-wise accuracy:  96%|█████████▌| 24/25 [00:06<00:00,  3.68it/s]"
          ]
        },
        {
          "output_type": "stream",
          "name": "stdout",
          "text": [
            "Group (4, 3) Accuracy: 0.0\n"
          ]
        },
        {
          "output_type": "stream",
          "name": "stderr",
          "text": [
            "Evaluating group-wise accuracy: 100%|██████████| 25/25 [00:06<00:00,  3.67it/s]"
          ]
        },
        {
          "output_type": "stream",
          "name": "stdout",
          "text": [
            "Group (4, 4) Accuracy: 100.0\n"
          ]
        },
        {
          "output_type": "stream",
          "name": "stderr",
          "text": [
            "\n"
          ]
        },
        {
          "output_type": "execute_result",
          "data": {
            "text/plain": [
              "{(0, 0): 100.0,\n",
              " (0, 1): 0.0,\n",
              " (0, 2): 0.0,\n",
              " (0, 3): 0.0,\n",
              " (0, 4): 0.0,\n",
              " (1, 0): 0.0,\n",
              " (1, 1): 100.0,\n",
              " (1, 2): 0.0,\n",
              " (1, 3): 0.0,\n",
              " (1, 4): 0.0,\n",
              " (2, 0): 0.0,\n",
              " (2, 1): 0.0,\n",
              " (2, 2): 100.0,\n",
              " (2, 3): 0.0,\n",
              " (2, 4): 0.0,\n",
              " (3, 0): 0.0,\n",
              " (3, 1): 0.0,\n",
              " (3, 2): 0.0,\n",
              " (3, 3): 100.0,\n",
              " (3, 4): 0.0,\n",
              " (4, 0): 0.0,\n",
              " (4, 1): 0.0,\n",
              " (4, 2): 0.0,\n",
              " (4, 3): 0.0,\n",
              " (4, 4): 100.0}"
            ]
          },
          "metadata": {},
          "execution_count": 62
        }
      ],
      "source": [
        "from spuco.evaluate import Evaluator\n",
        "\n",
        "evaluator = Evaluator(\n",
        "    testset=testset,\n",
        "    group_partition=testset.group_partition,\n",
        "    group_weights=trainset.group_weights,\n",
        "    batch_size=64,\n",
        "    model=model,\n",
        "    device=device,\n",
        "    verbose=True\n",
        ")\n",
        "evaluator.evaluate()"
      ]
    },
    {
      "cell_type": "code",
      "source": [
        "def get_model_outputs(model, dataset, device, batch_size=64):\n",
        "    dataloader = torch.utils.data.DataLoader(dataset, batch_size=batch_size, shuffle=False)\n",
        "    all_outputs = []\n",
        "\n",
        "    model.eval()\n",
        "    with torch.no_grad():\n",
        "        for inputs, _ in dataloader:\n",
        "            inputs = inputs.to(device)\n",
        "            outputs = model(inputs)\n",
        "            all_outputs.append(outputs.cpu())\n",
        "\n",
        "    return torch.cat(all_outputs, dim=0)\n",
        "\n",
        "logits = get_model_outputs(model, trainset, device)"
      ],
      "metadata": {
        "id": "ZxvZtVnGHyD1"
      },
      "execution_count": null,
      "outputs": []
    },
    {
      "cell_type": "code",
      "execution_count": null,
      "metadata": {
        "id": "0ninsbrZ6SZE",
        "outputId": "cd795d64-a599-478c-825d-3bee35488b63",
        "colab": {
          "base_uri": "https://localhost:8080/"
        }
      },
      "outputs": [
        {
          "output_type": "stream",
          "name": "stderr",
          "text": [
            "Clustering class-wise: 100%|██████████| 5/5 [00:00<00:00, 16.24it/s]\n"
          ]
        }
      ],
      "source": [
        "from spuco.group_inference import Cluster, ClusterAlg\n",
        "cluster = Cluster(\n",
        "    Z=logits,\n",
        "    class_labels=trainset.labels,\n",
        "    cluster_alg=ClusterAlg.KMEANS,\n",
        "    num_clusters=2,\n",
        "    device=device,\n",
        "    verbose=True\n",
        ")\n",
        "group_partition = cluster.infer_groups()"
      ]
    },
    {
      "cell_type": "code",
      "execution_count": null,
      "metadata": {
        "id": "R1JL2hWI6SZF",
        "outputId": "db20615a-0078-4ae5-fd00-29713acd6e6d",
        "colab": {
          "base_uri": "https://localhost:8080/"
        }
      },
      "outputs": [
        {
          "output_type": "stream",
          "name": "stdout",
          "text": [
            "(0, 0) 10082\n",
            "(0, 1) 51\n",
            "(1, 0) 9623\n",
            "(1, 1) 49\n",
            "(2, 0) 8965\n",
            "(2, 1) 46\n",
            "(3, 0) 49\n",
            "(3, 1) 9698\n",
            "(4, 0) 9393\n",
            "(4, 1) 48\n"
          ]
        }
      ],
      "source": [
        "for key in sorted(group_partition.keys()):\n",
        "    print(key, len(group_partition[key]))"
      ]
    },
    {
      "cell_type": "code",
      "execution_count": null,
      "metadata": {
        "id": "LUNcgBxJ6SZF",
        "outputId": "61c44f2c-ac04-4863-f361-80c9cd8abac3",
        "colab": {
          "base_uri": "https://localhost:8080/"
        }
      },
      "outputs": [
        {
          "output_type": "stream",
          "name": "stderr",
          "text": [
            "Evaluating group-wise accuracy:  10%|█         | 1/10 [00:00<00:04,  1.88it/s]"
          ]
        },
        {
          "output_type": "stream",
          "name": "stdout",
          "text": [
            "Group (0, 0) Accuracy: 100.0\n"
          ]
        },
        {
          "output_type": "stream",
          "name": "stderr",
          "text": [
            "\rEvaluating group-wise accuracy:  20%|██        | 2/10 [00:00<00:02,  2.72it/s]"
          ]
        },
        {
          "output_type": "stream",
          "name": "stdout",
          "text": [
            "Group (0, 1) Accuracy: 0.0\n"
          ]
        },
        {
          "output_type": "stream",
          "name": "stderr",
          "text": [
            "\rEvaluating group-wise accuracy:  30%|███       | 3/10 [00:01<00:03,  2.33it/s]"
          ]
        },
        {
          "output_type": "stream",
          "name": "stdout",
          "text": [
            "Group (1, 0) Accuracy: 100.0\n"
          ]
        },
        {
          "output_type": "stream",
          "name": "stderr",
          "text": [
            "\rEvaluating group-wise accuracy:  40%|████      | 4/10 [00:01<00:02,  2.76it/s]"
          ]
        },
        {
          "output_type": "stream",
          "name": "stdout",
          "text": [
            "Group (1, 1) Accuracy: 0.0\n"
          ]
        },
        {
          "output_type": "stream",
          "name": "stderr",
          "text": [
            "\rEvaluating group-wise accuracy:  50%|█████     | 5/10 [00:02<00:02,  2.48it/s]"
          ]
        },
        {
          "output_type": "stream",
          "name": "stdout",
          "text": [
            "Group (2, 0) Accuracy: 100.0\n"
          ]
        },
        {
          "output_type": "stream",
          "name": "stderr",
          "text": [
            "\rEvaluating group-wise accuracy:  60%|██████    | 6/10 [00:02<00:01,  2.82it/s]"
          ]
        },
        {
          "output_type": "stream",
          "name": "stdout",
          "text": [
            "Group (2, 1) Accuracy: 0.0\n"
          ]
        },
        {
          "output_type": "stream",
          "name": "stderr",
          "text": [
            "\rEvaluating group-wise accuracy:  70%|███████   | 7/10 [00:02<00:00,  3.13it/s]"
          ]
        },
        {
          "output_type": "stream",
          "name": "stdout",
          "text": [
            "Group (3, 0) Accuracy: 0.0\n"
          ]
        },
        {
          "output_type": "stream",
          "name": "stderr",
          "text": [
            "\rEvaluating group-wise accuracy:  80%|████████  | 8/10 [00:03<00:00,  2.68it/s]"
          ]
        },
        {
          "output_type": "stream",
          "name": "stdout",
          "text": [
            "Group (3, 1) Accuracy: 100.0\n"
          ]
        },
        {
          "output_type": "stream",
          "name": "stderr",
          "text": [
            "\rEvaluating group-wise accuracy:  90%|█████████ | 9/10 [00:03<00:00,  2.39it/s]"
          ]
        },
        {
          "output_type": "stream",
          "name": "stdout",
          "text": [
            "Group (4, 0) Accuracy: 100.0\n"
          ]
        },
        {
          "output_type": "stream",
          "name": "stderr",
          "text": [
            "Evaluating group-wise accuracy: 100%|██████████| 10/10 [00:03<00:00,  2.63it/s]"
          ]
        },
        {
          "output_type": "stream",
          "name": "stdout",
          "text": [
            "Group (4, 1) Accuracy: 0.0\n"
          ]
        },
        {
          "output_type": "stream",
          "name": "stderr",
          "text": [
            "\n"
          ]
        },
        {
          "output_type": "execute_result",
          "data": {
            "text/plain": [
              "{(0, 0): 100.0,\n",
              " (0, 1): 0.0,\n",
              " (1, 0): 100.0,\n",
              " (1, 1): 0.0,\n",
              " (2, 0): 100.0,\n",
              " (2, 1): 0.0,\n",
              " (3, 0): 0.0,\n",
              " (3, 1): 100.0,\n",
              " (4, 0): 100.0,\n",
              " (4, 1): 0.0}"
            ]
          },
          "metadata": {},
          "execution_count": 66
        }
      ],
      "source": [
        "from spuco.evaluate import Evaluator\n",
        "\n",
        "evaluator = Evaluator(\n",
        "    testset=trainset,\n",
        "    group_partition=group_partition,\n",
        "    group_weights=trainset.group_weights,\n",
        "    batch_size=64,\n",
        "    model=model,\n",
        "    device=device,\n",
        "    verbose=True\n",
        ")\n",
        "evaluator.evaluate()"
      ]
    },
    {
      "cell_type": "code",
      "execution_count": null,
      "metadata": {
        "id": "Jr10qbI56SZF",
        "outputId": "6a656822-ab28-458c-8b69-d94933e84915",
        "colab": {
          "base_uri": "https://localhost:8080/"
        }
      },
      "outputs": [
        {
          "output_type": "stream",
          "name": "stderr",
          "text": [
            "Epoch 0:   3%|▎         | 19/751 [00:00<00:09, 76.67batch/s, accuracy=23.4375%, loss=1.6]"
          ]
        },
        {
          "output_type": "stream",
          "name": "stdout",
          "text": [
            "GB | Epoch 0 | Loss: 1.6001627445220947 | Accuracy: 31.25%\n",
            "GB | Epoch 0 | Loss: 1.6149214506149292 | Accuracy: 20.3125%\n",
            "GB | Epoch 0 | Loss: 1.6089547872543335 | Accuracy: 28.125%\n",
            "GB | Epoch 0 | Loss: 1.618395209312439 | Accuracy: 23.4375%\n",
            "GB | Epoch 0 | Loss: 1.6240812540054321 | Accuracy: 14.0625%\n",
            "GB | Epoch 0 | Loss: 1.6178816556930542 | Accuracy: 14.0625%\n",
            "GB | Epoch 0 | Loss: 1.6055727005004883 | Accuracy: 21.875%\n",
            "GB | Epoch 0 | Loss: 1.5982104539871216 | Accuracy: 28.125%\n",
            "GB | Epoch 0 | Loss: 1.6254078149795532 | Accuracy: 12.5%\n",
            "GB | Epoch 0 | Loss: 1.631563425064087 | Accuracy: 14.0625%\n",
            "GB | Epoch 0 | Loss: 1.616225004196167 | Accuracy: 21.875%\n",
            "GB | Epoch 0 | Loss: 1.5946369171142578 | Accuracy: 34.375%\n",
            "GB | Epoch 0 | Loss: 1.627125859260559 | Accuracy: 18.75%\n",
            "GB | Epoch 0 | Loss: 1.5921149253845215 | Accuracy: 28.125%\n",
            "GB | Epoch 0 | Loss: 1.597845435142517 | Accuracy: 18.75%\n",
            "GB | Epoch 0 | Loss: 1.6257169246673584 | Accuracy: 21.875%\n",
            "GB | Epoch 0 | Loss: 1.6189391613006592 | Accuracy: 15.625%\n",
            "GB | Epoch 0 | Loss: 1.6103150844573975 | Accuracy: 17.1875%\n",
            "GB | Epoch 0 | Loss: 1.613977074623108 | Accuracy: 20.3125%\n",
            "GB | Epoch 0 | Loss: 1.6110115051269531 | Accuracy: 25.0%\n",
            "GB | Epoch 0 | Loss: 1.6191341876983643 | Accuracy: 17.1875%\n",
            "GB | Epoch 0 | Loss: 1.624086856842041 | Accuracy: 21.875%\n",
            "GB | Epoch 0 | Loss: 1.6013505458831787 | Accuracy: 26.5625%\n",
            "GB | Epoch 0 | Loss: 1.6521813869476318 | Accuracy: 12.5%\n",
            "GB | Epoch 0 | Loss: 1.608866572380066 | Accuracy: 25.0%\n",
            "GB | Epoch 0 | Loss: 1.614649772644043 | Accuracy: 18.75%\n",
            "GB | Epoch 0 | Loss: 1.601539969444275 | Accuracy: 21.875%\n",
            "GB | Epoch 0 | Loss: 1.6134790182113647 | Accuracy: 18.75%\n",
            "GB | Epoch 0 | Loss: 1.6172631978988647 | Accuracy: 21.875%\n",
            "GB | Epoch 0 | Loss: 1.5996968746185303 | Accuracy: 29.6875%\n",
            "GB | Epoch 0 | Loss: 1.5913201570510864 | Accuracy: 25.0%\n",
            "GB | Epoch 0 | Loss: 1.614106297492981 | Accuracy: 21.875%\n",
            "GB | Epoch 0 | Loss: 1.612769365310669 | Accuracy: 15.625%\n",
            "GB | Epoch 0 | Loss: 1.6322658061981201 | Accuracy: 12.5%\n",
            "GB | Epoch 0 | Loss: 1.62911057472229 | Accuracy: 10.9375%\n",
            "GB | Epoch 0 | Loss: 1.599255084991455 | Accuracy: 26.5625%\n",
            "GB | Epoch 0 | Loss: 1.640432357788086 | Accuracy: 15.625%\n",
            "GB | Epoch 0 | Loss: 1.6070225238800049 | Accuracy: 25.0%\n"
          ]
        },
        {
          "output_type": "stream",
          "name": "stderr",
          "text": [
            "Epoch 0:   8%|▊         | 61/751 [00:00<00:04, 151.32batch/s, accuracy=17.1875%, loss=1.62]"
          ]
        },
        {
          "output_type": "stream",
          "name": "stdout",
          "text": [
            "GB | Epoch 0 | Loss: 1.5981277227401733 | Accuracy: 23.4375%\n",
            "GB | Epoch 0 | Loss: 1.5945336818695068 | Accuracy: 29.6875%\n",
            "GB | Epoch 0 | Loss: 1.6184782981872559 | Accuracy: 15.625%\n",
            "GB | Epoch 0 | Loss: 1.6050359010696411 | Accuracy: 20.3125%\n",
            "GB | Epoch 0 | Loss: 1.6081477403640747 | Accuracy: 14.0625%\n",
            "GB | Epoch 0 | Loss: 1.6232414245605469 | Accuracy: 15.625%\n",
            "GB | Epoch 0 | Loss: 1.615939736366272 | Accuracy: 15.625%\n",
            "GB | Epoch 0 | Loss: 1.6064735651016235 | Accuracy: 20.3125%\n",
            "GB | Epoch 0 | Loss: 1.6130414009094238 | Accuracy: 18.75%\n",
            "GB | Epoch 0 | Loss: 1.6111359596252441 | Accuracy: 23.4375%\n",
            "GB | Epoch 0 | Loss: 1.5990965366363525 | Accuracy: 21.875%\n",
            "GB | Epoch 0 | Loss: 1.6184747219085693 | Accuracy: 25.0%\n",
            "GB | Epoch 0 | Loss: 1.6044683456420898 | Accuracy: 26.5625%\n",
            "GB | Epoch 0 | Loss: 1.603774905204773 | Accuracy: 14.0625%\n",
            "GB | Epoch 0 | Loss: 1.6197720766067505 | Accuracy: 15.625%\n",
            "GB | Epoch 0 | Loss: 1.6323143243789673 | Accuracy: 14.0625%\n",
            "GB | Epoch 0 | Loss: 1.6365649700164795 | Accuracy: 10.9375%\n",
            "GB | Epoch 0 | Loss: 1.6091265678405762 | Accuracy: 15.625%\n",
            "GB | Epoch 0 | Loss: 1.6173633337020874 | Accuracy: 18.75%\n",
            "GB | Epoch 0 | Loss: 1.6051303148269653 | Accuracy: 25.0%\n",
            "GB | Epoch 0 | Loss: 1.6165462732315063 | Accuracy: 23.4375%\n",
            "GB | Epoch 0 | Loss: 1.6092915534973145 | Accuracy: 18.75%\n",
            "GB | Epoch 0 | Loss: 1.6154916286468506 | Accuracy: 15.625%\n",
            "GB | Epoch 0 | Loss: 1.6118744611740112 | Accuracy: 17.1875%\n",
            "GB | Epoch 0 | Loss: 1.6055161952972412 | Accuracy: 23.4375%\n",
            "GB | Epoch 0 | Loss: 1.6096996068954468 | Accuracy: 20.3125%\n",
            "GB | Epoch 0 | Loss: 1.6140669584274292 | Accuracy: 18.75%\n",
            "GB | Epoch 0 | Loss: 1.6135387420654297 | Accuracy: 21.875%\n",
            "GB | Epoch 0 | Loss: 1.6144766807556152 | Accuracy: 18.75%\n",
            "GB | Epoch 0 | Loss: 1.6041784286499023 | Accuracy: 20.3125%\n",
            "GB | Epoch 0 | Loss: 1.5988858938217163 | Accuracy: 29.6875%\n",
            "GB | Epoch 0 | Loss: 1.6034842729568481 | Accuracy: 20.3125%\n",
            "GB | Epoch 0 | Loss: 1.607740044593811 | Accuracy: 21.875%\n",
            "GB | Epoch 0 | Loss: 1.6070743799209595 | Accuracy: 18.75%\n",
            "GB | Epoch 0 | Loss: 1.6082119941711426 | Accuracy: 17.1875%\n",
            "GB | Epoch 0 | Loss: 1.6074715852737427 | Accuracy: 28.125%\n",
            "GB | Epoch 0 | Loss: 1.620086669921875 | Accuracy: 12.5%\n",
            "GB | Epoch 0 | Loss: 1.621811866760254 | Accuracy: 14.0625%\n",
            "GB | Epoch 0 | Loss: 1.6092466115951538 | Accuracy: 17.1875%\n",
            "GB | Epoch 0 | Loss: 1.6172761917114258 | Accuracy: 15.625%\n",
            "GB | Epoch 0 | Loss: 1.6162041425704956 | Accuracy: 17.1875%\n"
          ]
        },
        {
          "output_type": "stream",
          "name": "stderr",
          "text": [
            "Epoch 0:  14%|█▎        | 103/751 [00:00<00:03, 178.98batch/s, accuracy=21.875%, loss=1.62] "
          ]
        },
        {
          "output_type": "stream",
          "name": "stdout",
          "text": [
            "GB | Epoch 0 | Loss: 1.6121731996536255 | Accuracy: 20.3125%\n",
            "GB | Epoch 0 | Loss: 1.5961179733276367 | Accuracy: 25.0%\n",
            "GB | Epoch 0 | Loss: 1.6166253089904785 | Accuracy: 15.625%\n",
            "GB | Epoch 0 | Loss: 1.5986474752426147 | Accuracy: 25.0%\n",
            "GB | Epoch 0 | Loss: 1.601370930671692 | Accuracy: 26.5625%\n",
            "GB | Epoch 0 | Loss: 1.6180188655853271 | Accuracy: 18.75%\n",
            "GB | Epoch 0 | Loss: 1.6132901906967163 | Accuracy: 17.1875%\n",
            "GB | Epoch 0 | Loss: 1.5979617834091187 | Accuracy: 32.8125%\n",
            "GB | Epoch 0 | Loss: 1.6181832551956177 | Accuracy: 21.875%\n",
            "GB | Epoch 0 | Loss: 1.6081242561340332 | Accuracy: 18.75%\n",
            "GB | Epoch 0 | Loss: 1.6109007596969604 | Accuracy: 15.625%\n",
            "GB | Epoch 0 | Loss: 1.6095681190490723 | Accuracy: 14.0625%\n",
            "GB | Epoch 0 | Loss: 1.594151496887207 | Accuracy: 25.0%\n",
            "GB | Epoch 0 | Loss: 1.5987250804901123 | Accuracy: 26.5625%\n",
            "GB | Epoch 0 | Loss: 1.604216456413269 | Accuracy: 20.3125%\n",
            "GB | Epoch 0 | Loss: 1.6304527521133423 | Accuracy: 15.625%\n",
            "GB | Epoch 0 | Loss: 1.6036475896835327 | Accuracy: 21.875%\n",
            "GB | Epoch 0 | Loss: 1.6353883743286133 | Accuracy: 10.9375%\n",
            "GB | Epoch 0 | Loss: 1.6155405044555664 | Accuracy: 15.625%\n",
            "GB | Epoch 0 | Loss: 1.6138453483581543 | Accuracy: 18.75%\n",
            "GB | Epoch 0 | Loss: 1.6149483919143677 | Accuracy: 20.3125%\n",
            "GB | Epoch 0 | Loss: 1.6206378936767578 | Accuracy: 12.5%\n",
            "GB | Epoch 0 | Loss: 1.613990306854248 | Accuracy: 15.625%\n",
            "GB | Epoch 0 | Loss: 1.6180425882339478 | Accuracy: 20.3125%\n",
            "GB | Epoch 0 | Loss: 1.6137410402297974 | Accuracy: 14.0625%\n",
            "GB | Epoch 0 | Loss: 1.621819019317627 | Accuracy: 18.75%\n",
            "GB | Epoch 0 | Loss: 1.6209055185317993 | Accuracy: 20.3125%\n",
            "GB | Epoch 0 | Loss: 1.6058595180511475 | Accuracy: 18.75%\n",
            "GB | Epoch 0 | Loss: 1.60464346408844 | Accuracy: 21.875%\n",
            "GB | Epoch 0 | Loss: 1.6094003915786743 | Accuracy: 18.75%\n",
            "GB | Epoch 0 | Loss: 1.5995244979858398 | Accuracy: 21.875%\n",
            "GB | Epoch 0 | Loss: 1.6014412641525269 | Accuracy: 20.3125%\n",
            "GB | Epoch 0 | Loss: 1.6117404699325562 | Accuracy: 23.4375%\n",
            "GB | Epoch 0 | Loss: 1.6026673316955566 | Accuracy: 20.3125%\n",
            "GB | Epoch 0 | Loss: 1.617080569267273 | Accuracy: 20.3125%\n",
            "GB | Epoch 0 | Loss: 1.610049843788147 | Accuracy: 14.0625%\n",
            "GB | Epoch 0 | Loss: 1.6124517917633057 | Accuracy: 21.875%\n",
            "GB | Epoch 0 | Loss: 1.6084954738616943 | Accuracy: 15.625%\n",
            "GB | Epoch 0 | Loss: 1.6127644777297974 | Accuracy: 21.875%\n",
            "GB | Epoch 0 | Loss: 1.6223621368408203 | Accuracy: 14.0625%\n",
            "GB | Epoch 0 | Loss: 1.6206724643707275 | Accuracy: 21.875%\n"
          ]
        },
        {
          "output_type": "stream",
          "name": "stderr",
          "text": [
            "Epoch 0:  19%|█▉        | 145/751 [00:01<00:03, 193.24batch/s, accuracy=17.1875%, loss=1.6]"
          ]
        },
        {
          "output_type": "stream",
          "name": "stdout",
          "text": [
            "GB | Epoch 0 | Loss: 1.6096993684768677 | Accuracy: 20.3125%\n",
            "GB | Epoch 0 | Loss: 1.597946047782898 | Accuracy: 31.25%\n",
            "GB | Epoch 0 | Loss: 1.6063377857208252 | Accuracy: 14.0625%\n",
            "GB | Epoch 0 | Loss: 1.6133450269699097 | Accuracy: 17.1875%\n",
            "GB | Epoch 0 | Loss: 1.6080082654953003 | Accuracy: 25.0%\n",
            "GB | Epoch 0 | Loss: 1.6197359561920166 | Accuracy: 21.875%\n",
            "GB | Epoch 0 | Loss: 1.601974606513977 | Accuracy: 18.75%\n",
            "GB | Epoch 0 | Loss: 1.6153290271759033 | Accuracy: 17.1875%\n",
            "GB | Epoch 0 | Loss: 1.60530424118042 | Accuracy: 18.75%\n",
            "GB | Epoch 0 | Loss: 1.6167502403259277 | Accuracy: 21.875%\n",
            "GB | Epoch 0 | Loss: 1.6196837425231934 | Accuracy: 21.875%\n",
            "GB | Epoch 0 | Loss: 1.6120504140853882 | Accuracy: 9.375%\n",
            "GB | Epoch 0 | Loss: 1.5979031324386597 | Accuracy: 21.875%\n",
            "GB | Epoch 0 | Loss: 1.617008090019226 | Accuracy: 20.3125%\n",
            "GB | Epoch 0 | Loss: 1.610788106918335 | Accuracy: 17.1875%\n",
            "GB | Epoch 0 | Loss: 1.6011916399002075 | Accuracy: 29.6875%\n",
            "GB | Epoch 0 | Loss: 1.5979013442993164 | Accuracy: 25.0%\n",
            "GB | Epoch 0 | Loss: 1.600614070892334 | Accuracy: 23.4375%\n",
            "GB | Epoch 0 | Loss: 1.6144975423812866 | Accuracy: 17.1875%\n",
            "GB | Epoch 0 | Loss: 1.6072373390197754 | Accuracy: 20.3125%\n",
            "GB | Epoch 0 | Loss: 1.6164740324020386 | Accuracy: 14.0625%\n",
            "GB | Epoch 0 | Loss: 1.6056371927261353 | Accuracy: 18.75%\n",
            "GB | Epoch 0 | Loss: 1.6087307929992676 | Accuracy: 17.1875%\n",
            "GB | Epoch 0 | Loss: 1.6023260354995728 | Accuracy: 15.625%\n",
            "GB | Epoch 0 | Loss: 1.6073566675186157 | Accuracy: 15.625%\n",
            "GB | Epoch 0 | Loss: 1.6123179197311401 | Accuracy: 20.3125%\n",
            "GB | Epoch 0 | Loss: 1.6021274328231812 | Accuracy: 21.875%\n",
            "GB | Epoch 0 | Loss: 1.6119616031646729 | Accuracy: 15.625%\n",
            "GB | Epoch 0 | Loss: 1.6006792783737183 | Accuracy: 23.4375%\n",
            "GB | Epoch 0 | Loss: 1.600128412246704 | Accuracy: 25.0%\n",
            "GB | Epoch 0 | Loss: 1.608469009399414 | Accuracy: 15.625%\n",
            "GB | Epoch 0 | Loss: 1.600758671760559 | Accuracy: 18.75%\n",
            "GB | Epoch 0 | Loss: 1.609023094177246 | Accuracy: 26.5625%\n",
            "GB | Epoch 0 | Loss: 1.6021052598953247 | Accuracy: 21.875%\n",
            "GB | Epoch 0 | Loss: 1.6047998666763306 | Accuracy: 21.875%\n",
            "GB | Epoch 0 | Loss: 1.6095203161239624 | Accuracy: 12.5%\n",
            "GB | Epoch 0 | Loss: 1.6268175840377808 | Accuracy: 15.625%\n",
            "GB | Epoch 0 | Loss: 1.6124132871627808 | Accuracy: 18.75%\n",
            "GB | Epoch 0 | Loss: 1.6105133295059204 | Accuracy: 21.875%\n",
            "GB | Epoch 0 | Loss: 1.6068493127822876 | Accuracy: 26.5625%\n",
            "GB | Epoch 0 | Loss: 1.6059523820877075 | Accuracy: 23.4375%\n",
            "GB | Epoch 0 | Loss: 1.6104211807250977 | Accuracy: 20.3125%\n",
            "GB | Epoch 0 | Loss: 1.6074591875076294 | Accuracy: 12.5%\n",
            "GB | Epoch 0 | Loss: 1.600921392440796 | Accuracy: 25.0%\n",
            "GB | Epoch 0 | Loss: 1.602662205696106 | Accuracy: 17.1875%\n"
          ]
        },
        {
          "output_type": "stream",
          "name": "stderr",
          "text": [
            "Epoch 0:  26%|██▌       | 193/751 [00:01<00:02, 215.52batch/s, accuracy=23.4375%, loss=1.61]"
          ]
        },
        {
          "output_type": "stream",
          "name": "stdout",
          "text": [
            "GB | Epoch 0 | Loss: 1.602425456047058 | Accuracy: 20.3125%\n",
            "GB | Epoch 0 | Loss: 1.6085307598114014 | Accuracy: 18.75%\n",
            "GB | Epoch 0 | Loss: 1.6079267263412476 | Accuracy: 17.1875%\n",
            "GB | Epoch 0 | Loss: 1.6208409070968628 | Accuracy: 12.5%\n",
            "GB | Epoch 0 | Loss: 1.6123076677322388 | Accuracy: 17.1875%\n",
            "GB | Epoch 0 | Loss: 1.6069148778915405 | Accuracy: 21.875%\n",
            "GB | Epoch 0 | Loss: 1.6052507162094116 | Accuracy: 26.5625%\n",
            "GB | Epoch 0 | Loss: 1.6061549186706543 | Accuracy: 25.0%\n",
            "GB | Epoch 0 | Loss: 1.60205078125 | Accuracy: 17.1875%\n",
            "GB | Epoch 0 | Loss: 1.6108453273773193 | Accuracy: 17.1875%\n",
            "GB | Epoch 0 | Loss: 1.611809492111206 | Accuracy: 20.3125%\n",
            "GB | Epoch 0 | Loss: 1.6097368001937866 | Accuracy: 34.375%\n",
            "GB | Epoch 0 | Loss: 1.6103073358535767 | Accuracy: 25.0%\n",
            "GB | Epoch 0 | Loss: 1.615317702293396 | Accuracy: 7.8125%\n",
            "GB | Epoch 0 | Loss: 1.6169322729110718 | Accuracy: 18.75%\n",
            "GB | Epoch 0 | Loss: 1.612242579460144 | Accuracy: 25.0%\n",
            "GB | Epoch 0 | Loss: 1.6018747091293335 | Accuracy: 25.0%\n",
            "GB | Epoch 0 | Loss: 1.6026992797851562 | Accuracy: 21.875%\n",
            "GB | Epoch 0 | Loss: 1.5944620370864868 | Accuracy: 18.75%\n",
            "GB | Epoch 0 | Loss: 1.597557544708252 | Accuracy: 23.4375%\n",
            "GB | Epoch 0 | Loss: 1.6035162210464478 | Accuracy: 20.3125%\n",
            "GB | Epoch 0 | Loss: 1.6087045669555664 | Accuracy: 23.4375%\n",
            "GB | Epoch 0 | Loss: 1.6008024215698242 | Accuracy: 26.5625%\n",
            "GB | Epoch 0 | Loss: 1.6079585552215576 | Accuracy: 29.6875%\n",
            "GB | Epoch 0 | Loss: 1.6040247678756714 | Accuracy: 28.125%\n",
            "GB | Epoch 0 | Loss: 1.6007295846939087 | Accuracy: 18.75%\n",
            "GB | Epoch 0 | Loss: 1.6041383743286133 | Accuracy: 29.6875%\n",
            "GB | Epoch 0 | Loss: 1.6202789545059204 | Accuracy: 25.0%\n",
            "GB | Epoch 0 | Loss: 1.6111605167388916 | Accuracy: 28.125%\n",
            "GB | Epoch 0 | Loss: 1.6028012037277222 | Accuracy: 26.5625%\n",
            "GB | Epoch 0 | Loss: 1.6021530628204346 | Accuracy: 23.4375%\n",
            "GB | Epoch 0 | Loss: 1.6075689792633057 | Accuracy: 28.125%\n",
            "GB | Epoch 0 | Loss: 1.61651611328125 | Accuracy: 18.75%\n",
            "GB | Epoch 0 | Loss: 1.6157636642456055 | Accuracy: 26.5625%\n",
            "GB | Epoch 0 | Loss: 1.6191538572311401 | Accuracy: 15.625%\n",
            "GB | Epoch 0 | Loss: 1.5979771614074707 | Accuracy: 35.9375%\n",
            "GB | Epoch 0 | Loss: 1.610568642616272 | Accuracy: 21.875%\n",
            "GB | Epoch 0 | Loss: 1.601352572441101 | Accuracy: 18.75%\n",
            "GB | Epoch 0 | Loss: 1.6122299432754517 | Accuracy: 28.125%\n",
            "GB | Epoch 0 | Loss: 1.604435920715332 | Accuracy: 32.8125%\n",
            "GB | Epoch 0 | Loss: 1.6202750205993652 | Accuracy: 25.0%\n",
            "GB | Epoch 0 | Loss: 1.6024320125579834 | Accuracy: 21.875%\n",
            "GB | Epoch 0 | Loss: 1.6045037508010864 | Accuracy: 25.0%\n",
            "GB | Epoch 0 | Loss: 1.615017294883728 | Accuracy: 15.625%\n",
            "GB | Epoch 0 | Loss: 1.608794093132019 | Accuracy: 32.8125%\n",
            "GB | Epoch 0 | Loss: 1.604794979095459 | Accuracy: 29.6875%\n",
            "GB | Epoch 0 | Loss: 1.6034668684005737 | Accuracy: 23.4375%\n",
            "GB | Epoch 0 | Loss: 1.6068240404129028 | Accuracy: 23.4375%\n"
          ]
        },
        {
          "output_type": "stream",
          "name": "stderr",
          "text": [
            "Epoch 0:  32%|███▏      | 242/751 [00:01<00:02, 225.86batch/s, accuracy=23.4375%, loss=1.61]"
          ]
        },
        {
          "output_type": "stream",
          "name": "stdout",
          "text": [
            "GB | Epoch 0 | Loss: 1.6079378128051758 | Accuracy: 26.5625%\n",
            "GB | Epoch 0 | Loss: 1.6104528903961182 | Accuracy: 28.125%\n",
            "GB | Epoch 0 | Loss: 1.6025726795196533 | Accuracy: 28.125%\n",
            "GB | Epoch 0 | Loss: 1.6092127561569214 | Accuracy: 21.875%\n",
            "GB | Epoch 0 | Loss: 1.6161519289016724 | Accuracy: 29.6875%\n",
            "GB | Epoch 0 | Loss: 1.5979424715042114 | Accuracy: 32.8125%\n",
            "GB | Epoch 0 | Loss: 1.6101576089859009 | Accuracy: 21.875%\n",
            "GB | Epoch 0 | Loss: 1.609456181526184 | Accuracy: 23.4375%\n",
            "GB | Epoch 0 | Loss: 1.6097962856292725 | Accuracy: 23.4375%\n",
            "GB | Epoch 0 | Loss: 1.614544153213501 | Accuracy: 17.1875%\n",
            "GB | Epoch 0 | Loss: 1.6021264791488647 | Accuracy: 26.5625%\n",
            "GB | Epoch 0 | Loss: 1.6029574871063232 | Accuracy: 31.25%\n",
            "GB | Epoch 0 | Loss: 1.602950930595398 | Accuracy: 32.8125%\n",
            "GB | Epoch 0 | Loss: 1.6074094772338867 | Accuracy: 29.6875%\n",
            "GB | Epoch 0 | Loss: 1.6093504428863525 | Accuracy: 25.0%\n",
            "GB | Epoch 0 | Loss: 1.602952480316162 | Accuracy: 34.375%\n",
            "GB | Epoch 0 | Loss: 1.6115031242370605 | Accuracy: 28.125%\n",
            "GB | Epoch 0 | Loss: 1.6049307584762573 | Accuracy: 32.8125%\n",
            "GB | Epoch 0 | Loss: 1.6013472080230713 | Accuracy: 32.8125%\n",
            "GB | Epoch 0 | Loss: 1.6080666780471802 | Accuracy: 37.5%\n",
            "GB | Epoch 0 | Loss: 1.604384422302246 | Accuracy: 40.625%\n",
            "GB | Epoch 0 | Loss: 1.612095594406128 | Accuracy: 23.4375%\n",
            "GB | Epoch 0 | Loss: 1.609220027923584 | Accuracy: 29.6875%\n",
            "GB | Epoch 0 | Loss: 1.607194423675537 | Accuracy: 34.375%\n",
            "GB | Epoch 0 | Loss: 1.6141674518585205 | Accuracy: 25.0%\n",
            "GB | Epoch 0 | Loss: 1.6026990413665771 | Accuracy: 26.5625%\n",
            "GB | Epoch 0 | Loss: 1.6085646152496338 | Accuracy: 35.9375%\n",
            "GB | Epoch 0 | Loss: 1.6116334199905396 | Accuracy: 32.8125%\n",
            "GB | Epoch 0 | Loss: 1.5937405824661255 | Accuracy: 45.3125%\n",
            "GB | Epoch 0 | Loss: 1.5984350442886353 | Accuracy: 34.375%\n",
            "GB | Epoch 0 | Loss: 1.618622899055481 | Accuracy: 25.0%\n",
            "GB | Epoch 0 | Loss: 1.620798110961914 | Accuracy: 31.25%\n",
            "GB | Epoch 0 | Loss: 1.6035277843475342 | Accuracy: 28.125%\n",
            "GB | Epoch 0 | Loss: 1.5984137058258057 | Accuracy: 43.75%\n",
            "GB | Epoch 0 | Loss: 1.6044669151306152 | Accuracy: 35.9375%\n",
            "GB | Epoch 0 | Loss: 1.6117199659347534 | Accuracy: 26.5625%\n",
            "GB | Epoch 0 | Loss: 1.6138391494750977 | Accuracy: 29.6875%\n",
            "GB | Epoch 0 | Loss: 1.6084108352661133 | Accuracy: 32.8125%\n",
            "GB | Epoch 0 | Loss: 1.6186751127243042 | Accuracy: 10.9375%\n",
            "GB | Epoch 0 | Loss: 1.6045844554901123 | Accuracy: 37.5%\n",
            "GB | Epoch 0 | Loss: 1.603083848953247 | Accuracy: 35.9375%\n",
            "GB | Epoch 0 | Loss: 1.6129575967788696 | Accuracy: 26.5625%\n",
            "GB | Epoch 0 | Loss: 1.6048535108566284 | Accuracy: 32.8125%\n",
            "GB | Epoch 0 | Loss: 1.6003177165985107 | Accuracy: 37.5%\n",
            "GB | Epoch 0 | Loss: 1.6052768230438232 | Accuracy: 39.0625%\n",
            "GB | Epoch 0 | Loss: 1.59880530834198 | Accuracy: 46.875%\n",
            "GB | Epoch 0 | Loss: 1.6041951179504395 | Accuracy: 31.25%\n",
            "GB | Epoch 0 | Loss: 1.6054250001907349 | Accuracy: 23.4375%\n"
          ]
        },
        {
          "output_type": "stream",
          "name": "stderr",
          "text": [
            "Epoch 0:  39%|███▉      | 292/751 [00:01<00:01, 235.43batch/s, accuracy=45.3125%, loss=1.6]"
          ]
        },
        {
          "output_type": "stream",
          "name": "stdout",
          "text": [
            "GB | Epoch 0 | Loss: 1.6014782190322876 | Accuracy: 32.8125%\n",
            "GB | Epoch 0 | Loss: 1.6004549264907837 | Accuracy: 39.0625%\n",
            "GB | Epoch 0 | Loss: 1.6015040874481201 | Accuracy: 40.625%\n",
            "GB | Epoch 0 | Loss: 1.608834981918335 | Accuracy: 32.8125%\n",
            "GB | Epoch 0 | Loss: 1.6061089038848877 | Accuracy: 39.0625%\n",
            "GB | Epoch 0 | Loss: 1.6019113063812256 | Accuracy: 40.625%\n",
            "GB | Epoch 0 | Loss: 1.6006442308425903 | Accuracy: 39.0625%\n",
            "GB | Epoch 0 | Loss: 1.6094986200332642 | Accuracy: 25.0%\n",
            "GB | Epoch 0 | Loss: 1.6105711460113525 | Accuracy: 28.125%\n",
            "GB | Epoch 0 | Loss: 1.6027032136917114 | Accuracy: 39.0625%\n",
            "GB | Epoch 0 | Loss: 1.60301673412323 | Accuracy: 34.375%\n",
            "GB | Epoch 0 | Loss: 1.601436734199524 | Accuracy: 31.25%\n",
            "GB | Epoch 0 | Loss: 1.611222743988037 | Accuracy: 28.125%\n",
            "GB | Epoch 0 | Loss: 1.6049420833587646 | Accuracy: 34.375%\n",
            "GB | Epoch 0 | Loss: 1.5982372760772705 | Accuracy: 46.875%\n",
            "GB | Epoch 0 | Loss: 1.5978317260742188 | Accuracy: 31.25%\n",
            "GB | Epoch 0 | Loss: 1.6010099649429321 | Accuracy: 32.8125%\n",
            "GB | Epoch 0 | Loss: 1.6045472621917725 | Accuracy: 29.6875%\n",
            "GB | Epoch 0 | Loss: 1.5986627340316772 | Accuracy: 43.75%\n",
            "GB | Epoch 0 | Loss: 1.6087422370910645 | Accuracy: 32.8125%\n",
            "GB | Epoch 0 | Loss: 1.601477861404419 | Accuracy: 32.8125%\n",
            "GB | Epoch 0 | Loss: 1.6043397188186646 | Accuracy: 26.5625%\n",
            "GB | Epoch 0 | Loss: 1.5966038703918457 | Accuracy: 42.1875%\n",
            "GB | Epoch 0 | Loss: 1.6131625175476074 | Accuracy: 31.25%\n",
            "GB | Epoch 0 | Loss: 1.6116951704025269 | Accuracy: 28.125%\n",
            "GB | Epoch 0 | Loss: 1.6031033992767334 | Accuracy: 32.8125%\n",
            "GB | Epoch 0 | Loss: 1.6048389673233032 | Accuracy: 29.6875%\n",
            "GB | Epoch 0 | Loss: 1.597701072692871 | Accuracy: 37.5%\n",
            "GB | Epoch 0 | Loss: 1.6085959672927856 | Accuracy: 32.8125%\n",
            "GB | Epoch 0 | Loss: 1.613584280014038 | Accuracy: 29.6875%\n",
            "GB | Epoch 0 | Loss: 1.6091418266296387 | Accuracy: 21.875%\n",
            "GB | Epoch 0 | Loss: 1.6028343439102173 | Accuracy: 29.6875%\n",
            "GB | Epoch 0 | Loss: 1.605208158493042 | Accuracy: 35.9375%\n",
            "GB | Epoch 0 | Loss: 1.6074461936950684 | Accuracy: 28.125%\n",
            "GB | Epoch 0 | Loss: 1.6054859161376953 | Accuracy: 34.375%\n",
            "GB | Epoch 0 | Loss: 1.605629563331604 | Accuracy: 40.625%\n",
            "GB | Epoch 0 | Loss: 1.6047241687774658 | Accuracy: 34.375%\n",
            "GB | Epoch 0 | Loss: 1.5943695306777954 | Accuracy: 42.1875%\n",
            "GB | Epoch 0 | Loss: 1.6111191511154175 | Accuracy: 21.875%\n",
            "GB | Epoch 0 | Loss: 1.6037038564682007 | Accuracy: 39.0625%\n",
            "GB | Epoch 0 | Loss: 1.6008321046829224 | Accuracy: 34.375%\n",
            "GB | Epoch 0 | Loss: 1.611260175704956 | Accuracy: 28.125%\n",
            "GB | Epoch 0 | Loss: 1.6027085781097412 | Accuracy: 35.9375%\n",
            "GB | Epoch 0 | Loss: 1.5991477966308594 | Accuracy: 35.9375%\n",
            "GB | Epoch 0 | Loss: 1.6081180572509766 | Accuracy: 21.875%\n",
            "GB | Epoch 0 | Loss: 1.6024636030197144 | Accuracy: 37.5%\n",
            "GB | Epoch 0 | Loss: 1.6000502109527588 | Accuracy: 35.9375%\n",
            "GB | Epoch 0 | Loss: 1.5997599363327026 | Accuracy: 35.9375%\n",
            "GB | Epoch 0 | Loss: 1.5988842248916626 | Accuracy: 34.375%\n",
            "GB | Epoch 0 | Loss: 1.5983470678329468 | Accuracy: 45.3125%\n"
          ]
        },
        {
          "output_type": "stream",
          "name": "stderr",
          "text": [
            "Epoch 0:  46%|████▌     | 342/751 [00:01<00:01, 241.38batch/s, accuracy=28.125%, loss=1.6]"
          ]
        },
        {
          "output_type": "stream",
          "name": "stdout",
          "text": [
            "GB | Epoch 0 | Loss: 1.6060841083526611 | Accuracy: 28.125%\n",
            "GB | Epoch 0 | Loss: 1.6039390563964844 | Accuracy: 32.8125%\n",
            "GB | Epoch 0 | Loss: 1.6035574674606323 | Accuracy: 32.8125%\n",
            "GB | Epoch 0 | Loss: 1.6070040464401245 | Accuracy: 31.25%\n",
            "GB | Epoch 0 | Loss: 1.60771644115448 | Accuracy: 26.5625%\n",
            "GB | Epoch 0 | Loss: 1.604490876197815 | Accuracy: 25.0%\n",
            "GB | Epoch 0 | Loss: 1.5923751592636108 | Accuracy: 40.625%\n",
            "GB | Epoch 0 | Loss: 1.6059129238128662 | Accuracy: 23.4375%\n",
            "GB | Epoch 0 | Loss: 1.609442949295044 | Accuracy: 28.125%\n",
            "GB | Epoch 0 | Loss: 1.6014814376831055 | Accuracy: 32.8125%\n",
            "GB | Epoch 0 | Loss: 1.6073057651519775 | Accuracy: 20.3125%\n",
            "GB | Epoch 0 | Loss: 1.6132906675338745 | Accuracy: 21.875%\n",
            "GB | Epoch 0 | Loss: 1.600191354751587 | Accuracy: 32.8125%\n",
            "GB | Epoch 0 | Loss: 1.6045349836349487 | Accuracy: 25.0%\n",
            "GB | Epoch 0 | Loss: 1.5967170000076294 | Accuracy: 42.1875%\n",
            "GB | Epoch 0 | Loss: 1.6100273132324219 | Accuracy: 25.0%\n",
            "GB | Epoch 0 | Loss: 1.6076598167419434 | Accuracy: 21.875%\n",
            "GB | Epoch 0 | Loss: 1.6080905199050903 | Accuracy: 20.3125%\n",
            "GB | Epoch 0 | Loss: 1.5980831384658813 | Accuracy: 31.25%\n",
            "GB | Epoch 0 | Loss: 1.6045167446136475 | Accuracy: 32.8125%\n",
            "GB | Epoch 0 | Loss: 1.6059720516204834 | Accuracy: 23.4375%\n",
            "GB | Epoch 0 | Loss: 1.6062824726104736 | Accuracy: 28.125%\n",
            "GB | Epoch 0 | Loss: 1.6083581447601318 | Accuracy: 18.75%\n",
            "GB | Epoch 0 | Loss: 1.604793667793274 | Accuracy: 28.125%\n",
            "GB | Epoch 0 | Loss: 1.5998163223266602 | Accuracy: 37.5%\n",
            "GB | Epoch 0 | Loss: 1.6008119583129883 | Accuracy: 25.0%\n",
            "GB | Epoch 0 | Loss: 1.6062570810317993 | Accuracy: 29.6875%\n",
            "GB | Epoch 0 | Loss: 1.603032112121582 | Accuracy: 20.3125%\n",
            "GB | Epoch 0 | Loss: 1.606606364250183 | Accuracy: 25.0%\n",
            "GB | Epoch 0 | Loss: 1.6065882444381714 | Accuracy: 21.875%\n",
            "GB | Epoch 0 | Loss: 1.5989813804626465 | Accuracy: 29.6875%\n",
            "GB | Epoch 0 | Loss: 1.6058621406555176 | Accuracy: 32.8125%\n",
            "GB | Epoch 0 | Loss: 1.6015270948410034 | Accuracy: 28.125%\n",
            "GB | Epoch 0 | Loss: 1.6022382974624634 | Accuracy: 31.25%\n",
            "GB | Epoch 0 | Loss: 1.600009560585022 | Accuracy: 26.5625%\n",
            "GB | Epoch 0 | Loss: 1.6052371263504028 | Accuracy: 23.4375%\n",
            "GB | Epoch 0 | Loss: 1.6030646562576294 | Accuracy: 29.6875%\n",
            "GB | Epoch 0 | Loss: 1.5984091758728027 | Accuracy: 31.25%\n",
            "GB | Epoch 0 | Loss: 1.5998154878616333 | Accuracy: 32.8125%\n",
            "GB | Epoch 0 | Loss: 1.6062368154525757 | Accuracy: 23.4375%\n",
            "GB | Epoch 0 | Loss: 1.5955897569656372 | Accuracy: 32.8125%\n",
            "GB | Epoch 0 | Loss: 1.6072157621383667 | Accuracy: 12.5%\n",
            "GB | Epoch 0 | Loss: 1.598680853843689 | Accuracy: 32.8125%\n",
            "GB | Epoch 0 | Loss: 1.6012866497039795 | Accuracy: 26.5625%\n",
            "GB | Epoch 0 | Loss: 1.6037720441818237 | Accuracy: 28.125%\n",
            "GB | Epoch 0 | Loss: 1.5993330478668213 | Accuracy: 21.875%\n",
            "GB | Epoch 0 | Loss: 1.5959895849227905 | Accuracy: 31.25%\n",
            "GB | Epoch 0 | Loss: 1.6013561487197876 | Accuracy: 25.0%\n",
            "GB | Epoch 0 | Loss: 1.5982043743133545 | Accuracy: 31.25%\n",
            "GB | Epoch 0 | Loss: 1.6049659252166748 | Accuracy: 28.125%\n"
          ]
        },
        {
          "output_type": "stream",
          "name": "stderr",
          "text": [
            "Epoch 0:  52%|█████▏    | 392/751 [00:02<00:01, 243.09batch/s, accuracy=32.8125%, loss=1.6]"
          ]
        },
        {
          "output_type": "stream",
          "name": "stdout",
          "text": [
            "GB | Epoch 0 | Loss: 1.6058521270751953 | Accuracy: 20.3125%\n",
            "GB | Epoch 0 | Loss: 1.6053035259246826 | Accuracy: 31.25%\n",
            "GB | Epoch 0 | Loss: 1.6035863161087036 | Accuracy: 23.4375%\n",
            "GB | Epoch 0 | Loss: 1.6051419973373413 | Accuracy: 28.125%\n",
            "GB | Epoch 0 | Loss: 1.6065138578414917 | Accuracy: 23.4375%\n",
            "GB | Epoch 0 | Loss: 1.6044846773147583 | Accuracy: 25.0%\n",
            "GB | Epoch 0 | Loss: 1.6014893054962158 | Accuracy: 28.125%\n",
            "GB | Epoch 0 | Loss: 1.6020625829696655 | Accuracy: 31.25%\n",
            "GB | Epoch 0 | Loss: 1.6075787544250488 | Accuracy: 28.125%\n",
            "GB | Epoch 0 | Loss: 1.6056751012802124 | Accuracy: 28.125%\n",
            "GB | Epoch 0 | Loss: 1.6035593748092651 | Accuracy: 29.6875%\n",
            "GB | Epoch 0 | Loss: 1.608365774154663 | Accuracy: 15.625%\n",
            "GB | Epoch 0 | Loss: 1.5985302925109863 | Accuracy: 29.6875%\n",
            "GB | Epoch 0 | Loss: 1.6022595167160034 | Accuracy: 29.6875%\n",
            "GB | Epoch 0 | Loss: 1.6054517030715942 | Accuracy: 21.875%\n",
            "GB | Epoch 0 | Loss: 1.598645567893982 | Accuracy: 31.25%\n",
            "GB | Epoch 0 | Loss: 1.5974950790405273 | Accuracy: 29.6875%\n",
            "GB | Epoch 0 | Loss: 1.5998784303665161 | Accuracy: 26.5625%\n",
            "GB | Epoch 0 | Loss: 1.6043167114257812 | Accuracy: 29.6875%\n",
            "GB | Epoch 0 | Loss: 1.5910736322402954 | Accuracy: 40.625%\n",
            "GB | Epoch 0 | Loss: 1.603440761566162 | Accuracy: 20.3125%\n",
            "GB | Epoch 0 | Loss: 1.6030211448669434 | Accuracy: 18.75%\n",
            "GB | Epoch 0 | Loss: 1.6053428649902344 | Accuracy: 20.3125%\n",
            "GB | Epoch 0 | Loss: 1.6016192436218262 | Accuracy: 23.4375%\n",
            "GB | Epoch 0 | Loss: 1.6054503917694092 | Accuracy: 20.3125%\n",
            "GB | Epoch 0 | Loss: 1.5979048013687134 | Accuracy: 26.5625%\n",
            "GB | Epoch 0 | Loss: 1.5987279415130615 | Accuracy: 32.8125%\n",
            "GB | Epoch 0 | Loss: 1.5954580307006836 | Accuracy: 39.0625%\n",
            "GB | Epoch 0 | Loss: 1.6011635065078735 | Accuracy: 28.125%\n",
            "GB | Epoch 0 | Loss: 1.5935732126235962 | Accuracy: 35.9375%\n",
            "GB | Epoch 0 | Loss: 1.5968189239501953 | Accuracy: 29.6875%\n",
            "GB | Epoch 0 | Loss: 1.5966448783874512 | Accuracy: 34.375%\n",
            "GB | Epoch 0 | Loss: 1.5988434553146362 | Accuracy: 26.5625%\n",
            "GB | Epoch 0 | Loss: 1.5988630056381226 | Accuracy: 32.8125%\n",
            "GB | Epoch 0 | Loss: 1.6064324378967285 | Accuracy: 20.3125%\n",
            "GB | Epoch 0 | Loss: 1.596369981765747 | Accuracy: 37.5%\n",
            "GB | Epoch 0 | Loss: 1.6012178659439087 | Accuracy: 25.0%\n",
            "GB | Epoch 0 | Loss: 1.6076524257659912 | Accuracy: 23.4375%\n",
            "GB | Epoch 0 | Loss: 1.604750394821167 | Accuracy: 21.875%\n",
            "GB | Epoch 0 | Loss: 1.6004197597503662 | Accuracy: 20.3125%\n",
            "GB | Epoch 0 | Loss: 1.5970088243484497 | Accuracy: 32.8125%\n",
            "GB | Epoch 0 | Loss: 1.5893224477767944 | Accuracy: 43.75%\n",
            "GB | Epoch 0 | Loss: 1.6017087697982788 | Accuracy: 28.125%\n",
            "GB | Epoch 0 | Loss: 1.6042085886001587 | Accuracy: 20.3125%\n",
            "GB | Epoch 0 | Loss: 1.600670576095581 | Accuracy: 25.0%\n",
            "GB | Epoch 0 | Loss: 1.6050231456756592 | Accuracy: 18.75%\n",
            "GB | Epoch 0 | Loss: 1.597901701927185 | Accuracy: 28.125%\n",
            "GB | Epoch 0 | Loss: 1.6030340194702148 | Accuracy: 26.5625%\n",
            "GB | Epoch 0 | Loss: 1.5995686054229736 | Accuracy: 32.8125%\n"
          ]
        },
        {
          "output_type": "stream",
          "name": "stderr",
          "text": [
            "Epoch 0:  59%|█████▉    | 442/751 [00:02<00:01, 242.51batch/s, accuracy=32.8125%, loss=1.59]"
          ]
        },
        {
          "output_type": "stream",
          "name": "stdout",
          "text": [
            "GB | Epoch 0 | Loss: 1.6024061441421509 | Accuracy: 26.5625%\n",
            "GB | Epoch 0 | Loss: 1.5988556146621704 | Accuracy: 28.125%\n",
            "GB | Epoch 0 | Loss: 1.6000381708145142 | Accuracy: 28.125%\n",
            "GB | Epoch 0 | Loss: 1.591878056526184 | Accuracy: 39.0625%\n",
            "GB | Epoch 0 | Loss: 1.598555564880371 | Accuracy: 28.125%\n",
            "GB | Epoch 0 | Loss: 1.5964823961257935 | Accuracy: 23.4375%\n",
            "GB | Epoch 0 | Loss: 1.6113754510879517 | Accuracy: 15.625%\n",
            "GB | Epoch 0 | Loss: 1.5991641283035278 | Accuracy: 32.8125%\n",
            "GB | Epoch 0 | Loss: 1.600870132446289 | Accuracy: 29.6875%\n",
            "GB | Epoch 0 | Loss: 1.5943825244903564 | Accuracy: 26.5625%\n",
            "GB | Epoch 0 | Loss: 1.597707748413086 | Accuracy: 26.5625%\n",
            "GB | Epoch 0 | Loss: 1.60325026512146 | Accuracy: 31.25%\n",
            "GB | Epoch 0 | Loss: 1.6047924757003784 | Accuracy: 18.75%\n",
            "GB | Epoch 0 | Loss: 1.595982313156128 | Accuracy: 29.6875%\n",
            "GB | Epoch 0 | Loss: 1.5976308584213257 | Accuracy: 31.25%\n",
            "GB | Epoch 0 | Loss: 1.593255877494812 | Accuracy: 34.375%\n",
            "GB | Epoch 0 | Loss: 1.6062769889831543 | Accuracy: 21.875%\n",
            "GB | Epoch 0 | Loss: 1.5938395261764526 | Accuracy: 28.125%\n",
            "GB | Epoch 0 | Loss: 1.6083115339279175 | Accuracy: 20.3125%\n",
            "GB | Epoch 0 | Loss: 1.6058627367019653 | Accuracy: 23.4375%\n",
            "GB | Epoch 0 | Loss: 1.6049742698669434 | Accuracy: 26.5625%\n",
            "GB | Epoch 0 | Loss: 1.5961673259735107 | Accuracy: 31.25%\n",
            "GB | Epoch 0 | Loss: 1.5984171628952026 | Accuracy: 31.25%\n",
            "GB | Epoch 0 | Loss: 1.593798041343689 | Accuracy: 35.9375%\n",
            "GB | Epoch 0 | Loss: 1.6024303436279297 | Accuracy: 31.25%\n",
            "GB | Epoch 0 | Loss: 1.597888469696045 | Accuracy: 28.125%\n",
            "GB | Epoch 0 | Loss: 1.5988729000091553 | Accuracy: 20.3125%\n",
            "GB | Epoch 0 | Loss: 1.6013710498809814 | Accuracy: 21.875%\n",
            "GB | Epoch 0 | Loss: 1.599603533744812 | Accuracy: 21.875%\n",
            "GB | Epoch 0 | Loss: 1.604412317276001 | Accuracy: 21.875%\n",
            "GB | Epoch 0 | Loss: 1.6011042594909668 | Accuracy: 23.4375%\n",
            "GB | Epoch 0 | Loss: 1.5972883701324463 | Accuracy: 31.25%\n",
            "GB | Epoch 0 | Loss: 1.5964404344558716 | Accuracy: 31.25%\n",
            "GB | Epoch 0 | Loss: 1.5908328294754028 | Accuracy: 34.375%\n",
            "GB | Epoch 0 | Loss: 1.5901461839675903 | Accuracy: 37.5%\n",
            "GB | Epoch 0 | Loss: 1.6009025573730469 | Accuracy: 26.5625%\n",
            "GB | Epoch 0 | Loss: 1.597756266593933 | Accuracy: 25.0%\n",
            "GB | Epoch 0 | Loss: 1.6051599979400635 | Accuracy: 18.75%\n",
            "GB | Epoch 0 | Loss: 1.6025974750518799 | Accuracy: 26.5625%\n",
            "GB | Epoch 0 | Loss: 1.5964410305023193 | Accuracy: 26.5625%\n",
            "GB | Epoch 0 | Loss: 1.5992153882980347 | Accuracy: 28.125%\n",
            "GB | Epoch 0 | Loss: 1.5953154563903809 | Accuracy: 29.6875%\n",
            "GB | Epoch 0 | Loss: 1.5976383686065674 | Accuracy: 28.125%\n",
            "GB | Epoch 0 | Loss: 1.600820541381836 | Accuracy: 28.125%\n",
            "GB | Epoch 0 | Loss: 1.6047133207321167 | Accuracy: 17.1875%\n",
            "GB | Epoch 0 | Loss: 1.5992891788482666 | Accuracy: 29.6875%\n",
            "GB | Epoch 0 | Loss: 1.5983048677444458 | Accuracy: 23.4375%\n",
            "GB | Epoch 0 | Loss: 1.5960427522659302 | Accuracy: 26.5625%\n",
            "GB | Epoch 0 | Loss: 1.5900397300720215 | Accuracy: 35.9375%\n",
            "GB | Epoch 0 | Loss: 1.5942457914352417 | Accuracy: 32.8125%\n"
          ]
        },
        {
          "output_type": "stream",
          "name": "stderr",
          "text": [
            "Epoch 0:  66%|██████▌   | 493/751 [00:02<00:01, 246.83batch/s, accuracy=23.4375%, loss=1.59]"
          ]
        },
        {
          "output_type": "stream",
          "name": "stdout",
          "text": [
            "GB | Epoch 0 | Loss: 1.6012531518936157 | Accuracy: 21.875%\n",
            "GB | Epoch 0 | Loss: 1.6057347059249878 | Accuracy: 17.1875%\n",
            "GB | Epoch 0 | Loss: 1.6022142171859741 | Accuracy: 28.125%\n",
            "GB | Epoch 0 | Loss: 1.6065295934677124 | Accuracy: 18.75%\n",
            "GB | Epoch 0 | Loss: 1.5931521654129028 | Accuracy: 31.25%\n",
            "GB | Epoch 0 | Loss: 1.5997942686080933 | Accuracy: 26.5625%\n",
            "GB | Epoch 0 | Loss: 1.5928316116333008 | Accuracy: 31.25%\n",
            "GB | Epoch 0 | Loss: 1.5918962955474854 | Accuracy: 32.8125%\n",
            "GB | Epoch 0 | Loss: 1.601790189743042 | Accuracy: 23.4375%\n",
            "GB | Epoch 0 | Loss: 1.595514178276062 | Accuracy: 29.6875%\n",
            "GB | Epoch 0 | Loss: 1.591749668121338 | Accuracy: 31.25%\n",
            "GB | Epoch 0 | Loss: 1.5916756391525269 | Accuracy: 26.5625%\n",
            "GB | Epoch 0 | Loss: 1.5950127840042114 | Accuracy: 29.6875%\n",
            "GB | Epoch 0 | Loss: 1.597300410270691 | Accuracy: 29.6875%\n",
            "GB | Epoch 0 | Loss: 1.5942937135696411 | Accuracy: 39.0625%\n",
            "GB | Epoch 0 | Loss: 1.6001685857772827 | Accuracy: 26.5625%\n",
            "GB | Epoch 0 | Loss: 1.5959571599960327 | Accuracy: 23.4375%\n",
            "GB | Epoch 0 | Loss: 1.5955504179000854 | Accuracy: 28.125%\n",
            "GB | Epoch 0 | Loss: 1.595803141593933 | Accuracy: 29.6875%\n",
            "GB | Epoch 0 | Loss: 1.5955976247787476 | Accuracy: 29.6875%\n",
            "GB | Epoch 0 | Loss: 1.5904120206832886 | Accuracy: 31.25%\n",
            "GB | Epoch 0 | Loss: 1.5936328172683716 | Accuracy: 31.25%\n",
            "GB | Epoch 0 | Loss: 1.5965906381607056 | Accuracy: 23.4375%\n",
            "GB | Epoch 0 | Loss: 1.5960161685943604 | Accuracy: 34.375%\n",
            "GB | Epoch 0 | Loss: 1.5950922966003418 | Accuracy: 25.0%\n",
            "GB | Epoch 0 | Loss: 1.5986390113830566 | Accuracy: 26.5625%\n",
            "GB | Epoch 0 | Loss: 1.5982481241226196 | Accuracy: 26.5625%\n",
            "GB | Epoch 0 | Loss: 1.6020104885101318 | Accuracy: 23.4375%\n",
            "GB | Epoch 0 | Loss: 1.6064772605895996 | Accuracy: 20.3125%\n",
            "GB | Epoch 0 | Loss: 1.6063581705093384 | Accuracy: 20.3125%\n",
            "GB | Epoch 0 | Loss: 1.5983421802520752 | Accuracy: 25.0%\n",
            "GB | Epoch 0 | Loss: 1.593013882637024 | Accuracy: 26.5625%\n",
            "GB | Epoch 0 | Loss: 1.6030263900756836 | Accuracy: 17.1875%\n",
            "GB | Epoch 0 | Loss: 1.593764305114746 | Accuracy: 26.5625%\n",
            "GB | Epoch 0 | Loss: 1.5993977785110474 | Accuracy: 20.3125%\n",
            "GB | Epoch 0 | Loss: 1.5975533723831177 | Accuracy: 25.0%\n",
            "GB | Epoch 0 | Loss: 1.5957938432693481 | Accuracy: 29.6875%\n",
            "GB | Epoch 0 | Loss: 1.5821986198425293 | Accuracy: 45.3125%\n",
            "GB | Epoch 0 | Loss: 1.5914340019226074 | Accuracy: 26.5625%\n",
            "GB | Epoch 0 | Loss: 1.5942258834838867 | Accuracy: 20.3125%\n",
            "GB | Epoch 0 | Loss: 1.5962364673614502 | Accuracy: 25.0%\n",
            "GB | Epoch 0 | Loss: 1.5994305610656738 | Accuracy: 25.0%\n",
            "GB | Epoch 0 | Loss: 1.589575171470642 | Accuracy: 29.6875%\n",
            "GB | Epoch 0 | Loss: 1.5954900979995728 | Accuracy: 31.25%\n",
            "GB | Epoch 0 | Loss: 1.596422791481018 | Accuracy: 28.125%\n",
            "GB | Epoch 0 | Loss: 1.589699387550354 | Accuracy: 31.25%\n",
            "GB | Epoch 0 | Loss: 1.6026132106781006 | Accuracy: 15.625%\n",
            "GB | Epoch 0 | Loss: 1.587822675704956 | Accuracy: 29.6875%\n",
            "GB | Epoch 0 | Loss: 1.5904102325439453 | Accuracy: 29.6875%\n",
            "GB | Epoch 0 | Loss: 1.594408392906189 | Accuracy: 26.5625%\n",
            "GB | Epoch 0 | Loss: 1.593690037727356 | Accuracy: 23.4375%\n"
          ]
        },
        {
          "output_type": "stream",
          "name": "stderr",
          "text": [
            "Epoch 0:  73%|███████▎  | 545/751 [00:02<00:00, 249.35batch/s, accuracy=26.5625%, loss=1.59]"
          ]
        },
        {
          "output_type": "stream",
          "name": "stdout",
          "text": [
            "GB | Epoch 0 | Loss: 1.6047800779342651 | Accuracy: 14.0625%\n",
            "GB | Epoch 0 | Loss: 1.6034882068634033 | Accuracy: 23.4375%\n",
            "GB | Epoch 0 | Loss: 1.594778060913086 | Accuracy: 26.5625%\n",
            "GB | Epoch 0 | Loss: 1.5864458084106445 | Accuracy: 39.0625%\n",
            "GB | Epoch 0 | Loss: 1.5979409217834473 | Accuracy: 17.1875%\n",
            "GB | Epoch 0 | Loss: 1.5956414937973022 | Accuracy: 28.125%\n",
            "GB | Epoch 0 | Loss: 1.5916016101837158 | Accuracy: 32.8125%\n",
            "GB | Epoch 0 | Loss: 1.5845396518707275 | Accuracy: 29.6875%\n",
            "GB | Epoch 0 | Loss: 1.5917022228240967 | Accuracy: 23.4375%\n",
            "GB | Epoch 0 | Loss: 1.5936907529830933 | Accuracy: 26.5625%\n",
            "GB | Epoch 0 | Loss: 1.6003338098526 | Accuracy: 14.0625%\n",
            "GB | Epoch 0 | Loss: 1.5971870422363281 | Accuracy: 23.4375%\n",
            "GB | Epoch 0 | Loss: 1.586617350578308 | Accuracy: 29.6875%\n",
            "GB | Epoch 0 | Loss: 1.5938655138015747 | Accuracy: 23.4375%\n",
            "GB | Epoch 0 | Loss: 1.596480369567871 | Accuracy: 17.1875%\n",
            "GB | Epoch 0 | Loss: 1.5951793193817139 | Accuracy: 28.125%\n",
            "GB | Epoch 0 | Loss: 1.5921132564544678 | Accuracy: 26.5625%\n",
            "GB | Epoch 0 | Loss: 1.5936540365219116 | Accuracy: 28.125%\n",
            "GB | Epoch 0 | Loss: 1.5893797874450684 | Accuracy: 35.9375%\n",
            "GB | Epoch 0 | Loss: 1.598148226737976 | Accuracy: 20.3125%\n",
            "GB | Epoch 0 | Loss: 1.5910565853118896 | Accuracy: 21.875%\n",
            "GB | Epoch 0 | Loss: 1.597042441368103 | Accuracy: 25.0%\n",
            "GB | Epoch 0 | Loss: 1.5835195779800415 | Accuracy: 31.25%\n",
            "GB | Epoch 0 | Loss: 1.5959852933883667 | Accuracy: 25.0%\n",
            "GB | Epoch 0 | Loss: 1.5910472869873047 | Accuracy: 25.0%\n",
            "GB | Epoch 0 | Loss: 1.5970402956008911 | Accuracy: 26.5625%\n",
            "GB | Epoch 0 | Loss: 1.5946924686431885 | Accuracy: 25.0%\n",
            "GB | Epoch 0 | Loss: 1.6019325256347656 | Accuracy: 17.1875%\n",
            "GB | Epoch 0 | Loss: 1.6005034446716309 | Accuracy: 26.5625%\n",
            "GB | Epoch 0 | Loss: 1.5868239402770996 | Accuracy: 31.25%\n",
            "GB | Epoch 0 | Loss: 1.5803879499435425 | Accuracy: 40.625%\n",
            "GB | Epoch 0 | Loss: 1.590417504310608 | Accuracy: 26.5625%\n",
            "GB | Epoch 0 | Loss: 1.5967192649841309 | Accuracy: 25.0%\n",
            "GB | Epoch 0 | Loss: 1.5835436582565308 | Accuracy: 32.8125%\n",
            "GB | Epoch 0 | Loss: 1.5841354131698608 | Accuracy: 28.125%\n",
            "GB | Epoch 0 | Loss: 1.5862815380096436 | Accuracy: 31.25%\n",
            "GB | Epoch 0 | Loss: 1.5847653150558472 | Accuracy: 31.25%\n",
            "GB | Epoch 0 | Loss: 1.583532452583313 | Accuracy: 31.25%\n",
            "GB | Epoch 0 | Loss: 1.5897371768951416 | Accuracy: 32.8125%\n",
            "GB | Epoch 0 | Loss: 1.5946979522705078 | Accuracy: 20.3125%\n",
            "GB | Epoch 0 | Loss: 1.5856096744537354 | Accuracy: 35.9375%\n",
            "GB | Epoch 0 | Loss: 1.5884244441986084 | Accuracy: 31.25%\n",
            "GB | Epoch 0 | Loss: 1.5900177955627441 | Accuracy: 26.5625%\n",
            "GB | Epoch 0 | Loss: 1.5956997871398926 | Accuracy: 15.625%\n",
            "GB | Epoch 0 | Loss: 1.5948354005813599 | Accuracy: 29.6875%\n",
            "GB | Epoch 0 | Loss: 1.5935051441192627 | Accuracy: 23.4375%\n",
            "GB | Epoch 0 | Loss: 1.6030349731445312 | Accuracy: 21.875%\n",
            "GB | Epoch 0 | Loss: 1.5859311819076538 | Accuracy: 32.8125%\n",
            "GB | Epoch 0 | Loss: 1.588527798652649 | Accuracy: 23.4375%\n",
            "GB | Epoch 0 | Loss: 1.5946993827819824 | Accuracy: 23.4375%\n",
            "GB | Epoch 0 | Loss: 1.5858234167099 | Accuracy: 26.5625%\n"
          ]
        },
        {
          "output_type": "stream",
          "name": "stderr",
          "text": [
            "Epoch 0:  79%|███████▉  | 595/751 [00:02<00:00, 246.74batch/s, accuracy=26.5625%, loss=1.58]"
          ]
        },
        {
          "output_type": "stream",
          "name": "stdout",
          "text": [
            "GB | Epoch 0 | Loss: 1.5887881517410278 | Accuracy: 21.875%\n",
            "GB | Epoch 0 | Loss: 1.589292287826538 | Accuracy: 29.6875%\n",
            "GB | Epoch 0 | Loss: 1.5846774578094482 | Accuracy: 32.8125%\n",
            "GB | Epoch 0 | Loss: 1.5790261030197144 | Accuracy: 34.375%\n",
            "GB | Epoch 0 | Loss: 1.5919373035430908 | Accuracy: 23.4375%\n",
            "GB | Epoch 0 | Loss: 1.5917305946350098 | Accuracy: 18.75%\n",
            "GB | Epoch 0 | Loss: 1.587449312210083 | Accuracy: 29.6875%\n",
            "GB | Epoch 0 | Loss: 1.5847491025924683 | Accuracy: 26.5625%\n",
            "GB | Epoch 0 | Loss: 1.5894277095794678 | Accuracy: 34.375%\n",
            "GB | Epoch 0 | Loss: 1.5969128608703613 | Accuracy: 17.1875%\n",
            "GB | Epoch 0 | Loss: 1.5874131917953491 | Accuracy: 23.4375%\n",
            "GB | Epoch 0 | Loss: 1.593826174736023 | Accuracy: 20.3125%\n",
            "GB | Epoch 0 | Loss: 1.5819872617721558 | Accuracy: 34.375%\n",
            "GB | Epoch 0 | Loss: 1.585158348083496 | Accuracy: 28.125%\n",
            "GB | Epoch 0 | Loss: 1.5974119901657104 | Accuracy: 15.625%\n",
            "GB | Epoch 0 | Loss: 1.6012709140777588 | Accuracy: 17.1875%\n",
            "GB | Epoch 0 | Loss: 1.6063765287399292 | Accuracy: 15.625%\n",
            "GB | Epoch 0 | Loss: 1.583745002746582 | Accuracy: 26.5625%\n",
            "GB | Epoch 0 | Loss: 1.5849970579147339 | Accuracy: 29.6875%\n",
            "GB | Epoch 0 | Loss: 1.5957430601119995 | Accuracy: 21.875%\n",
            "GB | Epoch 0 | Loss: 1.5972543954849243 | Accuracy: 25.0%\n",
            "GB | Epoch 0 | Loss: 1.5964356660842896 | Accuracy: 17.1875%\n",
            "GB | Epoch 0 | Loss: 1.591296672821045 | Accuracy: 21.875%\n",
            "GB | Epoch 0 | Loss: 1.5889493227005005 | Accuracy: 20.3125%\n",
            "GB | Epoch 0 | Loss: 1.5925438404083252 | Accuracy: 25.0%\n",
            "GB | Epoch 0 | Loss: 1.5783189535140991 | Accuracy: 28.125%\n",
            "GB | Epoch 0 | Loss: 1.5919852256774902 | Accuracy: 25.0%\n",
            "GB | Epoch 0 | Loss: 1.5871604681015015 | Accuracy: 28.125%\n",
            "GB | Epoch 0 | Loss: 1.5803874731063843 | Accuracy: 26.5625%\n",
            "GB | Epoch 0 | Loss: 1.5872266292572021 | Accuracy: 23.4375%\n",
            "GB | Epoch 0 | Loss: 1.5741040706634521 | Accuracy: 34.375%\n",
            "GB | Epoch 0 | Loss: 1.5987294912338257 | Accuracy: 17.1875%\n",
            "GB | Epoch 0 | Loss: 1.5833063125610352 | Accuracy: 23.4375%\n",
            "GB | Epoch 0 | Loss: 1.582313895225525 | Accuracy: 26.5625%\n",
            "GB | Epoch 0 | Loss: 1.580906867980957 | Accuracy: 25.0%\n",
            "GB | Epoch 0 | Loss: 1.5802936553955078 | Accuracy: 29.6875%\n",
            "GB | Epoch 0 | Loss: 1.590040683746338 | Accuracy: 28.125%\n",
            "GB | Epoch 0 | Loss: 1.5834479331970215 | Accuracy: 28.125%\n",
            "GB | Epoch 0 | Loss: 1.5799388885498047 | Accuracy: 32.8125%\n",
            "GB | Epoch 0 | Loss: 1.5891516208648682 | Accuracy: 32.8125%\n",
            "GB | Epoch 0 | Loss: 1.5863186120986938 | Accuracy: 23.4375%\n",
            "GB | Epoch 0 | Loss: 1.5949344635009766 | Accuracy: 25.0%\n",
            "GB | Epoch 0 | Loss: 1.571166753768921 | Accuracy: 42.1875%\n",
            "GB | Epoch 0 | Loss: 1.5823588371276855 | Accuracy: 29.6875%\n",
            "GB | Epoch 0 | Loss: 1.5808250904083252 | Accuracy: 31.25%\n",
            "GB | Epoch 0 | Loss: 1.5866361856460571 | Accuracy: 40.625%\n",
            "GB | Epoch 0 | Loss: 1.591678500175476 | Accuracy: 20.3125%\n",
            "GB | Epoch 0 | Loss: 1.5803823471069336 | Accuracy: 25.0%\n",
            "GB | Epoch 0 | Loss: 1.5852992534637451 | Accuracy: 26.5625%\n",
            "GB | Epoch 0 | Loss: 1.5825799703598022 | Accuracy: 26.5625%\n"
          ]
        },
        {
          "output_type": "stream",
          "name": "stderr",
          "text": [
            "Epoch 0:  86%|████████▌ | 647/751 [00:03<00:00, 249.56batch/s, accuracy=35.9375%, loss=1.57]"
          ]
        },
        {
          "output_type": "stream",
          "name": "stdout",
          "text": [
            "GB | Epoch 0 | Loss: 1.5793455839157104 | Accuracy: 26.5625%\n",
            "GB | Epoch 0 | Loss: 1.5896573066711426 | Accuracy: 25.0%\n",
            "GB | Epoch 0 | Loss: 1.5852328538894653 | Accuracy: 25.0%\n",
            "GB | Epoch 0 | Loss: 1.5907562971115112 | Accuracy: 23.4375%\n",
            "GB | Epoch 0 | Loss: 1.581602931022644 | Accuracy: 37.5%\n",
            "GB | Epoch 0 | Loss: 1.596315622329712 | Accuracy: 18.75%\n",
            "GB | Epoch 0 | Loss: 1.57582688331604 | Accuracy: 28.125%\n",
            "GB | Epoch 0 | Loss: 1.5983062982559204 | Accuracy: 12.5%\n",
            "GB | Epoch 0 | Loss: 1.5803472995758057 | Accuracy: 28.125%\n",
            "GB | Epoch 0 | Loss: 1.5816081762313843 | Accuracy: 28.125%\n",
            "GB | Epoch 0 | Loss: 1.5679707527160645 | Accuracy: 34.375%\n",
            "GB | Epoch 0 | Loss: 1.5793752670288086 | Accuracy: 21.875%\n",
            "GB | Epoch 0 | Loss: 1.5760443210601807 | Accuracy: 28.125%\n",
            "GB | Epoch 0 | Loss: 1.5790024995803833 | Accuracy: 23.4375%\n",
            "GB | Epoch 0 | Loss: 1.586837887763977 | Accuracy: 29.6875%\n",
            "GB | Epoch 0 | Loss: 1.5646775960922241 | Accuracy: 37.5%\n",
            "GB | Epoch 0 | Loss: 1.5841046571731567 | Accuracy: 29.6875%\n",
            "GB | Epoch 0 | Loss: 1.5845067501068115 | Accuracy: 23.4375%\n",
            "GB | Epoch 0 | Loss: 1.5970553159713745 | Accuracy: 23.4375%\n",
            "GB | Epoch 0 | Loss: 1.5728228092193604 | Accuracy: 35.9375%\n",
            "GB | Epoch 0 | Loss: 1.582349419593811 | Accuracy: 35.9375%\n",
            "GB | Epoch 0 | Loss: 1.562318205833435 | Accuracy: 35.9375%\n",
            "GB | Epoch 0 | Loss: 1.5698574781417847 | Accuracy: 39.0625%\n",
            "GB | Epoch 0 | Loss: 1.5623503923416138 | Accuracy: 31.25%\n",
            "GB | Epoch 0 | Loss: 1.5599273443222046 | Accuracy: 34.375%\n",
            "GB | Epoch 0 | Loss: 1.5833274126052856 | Accuracy: 34.375%\n",
            "GB | Epoch 0 | Loss: 1.5772624015808105 | Accuracy: 29.6875%\n",
            "GB | Epoch 0 | Loss: 1.5841172933578491 | Accuracy: 31.25%\n",
            "GB | Epoch 0 | Loss: 1.583770990371704 | Accuracy: 26.5625%\n",
            "GB | Epoch 0 | Loss: 1.5612694025039673 | Accuracy: 34.375%\n",
            "GB | Epoch 0 | Loss: 1.5928760766983032 | Accuracy: 32.8125%\n",
            "GB | Epoch 0 | Loss: 1.582344889640808 | Accuracy: 26.5625%\n",
            "GB | Epoch 0 | Loss: 1.5893847942352295 | Accuracy: 15.625%\n",
            "GB | Epoch 0 | Loss: 1.5792704820632935 | Accuracy: 26.5625%\n",
            "GB | Epoch 0 | Loss: 1.5848438739776611 | Accuracy: 21.875%\n",
            "GB | Epoch 0 | Loss: 1.5999780893325806 | Accuracy: 25.0%\n",
            "GB | Epoch 0 | Loss: 1.5737605094909668 | Accuracy: 35.9375%\n",
            "GB | Epoch 0 | Loss: 1.5668764114379883 | Accuracy: 31.25%\n",
            "GB | Epoch 0 | Loss: 1.556510090827942 | Accuracy: 39.0625%\n",
            "GB | Epoch 0 | Loss: 1.585483193397522 | Accuracy: 26.5625%\n",
            "GB | Epoch 0 | Loss: 1.5783504247665405 | Accuracy: 21.875%\n",
            "GB | Epoch 0 | Loss: 1.5671440362930298 | Accuracy: 35.9375%\n",
            "GB | Epoch 0 | Loss: 1.5764654874801636 | Accuracy: 32.8125%\n",
            "GB | Epoch 0 | Loss: 1.5843688249588013 | Accuracy: 31.25%\n",
            "GB | Epoch 0 | Loss: 1.5821853876113892 | Accuracy: 40.625%\n",
            "GB | Epoch 0 | Loss: 1.5742026567459106 | Accuracy: 42.1875%\n",
            "GB | Epoch 0 | Loss: 1.5947452783584595 | Accuracy: 32.8125%\n",
            "GB | Epoch 0 | Loss: 1.5991536378860474 | Accuracy: 25.0%\n",
            "GB | Epoch 0 | Loss: 1.5642712116241455 | Accuracy: 46.875%\n",
            "GB | Epoch 0 | Loss: 1.5688533782958984 | Accuracy: 35.9375%\n"
          ]
        },
        {
          "output_type": "stream",
          "name": "stderr",
          "text": [
            "Epoch 0:  93%|█████████▎| 698/751 [00:03<00:00, 250.43batch/s, accuracy=35.9375%, loss=1.57]"
          ]
        },
        {
          "output_type": "stream",
          "name": "stdout",
          "text": [
            "GB | Epoch 0 | Loss: 1.5771268606185913 | Accuracy: 34.375%\n",
            "GB | Epoch 0 | Loss: 1.5720713138580322 | Accuracy: 26.5625%\n",
            "GB | Epoch 0 | Loss: 1.574230670928955 | Accuracy: 35.9375%\n",
            "GB | Epoch 0 | Loss: 1.5833250284194946 | Accuracy: 25.0%\n",
            "GB | Epoch 0 | Loss: 1.5686415433883667 | Accuracy: 35.9375%\n",
            "GB | Epoch 0 | Loss: 1.5824317932128906 | Accuracy: 31.25%\n",
            "GB | Epoch 0 | Loss: 1.54752516746521 | Accuracy: 46.875%\n",
            "GB | Epoch 0 | Loss: 1.569961428642273 | Accuracy: 35.9375%\n",
            "GB | Epoch 0 | Loss: 1.546805500984192 | Accuracy: 46.875%\n",
            "GB | Epoch 0 | Loss: 1.5606082677841187 | Accuracy: 39.0625%\n",
            "GB | Epoch 0 | Loss: 1.5649465322494507 | Accuracy: 39.0625%\n",
            "GB | Epoch 0 | Loss: 1.5525568723678589 | Accuracy: 43.75%\n",
            "GB | Epoch 0 | Loss: 1.5620962381362915 | Accuracy: 39.0625%\n",
            "GB | Epoch 0 | Loss: 1.5595844984054565 | Accuracy: 39.0625%\n",
            "GB | Epoch 0 | Loss: 1.559214472770691 | Accuracy: 28.125%\n",
            "GB | Epoch 0 | Loss: 1.594517707824707 | Accuracy: 29.6875%\n",
            "GB | Epoch 0 | Loss: 1.5788544416427612 | Accuracy: 39.0625%\n",
            "GB | Epoch 0 | Loss: 1.5578233003616333 | Accuracy: 39.0625%\n",
            "GB | Epoch 0 | Loss: 1.5640132427215576 | Accuracy: 31.25%\n",
            "GB | Epoch 0 | Loss: 1.5773950815200806 | Accuracy: 23.4375%\n",
            "GB | Epoch 0 | Loss: 1.5785293579101562 | Accuracy: 29.6875%\n",
            "GB | Epoch 0 | Loss: 1.563438057899475 | Accuracy: 29.6875%\n",
            "GB | Epoch 0 | Loss: 1.5618312358856201 | Accuracy: 34.375%\n",
            "GB | Epoch 0 | Loss: 1.573926568031311 | Accuracy: 29.6875%\n",
            "GB | Epoch 0 | Loss: 1.5604093074798584 | Accuracy: 45.3125%\n",
            "GB | Epoch 0 | Loss: 1.578244924545288 | Accuracy: 39.0625%\n",
            "GB | Epoch 0 | Loss: 1.5853688716888428 | Accuracy: 29.6875%\n",
            "GB | Epoch 0 | Loss: 1.5686386823654175 | Accuracy: 31.25%\n",
            "GB | Epoch 0 | Loss: 1.5571271181106567 | Accuracy: 32.8125%\n",
            "GB | Epoch 0 | Loss: 1.5761808156967163 | Accuracy: 34.375%\n",
            "GB | Epoch 0 | Loss: 1.55745530128479 | Accuracy: 31.25%\n",
            "GB | Epoch 0 | Loss: 1.5800129175186157 | Accuracy: 25.0%\n",
            "GB | Epoch 0 | Loss: 1.5550018548965454 | Accuracy: 42.1875%\n",
            "GB | Epoch 0 | Loss: 1.5530234575271606 | Accuracy: 32.8125%\n",
            "GB | Epoch 0 | Loss: 1.5306329727172852 | Accuracy: 45.3125%\n",
            "GB | Epoch 0 | Loss: 1.5713199377059937 | Accuracy: 28.125%\n",
            "GB | Epoch 0 | Loss: 1.560909390449524 | Accuracy: 34.375%\n",
            "GB | Epoch 0 | Loss: 1.5750930309295654 | Accuracy: 23.4375%\n",
            "GB | Epoch 0 | Loss: 1.5279569625854492 | Accuracy: 34.375%\n",
            "GB | Epoch 0 | Loss: 1.5441029071807861 | Accuracy: 43.75%\n",
            "GB | Epoch 0 | Loss: 1.5268932580947876 | Accuracy: 43.75%\n",
            "GB | Epoch 0 | Loss: 1.5567727088928223 | Accuracy: 29.6875%\n",
            "GB | Epoch 0 | Loss: 1.5868152379989624 | Accuracy: 35.9375%\n",
            "GB | Epoch 0 | Loss: 1.6028082370758057 | Accuracy: 32.8125%\n",
            "GB | Epoch 0 | Loss: 1.5427874326705933 | Accuracy: 31.25%\n",
            "GB | Epoch 0 | Loss: 1.5917699337005615 | Accuracy: 32.8125%\n",
            "GB | Epoch 0 | Loss: 1.5718095302581787 | Accuracy: 29.6875%\n",
            "GB | Epoch 0 | Loss: 1.5402307510375977 | Accuracy: 35.9375%\n",
            "GB | Epoch 0 | Loss: 1.5761780738830566 | Accuracy: 25.0%\n",
            "GB | Epoch 0 | Loss: 1.5536069869995117 | Accuracy: 50.0%\n",
            "GB | Epoch 0 | Loss: 1.5788860321044922 | Accuracy: 28.125%\n",
            "GB | Epoch 0 | Loss: 1.5670992136001587 | Accuracy: 35.9375%\n"
          ]
        },
        {
          "output_type": "stream",
          "name": "stderr",
          "text": [
            "Epoch 0: 100%|██████████| 751/751 [00:03<00:00, 255.83batch/s, accuracy=0.0%, loss=1.56]"
          ]
        },
        {
          "output_type": "stream",
          "name": "stdout",
          "text": [
            "GB | Epoch 0 | Loss: 1.5436816215515137 | Accuracy: 31.25%\n",
            "GB | Epoch 0 | Loss: 1.565961241722107 | Accuracy: 25.0%\n",
            "GB | Epoch 0 | Loss: 1.5608201026916504 | Accuracy: 32.8125%\n",
            "GB | Epoch 0 | Loss: 1.5486290454864502 | Accuracy: 37.5%\n",
            "GB | Epoch 0 | Loss: 1.5535318851470947 | Accuracy: 29.6875%\n",
            "GB | Epoch 0 | Loss: 1.5371636152267456 | Accuracy: 43.75%\n",
            "GB | Epoch 0 | Loss: 1.5680338144302368 | Accuracy: 37.5%\n",
            "GB | Epoch 0 | Loss: 1.558349370956421 | Accuracy: 31.25%\n",
            "GB | Epoch 0 | Loss: 1.5848883390426636 | Accuracy: 39.0625%\n",
            "GB | Epoch 0 | Loss: 1.571847677230835 | Accuracy: 34.375%\n",
            "GB | Epoch 0 | Loss: 1.5774637460708618 | Accuracy: 21.875%\n",
            "GB | Epoch 0 | Loss: 1.5871039628982544 | Accuracy: 39.0625%\n",
            "GB | Epoch 0 | Loss: 1.5407732725143433 | Accuracy: 34.375%\n",
            "GB | Epoch 0 | Loss: 1.5366226434707642 | Accuracy: 45.3125%\n",
            "GB | Epoch 0 | Loss: 1.57492995262146 | Accuracy: 37.5%\n",
            "GB | Epoch 0 | Loss: 1.5695704221725464 | Accuracy: 29.6875%\n",
            "GB | Epoch 0 | Loss: 1.5415984392166138 | Accuracy: 32.8125%\n",
            "GB | Epoch 0 | Loss: 1.568389654159546 | Accuracy: 29.6875%\n",
            "GB | Epoch 0 | Loss: 1.5322829484939575 | Accuracy: 39.0625%\n",
            "GB | Epoch 0 | Loss: 1.5579801797866821 | Accuracy: 39.0625%\n",
            "GB | Epoch 0 | Loss: 1.571936011314392 | Accuracy: 28.125%\n",
            "GB | Epoch 0 | Loss: 1.5502827167510986 | Accuracy: 34.375%\n",
            "GB | Epoch 0 | Loss: 1.5384430885314941 | Accuracy: 34.375%\n",
            "GB | Epoch 0 | Loss: 1.5512810945510864 | Accuracy: 34.375%\n",
            "GB | Epoch 0 | Loss: 1.5669969320297241 | Accuracy: 29.6875%\n",
            "GB | Epoch 0 | Loss: 1.5209996700286865 | Accuracy: 37.5%\n",
            "GB | Epoch 0 | Loss: 1.530604600906372 | Accuracy: 39.0625%\n",
            "GB | Epoch 0 | Loss: 1.5501065254211426 | Accuracy: 46.875%\n",
            "GB | Epoch 0 | Loss: 1.542732834815979 | Accuracy: 34.375%\n",
            "GB | Epoch 0 | Loss: 1.5234339237213135 | Accuracy: 34.375%\n",
            "GB | Epoch 0 | Loss: 1.516731858253479 | Accuracy: 43.75%\n",
            "GB | Epoch 0 | Loss: 1.5904326438903809 | Accuracy: 29.6875%\n",
            "GB | Epoch 0 | Loss: 1.561330795288086 | Accuracy: 37.5%\n",
            "GB | Epoch 0 | Loss: 1.5497369766235352 | Accuracy: 29.6875%\n",
            "GB | Epoch 0 | Loss: 1.5839552879333496 | Accuracy: 34.375%\n",
            "GB | Epoch 0 | Loss: 1.5541877746582031 | Accuracy: 40.625%\n",
            "GB | Epoch 0 | Loss: 1.5570169687271118 | Accuracy: 0.0%\n"
          ]
        },
        {
          "output_type": "stream",
          "name": "stderr",
          "text": [
            "Epoch 0: 100%|██████████| 751/751 [00:03<00:00, 217.52batch/s, accuracy=0.0%, loss=1.56]\n",
            "Epoch 1:   3%|▎         | 21/751 [00:00<00:08, 86.17batch/s, accuracy=37.5%, loss=1.49]  "
          ]
        },
        {
          "output_type": "stream",
          "name": "stdout",
          "text": [
            "GB | Epoch 1 | Loss: 1.5142289400100708 | Accuracy: 23.4375%\n",
            "GB | Epoch 1 | Loss: 1.5576180219650269 | Accuracy: 39.0625%\n",
            "GB | Epoch 1 | Loss: 1.5584176778793335 | Accuracy: 23.4375%\n",
            "GB | Epoch 1 | Loss: 1.5694416761398315 | Accuracy: 37.5%\n",
            "GB | Epoch 1 | Loss: 1.5481398105621338 | Accuracy: 32.8125%\n",
            "GB | Epoch 1 | Loss: 1.570158839225769 | Accuracy: 23.4375%\n",
            "GB | Epoch 1 | Loss: 1.5507075786590576 | Accuracy: 32.8125%\n",
            "GB | Epoch 1 | Loss: 1.5722575187683105 | Accuracy: 31.25%\n",
            "GB | Epoch 1 | Loss: 1.563442349433899 | Accuracy: 35.9375%\n",
            "GB | Epoch 1 | Loss: 1.5395400524139404 | Accuracy: 28.125%\n",
            "GB | Epoch 1 | Loss: 1.565138578414917 | Accuracy: 42.1875%\n",
            "GB | Epoch 1 | Loss: 1.591156244277954 | Accuracy: 26.5625%\n",
            "GB | Epoch 1 | Loss: 1.5675517320632935 | Accuracy: 32.8125%\n",
            "GB | Epoch 1 | Loss: 1.5229368209838867 | Accuracy: 45.3125%\n",
            "GB | Epoch 1 | Loss: 1.542244553565979 | Accuracy: 34.375%\n",
            "GB | Epoch 1 | Loss: 1.5341740846633911 | Accuracy: 34.375%\n",
            "GB | Epoch 1 | Loss: 1.5590137243270874 | Accuracy: 29.6875%\n",
            "GB | Epoch 1 | Loss: 1.5618095397949219 | Accuracy: 23.4375%\n",
            "GB | Epoch 1 | Loss: 1.543115258216858 | Accuracy: 26.5625%\n",
            "GB | Epoch 1 | Loss: 1.5357048511505127 | Accuracy: 21.875%\n",
            "GB | Epoch 1 | Loss: 1.57035231590271 | Accuracy: 25.0%\n",
            "GB | Epoch 1 | Loss: 1.495079755783081 | Accuracy: 51.5625%\n",
            "GB | Epoch 1 | Loss: 1.5484890937805176 | Accuracy: 39.0625%\n",
            "GB | Epoch 1 | Loss: 1.523015022277832 | Accuracy: 39.0625%\n",
            "GB | Epoch 1 | Loss: 1.511397123336792 | Accuracy: 45.3125%\n",
            "GB | Epoch 1 | Loss: 1.558539867401123 | Accuracy: 42.1875%\n",
            "GB | Epoch 1 | Loss: 1.5777260065078735 | Accuracy: 43.75%\n",
            "GB | Epoch 1 | Loss: 1.499373197555542 | Accuracy: 37.5%\n",
            "GB | Epoch 1 | Loss: 1.5294742584228516 | Accuracy: 34.375%\n",
            "GB | Epoch 1 | Loss: 1.5515103340148926 | Accuracy: 39.0625%\n",
            "GB | Epoch 1 | Loss: 1.4963847398757935 | Accuracy: 46.875%\n",
            "GB | Epoch 1 | Loss: 1.4968045949935913 | Accuracy: 39.0625%\n",
            "GB | Epoch 1 | Loss: 1.5751594305038452 | Accuracy: 29.6875%\n",
            "GB | Epoch 1 | Loss: 1.5391284227371216 | Accuracy: 39.0625%\n",
            "GB | Epoch 1 | Loss: 1.4899160861968994 | Accuracy: 50.0%\n",
            "GB | Epoch 1 | Loss: 1.4973372220993042 | Accuracy: 39.0625%\n",
            "GB | Epoch 1 | Loss: 1.5321624279022217 | Accuracy: 32.8125%\n",
            "GB | Epoch 1 | Loss: 1.5511343479156494 | Accuracy: 26.5625%\n",
            "GB | Epoch 1 | Loss: 1.5302101373672485 | Accuracy: 40.625%\n",
            "GB | Epoch 1 | Loss: 1.5071218013763428 | Accuracy: 43.75%\n",
            "GB | Epoch 1 | Loss: 1.5772684812545776 | Accuracy: 28.125%\n",
            "GB | Epoch 1 | Loss: 1.492805004119873 | Accuracy: 37.5%\n"
          ]
        },
        {
          "output_type": "stream",
          "name": "stderr",
          "text": [
            "Epoch 1:   9%|▊         | 64/751 [00:00<00:04, 158.32batch/s, accuracy=42.1875%, loss=1.55]"
          ]
        },
        {
          "output_type": "stream",
          "name": "stdout",
          "text": [
            "GB | Epoch 1 | Loss: 1.5136585235595703 | Accuracy: 45.3125%\n",
            "GB | Epoch 1 | Loss: 1.564902901649475 | Accuracy: 37.5%\n",
            "GB | Epoch 1 | Loss: 1.5709939002990723 | Accuracy: 31.25%\n",
            "GB | Epoch 1 | Loss: 1.570106863975525 | Accuracy: 31.25%\n",
            "GB | Epoch 1 | Loss: 1.5052162408828735 | Accuracy: 45.3125%\n",
            "GB | Epoch 1 | Loss: 1.580084204673767 | Accuracy: 43.75%\n",
            "GB | Epoch 1 | Loss: 1.5161749124526978 | Accuracy: 39.0625%\n",
            "GB | Epoch 1 | Loss: 1.5459659099578857 | Accuracy: 43.75%\n",
            "GB | Epoch 1 | Loss: 1.5941890478134155 | Accuracy: 29.6875%\n",
            "GB | Epoch 1 | Loss: 1.5533838272094727 | Accuracy: 45.3125%\n",
            "GB | Epoch 1 | Loss: 1.5337268114089966 | Accuracy: 46.875%\n",
            "GB | Epoch 1 | Loss: 1.5369850397109985 | Accuracy: 42.1875%\n",
            "GB | Epoch 1 | Loss: 1.5464062690734863 | Accuracy: 53.125%\n",
            "GB | Epoch 1 | Loss: 1.5327463150024414 | Accuracy: 42.1875%\n",
            "GB | Epoch 1 | Loss: 1.5118560791015625 | Accuracy: 40.625%\n",
            "GB | Epoch 1 | Loss: 1.5388505458831787 | Accuracy: 45.3125%\n",
            "GB | Epoch 1 | Loss: 1.5449641942977905 | Accuracy: 53.125%\n",
            "GB | Epoch 1 | Loss: 1.5266369581222534 | Accuracy: 46.875%\n",
            "GB | Epoch 1 | Loss: 1.5226285457611084 | Accuracy: 48.4375%\n",
            "GB | Epoch 1 | Loss: 1.5244938135147095 | Accuracy: 54.6875%\n",
            "GB | Epoch 1 | Loss: 1.5376591682434082 | Accuracy: 46.875%\n",
            "GB | Epoch 1 | Loss: 1.5129084587097168 | Accuracy: 46.875%\n",
            "GB | Epoch 1 | Loss: 1.4915308952331543 | Accuracy: 46.875%\n",
            "GB | Epoch 1 | Loss: 1.527780294418335 | Accuracy: 35.9375%\n",
            "GB | Epoch 1 | Loss: 1.4996062517166138 | Accuracy: 43.75%\n",
            "GB | Epoch 1 | Loss: 1.5549794435501099 | Accuracy: 46.875%\n",
            "GB | Epoch 1 | Loss: 1.5160386562347412 | Accuracy: 48.4375%\n",
            "GB | Epoch 1 | Loss: 1.4902617931365967 | Accuracy: 54.6875%\n",
            "GB | Epoch 1 | Loss: 1.5383343696594238 | Accuracy: 45.3125%\n",
            "GB | Epoch 1 | Loss: 1.6277081966400146 | Accuracy: 45.3125%\n",
            "GB | Epoch 1 | Loss: 1.554877758026123 | Accuracy: 37.5%\n",
            "GB | Epoch 1 | Loss: 1.4664697647094727 | Accuracy: 59.375%\n",
            "GB | Epoch 1 | Loss: 1.6045610904693604 | Accuracy: 35.9375%\n",
            "GB | Epoch 1 | Loss: 1.4908543825149536 | Accuracy: 50.0%\n",
            "GB | Epoch 1 | Loss: 1.4985288381576538 | Accuracy: 54.6875%\n",
            "GB | Epoch 1 | Loss: 1.5165904760360718 | Accuracy: 45.3125%\n",
            "GB | Epoch 1 | Loss: 1.545045256614685 | Accuracy: 53.125%\n",
            "GB | Epoch 1 | Loss: 1.4613747596740723 | Accuracy: 68.75%\n",
            "GB | Epoch 1 | Loss: 1.483797550201416 | Accuracy: 42.1875%\n",
            "GB | Epoch 1 | Loss: 1.4674006700515747 | Accuracy: 53.125%\n"
          ]
        },
        {
          "output_type": "stream",
          "name": "stderr",
          "text": [
            "Epoch 1:  14%|█▍        | 105/751 [00:00<00:03, 182.38batch/s, accuracy=42.1875%, loss=1.51]"
          ]
        },
        {
          "output_type": "stream",
          "name": "stdout",
          "text": [
            "GB | Epoch 1 | Loss: 1.5542548894882202 | Accuracy: 42.1875%\n",
            "GB | Epoch 1 | Loss: 1.5936956405639648 | Accuracy: 40.625%\n",
            "GB | Epoch 1 | Loss: 1.481492280960083 | Accuracy: 54.6875%\n",
            "GB | Epoch 1 | Loss: 1.5335400104522705 | Accuracy: 46.875%\n",
            "GB | Epoch 1 | Loss: 1.5286612510681152 | Accuracy: 45.3125%\n",
            "GB | Epoch 1 | Loss: 1.4779255390167236 | Accuracy: 50.0%\n",
            "GB | Epoch 1 | Loss: 1.5136134624481201 | Accuracy: 46.875%\n",
            "GB | Epoch 1 | Loss: 1.4909831285476685 | Accuracy: 42.1875%\n",
            "GB | Epoch 1 | Loss: 1.4963499307632446 | Accuracy: 51.5625%\n",
            "GB | Epoch 1 | Loss: 1.566207766532898 | Accuracy: 51.5625%\n",
            "GB | Epoch 1 | Loss: 1.56488835811615 | Accuracy: 37.5%\n",
            "GB | Epoch 1 | Loss: 1.6010016202926636 | Accuracy: 45.3125%\n",
            "GB | Epoch 1 | Loss: 1.5077147483825684 | Accuracy: 53.125%\n",
            "GB | Epoch 1 | Loss: 1.5471404790878296 | Accuracy: 53.125%\n",
            "GB | Epoch 1 | Loss: 1.5393643379211426 | Accuracy: 43.75%\n",
            "GB | Epoch 1 | Loss: 1.5426380634307861 | Accuracy: 54.6875%\n",
            "GB | Epoch 1 | Loss: 1.4551656246185303 | Accuracy: 57.8125%\n",
            "GB | Epoch 1 | Loss: 1.5311026573181152 | Accuracy: 42.1875%\n",
            "GB | Epoch 1 | Loss: 1.451204538345337 | Accuracy: 60.9375%\n",
            "GB | Epoch 1 | Loss: 1.5456362962722778 | Accuracy: 42.1875%\n",
            "GB | Epoch 1 | Loss: 1.5428259372711182 | Accuracy: 50.0%\n",
            "GB | Epoch 1 | Loss: 1.4822653532028198 | Accuracy: 56.25%\n",
            "GB | Epoch 1 | Loss: 1.6004672050476074 | Accuracy: 42.1875%\n",
            "GB | Epoch 1 | Loss: 1.496105432510376 | Accuracy: 51.5625%\n",
            "GB | Epoch 1 | Loss: 1.5543184280395508 | Accuracy: 39.0625%\n",
            "GB | Epoch 1 | Loss: 1.531447410583496 | Accuracy: 53.125%\n",
            "GB | Epoch 1 | Loss: 1.5458855628967285 | Accuracy: 50.0%\n",
            "GB | Epoch 1 | Loss: 1.4907689094543457 | Accuracy: 48.4375%\n",
            "GB | Epoch 1 | Loss: 1.5339158773422241 | Accuracy: 40.625%\n",
            "GB | Epoch 1 | Loss: 1.5297683477401733 | Accuracy: 45.3125%\n",
            "GB | Epoch 1 | Loss: 1.525140404701233 | Accuracy: 40.625%\n",
            "GB | Epoch 1 | Loss: 1.5271726846694946 | Accuracy: 39.0625%\n",
            "GB | Epoch 1 | Loss: 1.441614031791687 | Accuracy: 54.6875%\n",
            "GB | Epoch 1 | Loss: 1.5857243537902832 | Accuracy: 32.8125%\n",
            "GB | Epoch 1 | Loss: 1.4819461107254028 | Accuracy: 46.875%\n",
            "GB | Epoch 1 | Loss: 1.4911240339279175 | Accuracy: 39.0625%\n",
            "GB | Epoch 1 | Loss: 1.5904262065887451 | Accuracy: 37.5%\n",
            "GB | Epoch 1 | Loss: 1.5005313158035278 | Accuracy: 46.875%\n",
            "GB | Epoch 1 | Loss: 1.4696855545043945 | Accuracy: 57.8125%\n",
            "GB | Epoch 1 | Loss: 1.4672949314117432 | Accuracy: 40.625%\n",
            "GB | Epoch 1 | Loss: 1.4280091524124146 | Accuracy: 48.4375%\n",
            "GB | Epoch 1 | Loss: 1.5164607763290405 | Accuracy: 42.1875%\n"
          ]
        },
        {
          "output_type": "stream",
          "name": "stderr",
          "text": [
            "Epoch 1:  20%|█▉        | 149/751 [00:01<00:02, 200.68batch/s, accuracy=45.3125%, loss=1.53]"
          ]
        },
        {
          "output_type": "stream",
          "name": "stdout",
          "text": [
            "GB | Epoch 1 | Loss: 1.506729245185852 | Accuracy: 42.1875%\n",
            "GB | Epoch 1 | Loss: 1.5454576015472412 | Accuracy: 35.9375%\n",
            "GB | Epoch 1 | Loss: 1.5407437086105347 | Accuracy: 28.125%\n",
            "GB | Epoch 1 | Loss: 1.5358723402023315 | Accuracy: 43.75%\n",
            "GB | Epoch 1 | Loss: 1.4741507768630981 | Accuracy: 45.3125%\n",
            "GB | Epoch 1 | Loss: 1.581717848777771 | Accuracy: 28.125%\n",
            "GB | Epoch 1 | Loss: 1.5628459453582764 | Accuracy: 46.875%\n",
            "GB | Epoch 1 | Loss: 1.5337660312652588 | Accuracy: 29.6875%\n",
            "GB | Epoch 1 | Loss: 1.563151240348816 | Accuracy: 29.6875%\n",
            "GB | Epoch 1 | Loss: 1.4651257991790771 | Accuracy: 35.9375%\n",
            "GB | Epoch 1 | Loss: 1.4831658601760864 | Accuracy: 40.625%\n",
            "GB | Epoch 1 | Loss: 1.5532691478729248 | Accuracy: 40.625%\n",
            "GB | Epoch 1 | Loss: 1.5431582927703857 | Accuracy: 45.3125%\n",
            "GB | Epoch 1 | Loss: 1.5226186513900757 | Accuracy: 46.875%\n",
            "GB | Epoch 1 | Loss: 1.5104541778564453 | Accuracy: 32.8125%\n",
            "GB | Epoch 1 | Loss: 1.534801959991455 | Accuracy: 43.75%\n",
            "GB | Epoch 1 | Loss: 1.462202548980713 | Accuracy: 48.4375%\n",
            "GB | Epoch 1 | Loss: 1.5011622905731201 | Accuracy: 48.4375%\n",
            "GB | Epoch 1 | Loss: 1.498551845550537 | Accuracy: 48.4375%\n",
            "GB | Epoch 1 | Loss: 1.4848397970199585 | Accuracy: 37.5%\n",
            "GB | Epoch 1 | Loss: 1.5278581380844116 | Accuracy: 40.625%\n",
            "GB | Epoch 1 | Loss: 1.4652600288391113 | Accuracy: 42.1875%\n",
            "GB | Epoch 1 | Loss: 1.5388792753219604 | Accuracy: 42.1875%\n",
            "GB | Epoch 1 | Loss: 1.4474101066589355 | Accuracy: 54.6875%\n",
            "GB | Epoch 1 | Loss: 1.4715818166732788 | Accuracy: 53.125%\n",
            "GB | Epoch 1 | Loss: 1.480953335762024 | Accuracy: 51.5625%\n",
            "GB | Epoch 1 | Loss: 1.4856650829315186 | Accuracy: 48.4375%\n",
            "GB | Epoch 1 | Loss: 1.4925962686538696 | Accuracy: 53.125%\n",
            "GB | Epoch 1 | Loss: 1.5042484998703003 | Accuracy: 53.125%\n",
            "GB | Epoch 1 | Loss: 1.536750078201294 | Accuracy: 50.0%\n",
            "GB | Epoch 1 | Loss: 1.4272013902664185 | Accuracy: 50.0%\n",
            "GB | Epoch 1 | Loss: 1.433350682258606 | Accuracy: 48.4375%\n",
            "GB | Epoch 1 | Loss: 1.4637742042541504 | Accuracy: 45.3125%\n",
            "GB | Epoch 1 | Loss: 1.5016099214553833 | Accuracy: 45.3125%\n",
            "GB | Epoch 1 | Loss: 1.4444761276245117 | Accuracy: 34.375%\n",
            "GB | Epoch 1 | Loss: 1.464243769645691 | Accuracy: 31.25%\n",
            "GB | Epoch 1 | Loss: 1.478494644165039 | Accuracy: 48.4375%\n",
            "GB | Epoch 1 | Loss: 1.5609008073806763 | Accuracy: 32.8125%\n",
            "GB | Epoch 1 | Loss: 1.397367000579834 | Accuracy: 59.375%\n",
            "GB | Epoch 1 | Loss: 1.3773223161697388 | Accuracy: 59.375%\n",
            "GB | Epoch 1 | Loss: 1.4735251665115356 | Accuracy: 46.875%\n",
            "GB | Epoch 1 | Loss: 1.4240360260009766 | Accuracy: 46.875%\n",
            "GB | Epoch 1 | Loss: 1.4989371299743652 | Accuracy: 46.875%\n",
            "GB | Epoch 1 | Loss: 1.5875608921051025 | Accuracy: 37.5%\n",
            "GB | Epoch 1 | Loss: 1.5815205574035645 | Accuracy: 37.5%\n",
            "GB | Epoch 1 | Loss: 1.5317333936691284 | Accuracy: 45.3125%\n"
          ]
        },
        {
          "output_type": "stream",
          "name": "stderr",
          "text": [
            "Epoch 1:  26%|██▌       | 197/751 [00:01<00:02, 218.94batch/s, accuracy=42.1875%, loss=1.53]"
          ]
        },
        {
          "output_type": "stream",
          "name": "stdout",
          "text": [
            "GB | Epoch 1 | Loss: 1.4920440912246704 | Accuracy: 46.875%\n",
            "GB | Epoch 1 | Loss: 1.5054649114608765 | Accuracy: 43.75%\n",
            "GB | Epoch 1 | Loss: 1.5032894611358643 | Accuracy: 48.4375%\n",
            "GB | Epoch 1 | Loss: 1.5222878456115723 | Accuracy: 43.75%\n",
            "GB | Epoch 1 | Loss: 1.4181305170059204 | Accuracy: 51.5625%\n",
            "GB | Epoch 1 | Loss: 1.4372533559799194 | Accuracy: 42.1875%\n",
            "GB | Epoch 1 | Loss: 1.4802978038787842 | Accuracy: 37.5%\n",
            "GB | Epoch 1 | Loss: 1.6084084510803223 | Accuracy: 25.0%\n",
            "GB | Epoch 1 | Loss: 1.4624347686767578 | Accuracy: 35.9375%\n",
            "GB | Epoch 1 | Loss: 1.548732042312622 | Accuracy: 28.125%\n",
            "GB | Epoch 1 | Loss: 1.61000394821167 | Accuracy: 35.9375%\n",
            "GB | Epoch 1 | Loss: 1.5003784894943237 | Accuracy: 34.375%\n",
            "GB | Epoch 1 | Loss: 1.4732143878936768 | Accuracy: 34.375%\n",
            "GB | Epoch 1 | Loss: 1.4302966594696045 | Accuracy: 35.9375%\n",
            "GB | Epoch 1 | Loss: 1.5400137901306152 | Accuracy: 25.0%\n",
            "GB | Epoch 1 | Loss: 1.5485304594039917 | Accuracy: 32.8125%\n",
            "GB | Epoch 1 | Loss: 1.3926751613616943 | Accuracy: 39.0625%\n",
            "GB | Epoch 1 | Loss: 1.5541285276412964 | Accuracy: 23.4375%\n",
            "GB | Epoch 1 | Loss: 1.5399447679519653 | Accuracy: 32.8125%\n",
            "GB | Epoch 1 | Loss: 1.5025781393051147 | Accuracy: 40.625%\n",
            "GB | Epoch 1 | Loss: 1.5267106294631958 | Accuracy: 26.5625%\n",
            "GB | Epoch 1 | Loss: 1.450487732887268 | Accuracy: 39.0625%\n",
            "GB | Epoch 1 | Loss: 1.4229310750961304 | Accuracy: 45.3125%\n",
            "GB | Epoch 1 | Loss: 1.4956520795822144 | Accuracy: 34.375%\n",
            "GB | Epoch 1 | Loss: 1.5010662078857422 | Accuracy: 43.75%\n",
            "GB | Epoch 1 | Loss: 1.469200849533081 | Accuracy: 39.0625%\n",
            "GB | Epoch 1 | Loss: 1.4334348440170288 | Accuracy: 40.625%\n",
            "GB | Epoch 1 | Loss: 1.4660077095031738 | Accuracy: 43.75%\n",
            "GB | Epoch 1 | Loss: 1.4792506694793701 | Accuracy: 37.5%\n",
            "GB | Epoch 1 | Loss: 1.4719808101654053 | Accuracy: 42.1875%\n",
            "GB | Epoch 1 | Loss: 1.5571205615997314 | Accuracy: 40.625%\n",
            "GB | Epoch 1 | Loss: 1.5493546724319458 | Accuracy: 32.8125%\n",
            "GB | Epoch 1 | Loss: 1.4696919918060303 | Accuracy: 39.0625%\n",
            "GB | Epoch 1 | Loss: 1.5106735229492188 | Accuracy: 29.6875%\n",
            "GB | Epoch 1 | Loss: 1.4947577714920044 | Accuracy: 34.375%\n",
            "GB | Epoch 1 | Loss: 1.4311081171035767 | Accuracy: 40.625%\n",
            "GB | Epoch 1 | Loss: 1.4023783206939697 | Accuracy: 40.625%\n",
            "GB | Epoch 1 | Loss: 1.4968863725662231 | Accuracy: 42.1875%\n",
            "GB | Epoch 1 | Loss: 1.4632052183151245 | Accuracy: 39.0625%\n",
            "GB | Epoch 1 | Loss: 1.4682397842407227 | Accuracy: 45.3125%\n",
            "GB | Epoch 1 | Loss: 1.4812536239624023 | Accuracy: 37.5%\n",
            "GB | Epoch 1 | Loss: 1.5035314559936523 | Accuracy: 29.6875%\n",
            "GB | Epoch 1 | Loss: 1.4693725109100342 | Accuracy: 32.8125%\n",
            "GB | Epoch 1 | Loss: 1.4863605499267578 | Accuracy: 37.5%\n",
            "GB | Epoch 1 | Loss: 1.4708008766174316 | Accuracy: 39.0625%\n",
            "GB | Epoch 1 | Loss: 1.5956499576568604 | Accuracy: 39.0625%\n",
            "GB | Epoch 1 | Loss: 1.5053317546844482 | Accuracy: 37.5%\n",
            "GB | Epoch 1 | Loss: 1.5122966766357422 | Accuracy: 32.8125%\n",
            "GB | Epoch 1 | Loss: 1.531924843788147 | Accuracy: 42.1875%\n"
          ]
        },
        {
          "output_type": "stream",
          "name": "stderr",
          "text": [
            "Epoch 1:  33%|███▎      | 247/751 [00:01<00:02, 233.01batch/s, accuracy=48.4375%, loss=1.36]"
          ]
        },
        {
          "output_type": "stream",
          "name": "stdout",
          "text": [
            "GB | Epoch 1 | Loss: 1.5384877920150757 | Accuracy: 34.375%\n",
            "GB | Epoch 1 | Loss: 1.4202123880386353 | Accuracy: 39.0625%\n",
            "GB | Epoch 1 | Loss: 1.3780035972595215 | Accuracy: 46.875%\n",
            "GB | Epoch 1 | Loss: 1.5507758855819702 | Accuracy: 29.6875%\n",
            "GB | Epoch 1 | Loss: 1.524548053741455 | Accuracy: 40.625%\n",
            "GB | Epoch 1 | Loss: 1.4217411279678345 | Accuracy: 32.8125%\n",
            "GB | Epoch 1 | Loss: 1.5302482843399048 | Accuracy: 29.6875%\n",
            "GB | Epoch 1 | Loss: 1.536909580230713 | Accuracy: 23.4375%\n",
            "GB | Epoch 1 | Loss: 1.4410326480865479 | Accuracy: 37.5%\n",
            "GB | Epoch 1 | Loss: 1.4382834434509277 | Accuracy: 39.0625%\n",
            "GB | Epoch 1 | Loss: 1.477274775505066 | Accuracy: 35.9375%\n",
            "GB | Epoch 1 | Loss: 1.4687579870224 | Accuracy: 43.75%\n",
            "GB | Epoch 1 | Loss: 1.4716606140136719 | Accuracy: 34.375%\n",
            "GB | Epoch 1 | Loss: 1.5140998363494873 | Accuracy: 35.9375%\n",
            "GB | Epoch 1 | Loss: 1.414623737335205 | Accuracy: 39.0625%\n",
            "GB | Epoch 1 | Loss: 1.5163817405700684 | Accuracy: 31.25%\n",
            "GB | Epoch 1 | Loss: 1.5143170356750488 | Accuracy: 35.9375%\n",
            "GB | Epoch 1 | Loss: 1.4695857763290405 | Accuracy: 32.8125%\n",
            "GB | Epoch 1 | Loss: 1.5194785594940186 | Accuracy: 48.4375%\n",
            "GB | Epoch 1 | Loss: 1.4793307781219482 | Accuracy: 42.1875%\n",
            "GB | Epoch 1 | Loss: 1.448612928390503 | Accuracy: 29.6875%\n",
            "GB | Epoch 1 | Loss: 1.4873578548431396 | Accuracy: 21.875%\n",
            "GB | Epoch 1 | Loss: 1.4811614751815796 | Accuracy: 34.375%\n",
            "GB | Epoch 1 | Loss: 1.465766429901123 | Accuracy: 40.625%\n",
            "GB | Epoch 1 | Loss: 1.5235862731933594 | Accuracy: 32.8125%\n",
            "GB | Epoch 1 | Loss: 1.5349947214126587 | Accuracy: 35.9375%\n",
            "GB | Epoch 1 | Loss: 1.3670146465301514 | Accuracy: 45.3125%\n",
            "GB | Epoch 1 | Loss: 1.4981398582458496 | Accuracy: 42.1875%\n",
            "GB | Epoch 1 | Loss: 1.5094335079193115 | Accuracy: 37.5%\n",
            "GB | Epoch 1 | Loss: 1.55227792263031 | Accuracy: 37.5%\n",
            "GB | Epoch 1 | Loss: 1.4910228252410889 | Accuracy: 32.8125%\n",
            "GB | Epoch 1 | Loss: 1.5207006931304932 | Accuracy: 48.4375%\n",
            "GB | Epoch 1 | Loss: 1.4235918521881104 | Accuracy: 46.875%\n",
            "GB | Epoch 1 | Loss: 1.5645108222961426 | Accuracy: 26.5625%\n",
            "GB | Epoch 1 | Loss: 1.516635537147522 | Accuracy: 40.625%\n",
            "GB | Epoch 1 | Loss: 1.503734827041626 | Accuracy: 37.5%\n",
            "GB | Epoch 1 | Loss: 1.44076669216156 | Accuracy: 37.5%\n",
            "GB | Epoch 1 | Loss: 1.554368257522583 | Accuracy: 39.0625%\n",
            "GB | Epoch 1 | Loss: 1.4277145862579346 | Accuracy: 53.125%\n",
            "GB | Epoch 1 | Loss: 1.4714529514312744 | Accuracy: 35.9375%\n",
            "GB | Epoch 1 | Loss: 1.466322422027588 | Accuracy: 45.3125%\n",
            "GB | Epoch 1 | Loss: 1.4655680656433105 | Accuracy: 34.375%\n",
            "GB | Epoch 1 | Loss: 1.4404653310775757 | Accuracy: 51.5625%\n",
            "GB | Epoch 1 | Loss: 1.5960716009140015 | Accuracy: 31.25%\n",
            "GB | Epoch 1 | Loss: 1.4353435039520264 | Accuracy: 40.625%\n",
            "GB | Epoch 1 | Loss: 1.497788667678833 | Accuracy: 39.0625%\n",
            "GB | Epoch 1 | Loss: 1.4447118043899536 | Accuracy: 46.875%\n",
            "GB | Epoch 1 | Loss: 1.500223994255066 | Accuracy: 51.5625%\n",
            "GB | Epoch 1 | Loss: 1.5214903354644775 | Accuracy: 42.1875%\n"
          ]
        },
        {
          "output_type": "stream",
          "name": "stderr",
          "text": [
            "Epoch 1:  39%|███▉      | 296/751 [00:01<00:01, 232.12batch/s, accuracy=42.1875%, loss=1.5]"
          ]
        },
        {
          "output_type": "stream",
          "name": "stdout",
          "text": [
            "GB | Epoch 1 | Loss: 1.363383173942566 | Accuracy: 48.4375%\n",
            "GB | Epoch 1 | Loss: 1.5174262523651123 | Accuracy: 35.9375%\n",
            "GB | Epoch 1 | Loss: 1.5737274885177612 | Accuracy: 29.6875%\n",
            "GB | Epoch 1 | Loss: 1.4559434652328491 | Accuracy: 43.75%\n",
            "GB | Epoch 1 | Loss: 1.3980859518051147 | Accuracy: 51.5625%\n",
            "GB | Epoch 1 | Loss: 1.4494082927703857 | Accuracy: 48.4375%\n",
            "GB | Epoch 1 | Loss: 1.494583010673523 | Accuracy: 45.3125%\n",
            "GB | Epoch 1 | Loss: 1.51970374584198 | Accuracy: 45.3125%\n",
            "GB | Epoch 1 | Loss: 1.5300027132034302 | Accuracy: 46.875%\n",
            "GB | Epoch 1 | Loss: 1.5320374965667725 | Accuracy: 42.1875%\n",
            "GB | Epoch 1 | Loss: 1.5334476232528687 | Accuracy: 40.625%\n",
            "GB | Epoch 1 | Loss: 1.3831899166107178 | Accuracy: 57.8125%\n",
            "GB | Epoch 1 | Loss: 1.4713293313980103 | Accuracy: 45.3125%\n",
            "GB | Epoch 1 | Loss: 1.5072964429855347 | Accuracy: 40.625%\n",
            "GB | Epoch 1 | Loss: 1.4978667497634888 | Accuracy: 40.625%\n",
            "GB | Epoch 1 | Loss: 1.6035187244415283 | Accuracy: 34.375%\n",
            "GB | Epoch 1 | Loss: 1.4709144830703735 | Accuracy: 46.875%\n",
            "GB | Epoch 1 | Loss: 1.5012203454971313 | Accuracy: 40.625%\n",
            "GB | Epoch 1 | Loss: 1.4698734283447266 | Accuracy: 35.9375%\n",
            "GB | Epoch 1 | Loss: 1.4545235633850098 | Accuracy: 50.0%\n",
            "GB | Epoch 1 | Loss: 1.4189835786819458 | Accuracy: 50.0%\n",
            "GB | Epoch 1 | Loss: 1.4413342475891113 | Accuracy: 37.5%\n",
            "GB | Epoch 1 | Loss: 1.483022928237915 | Accuracy: 40.625%\n",
            "GB | Epoch 1 | Loss: 1.4138814210891724 | Accuracy: 50.0%\n",
            "GB | Epoch 1 | Loss: 1.4168530702590942 | Accuracy: 39.0625%\n",
            "GB | Epoch 1 | Loss: 1.4398188591003418 | Accuracy: 53.125%\n",
            "GB | Epoch 1 | Loss: 1.42743718624115 | Accuracy: 50.0%\n",
            "GB | Epoch 1 | Loss: 1.3631784915924072 | Accuracy: 51.5625%\n",
            "GB | Epoch 1 | Loss: 1.4575482606887817 | Accuracy: 45.3125%\n",
            "GB | Epoch 1 | Loss: 1.5351669788360596 | Accuracy: 34.375%\n",
            "GB | Epoch 1 | Loss: 1.5204452276229858 | Accuracy: 42.1875%\n",
            "GB | Epoch 1 | Loss: 1.4738314151763916 | Accuracy: 40.625%\n",
            "GB | Epoch 1 | Loss: 1.4014892578125 | Accuracy: 43.75%\n",
            "GB | Epoch 1 | Loss: 1.4437741041183472 | Accuracy: 42.1875%\n",
            "GB | Epoch 1 | Loss: 1.4874274730682373 | Accuracy: 34.375%\n",
            "GB | Epoch 1 | Loss: 1.398941159248352 | Accuracy: 43.75%\n",
            "GB | Epoch 1 | Loss: 1.5044933557510376 | Accuracy: 34.375%\n",
            "GB | Epoch 1 | Loss: 1.3452773094177246 | Accuracy: 39.0625%\n",
            "GB | Epoch 1 | Loss: 1.4350244998931885 | Accuracy: 32.8125%\n",
            "GB | Epoch 1 | Loss: 1.538408637046814 | Accuracy: 34.375%\n",
            "GB | Epoch 1 | Loss: 1.4611011743545532 | Accuracy: 40.625%\n",
            "GB | Epoch 1 | Loss: 1.534377932548523 | Accuracy: 31.25%\n",
            "GB | Epoch 1 | Loss: 1.4970219135284424 | Accuracy: 35.9375%\n",
            "GB | Epoch 1 | Loss: 1.4820877313613892 | Accuracy: 40.625%\n",
            "GB | Epoch 1 | Loss: 1.4329198598861694 | Accuracy: 43.75%\n",
            "GB | Epoch 1 | Loss: 1.389177918434143 | Accuracy: 46.875%\n",
            "GB | Epoch 1 | Loss: 1.4984989166259766 | Accuracy: 42.1875%\n"
          ]
        },
        {
          "output_type": "stream",
          "name": "stderr",
          "text": [
            "Epoch 1:  46%|████▌     | 345/751 [00:01<00:01, 235.66batch/s, accuracy=48.4375%, loss=1.46]"
          ]
        },
        {
          "output_type": "stream",
          "name": "stdout",
          "text": [
            "GB | Epoch 1 | Loss: 1.5095341205596924 | Accuracy: 37.5%\n",
            "GB | Epoch 1 | Loss: 1.4692285060882568 | Accuracy: 39.0625%\n",
            "GB | Epoch 1 | Loss: 1.4216488599777222 | Accuracy: 45.3125%\n",
            "GB | Epoch 1 | Loss: 1.438858151435852 | Accuracy: 46.875%\n",
            "GB | Epoch 1 | Loss: 1.3746800422668457 | Accuracy: 57.8125%\n",
            "GB | Epoch 1 | Loss: 1.4383680820465088 | Accuracy: 50.0%\n",
            "GB | Epoch 1 | Loss: 1.5116127729415894 | Accuracy: 35.9375%\n",
            "GB | Epoch 1 | Loss: 1.4610295295715332 | Accuracy: 53.125%\n",
            "GB | Epoch 1 | Loss: 1.464900016784668 | Accuracy: 40.625%\n",
            "GB | Epoch 1 | Loss: 1.4924721717834473 | Accuracy: 48.4375%\n",
            "GB | Epoch 1 | Loss: 1.448009729385376 | Accuracy: 40.625%\n",
            "GB | Epoch 1 | Loss: 1.415457844734192 | Accuracy: 46.875%\n",
            "GB | Epoch 1 | Loss: 1.5899211168289185 | Accuracy: 42.1875%\n",
            "GB | Epoch 1 | Loss: 1.543714165687561 | Accuracy: 40.625%\n",
            "GB | Epoch 1 | Loss: 1.5172533988952637 | Accuracy: 40.625%\n",
            "GB | Epoch 1 | Loss: 1.4664475917816162 | Accuracy: 50.0%\n",
            "GB | Epoch 1 | Loss: 1.4690366983413696 | Accuracy: 45.3125%\n",
            "GB | Epoch 1 | Loss: 1.368741750717163 | Accuracy: 54.6875%\n",
            "GB | Epoch 1 | Loss: 1.4404470920562744 | Accuracy: 42.1875%\n",
            "GB | Epoch 1 | Loss: 1.5155723094940186 | Accuracy: 42.1875%\n",
            "GB | Epoch 1 | Loss: 1.4464362859725952 | Accuracy: 43.75%\n",
            "GB | Epoch 1 | Loss: 1.4821667671203613 | Accuracy: 46.875%\n",
            "GB | Epoch 1 | Loss: 1.4996733665466309 | Accuracy: 45.3125%\n",
            "GB | Epoch 1 | Loss: 1.5320990085601807 | Accuracy: 35.9375%\n",
            "GB | Epoch 1 | Loss: 1.4756349325180054 | Accuracy: 48.4375%\n",
            "GB | Epoch 1 | Loss: 1.5199936628341675 | Accuracy: 40.625%\n",
            "GB | Epoch 1 | Loss: 1.5032315254211426 | Accuracy: 45.3125%\n",
            "GB | Epoch 1 | Loss: 1.4165586233139038 | Accuracy: 46.875%\n",
            "GB | Epoch 1 | Loss: 1.3882789611816406 | Accuracy: 50.0%\n",
            "GB | Epoch 1 | Loss: 1.5424140691757202 | Accuracy: 46.875%\n",
            "GB | Epoch 1 | Loss: 1.5645533800125122 | Accuracy: 39.0625%\n",
            "GB | Epoch 1 | Loss: 1.407107949256897 | Accuracy: 50.0%\n",
            "GB | Epoch 1 | Loss: 1.5138177871704102 | Accuracy: 51.5625%\n",
            "GB | Epoch 1 | Loss: 1.4605967998504639 | Accuracy: 54.6875%\n",
            "GB | Epoch 1 | Loss: 1.4852226972579956 | Accuracy: 59.375%\n",
            "GB | Epoch 1 | Loss: 1.4462761878967285 | Accuracy: 53.125%\n",
            "GB | Epoch 1 | Loss: 1.519517421722412 | Accuracy: 43.75%\n",
            "GB | Epoch 1 | Loss: 1.4587502479553223 | Accuracy: 54.6875%\n",
            "GB | Epoch 1 | Loss: 1.4389432668685913 | Accuracy: 59.375%\n",
            "GB | Epoch 1 | Loss: 1.5244354009628296 | Accuracy: 48.4375%\n",
            "GB | Epoch 1 | Loss: 1.5435189008712769 | Accuracy: 40.625%\n",
            "GB | Epoch 1 | Loss: 1.4879542589187622 | Accuracy: 51.5625%\n",
            "GB | Epoch 1 | Loss: 1.59108304977417 | Accuracy: 37.5%\n",
            "GB | Epoch 1 | Loss: 1.5411990880966187 | Accuracy: 53.125%\n",
            "GB | Epoch 1 | Loss: 1.436103105545044 | Accuracy: 50.0%\n",
            "GB | Epoch 1 | Loss: 1.5053385496139526 | Accuracy: 50.0%\n",
            "GB | Epoch 1 | Loss: 1.4446899890899658 | Accuracy: 48.4375%\n",
            "GB | Epoch 1 | Loss: 1.4808257818222046 | Accuracy: 45.3125%\n",
            "GB | Epoch 1 | Loss: 1.4593303203582764 | Accuracy: 48.4375%\n"
          ]
        },
        {
          "output_type": "stream",
          "name": "stderr",
          "text": [
            "Epoch 1:  53%|█████▎    | 395/751 [00:02<00:01, 240.03batch/s, accuracy=53.125%, loss=1.42] "
          ]
        },
        {
          "output_type": "stream",
          "name": "stdout",
          "text": [
            "GB | Epoch 1 | Loss: 1.4101779460906982 | Accuracy: 53.125%\n",
            "GB | Epoch 1 | Loss: 1.4403586387634277 | Accuracy: 46.875%\n",
            "GB | Epoch 1 | Loss: 1.5249948501586914 | Accuracy: 45.3125%\n",
            "GB | Epoch 1 | Loss: 1.4022687673568726 | Accuracy: 57.8125%\n",
            "GB | Epoch 1 | Loss: 1.5129088163375854 | Accuracy: 42.1875%\n",
            "GB | Epoch 1 | Loss: 1.532830834388733 | Accuracy: 43.75%\n",
            "GB | Epoch 1 | Loss: 1.3846018314361572 | Accuracy: 57.8125%\n",
            "GB | Epoch 1 | Loss: 1.5039466619491577 | Accuracy: 48.4375%\n",
            "GB | Epoch 1 | Loss: 1.379501223564148 | Accuracy: 56.25%\n",
            "GB | Epoch 1 | Loss: 1.4673196077346802 | Accuracy: 51.5625%\n",
            "GB | Epoch 1 | Loss: 1.50119149684906 | Accuracy: 42.1875%\n",
            "GB | Epoch 1 | Loss: 1.4542417526245117 | Accuracy: 59.375%\n",
            "GB | Epoch 1 | Loss: 1.394515872001648 | Accuracy: 54.6875%\n",
            "GB | Epoch 1 | Loss: 1.44119131565094 | Accuracy: 46.875%\n",
            "GB | Epoch 1 | Loss: 1.4159711599349976 | Accuracy: 56.25%\n",
            "GB | Epoch 1 | Loss: 1.4472143650054932 | Accuracy: 53.125%\n",
            "GB | Epoch 1 | Loss: 1.4838296175003052 | Accuracy: 34.375%\n",
            "GB | Epoch 1 | Loss: 1.5182424783706665 | Accuracy: 46.875%\n",
            "GB | Epoch 1 | Loss: 1.5598145723342896 | Accuracy: 45.3125%\n",
            "GB | Epoch 1 | Loss: 1.3752427101135254 | Accuracy: 59.375%\n",
            "GB | Epoch 1 | Loss: 1.4283339977264404 | Accuracy: 50.0%\n",
            "GB | Epoch 1 | Loss: 1.4453232288360596 | Accuracy: 48.4375%\n",
            "GB | Epoch 1 | Loss: 1.4529271125793457 | Accuracy: 51.5625%\n",
            "GB | Epoch 1 | Loss: 1.5507065057754517 | Accuracy: 46.875%\n",
            "GB | Epoch 1 | Loss: 1.356384038925171 | Accuracy: 53.125%\n",
            "GB | Epoch 1 | Loss: 1.4252793788909912 | Accuracy: 50.0%\n",
            "GB | Epoch 1 | Loss: 1.4792356491088867 | Accuracy: 50.0%\n",
            "GB | Epoch 1 | Loss: 1.4436321258544922 | Accuracy: 54.6875%\n",
            "GB | Epoch 1 | Loss: 1.4780311584472656 | Accuracy: 54.6875%\n",
            "GB | Epoch 1 | Loss: 1.541050910949707 | Accuracy: 45.3125%\n",
            "GB | Epoch 1 | Loss: 1.5230365991592407 | Accuracy: 43.75%\n",
            "GB | Epoch 1 | Loss: 1.4366861581802368 | Accuracy: 56.25%\n",
            "GB | Epoch 1 | Loss: 1.5438053607940674 | Accuracy: 37.5%\n",
            "GB | Epoch 1 | Loss: 1.4562307596206665 | Accuracy: 45.3125%\n",
            "GB | Epoch 1 | Loss: 1.3686447143554688 | Accuracy: 53.125%\n",
            "GB | Epoch 1 | Loss: 1.473044514656067 | Accuracy: 48.4375%\n",
            "GB | Epoch 1 | Loss: 1.4069602489471436 | Accuracy: 56.25%\n",
            "GB | Epoch 1 | Loss: 1.366439700126648 | Accuracy: 53.125%\n",
            "GB | Epoch 1 | Loss: 1.4009383916854858 | Accuracy: 50.0%\n",
            "GB | Epoch 1 | Loss: 1.3323235511779785 | Accuracy: 60.9375%\n",
            "GB | Epoch 1 | Loss: 1.4236974716186523 | Accuracy: 51.5625%\n",
            "GB | Epoch 1 | Loss: 1.4224342107772827 | Accuracy: 53.125%\n",
            "GB | Epoch 1 | Loss: 1.4166936874389648 | Accuracy: 60.9375%\n",
            "GB | Epoch 1 | Loss: 1.4217114448547363 | Accuracy: 50.0%\n",
            "GB | Epoch 1 | Loss: 1.4887431859970093 | Accuracy: 51.5625%\n",
            "GB | Epoch 1 | Loss: 1.4697767496109009 | Accuracy: 46.875%\n",
            "GB | Epoch 1 | Loss: 1.4949034452438354 | Accuracy: 46.875%\n",
            "GB | Epoch 1 | Loss: 1.3446614742279053 | Accuracy: 51.5625%\n",
            "GB | Epoch 1 | Loss: 1.4170621633529663 | Accuracy: 53.125%\n"
          ]
        },
        {
          "output_type": "stream",
          "name": "stderr",
          "text": [
            "Epoch 1:  59%|█████▉    | 446/751 [00:02<00:01, 243.72batch/s, accuracy=43.75%, loss=1.49]"
          ]
        },
        {
          "output_type": "stream",
          "name": "stdout",
          "text": [
            "GB | Epoch 1 | Loss: 1.3100920915603638 | Accuracy: 59.375%\n",
            "GB | Epoch 1 | Loss: 1.5125529766082764 | Accuracy: 43.75%\n",
            "GB | Epoch 1 | Loss: 1.4403283596038818 | Accuracy: 43.75%\n",
            "GB | Epoch 1 | Loss: 1.4784300327301025 | Accuracy: 42.1875%\n",
            "GB | Epoch 1 | Loss: 1.4946458339691162 | Accuracy: 37.5%\n",
            "GB | Epoch 1 | Loss: 1.350439429283142 | Accuracy: 65.625%\n",
            "GB | Epoch 1 | Loss: 1.4512450695037842 | Accuracy: 53.125%\n",
            "GB | Epoch 1 | Loss: 1.461738109588623 | Accuracy: 50.0%\n",
            "GB | Epoch 1 | Loss: 1.4407060146331787 | Accuracy: 45.3125%\n",
            "GB | Epoch 1 | Loss: 1.4952396154403687 | Accuracy: 42.1875%\n",
            "GB | Epoch 1 | Loss: 1.432898998260498 | Accuracy: 54.6875%\n",
            "GB | Epoch 1 | Loss: 1.3586620092391968 | Accuracy: 60.9375%\n",
            "GB | Epoch 1 | Loss: 1.437448263168335 | Accuracy: 48.4375%\n",
            "GB | Epoch 1 | Loss: 1.3707807064056396 | Accuracy: 54.6875%\n",
            "GB | Epoch 1 | Loss: 1.562058448791504 | Accuracy: 40.625%\n",
            "GB | Epoch 1 | Loss: 1.5338525772094727 | Accuracy: 45.3125%\n",
            "GB | Epoch 1 | Loss: 1.5410581827163696 | Accuracy: 40.625%\n",
            "GB | Epoch 1 | Loss: 1.3615357875823975 | Accuracy: 56.25%\n",
            "GB | Epoch 1 | Loss: 1.4383203983306885 | Accuracy: 54.6875%\n",
            "GB | Epoch 1 | Loss: 1.4252640008926392 | Accuracy: 50.0%\n",
            "GB | Epoch 1 | Loss: 1.4030447006225586 | Accuracy: 48.4375%\n",
            "GB | Epoch 1 | Loss: 1.3954780101776123 | Accuracy: 54.6875%\n",
            "GB | Epoch 1 | Loss: 1.433067798614502 | Accuracy: 48.4375%\n",
            "GB | Epoch 1 | Loss: 1.5114279985427856 | Accuracy: 46.875%\n",
            "GB | Epoch 1 | Loss: 1.3251237869262695 | Accuracy: 56.25%\n",
            "GB | Epoch 1 | Loss: 1.3613166809082031 | Accuracy: 53.125%\n",
            "GB | Epoch 1 | Loss: 1.4667245149612427 | Accuracy: 48.4375%\n",
            "GB | Epoch 1 | Loss: 1.4412972927093506 | Accuracy: 48.4375%\n",
            "GB | Epoch 1 | Loss: 1.4359652996063232 | Accuracy: 50.0%\n",
            "GB | Epoch 1 | Loss: 1.487555980682373 | Accuracy: 45.3125%\n",
            "GB | Epoch 1 | Loss: 1.3910170793533325 | Accuracy: 57.8125%\n",
            "GB | Epoch 1 | Loss: 1.4005693197250366 | Accuracy: 51.5625%\n",
            "GB | Epoch 1 | Loss: 1.4935356378555298 | Accuracy: 45.3125%\n",
            "GB | Epoch 1 | Loss: 1.4168564081192017 | Accuracy: 45.3125%\n",
            "GB | Epoch 1 | Loss: 1.5071271657943726 | Accuracy: 40.625%\n",
            "GB | Epoch 1 | Loss: 1.453031063079834 | Accuracy: 48.4375%\n",
            "GB | Epoch 1 | Loss: 1.3429434299468994 | Accuracy: 57.8125%\n",
            "GB | Epoch 1 | Loss: 1.4050757884979248 | Accuracy: 50.0%\n",
            "GB | Epoch 1 | Loss: 1.3959665298461914 | Accuracy: 50.0%\n",
            "GB | Epoch 1 | Loss: 1.4142340421676636 | Accuracy: 46.875%\n",
            "GB | Epoch 1 | Loss: 1.509286642074585 | Accuracy: 51.5625%\n",
            "GB | Epoch 1 | Loss: 1.333355188369751 | Accuracy: 53.125%\n",
            "GB | Epoch 1 | Loss: 1.4906314611434937 | Accuracy: 46.875%\n",
            "GB | Epoch 1 | Loss: 1.6094281673431396 | Accuracy: 32.8125%\n",
            "GB | Epoch 1 | Loss: 1.4402227401733398 | Accuracy: 53.125%\n",
            "GB | Epoch 1 | Loss: 1.319806456565857 | Accuracy: 56.25%\n",
            "GB | Epoch 1 | Loss: 1.4554705619812012 | Accuracy: 46.875%\n",
            "GB | Epoch 1 | Loss: 1.294262409210205 | Accuracy: 51.5625%\n",
            "GB | Epoch 1 | Loss: 1.5601730346679688 | Accuracy: 35.9375%\n",
            "GB | Epoch 1 | Loss: 1.4738253355026245 | Accuracy: 43.75%\n",
            "GB | Epoch 1 | Loss: 1.4936695098876953 | Accuracy: 43.75%\n"
          ]
        },
        {
          "output_type": "stream",
          "name": "stderr",
          "text": [
            "Epoch 1:  66%|██████▌   | 496/751 [00:02<00:01, 245.81batch/s, accuracy=54.6875%, loss=1.38]"
          ]
        },
        {
          "output_type": "stream",
          "name": "stdout",
          "text": [
            "GB | Epoch 1 | Loss: 1.308190941810608 | Accuracy: 59.375%\n",
            "GB | Epoch 1 | Loss: 1.4165983200073242 | Accuracy: 54.6875%\n",
            "GB | Epoch 1 | Loss: 1.4832704067230225 | Accuracy: 43.75%\n",
            "GB | Epoch 1 | Loss: 1.3972231149673462 | Accuracy: 54.6875%\n",
            "GB | Epoch 1 | Loss: 1.3846312761306763 | Accuracy: 60.9375%\n",
            "GB | Epoch 1 | Loss: 1.4733164310455322 | Accuracy: 46.875%\n",
            "GB | Epoch 1 | Loss: 1.4585496187210083 | Accuracy: 48.4375%\n",
            "GB | Epoch 1 | Loss: 1.4901130199432373 | Accuracy: 45.3125%\n",
            "GB | Epoch 1 | Loss: 1.3637083768844604 | Accuracy: 51.5625%\n",
            "GB | Epoch 1 | Loss: 1.456225037574768 | Accuracy: 50.0%\n",
            "GB | Epoch 1 | Loss: 1.3527759313583374 | Accuracy: 57.8125%\n",
            "GB | Epoch 1 | Loss: 1.440039873123169 | Accuracy: 46.875%\n",
            "GB | Epoch 1 | Loss: 1.4649724960327148 | Accuracy: 39.0625%\n",
            "GB | Epoch 1 | Loss: 1.4207738637924194 | Accuracy: 51.5625%\n",
            "GB | Epoch 1 | Loss: 1.3428875207901 | Accuracy: 51.5625%\n",
            "GB | Epoch 1 | Loss: 1.319484829902649 | Accuracy: 64.0625%\n",
            "GB | Epoch 1 | Loss: 1.34711754322052 | Accuracy: 59.375%\n",
            "GB | Epoch 1 | Loss: 1.428546667098999 | Accuracy: 51.5625%\n",
            "GB | Epoch 1 | Loss: 1.4174604415893555 | Accuracy: 51.5625%\n",
            "GB | Epoch 1 | Loss: 1.3254761695861816 | Accuracy: 60.9375%\n",
            "GB | Epoch 1 | Loss: 1.448398470878601 | Accuracy: 51.5625%\n",
            "GB | Epoch 1 | Loss: 1.4813203811645508 | Accuracy: 46.875%\n",
            "GB | Epoch 1 | Loss: 1.5178253650665283 | Accuracy: 46.875%\n",
            "GB | Epoch 1 | Loss: 1.4080308675765991 | Accuracy: 50.0%\n",
            "GB | Epoch 1 | Loss: 1.335854411125183 | Accuracy: 51.5625%\n",
            "GB | Epoch 1 | Loss: 1.48979651927948 | Accuracy: 45.3125%\n",
            "GB | Epoch 1 | Loss: 1.4499458074569702 | Accuracy: 48.4375%\n",
            "GB | Epoch 1 | Loss: 1.4449000358581543 | Accuracy: 46.875%\n",
            "GB | Epoch 1 | Loss: 1.3795177936553955 | Accuracy: 56.25%\n",
            "GB | Epoch 1 | Loss: 1.396605134010315 | Accuracy: 50.0%\n",
            "GB | Epoch 1 | Loss: 1.4461026191711426 | Accuracy: 51.5625%\n",
            "GB | Epoch 1 | Loss: 1.4855291843414307 | Accuracy: 48.4375%\n",
            "GB | Epoch 1 | Loss: 1.4372419118881226 | Accuracy: 50.0%\n",
            "GB | Epoch 1 | Loss: 1.3827441930770874 | Accuracy: 51.5625%\n",
            "GB | Epoch 1 | Loss: 1.446889877319336 | Accuracy: 48.4375%\n",
            "GB | Epoch 1 | Loss: 1.3818694353103638 | Accuracy: 51.5625%\n",
            "GB | Epoch 1 | Loss: 1.4949926137924194 | Accuracy: 42.1875%\n",
            "GB | Epoch 1 | Loss: 1.4635658264160156 | Accuracy: 51.5625%\n",
            "GB | Epoch 1 | Loss: 1.3620959520339966 | Accuracy: 59.375%\n",
            "GB | Epoch 1 | Loss: 1.343018889427185 | Accuracy: 53.125%\n",
            "GB | Epoch 1 | Loss: 1.3731588125228882 | Accuracy: 46.875%\n",
            "GB | Epoch 1 | Loss: 1.4355292320251465 | Accuracy: 43.75%\n",
            "GB | Epoch 1 | Loss: 1.459598422050476 | Accuracy: 43.75%\n",
            "GB | Epoch 1 | Loss: 1.3447626829147339 | Accuracy: 60.9375%\n",
            "GB | Epoch 1 | Loss: 1.2206437587738037 | Accuracy: 67.1875%\n",
            "GB | Epoch 1 | Loss: 1.4652159214019775 | Accuracy: 43.75%\n",
            "GB | Epoch 1 | Loss: 1.4183611869812012 | Accuracy: 53.125%\n",
            "GB | Epoch 1 | Loss: 1.503904104232788 | Accuracy: 37.5%\n",
            "GB | Epoch 1 | Loss: 1.4353504180908203 | Accuracy: 50.0%\n",
            "GB | Epoch 1 | Loss: 1.3802523612976074 | Accuracy: 54.6875%\n"
          ]
        },
        {
          "output_type": "stream",
          "name": "stderr",
          "text": [
            "Epoch 1:  73%|███████▎  | 546/751 [00:02<00:00, 240.85batch/s, accuracy=45.3125%, loss=1.42]"
          ]
        },
        {
          "output_type": "stream",
          "name": "stdout",
          "text": [
            "GB | Epoch 1 | Loss: 1.498900055885315 | Accuracy: 43.75%\n",
            "GB | Epoch 1 | Loss: 1.4711722135543823 | Accuracy: 45.3125%\n",
            "GB | Epoch 1 | Loss: 1.3154479265213013 | Accuracy: 57.8125%\n",
            "GB | Epoch 1 | Loss: 1.3907526731491089 | Accuracy: 54.6875%\n",
            "GB | Epoch 1 | Loss: 1.4367830753326416 | Accuracy: 45.3125%\n",
            "GB | Epoch 1 | Loss: 1.285041332244873 | Accuracy: 57.8125%\n",
            "GB | Epoch 1 | Loss: 1.4101310968399048 | Accuracy: 51.5625%\n",
            "GB | Epoch 1 | Loss: 1.4479844570159912 | Accuracy: 43.75%\n",
            "GB | Epoch 1 | Loss: 1.3819068670272827 | Accuracy: 45.3125%\n",
            "GB | Epoch 1 | Loss: 1.4501326084136963 | Accuracy: 50.0%\n",
            "GB | Epoch 1 | Loss: 1.4658583402633667 | Accuracy: 43.75%\n",
            "GB | Epoch 1 | Loss: 1.4302231073379517 | Accuracy: 54.6875%\n",
            "GB | Epoch 1 | Loss: 1.4630165100097656 | Accuracy: 43.75%\n",
            "GB | Epoch 1 | Loss: 1.3600289821624756 | Accuracy: 56.25%\n",
            "GB | Epoch 1 | Loss: 1.4006695747375488 | Accuracy: 53.125%\n",
            "GB | Epoch 1 | Loss: 1.4855302572250366 | Accuracy: 45.3125%\n",
            "GB | Epoch 1 | Loss: 1.5323506593704224 | Accuracy: 43.75%\n",
            "GB | Epoch 1 | Loss: 1.4058507680892944 | Accuracy: 43.75%\n",
            "GB | Epoch 1 | Loss: 1.4963972568511963 | Accuracy: 48.4375%\n",
            "GB | Epoch 1 | Loss: 1.3892158269882202 | Accuracy: 51.5625%\n",
            "GB | Epoch 1 | Loss: 1.4500224590301514 | Accuracy: 45.3125%\n",
            "GB | Epoch 1 | Loss: 1.336038589477539 | Accuracy: 57.8125%\n",
            "GB | Epoch 1 | Loss: 1.4183491468429565 | Accuracy: 43.75%\n",
            "GB | Epoch 1 | Loss: 1.4799898862838745 | Accuracy: 50.0%\n",
            "GB | Epoch 1 | Loss: 1.296640396118164 | Accuracy: 59.375%\n",
            "GB | Epoch 1 | Loss: 1.3114124536514282 | Accuracy: 56.25%\n",
            "GB | Epoch 1 | Loss: 1.5549768209457397 | Accuracy: 35.9375%\n",
            "GB | Epoch 1 | Loss: 1.261331558227539 | Accuracy: 60.9375%\n",
            "GB | Epoch 1 | Loss: 1.4406180381774902 | Accuracy: 46.875%\n",
            "GB | Epoch 1 | Loss: 1.310084581375122 | Accuracy: 60.9375%\n",
            "GB | Epoch 1 | Loss: 1.4536360502243042 | Accuracy: 42.1875%\n",
            "GB | Epoch 1 | Loss: 1.3773852586746216 | Accuracy: 56.25%\n",
            "GB | Epoch 1 | Loss: 1.3828630447387695 | Accuracy: 51.5625%\n",
            "GB | Epoch 1 | Loss: 1.3990989923477173 | Accuracy: 53.125%\n",
            "GB | Epoch 1 | Loss: 1.3540258407592773 | Accuracy: 50.0%\n",
            "GB | Epoch 1 | Loss: 1.3305439949035645 | Accuracy: 51.5625%\n",
            "GB | Epoch 1 | Loss: 1.401432752609253 | Accuracy: 48.4375%\n",
            "GB | Epoch 1 | Loss: 1.3063013553619385 | Accuracy: 50.0%\n",
            "GB | Epoch 1 | Loss: 1.5264960527420044 | Accuracy: 43.75%\n",
            "GB | Epoch 1 | Loss: 1.301972508430481 | Accuracy: 56.25%\n",
            "GB | Epoch 1 | Loss: 1.3954558372497559 | Accuracy: 43.75%\n",
            "GB | Epoch 1 | Loss: 1.3796286582946777 | Accuracy: 50.0%\n",
            "GB | Epoch 1 | Loss: 1.4240108728408813 | Accuracy: 46.875%\n",
            "GB | Epoch 1 | Loss: 1.3024213314056396 | Accuracy: 57.8125%\n",
            "GB | Epoch 1 | Loss: 1.3829171657562256 | Accuracy: 50.0%\n",
            "GB | Epoch 1 | Loss: 1.3961615562438965 | Accuracy: 42.1875%\n",
            "GB | Epoch 1 | Loss: 1.465911865234375 | Accuracy: 42.1875%\n",
            "GB | Epoch 1 | Loss: 1.4246506690979004 | Accuracy: 45.3125%\n"
          ]
        },
        {
          "output_type": "stream",
          "name": "stderr",
          "text": [
            "Epoch 1:  79%|███████▉  | 596/751 [00:02<00:00, 240.60batch/s, accuracy=45.3125%, loss=1.46]"
          ]
        },
        {
          "output_type": "stream",
          "name": "stdout",
          "text": [
            "GB | Epoch 1 | Loss: 1.441810965538025 | Accuracy: 48.4375%\n",
            "GB | Epoch 1 | Loss: 1.3482410907745361 | Accuracy: 54.6875%\n",
            "GB | Epoch 1 | Loss: 1.3262776136398315 | Accuracy: 57.8125%\n",
            "GB | Epoch 1 | Loss: 1.2962558269500732 | Accuracy: 54.6875%\n",
            "GB | Epoch 1 | Loss: 1.2836294174194336 | Accuracy: 56.25%\n",
            "GB | Epoch 1 | Loss: 1.3695440292358398 | Accuracy: 50.0%\n",
            "GB | Epoch 1 | Loss: 1.4337644577026367 | Accuracy: 45.3125%\n",
            "GB | Epoch 1 | Loss: 1.2986944913864136 | Accuracy: 53.125%\n",
            "GB | Epoch 1 | Loss: 1.5563557147979736 | Accuracy: 37.5%\n",
            "GB | Epoch 1 | Loss: 1.3353054523468018 | Accuracy: 53.125%\n",
            "GB | Epoch 1 | Loss: 1.4875596761703491 | Accuracy: 40.625%\n",
            "GB | Epoch 1 | Loss: 1.505359172821045 | Accuracy: 43.75%\n",
            "GB | Epoch 1 | Loss: 1.3320767879486084 | Accuracy: 54.6875%\n",
            "GB | Epoch 1 | Loss: 1.3890881538391113 | Accuracy: 50.0%\n",
            "GB | Epoch 1 | Loss: 1.2810475826263428 | Accuracy: 48.4375%\n",
            "GB | Epoch 1 | Loss: 1.4102927446365356 | Accuracy: 45.3125%\n",
            "GB | Epoch 1 | Loss: 1.3794732093811035 | Accuracy: 45.3125%\n",
            "GB | Epoch 1 | Loss: 1.3685557842254639 | Accuracy: 51.5625%\n",
            "GB | Epoch 1 | Loss: 1.413534164428711 | Accuracy: 51.5625%\n",
            "GB | Epoch 1 | Loss: 1.317445993423462 | Accuracy: 53.125%\n",
            "GB | Epoch 1 | Loss: 1.390375018119812 | Accuracy: 53.125%\n",
            "GB | Epoch 1 | Loss: 1.3913778066635132 | Accuracy: 53.125%\n",
            "GB | Epoch 1 | Loss: 1.3345985412597656 | Accuracy: 56.25%\n",
            "GB | Epoch 1 | Loss: 1.4257498979568481 | Accuracy: 48.4375%\n",
            "GB | Epoch 1 | Loss: 1.4213606119155884 | Accuracy: 42.1875%\n",
            "GB | Epoch 1 | Loss: 1.302112340927124 | Accuracy: 54.6875%\n",
            "GB | Epoch 1 | Loss: 1.4588782787322998 | Accuracy: 46.875%\n",
            "GB | Epoch 1 | Loss: 1.3918508291244507 | Accuracy: 50.0%\n",
            "GB | Epoch 1 | Loss: 1.3459737300872803 | Accuracy: 46.875%\n",
            "GB | Epoch 1 | Loss: 1.343295931816101 | Accuracy: 45.3125%\n",
            "GB | Epoch 1 | Loss: 1.462936520576477 | Accuracy: 48.4375%\n",
            "GB | Epoch 1 | Loss: 1.3903383016586304 | Accuracy: 45.3125%\n",
            "GB | Epoch 1 | Loss: 1.3885859251022339 | Accuracy: 50.0%\n",
            "GB | Epoch 1 | Loss: 1.4120231866836548 | Accuracy: 42.1875%\n",
            "GB | Epoch 1 | Loss: 1.3459330797195435 | Accuracy: 46.875%\n",
            "GB | Epoch 1 | Loss: 1.4377708435058594 | Accuracy: 45.3125%\n",
            "GB | Epoch 1 | Loss: 1.3529725074768066 | Accuracy: 53.125%\n",
            "GB | Epoch 1 | Loss: 1.410726547241211 | Accuracy: 46.875%\n",
            "GB | Epoch 1 | Loss: 1.3987879753112793 | Accuracy: 48.4375%\n",
            "GB | Epoch 1 | Loss: 1.3752140998840332 | Accuracy: 43.75%\n",
            "GB | Epoch 1 | Loss: 1.3748416900634766 | Accuracy: 48.4375%\n",
            "GB | Epoch 1 | Loss: 1.3436683416366577 | Accuracy: 50.0%\n",
            "GB | Epoch 1 | Loss: 1.3722126483917236 | Accuracy: 50.0%\n",
            "GB | Epoch 1 | Loss: 1.5049850940704346 | Accuracy: 42.1875%\n",
            "GB | Epoch 1 | Loss: 1.2893122434616089 | Accuracy: 57.8125%\n",
            "GB | Epoch 1 | Loss: 1.3050589561462402 | Accuracy: 54.6875%\n",
            "GB | Epoch 1 | Loss: 1.407556414604187 | Accuracy: 45.3125%\n",
            "GB | Epoch 1 | Loss: 1.460374355316162 | Accuracy: 45.3125%\n"
          ]
        },
        {
          "output_type": "stream",
          "name": "stderr",
          "text": [
            "Epoch 1:  86%|████████▌ | 645/751 [00:03<00:00, 234.19batch/s, accuracy=46.875%, loss=1.43]"
          ]
        },
        {
          "output_type": "stream",
          "name": "stdout",
          "text": [
            "GB | Epoch 1 | Loss: 1.2266278266906738 | Accuracy: 62.5%\n",
            "GB | Epoch 1 | Loss: 1.4231736660003662 | Accuracy: 40.625%\n",
            "GB | Epoch 1 | Loss: 1.4471899271011353 | Accuracy: 50.0%\n",
            "GB | Epoch 1 | Loss: 1.2290899753570557 | Accuracy: 57.8125%\n",
            "GB | Epoch 1 | Loss: 1.4354486465454102 | Accuracy: 42.1875%\n",
            "GB | Epoch 1 | Loss: 1.325095295906067 | Accuracy: 51.5625%\n",
            "GB | Epoch 1 | Loss: 1.349517822265625 | Accuracy: 50.0%\n",
            "GB | Epoch 1 | Loss: 1.4336940050125122 | Accuracy: 45.3125%\n",
            "GB | Epoch 1 | Loss: 1.3263275623321533 | Accuracy: 53.125%\n",
            "GB | Epoch 1 | Loss: 1.4418712854385376 | Accuracy: 45.3125%\n",
            "GB | Epoch 1 | Loss: 1.4309718608856201 | Accuracy: 42.1875%\n",
            "GB | Epoch 1 | Loss: 1.2388337850570679 | Accuracy: 53.125%\n",
            "GB | Epoch 1 | Loss: 1.314500093460083 | Accuracy: 54.6875%\n",
            "GB | Epoch 1 | Loss: 1.4060750007629395 | Accuracy: 43.75%\n",
            "GB | Epoch 1 | Loss: 1.4518753290176392 | Accuracy: 42.1875%\n",
            "GB | Epoch 1 | Loss: 1.310627818107605 | Accuracy: 54.6875%\n",
            "GB | Epoch 1 | Loss: 1.3713250160217285 | Accuracy: 48.4375%\n",
            "GB | Epoch 1 | Loss: 1.3378487825393677 | Accuracy: 51.5625%\n",
            "GB | Epoch 1 | Loss: 1.2062370777130127 | Accuracy: 59.375%\n",
            "GB | Epoch 1 | Loss: 1.3509013652801514 | Accuracy: 45.3125%\n",
            "GB | Epoch 1 | Loss: 1.3799599409103394 | Accuracy: 50.0%\n",
            "GB | Epoch 1 | Loss: 1.3207279443740845 | Accuracy: 53.125%\n",
            "GB | Epoch 1 | Loss: 1.3423254489898682 | Accuracy: 53.125%\n",
            "GB | Epoch 1 | Loss: 1.3651269674301147 | Accuracy: 50.0%\n",
            "GB | Epoch 1 | Loss: 1.3150535821914673 | Accuracy: 50.0%\n",
            "GB | Epoch 1 | Loss: 1.1719741821289062 | Accuracy: 65.625%\n",
            "GB | Epoch 1 | Loss: 1.3134137392044067 | Accuracy: 51.5625%\n",
            "GB | Epoch 1 | Loss: 1.494937539100647 | Accuracy: 42.1875%\n",
            "GB | Epoch 1 | Loss: 1.3426154851913452 | Accuracy: 51.5625%\n",
            "GB | Epoch 1 | Loss: 1.4409756660461426 | Accuracy: 48.4375%\n",
            "GB | Epoch 1 | Loss: 1.2512562274932861 | Accuracy: 51.5625%\n",
            "GB | Epoch 1 | Loss: 1.262109637260437 | Accuracy: 54.6875%\n",
            "GB | Epoch 1 | Loss: 1.4470386505126953 | Accuracy: 48.4375%\n",
            "GB | Epoch 1 | Loss: 1.3719669580459595 | Accuracy: 48.4375%\n",
            "GB | Epoch 1 | Loss: 1.4586164951324463 | Accuracy: 37.5%\n",
            "GB | Epoch 1 | Loss: 1.350820779800415 | Accuracy: 51.5625%\n",
            "GB | Epoch 1 | Loss: 1.3287385702133179 | Accuracy: 53.125%\n",
            "GB | Epoch 1 | Loss: 1.3544986248016357 | Accuracy: 51.5625%\n",
            "GB | Epoch 1 | Loss: 1.3315471410751343 | Accuracy: 53.125%\n",
            "GB | Epoch 1 | Loss: 1.4219640493392944 | Accuracy: 42.1875%\n",
            "GB | Epoch 1 | Loss: 1.3652297258377075 | Accuracy: 50.0%\n",
            "GB | Epoch 1 | Loss: 1.2785625457763672 | Accuracy: 51.5625%\n",
            "GB | Epoch 1 | Loss: 1.3445504903793335 | Accuracy: 53.125%\n",
            "GB | Epoch 1 | Loss: 1.4075649976730347 | Accuracy: 43.75%\n",
            "GB | Epoch 1 | Loss: 1.31639564037323 | Accuracy: 51.5625%\n",
            "GB | Epoch 1 | Loss: 1.5267744064331055 | Accuracy: 40.625%\n",
            "GB | Epoch 1 | Loss: 1.4273898601531982 | Accuracy: 46.875%\n"
          ]
        },
        {
          "output_type": "stream",
          "name": "stderr",
          "text": [
            "Epoch 1:  92%|█████████▏| 693/751 [00:03<00:00, 231.81batch/s, accuracy=45.3125%, loss=1.42]"
          ]
        },
        {
          "output_type": "stream",
          "name": "stdout",
          "text": [
            "GB | Epoch 1 | Loss: 1.3997185230255127 | Accuracy: 45.3125%\n",
            "GB | Epoch 1 | Loss: 1.3507205247879028 | Accuracy: 51.5625%\n",
            "GB | Epoch 1 | Loss: 1.1931530237197876 | Accuracy: 59.375%\n",
            "GB | Epoch 1 | Loss: 1.4158666133880615 | Accuracy: 46.875%\n",
            "GB | Epoch 1 | Loss: 1.2469613552093506 | Accuracy: 53.125%\n",
            "GB | Epoch 1 | Loss: 1.383370280265808 | Accuracy: 46.875%\n",
            "GB | Epoch 1 | Loss: 1.4213021993637085 | Accuracy: 43.75%\n",
            "GB | Epoch 1 | Loss: 1.2285382747650146 | Accuracy: 57.8125%\n",
            "GB | Epoch 1 | Loss: 1.2070456743240356 | Accuracy: 59.375%\n",
            "GB | Epoch 1 | Loss: 1.228632926940918 | Accuracy: 57.8125%\n",
            "GB | Epoch 1 | Loss: 1.3813997507095337 | Accuracy: 53.125%\n",
            "GB | Epoch 1 | Loss: 1.3774096965789795 | Accuracy: 46.875%\n",
            "GB | Epoch 1 | Loss: 1.4918125867843628 | Accuracy: 42.1875%\n",
            "GB | Epoch 1 | Loss: 1.283400058746338 | Accuracy: 53.125%\n",
            "GB | Epoch 1 | Loss: 1.4552390575408936 | Accuracy: 43.75%\n",
            "GB | Epoch 1 | Loss: 1.3174469470977783 | Accuracy: 54.6875%\n",
            "GB | Epoch 1 | Loss: 1.2795552015304565 | Accuracy: 57.8125%\n",
            "GB | Epoch 1 | Loss: 1.4588955640792847 | Accuracy: 43.75%\n",
            "GB | Epoch 1 | Loss: 1.2597935199737549 | Accuracy: 56.25%\n",
            "GB | Epoch 1 | Loss: 1.1638953685760498 | Accuracy: 64.0625%\n",
            "GB | Epoch 1 | Loss: 1.302979588508606 | Accuracy: 48.4375%\n",
            "GB | Epoch 1 | Loss: 1.3065099716186523 | Accuracy: 54.6875%\n",
            "GB | Epoch 1 | Loss: 1.335087776184082 | Accuracy: 51.5625%\n",
            "GB | Epoch 1 | Loss: 1.3684941530227661 | Accuracy: 50.0%\n",
            "GB | Epoch 1 | Loss: 1.3509365320205688 | Accuracy: 53.125%\n",
            "GB | Epoch 1 | Loss: 1.4141334295272827 | Accuracy: 39.0625%\n",
            "GB | Epoch 1 | Loss: 1.3002104759216309 | Accuracy: 48.4375%\n",
            "GB | Epoch 1 | Loss: 1.403028130531311 | Accuracy: 42.1875%\n",
            "GB | Epoch 1 | Loss: 1.3874379396438599 | Accuracy: 46.875%\n",
            "GB | Epoch 1 | Loss: 1.3565845489501953 | Accuracy: 50.0%\n",
            "GB | Epoch 1 | Loss: 1.267463207244873 | Accuracy: 56.25%\n",
            "GB | Epoch 1 | Loss: 1.340040922164917 | Accuracy: 53.125%\n",
            "GB | Epoch 1 | Loss: 1.408799171447754 | Accuracy: 46.875%\n",
            "GB | Epoch 1 | Loss: 1.2319546937942505 | Accuracy: 57.8125%\n",
            "GB | Epoch 1 | Loss: 1.1687798500061035 | Accuracy: 59.375%\n",
            "GB | Epoch 1 | Loss: 1.3258880376815796 | Accuracy: 53.125%\n",
            "GB | Epoch 1 | Loss: 1.364144206047058 | Accuracy: 50.0%\n",
            "GB | Epoch 1 | Loss: 1.4749311208724976 | Accuracy: 40.625%\n",
            "GB | Epoch 1 | Loss: 1.2242754697799683 | Accuracy: 59.375%\n",
            "GB | Epoch 1 | Loss: 1.228801965713501 | Accuracy: 54.6875%\n",
            "GB | Epoch 1 | Loss: 1.2582851648330688 | Accuracy: 56.25%\n",
            "GB | Epoch 1 | Loss: 1.3571102619171143 | Accuracy: 51.5625%\n",
            "GB | Epoch 1 | Loss: 1.4219719171524048 | Accuracy: 42.1875%\n",
            "GB | Epoch 1 | Loss: 1.324704885482788 | Accuracy: 45.3125%\n",
            "GB | Epoch 1 | Loss: 1.4278244972229004 | Accuracy: 43.75%\n"
          ]
        },
        {
          "output_type": "stream",
          "name": "stderr",
          "text": [
            "Epoch 1:  99%|█████████▉| 742/751 [00:03<00:00, 236.19batch/s, accuracy=100.0%, loss=0.603]"
          ]
        },
        {
          "output_type": "stream",
          "name": "stdout",
          "text": [
            "GB | Epoch 1 | Loss: 1.4152940511703491 | Accuracy: 45.3125%\n",
            "GB | Epoch 1 | Loss: 1.4208087921142578 | Accuracy: 43.75%\n",
            "GB | Epoch 1 | Loss: 1.4530730247497559 | Accuracy: 43.75%\n",
            "GB | Epoch 1 | Loss: 1.2877017259597778 | Accuracy: 51.5625%\n",
            "GB | Epoch 1 | Loss: 1.3334404230117798 | Accuracy: 51.5625%\n",
            "GB | Epoch 1 | Loss: 1.2458477020263672 | Accuracy: 56.25%\n",
            "GB | Epoch 1 | Loss: 1.4219998121261597 | Accuracy: 40.625%\n",
            "GB | Epoch 1 | Loss: 1.4917290210723877 | Accuracy: 42.1875%\n",
            "GB | Epoch 1 | Loss: 1.33356511592865 | Accuracy: 54.6875%\n",
            "GB | Epoch 1 | Loss: 1.4025382995605469 | Accuracy: 42.1875%\n",
            "GB | Epoch 1 | Loss: 1.2900657653808594 | Accuracy: 51.5625%\n",
            "GB | Epoch 1 | Loss: 1.424372673034668 | Accuracy: 40.625%\n",
            "GB | Epoch 1 | Loss: 1.2854620218276978 | Accuracy: 56.25%\n",
            "GB | Epoch 1 | Loss: 1.3299205303192139 | Accuracy: 50.0%\n",
            "GB | Epoch 1 | Loss: 1.2597088813781738 | Accuracy: 54.6875%\n",
            "GB | Epoch 1 | Loss: 1.2507176399230957 | Accuracy: 56.25%\n",
            "GB | Epoch 1 | Loss: 1.3421194553375244 | Accuracy: 53.125%\n",
            "GB | Epoch 1 | Loss: 1.2751468420028687 | Accuracy: 53.125%\n",
            "GB | Epoch 1 | Loss: 1.2674726247787476 | Accuracy: 56.25%\n",
            "GB | Epoch 1 | Loss: 1.3746204376220703 | Accuracy: 51.5625%\n",
            "GB | Epoch 1 | Loss: 1.3758771419525146 | Accuracy: 43.75%\n",
            "GB | Epoch 1 | Loss: 1.3801265954971313 | Accuracy: 46.875%\n",
            "GB | Epoch 1 | Loss: 1.3259960412979126 | Accuracy: 51.5625%\n",
            "GB | Epoch 1 | Loss: 1.1786577701568604 | Accuracy: 62.5%\n",
            "GB | Epoch 1 | Loss: 1.4479713439941406 | Accuracy: 46.875%\n",
            "GB | Epoch 1 | Loss: 1.3023314476013184 | Accuracy: 50.0%\n",
            "GB | Epoch 1 | Loss: 1.2409740686416626 | Accuracy: 56.25%\n",
            "GB | Epoch 1 | Loss: 1.2984319925308228 | Accuracy: 46.875%\n",
            "GB | Epoch 1 | Loss: 1.3294849395751953 | Accuracy: 50.0%\n",
            "GB | Epoch 1 | Loss: 1.2323981523513794 | Accuracy: 56.25%\n",
            "GB | Epoch 1 | Loss: 1.2918739318847656 | Accuracy: 46.875%\n",
            "GB | Epoch 1 | Loss: 1.3969593048095703 | Accuracy: 42.1875%\n",
            "GB | Epoch 1 | Loss: 1.411135196685791 | Accuracy: 50.0%\n",
            "GB | Epoch 1 | Loss: 1.2339988946914673 | Accuracy: 54.6875%\n",
            "GB | Epoch 1 | Loss: 1.3678444623947144 | Accuracy: 42.1875%\n",
            "GB | Epoch 1 | Loss: 1.3488343954086304 | Accuracy: 45.3125%\n",
            "GB | Epoch 1 | Loss: 1.2281941175460815 | Accuracy: 59.375%\n",
            "GB | Epoch 1 | Loss: 1.4136098623275757 | Accuracy: 42.1875%\n",
            "GB | Epoch 1 | Loss: 1.3459371328353882 | Accuracy: 51.5625%\n",
            "GB | Epoch 1 | Loss: 1.5170518159866333 | Accuracy: 39.0625%\n",
            "GB | Epoch 1 | Loss: 1.3473767042160034 | Accuracy: 48.4375%\n",
            "GB | Epoch 1 | Loss: 1.2490261793136597 | Accuracy: 54.6875%\n",
            "GB | Epoch 1 | Loss: 1.4264196157455444 | Accuracy: 42.1875%\n",
            "GB | Epoch 1 | Loss: 1.2825456857681274 | Accuracy: 53.125%\n",
            "GB | Epoch 1 | Loss: 1.3521819114685059 | Accuracy: 46.875%\n",
            "GB | Epoch 1 | Loss: 1.518818974494934 | Accuracy: 32.8125%\n",
            "GB | Epoch 1 | Loss: 1.3680598735809326 | Accuracy: 43.75%\n",
            "GB | Epoch 1 | Loss: 1.2421075105667114 | Accuracy: 56.25%\n",
            "GB | Epoch 1 | Loss: 0.6032938957214355 | Accuracy: 100.0%\n"
          ]
        },
        {
          "output_type": "stream",
          "name": "stderr",
          "text": [
            "Epoch 1: 100%|██████████| 751/751 [00:03<00:00, 214.38batch/s, accuracy=100.0%, loss=0.603]\n",
            "Epoch 2:   3%|▎         | 20/751 [00:00<00:09, 79.00batch/s, accuracy=40.625%, loss=1.4]  "
          ]
        },
        {
          "output_type": "stream",
          "name": "stdout",
          "text": [
            "GB | Epoch 2 | Loss: 1.3540897369384766 | Accuracy: 50.0%\n",
            "GB | Epoch 2 | Loss: 1.4136394262313843 | Accuracy: 51.5625%\n",
            "GB | Epoch 2 | Loss: 1.3829238414764404 | Accuracy: 42.1875%\n",
            "GB | Epoch 2 | Loss: 1.238287091255188 | Accuracy: 56.25%\n",
            "GB | Epoch 2 | Loss: 1.1918885707855225 | Accuracy: 60.9375%\n",
            "GB | Epoch 2 | Loss: 1.2897379398345947 | Accuracy: 53.125%\n",
            "GB | Epoch 2 | Loss: 1.4905260801315308 | Accuracy: 35.9375%\n",
            "GB | Epoch 2 | Loss: 1.4394092559814453 | Accuracy: 42.1875%\n",
            "GB | Epoch 2 | Loss: 1.3501180410385132 | Accuracy: 51.5625%\n",
            "GB | Epoch 2 | Loss: 1.3765103816986084 | Accuracy: 51.5625%\n",
            "GB | Epoch 2 | Loss: 1.4425967931747437 | Accuracy: 42.1875%\n",
            "GB | Epoch 2 | Loss: 1.3771131038665771 | Accuracy: 48.4375%\n",
            "GB | Epoch 2 | Loss: 1.3893468379974365 | Accuracy: 46.875%\n",
            "GB | Epoch 2 | Loss: 1.2637780904769897 | Accuracy: 53.125%\n",
            "GB | Epoch 2 | Loss: 1.3191962242126465 | Accuracy: 46.875%\n",
            "GB | Epoch 2 | Loss: 1.3141671419143677 | Accuracy: 46.875%\n",
            "GB | Epoch 2 | Loss: 1.3407293558120728 | Accuracy: 46.875%\n",
            "GB | Epoch 2 | Loss: 1.4118554592132568 | Accuracy: 50.0%\n",
            "GB | Epoch 2 | Loss: 1.3053253889083862 | Accuracy: 53.125%\n",
            "GB | Epoch 2 | Loss: 1.3551056385040283 | Accuracy: 46.875%\n",
            "GB | Epoch 2 | Loss: 1.4044238328933716 | Accuracy: 45.3125%\n",
            "GB | Epoch 2 | Loss: 1.1483234167099 | Accuracy: 59.375%\n",
            "GB | Epoch 2 | Loss: 1.3495376110076904 | Accuracy: 48.4375%\n",
            "GB | Epoch 2 | Loss: 1.3837528228759766 | Accuracy: 46.875%\n",
            "GB | Epoch 2 | Loss: 1.2809239625930786 | Accuracy: 53.125%\n",
            "GB | Epoch 2 | Loss: 1.4405593872070312 | Accuracy: 40.625%\n",
            "GB | Epoch 2 | Loss: 1.4182220697402954 | Accuracy: 40.625%\n",
            "GB | Epoch 2 | Loss: 1.178438425064087 | Accuracy: 59.375%\n",
            "GB | Epoch 2 | Loss: 1.473893642425537 | Accuracy: 43.75%\n",
            "GB | Epoch 2 | Loss: 1.3363053798675537 | Accuracy: 45.3125%\n",
            "GB | Epoch 2 | Loss: 1.3781814575195312 | Accuracy: 50.0%\n",
            "GB | Epoch 2 | Loss: 1.4380475282669067 | Accuracy: 39.0625%\n",
            "GB | Epoch 2 | Loss: 1.35965096950531 | Accuracy: 48.4375%\n",
            "GB | Epoch 2 | Loss: 1.2601169347763062 | Accuracy: 53.125%\n",
            "GB | Epoch 2 | Loss: 1.2690504789352417 | Accuracy: 48.4375%\n",
            "GB | Epoch 2 | Loss: 1.221203327178955 | Accuracy: 54.6875%\n",
            "GB | Epoch 2 | Loss: 1.43956458568573 | Accuracy: 39.0625%\n",
            "GB | Epoch 2 | Loss: 1.3833820819854736 | Accuracy: 43.75%\n",
            "GB | Epoch 2 | Loss: 1.2290387153625488 | Accuracy: 54.6875%\n"
          ]
        },
        {
          "output_type": "stream",
          "name": "stderr",
          "text": [
            "Epoch 2:   8%|▊         | 62/751 [00:00<00:04, 151.76batch/s, accuracy=42.1875%, loss=1.43]"
          ]
        },
        {
          "output_type": "stream",
          "name": "stdout",
          "text": [
            "GB | Epoch 2 | Loss: 1.399451732635498 | Accuracy: 40.625%\n",
            "GB | Epoch 2 | Loss: 1.5369871854782104 | Accuracy: 35.9375%\n",
            "GB | Epoch 2 | Loss: 1.1903035640716553 | Accuracy: 56.25%\n",
            "GB | Epoch 2 | Loss: 1.248090147972107 | Accuracy: 56.25%\n",
            "GB | Epoch 2 | Loss: 1.1904759407043457 | Accuracy: 60.9375%\n",
            "GB | Epoch 2 | Loss: 1.3161900043487549 | Accuracy: 43.75%\n",
            "GB | Epoch 2 | Loss: 1.3630510568618774 | Accuracy: 43.75%\n",
            "GB | Epoch 2 | Loss: 1.2815086841583252 | Accuracy: 51.5625%\n",
            "GB | Epoch 2 | Loss: 1.3309926986694336 | Accuracy: 46.875%\n",
            "GB | Epoch 2 | Loss: 1.3142051696777344 | Accuracy: 46.875%\n",
            "GB | Epoch 2 | Loss: 1.1358039379119873 | Accuracy: 62.5%\n",
            "GB | Epoch 2 | Loss: 1.1757891178131104 | Accuracy: 62.5%\n",
            "GB | Epoch 2 | Loss: 1.4016822576522827 | Accuracy: 43.75%\n",
            "GB | Epoch 2 | Loss: 1.3325177431106567 | Accuracy: 43.75%\n",
            "GB | Epoch 2 | Loss: 1.302166223526001 | Accuracy: 48.4375%\n",
            "GB | Epoch 2 | Loss: 1.2386404275894165 | Accuracy: 53.125%\n",
            "GB | Epoch 2 | Loss: 1.5673881769180298 | Accuracy: 34.375%\n",
            "GB | Epoch 2 | Loss: 1.2801722288131714 | Accuracy: 51.5625%\n",
            "GB | Epoch 2 | Loss: 1.2697067260742188 | Accuracy: 51.5625%\n",
            "GB | Epoch 2 | Loss: 1.381670355796814 | Accuracy: 48.4375%\n",
            "GB | Epoch 2 | Loss: 1.1889526844024658 | Accuracy: 56.25%\n",
            "GB | Epoch 2 | Loss: 1.2516608238220215 | Accuracy: 54.6875%\n",
            "GB | Epoch 2 | Loss: 1.2671031951904297 | Accuracy: 50.0%\n",
            "GB | Epoch 2 | Loss: 1.500000238418579 | Accuracy: 37.5%\n",
            "GB | Epoch 2 | Loss: 1.2714743614196777 | Accuracy: 51.5625%\n",
            "GB | Epoch 2 | Loss: 1.310644268989563 | Accuracy: 53.125%\n",
            "GB | Epoch 2 | Loss: 1.3346521854400635 | Accuracy: 46.875%\n",
            "GB | Epoch 2 | Loss: 1.4050228595733643 | Accuracy: 48.4375%\n",
            "GB | Epoch 2 | Loss: 1.2706869840621948 | Accuracy: 50.0%\n",
            "GB | Epoch 2 | Loss: 1.244325876235962 | Accuracy: 54.6875%\n",
            "GB | Epoch 2 | Loss: 1.2119868993759155 | Accuracy: 56.25%\n",
            "GB | Epoch 2 | Loss: 1.34958016872406 | Accuracy: 46.875%\n",
            "GB | Epoch 2 | Loss: 1.1850712299346924 | Accuracy: 54.6875%\n",
            "GB | Epoch 2 | Loss: 1.4861946105957031 | Accuracy: 40.625%\n",
            "GB | Epoch 2 | Loss: 1.2841007709503174 | Accuracy: 57.8125%\n",
            "GB | Epoch 2 | Loss: 1.2287006378173828 | Accuracy: 59.375%\n",
            "GB | Epoch 2 | Loss: 1.4567805528640747 | Accuracy: 40.625%\n",
            "GB | Epoch 2 | Loss: 1.4098142385482788 | Accuracy: 43.75%\n",
            "GB | Epoch 2 | Loss: 1.329652190208435 | Accuracy: 45.3125%\n"
          ]
        },
        {
          "output_type": "stream",
          "name": "stderr",
          "text": [
            "Epoch 2:  13%|█▎        | 100/751 [00:00<00:03, 170.21batch/s, accuracy=57.8125%, loss=1.17]"
          ]
        },
        {
          "output_type": "stream",
          "name": "stdout",
          "text": [
            "GB | Epoch 2 | Loss: 1.430204153060913 | Accuracy: 42.1875%\n",
            "GB | Epoch 2 | Loss: 1.3990520238876343 | Accuracy: 39.0625%\n",
            "GB | Epoch 2 | Loss: 1.2965341806411743 | Accuracy: 50.0%\n",
            "GB | Epoch 2 | Loss: 1.264632225036621 | Accuracy: 50.0%\n",
            "GB | Epoch 2 | Loss: 1.393897294998169 | Accuracy: 40.625%\n",
            "GB | Epoch 2 | Loss: 1.200282335281372 | Accuracy: 54.6875%\n",
            "GB | Epoch 2 | Loss: 1.3559542894363403 | Accuracy: 46.875%\n",
            "GB | Epoch 2 | Loss: 1.1227020025253296 | Accuracy: 62.5%\n",
            "GB | Epoch 2 | Loss: 1.230353593826294 | Accuracy: 53.125%\n",
            "GB | Epoch 2 | Loss: 1.2235711812973022 | Accuracy: 54.6875%\n",
            "GB | Epoch 2 | Loss: 1.2738289833068848 | Accuracy: 50.0%\n",
            "GB | Epoch 2 | Loss: 1.4242088794708252 | Accuracy: 45.3125%\n",
            "GB | Epoch 2 | Loss: 1.2499446868896484 | Accuracy: 50.0%\n",
            "GB | Epoch 2 | Loss: 1.2095690965652466 | Accuracy: 50.0%\n",
            "GB | Epoch 2 | Loss: 1.2872991561889648 | Accuracy: 46.875%\n",
            "GB | Epoch 2 | Loss: 1.269148349761963 | Accuracy: 51.5625%\n",
            "GB | Epoch 2 | Loss: 1.4101786613464355 | Accuracy: 35.9375%\n",
            "GB | Epoch 2 | Loss: 1.2152541875839233 | Accuracy: 54.6875%\n",
            "GB | Epoch 2 | Loss: 1.3435380458831787 | Accuracy: 43.75%\n",
            "GB | Epoch 2 | Loss: 1.3528735637664795 | Accuracy: 43.75%\n",
            "GB | Epoch 2 | Loss: 1.1949373483657837 | Accuracy: 57.8125%\n",
            "GB | Epoch 2 | Loss: 1.2773433923721313 | Accuracy: 46.875%\n",
            "GB | Epoch 2 | Loss: 1.240175485610962 | Accuracy: 51.5625%\n",
            "GB | Epoch 2 | Loss: 1.3319939374923706 | Accuracy: 46.875%\n",
            "GB | Epoch 2 | Loss: 1.2122960090637207 | Accuracy: 54.6875%\n",
            "GB | Epoch 2 | Loss: 1.1824228763580322 | Accuracy: 56.25%\n",
            "GB | Epoch 2 | Loss: 1.358881950378418 | Accuracy: 43.75%\n",
            "GB | Epoch 2 | Loss: 1.1953818798065186 | Accuracy: 57.8125%\n",
            "GB | Epoch 2 | Loss: 1.2606580257415771 | Accuracy: 51.5625%\n",
            "GB | Epoch 2 | Loss: 1.3567087650299072 | Accuracy: 42.1875%\n",
            "GB | Epoch 2 | Loss: 1.2561827898025513 | Accuracy: 53.125%\n",
            "GB | Epoch 2 | Loss: 1.2209287881851196 | Accuracy: 54.6875%\n",
            "GB | Epoch 2 | Loss: 1.1996397972106934 | Accuracy: 56.25%\n",
            "GB | Epoch 2 | Loss: 1.339332103729248 | Accuracy: 46.875%\n",
            "GB | Epoch 2 | Loss: 1.2478554248809814 | Accuracy: 53.125%\n",
            "GB | Epoch 2 | Loss: 1.3233131170272827 | Accuracy: 50.0%\n",
            "GB | Epoch 2 | Loss: 1.1777377128601074 | Accuracy: 57.8125%\n",
            "GB | Epoch 2 | Loss: 1.3547804355621338 | Accuracy: 42.1875%\n",
            "GB | Epoch 2 | Loss: 1.1739261150360107 | Accuracy: 57.8125%\n"
          ]
        },
        {
          "output_type": "stream",
          "name": "stderr",
          "text": [
            "Epoch 2:  19%|█▊        | 140/751 [00:01<00:03, 183.45batch/s, accuracy=59.375%, loss=1.09]"
          ]
        },
        {
          "output_type": "stream",
          "name": "stdout",
          "text": [
            "GB | Epoch 2 | Loss: 1.2888848781585693 | Accuracy: 50.0%\n",
            "GB | Epoch 2 | Loss: 1.293612003326416 | Accuracy: 43.75%\n",
            "GB | Epoch 2 | Loss: 1.2729655504226685 | Accuracy: 51.5625%\n",
            "GB | Epoch 2 | Loss: 1.3143947124481201 | Accuracy: 48.4375%\n",
            "GB | Epoch 2 | Loss: 1.2620201110839844 | Accuracy: 50.0%\n",
            "GB | Epoch 2 | Loss: 1.2482364177703857 | Accuracy: 51.5625%\n",
            "GB | Epoch 2 | Loss: 1.3387341499328613 | Accuracy: 43.75%\n",
            "GB | Epoch 2 | Loss: 1.1808239221572876 | Accuracy: 57.8125%\n",
            "GB | Epoch 2 | Loss: 1.232699990272522 | Accuracy: 51.5625%\n",
            "GB | Epoch 2 | Loss: 1.2534763813018799 | Accuracy: 50.0%\n",
            "GB | Epoch 2 | Loss: 1.3003942966461182 | Accuracy: 43.75%\n",
            "GB | Epoch 2 | Loss: 1.2726774215698242 | Accuracy: 50.0%\n",
            "GB | Epoch 2 | Loss: 1.2071832418441772 | Accuracy: 51.5625%\n",
            "GB | Epoch 2 | Loss: 1.1573065519332886 | Accuracy: 60.9375%\n",
            "GB | Epoch 2 | Loss: 1.3164830207824707 | Accuracy: 45.3125%\n",
            "GB | Epoch 2 | Loss: 1.1724570989608765 | Accuracy: 56.25%\n",
            "GB | Epoch 2 | Loss: 1.0609990358352661 | Accuracy: 65.625%\n",
            "GB | Epoch 2 | Loss: 1.2075358629226685 | Accuracy: 53.125%\n",
            "GB | Epoch 2 | Loss: 1.3142077922821045 | Accuracy: 45.3125%\n",
            "GB | Epoch 2 | Loss: 1.322351336479187 | Accuracy: 45.3125%\n",
            "GB | Epoch 2 | Loss: 1.0659328699111938 | Accuracy: 64.0625%\n",
            "GB | Epoch 2 | Loss: 1.1582279205322266 | Accuracy: 54.6875%\n",
            "GB | Epoch 2 | Loss: 1.0751994848251343 | Accuracy: 62.5%\n",
            "GB | Epoch 2 | Loss: 1.3185054063796997 | Accuracy: 42.1875%\n",
            "GB | Epoch 2 | Loss: 1.1652437448501587 | Accuracy: 57.8125%\n",
            "GB | Epoch 2 | Loss: 1.384190320968628 | Accuracy: 42.1875%\n",
            "GB | Epoch 2 | Loss: 1.2416973114013672 | Accuracy: 53.125%\n",
            "GB | Epoch 2 | Loss: 1.09761643409729 | Accuracy: 62.5%\n",
            "GB | Epoch 2 | Loss: 1.3023301362991333 | Accuracy: 48.4375%\n",
            "GB | Epoch 2 | Loss: 1.2848608493804932 | Accuracy: 53.125%\n",
            "GB | Epoch 2 | Loss: 1.2862119674682617 | Accuracy: 45.3125%\n",
            "GB | Epoch 2 | Loss: 1.191163182258606 | Accuracy: 51.5625%\n",
            "GB | Epoch 2 | Loss: 1.2962698936462402 | Accuracy: 45.3125%\n",
            "GB | Epoch 2 | Loss: 1.2281821966171265 | Accuracy: 51.5625%\n",
            "GB | Epoch 2 | Loss: 1.1840424537658691 | Accuracy: 53.125%\n",
            "GB | Epoch 2 | Loss: 1.2568501234054565 | Accuracy: 51.5625%\n",
            "GB | Epoch 2 | Loss: 1.1349408626556396 | Accuracy: 53.125%\n",
            "GB | Epoch 2 | Loss: 1.2116529941558838 | Accuracy: 50.0%\n",
            "GB | Epoch 2 | Loss: 1.3084903955459595 | Accuracy: 46.875%\n",
            "GB | Epoch 2 | Loss: 1.2997055053710938 | Accuracy: 50.0%\n",
            "GB | Epoch 2 | Loss: 1.2218109369277954 | Accuracy: 53.125%\n",
            "GB | Epoch 2 | Loss: 1.0947273969650269 | Accuracy: 59.375%\n"
          ]
        },
        {
          "output_type": "stream",
          "name": "stderr",
          "text": [
            "Epoch 2:  25%|██▍       | 186/751 [00:01<00:02, 204.55batch/s, accuracy=39.0625%, loss=1.35]"
          ]
        },
        {
          "output_type": "stream",
          "name": "stdout",
          "text": [
            "GB | Epoch 2 | Loss: 1.2057901620864868 | Accuracy: 57.8125%\n",
            "GB | Epoch 2 | Loss: 1.1599785089492798 | Accuracy: 57.8125%\n",
            "GB | Epoch 2 | Loss: 1.076095700263977 | Accuracy: 60.9375%\n",
            "GB | Epoch 2 | Loss: 1.1579877138137817 | Accuracy: 60.9375%\n",
            "GB | Epoch 2 | Loss: 1.13113272190094 | Accuracy: 59.375%\n",
            "GB | Epoch 2 | Loss: 1.3155393600463867 | Accuracy: 51.5625%\n",
            "GB | Epoch 2 | Loss: 1.1645323038101196 | Accuracy: 54.6875%\n",
            "GB | Epoch 2 | Loss: 1.4383329153060913 | Accuracy: 45.3125%\n",
            "GB | Epoch 2 | Loss: 1.091235637664795 | Accuracy: 64.0625%\n",
            "GB | Epoch 2 | Loss: 1.084484338760376 | Accuracy: 60.9375%\n",
            "GB | Epoch 2 | Loss: 1.3410661220550537 | Accuracy: 40.625%\n",
            "GB | Epoch 2 | Loss: 1.2937161922454834 | Accuracy: 53.125%\n",
            "GB | Epoch 2 | Loss: 1.3184484243392944 | Accuracy: 46.875%\n",
            "GB | Epoch 2 | Loss: 1.1977319717407227 | Accuracy: 54.6875%\n",
            "GB | Epoch 2 | Loss: 1.237882375717163 | Accuracy: 46.875%\n",
            "GB | Epoch 2 | Loss: 1.333746075630188 | Accuracy: 42.1875%\n",
            "GB | Epoch 2 | Loss: 1.000962257385254 | Accuracy: 68.75%\n",
            "GB | Epoch 2 | Loss: 1.2280551195144653 | Accuracy: 54.6875%\n",
            "GB | Epoch 2 | Loss: 1.1391513347625732 | Accuracy: 54.6875%\n",
            "GB | Epoch 2 | Loss: 1.189046859741211 | Accuracy: 56.25%\n",
            "GB | Epoch 2 | Loss: 1.1928051710128784 | Accuracy: 50.0%\n",
            "GB | Epoch 2 | Loss: 1.1449893712997437 | Accuracy: 51.5625%\n",
            "GB | Epoch 2 | Loss: 1.1470115184783936 | Accuracy: 56.25%\n",
            "GB | Epoch 2 | Loss: 1.343383550643921 | Accuracy: 50.0%\n",
            "GB | Epoch 2 | Loss: 1.2807520627975464 | Accuracy: 50.0%\n",
            "GB | Epoch 2 | Loss: 1.3623157739639282 | Accuracy: 39.0625%\n",
            "GB | Epoch 2 | Loss: 1.1872748136520386 | Accuracy: 53.125%\n",
            "GB | Epoch 2 | Loss: 1.0974037647247314 | Accuracy: 57.8125%\n",
            "GB | Epoch 2 | Loss: 1.2488089799880981 | Accuracy: 50.0%\n",
            "GB | Epoch 2 | Loss: 1.15238356590271 | Accuracy: 56.25%\n",
            "GB | Epoch 2 | Loss: 1.2714693546295166 | Accuracy: 42.1875%\n",
            "GB | Epoch 2 | Loss: 1.188004732131958 | Accuracy: 57.8125%\n",
            "GB | Epoch 2 | Loss: 1.227671504020691 | Accuracy: 48.4375%\n",
            "GB | Epoch 2 | Loss: 1.353229284286499 | Accuracy: 42.1875%\n",
            "GB | Epoch 2 | Loss: 1.2393203973770142 | Accuracy: 50.0%\n",
            "GB | Epoch 2 | Loss: 1.0579553842544556 | Accuracy: 60.9375%\n",
            "GB | Epoch 2 | Loss: 1.284710168838501 | Accuracy: 53.125%\n",
            "GB | Epoch 2 | Loss: 1.098726749420166 | Accuracy: 56.25%\n",
            "GB | Epoch 2 | Loss: 1.36538827419281 | Accuracy: 42.1875%\n",
            "GB | Epoch 2 | Loss: 1.3628243207931519 | Accuracy: 43.75%\n",
            "GB | Epoch 2 | Loss: 1.0862263441085815 | Accuracy: 65.625%\n",
            "GB | Epoch 2 | Loss: 1.1971218585968018 | Accuracy: 59.375%\n",
            "GB | Epoch 2 | Loss: 1.2774800062179565 | Accuracy: 48.4375%\n",
            "GB | Epoch 2 | Loss: 1.2172694206237793 | Accuracy: 54.6875%\n",
            "GB | Epoch 2 | Loss: 1.2918741703033447 | Accuracy: 46.875%\n",
            "GB | Epoch 2 | Loss: 1.3492882251739502 | Accuracy: 39.0625%\n"
          ]
        },
        {
          "output_type": "stream",
          "name": "stderr",
          "text": [
            "Epoch 2:  31%|███       | 232/751 [00:01<00:02, 213.60batch/s, accuracy=59.375%, loss=1.1]  "
          ]
        },
        {
          "output_type": "stream",
          "name": "stdout",
          "text": [
            "GB | Epoch 2 | Loss: 1.179794430732727 | Accuracy: 51.5625%\n",
            "GB | Epoch 2 | Loss: 1.1719679832458496 | Accuracy: 51.5625%\n",
            "GB | Epoch 2 | Loss: 1.1368558406829834 | Accuracy: 60.9375%\n",
            "GB | Epoch 2 | Loss: 1.2139219045639038 | Accuracy: 50.0%\n",
            "GB | Epoch 2 | Loss: 1.0493841171264648 | Accuracy: 68.75%\n",
            "GB | Epoch 2 | Loss: 1.1788215637207031 | Accuracy: 57.8125%\n",
            "GB | Epoch 2 | Loss: 1.1776487827301025 | Accuracy: 53.125%\n",
            "GB | Epoch 2 | Loss: 1.2059355974197388 | Accuracy: 53.125%\n",
            "GB | Epoch 2 | Loss: 1.1653321981430054 | Accuracy: 51.5625%\n",
            "GB | Epoch 2 | Loss: 1.0921651124954224 | Accuracy: 59.375%\n",
            "GB | Epoch 2 | Loss: 1.2163889408111572 | Accuracy: 51.5625%\n",
            "GB | Epoch 2 | Loss: 1.0867810249328613 | Accuracy: 64.0625%\n",
            "GB | Epoch 2 | Loss: 1.163704514503479 | Accuracy: 53.125%\n",
            "GB | Epoch 2 | Loss: 1.2638847827911377 | Accuracy: 48.4375%\n",
            "GB | Epoch 2 | Loss: 1.2269302606582642 | Accuracy: 51.5625%\n",
            "GB | Epoch 2 | Loss: 1.2236552238464355 | Accuracy: 46.875%\n",
            "GB | Epoch 2 | Loss: 1.103071689605713 | Accuracy: 59.375%\n",
            "GB | Epoch 2 | Loss: 1.2158846855163574 | Accuracy: 45.3125%\n",
            "GB | Epoch 2 | Loss: 1.166422724723816 | Accuracy: 48.4375%\n",
            "GB | Epoch 2 | Loss: 1.2978516817092896 | Accuracy: 46.875%\n",
            "GB | Epoch 2 | Loss: 1.2310086488723755 | Accuracy: 46.875%\n",
            "GB | Epoch 2 | Loss: 1.0907551050186157 | Accuracy: 65.625%\n",
            "GB | Epoch 2 | Loss: 1.029137134552002 | Accuracy: 65.625%\n",
            "GB | Epoch 2 | Loss: 1.2382205724716187 | Accuracy: 45.3125%\n",
            "GB | Epoch 2 | Loss: 1.138256549835205 | Accuracy: 53.125%\n",
            "GB | Epoch 2 | Loss: 1.1216564178466797 | Accuracy: 57.8125%\n",
            "GB | Epoch 2 | Loss: 1.0690736770629883 | Accuracy: 54.6875%\n",
            "GB | Epoch 2 | Loss: 1.0476601123809814 | Accuracy: 64.0625%\n",
            "GB | Epoch 2 | Loss: 1.1060307025909424 | Accuracy: 60.9375%\n",
            "GB | Epoch 2 | Loss: 1.2162972688674927 | Accuracy: 45.3125%\n",
            "GB | Epoch 2 | Loss: 1.1308711767196655 | Accuracy: 56.25%\n",
            "GB | Epoch 2 | Loss: 1.1256107091903687 | Accuracy: 53.125%\n",
            "GB | Epoch 2 | Loss: 1.0655806064605713 | Accuracy: 56.25%\n",
            "GB | Epoch 2 | Loss: 0.9855244159698486 | Accuracy: 65.625%\n",
            "GB | Epoch 2 | Loss: 1.0241979360580444 | Accuracy: 62.5%\n",
            "GB | Epoch 2 | Loss: 1.0949342250823975 | Accuracy: 56.25%\n",
            "GB | Epoch 2 | Loss: 1.1199511289596558 | Accuracy: 56.25%\n",
            "GB | Epoch 2 | Loss: 1.120622158050537 | Accuracy: 53.125%\n",
            "GB | Epoch 2 | Loss: 1.2759051322937012 | Accuracy: 50.0%\n",
            "GB | Epoch 2 | Loss: 1.1914650201797485 | Accuracy: 59.375%\n",
            "GB | Epoch 2 | Loss: 1.0896482467651367 | Accuracy: 59.375%\n",
            "GB | Epoch 2 | Loss: 1.0669375658035278 | Accuracy: 59.375%\n",
            "GB | Epoch 2 | Loss: 1.1234065294265747 | Accuracy: 57.8125%\n",
            "GB | Epoch 2 | Loss: 1.0901944637298584 | Accuracy: 64.0625%\n",
            "GB | Epoch 2 | Loss: 1.1072330474853516 | Accuracy: 54.6875%\n",
            "GB | Epoch 2 | Loss: 1.104280948638916 | Accuracy: 59.375%\n"
          ]
        },
        {
          "output_type": "stream",
          "name": "stderr",
          "text": [
            "Epoch 2:  37%|███▋      | 280/751 [00:01<00:02, 224.65batch/s, accuracy=62.5%, loss=0.968]  "
          ]
        },
        {
          "output_type": "stream",
          "name": "stdout",
          "text": [
            "GB | Epoch 2 | Loss: 1.0127989053726196 | Accuracy: 67.1875%\n",
            "GB | Epoch 2 | Loss: 1.0643175840377808 | Accuracy: 54.6875%\n",
            "GB | Epoch 2 | Loss: 1.0740119218826294 | Accuracy: 56.25%\n",
            "GB | Epoch 2 | Loss: 0.9760743975639343 | Accuracy: 65.625%\n",
            "GB | Epoch 2 | Loss: 1.1885160207748413 | Accuracy: 50.0%\n",
            "GB | Epoch 2 | Loss: 1.098917007446289 | Accuracy: 60.9375%\n",
            "GB | Epoch 2 | Loss: 1.1377533674240112 | Accuracy: 54.6875%\n",
            "GB | Epoch 2 | Loss: 1.021841049194336 | Accuracy: 65.625%\n",
            "GB | Epoch 2 | Loss: 0.9677527546882629 | Accuracy: 67.1875%\n",
            "GB | Epoch 2 | Loss: 1.0265464782714844 | Accuracy: 57.8125%\n",
            "GB | Epoch 2 | Loss: 1.020849585533142 | Accuracy: 59.375%\n",
            "GB | Epoch 2 | Loss: 0.9827176332473755 | Accuracy: 67.1875%\n",
            "GB | Epoch 2 | Loss: 0.9985907673835754 | Accuracy: 68.75%\n",
            "GB | Epoch 2 | Loss: 1.0146931409835815 | Accuracy: 64.0625%\n",
            "GB | Epoch 2 | Loss: 1.1218866109848022 | Accuracy: 57.8125%\n",
            "GB | Epoch 2 | Loss: 1.0001842975616455 | Accuracy: 65.625%\n",
            "GB | Epoch 2 | Loss: 1.049329161643982 | Accuracy: 54.6875%\n",
            "GB | Epoch 2 | Loss: 1.2585395574569702 | Accuracy: 40.625%\n",
            "GB | Epoch 2 | Loss: 1.0600119829177856 | Accuracy: 62.5%\n",
            "GB | Epoch 2 | Loss: 1.014249563217163 | Accuracy: 59.375%\n",
            "GB | Epoch 2 | Loss: 1.1607517004013062 | Accuracy: 59.375%\n",
            "GB | Epoch 2 | Loss: 0.8795050978660583 | Accuracy: 75.0%\n",
            "GB | Epoch 2 | Loss: 1.0477014780044556 | Accuracy: 68.75%\n",
            "GB | Epoch 2 | Loss: 1.1569995880126953 | Accuracy: 53.125%\n",
            "GB | Epoch 2 | Loss: 1.1860554218292236 | Accuracy: 48.4375%\n",
            "GB | Epoch 2 | Loss: 1.0112165212631226 | Accuracy: 57.8125%\n",
            "GB | Epoch 2 | Loss: 1.1062439680099487 | Accuracy: 51.5625%\n",
            "GB | Epoch 2 | Loss: 1.0223232507705688 | Accuracy: 62.5%\n",
            "GB | Epoch 2 | Loss: 1.0589005947113037 | Accuracy: 59.375%\n",
            "GB | Epoch 2 | Loss: 1.1683390140533447 | Accuracy: 57.8125%\n",
            "GB | Epoch 2 | Loss: 1.0246608257293701 | Accuracy: 65.625%\n",
            "GB | Epoch 2 | Loss: 1.1468654870986938 | Accuracy: 57.8125%\n",
            "GB | Epoch 2 | Loss: 1.0368062257766724 | Accuracy: 67.1875%\n",
            "GB | Epoch 2 | Loss: 0.9993688464164734 | Accuracy: 67.1875%\n",
            "GB | Epoch 2 | Loss: 1.2240155935287476 | Accuracy: 53.125%\n",
            "GB | Epoch 2 | Loss: 1.029587984085083 | Accuracy: 60.9375%\n",
            "GB | Epoch 2 | Loss: 1.095155954360962 | Accuracy: 57.8125%\n",
            "GB | Epoch 2 | Loss: 0.9892717599868774 | Accuracy: 65.625%\n",
            "GB | Epoch 2 | Loss: 1.01027250289917 | Accuracy: 60.9375%\n",
            "GB | Epoch 2 | Loss: 0.9970728158950806 | Accuracy: 67.1875%\n",
            "GB | Epoch 2 | Loss: 1.0881259441375732 | Accuracy: 59.375%\n",
            "GB | Epoch 2 | Loss: 1.063951849937439 | Accuracy: 62.5%\n",
            "GB | Epoch 2 | Loss: 1.0573968887329102 | Accuracy: 60.9375%\n",
            "GB | Epoch 2 | Loss: 1.0438222885131836 | Accuracy: 59.375%\n",
            "GB | Epoch 2 | Loss: 1.1635669469833374 | Accuracy: 51.5625%\n",
            "GB | Epoch 2 | Loss: 1.133933663368225 | Accuracy: 62.5%\n",
            "GB | Epoch 2 | Loss: 0.8832776546478271 | Accuracy: 71.875%\n",
            "GB | Epoch 2 | Loss: 0.9295233488082886 | Accuracy: 64.0625%\n",
            "GB | Epoch 2 | Loss: 0.9678508043289185 | Accuracy: 62.5%\n"
          ]
        },
        {
          "output_type": "stream",
          "name": "stderr",
          "text": [
            "Epoch 2:  44%|████▍     | 330/751 [00:01<00:01, 234.30batch/s, accuracy=75.0%, loss=0.835] "
          ]
        },
        {
          "output_type": "stream",
          "name": "stdout",
          "text": [
            "GB | Epoch 2 | Loss: 1.0294744968414307 | Accuracy: 59.375%\n",
            "GB | Epoch 2 | Loss: 0.932766318321228 | Accuracy: 71.875%\n",
            "GB | Epoch 2 | Loss: 1.0225892066955566 | Accuracy: 60.9375%\n",
            "GB | Epoch 2 | Loss: 1.0627878904342651 | Accuracy: 64.0625%\n",
            "GB | Epoch 2 | Loss: 1.0403088331222534 | Accuracy: 59.375%\n",
            "GB | Epoch 2 | Loss: 0.8906374573707581 | Accuracy: 64.0625%\n",
            "GB | Epoch 2 | Loss: 1.0841420888900757 | Accuracy: 60.9375%\n",
            "GB | Epoch 2 | Loss: 0.9859687089920044 | Accuracy: 67.1875%\n",
            "GB | Epoch 2 | Loss: 1.065460443496704 | Accuracy: 57.8125%\n",
            "GB | Epoch 2 | Loss: 1.0239248275756836 | Accuracy: 59.375%\n",
            "GB | Epoch 2 | Loss: 0.9226788282394409 | Accuracy: 65.625%\n",
            "GB | Epoch 2 | Loss: 0.9359242916107178 | Accuracy: 65.625%\n",
            "GB | Epoch 2 | Loss: 0.9424323439598083 | Accuracy: 65.625%\n",
            "GB | Epoch 2 | Loss: 1.1989754438400269 | Accuracy: 50.0%\n",
            "GB | Epoch 2 | Loss: 0.9267004132270813 | Accuracy: 65.625%\n",
            "GB | Epoch 2 | Loss: 0.9674782752990723 | Accuracy: 59.375%\n",
            "GB | Epoch 2 | Loss: 1.1610223054885864 | Accuracy: 48.4375%\n",
            "GB | Epoch 2 | Loss: 0.9051036238670349 | Accuracy: 68.75%\n",
            "GB | Epoch 2 | Loss: 1.070818543434143 | Accuracy: 54.6875%\n",
            "GB | Epoch 2 | Loss: 0.9244190454483032 | Accuracy: 67.1875%\n",
            "GB | Epoch 2 | Loss: 0.813011646270752 | Accuracy: 73.4375%\n",
            "GB | Epoch 2 | Loss: 0.9980825185775757 | Accuracy: 62.5%\n",
            "GB | Epoch 2 | Loss: 0.9027539491653442 | Accuracy: 67.1875%\n",
            "GB | Epoch 2 | Loss: 0.9057510495185852 | Accuracy: 73.4375%\n",
            "GB | Epoch 2 | Loss: 0.9506916999816895 | Accuracy: 62.5%\n",
            "GB | Epoch 2 | Loss: 1.1235109567642212 | Accuracy: 53.125%\n",
            "GB | Epoch 2 | Loss: 0.9921854138374329 | Accuracy: 56.25%\n",
            "GB | Epoch 2 | Loss: 1.054736852645874 | Accuracy: 59.375%\n",
            "GB | Epoch 2 | Loss: 1.0386362075805664 | Accuracy: 65.625%\n",
            "GB | Epoch 2 | Loss: 1.058003544807434 | Accuracy: 67.1875%\n",
            "GB | Epoch 2 | Loss: 0.9220947027206421 | Accuracy: 62.5%\n",
            "GB | Epoch 2 | Loss: 0.975537896156311 | Accuracy: 62.5%\n",
            "GB | Epoch 2 | Loss: 1.0235848426818848 | Accuracy: 60.9375%\n",
            "GB | Epoch 2 | Loss: 1.0528438091278076 | Accuracy: 54.6875%\n",
            "GB | Epoch 2 | Loss: 1.0497936010360718 | Accuracy: 67.1875%\n",
            "GB | Epoch 2 | Loss: 0.9640159010887146 | Accuracy: 57.8125%\n",
            "GB | Epoch 2 | Loss: 1.085203766822815 | Accuracy: 62.5%\n",
            "GB | Epoch 2 | Loss: 0.9410846829414368 | Accuracy: 68.75%\n",
            "GB | Epoch 2 | Loss: 0.8834195137023926 | Accuracy: 73.4375%\n",
            "GB | Epoch 2 | Loss: 1.0833263397216797 | Accuracy: 59.375%\n",
            "GB | Epoch 2 | Loss: 0.9278311133384705 | Accuracy: 67.1875%\n",
            "GB | Epoch 2 | Loss: 0.8493368029594421 | Accuracy: 70.3125%\n",
            "GB | Epoch 2 | Loss: 0.9709974527359009 | Accuracy: 62.5%\n",
            "GB | Epoch 2 | Loss: 0.9358810186386108 | Accuracy: 64.0625%\n",
            "GB | Epoch 2 | Loss: 0.8133280873298645 | Accuracy: 76.5625%\n",
            "GB | Epoch 2 | Loss: 1.0054949522018433 | Accuracy: 64.0625%\n",
            "GB | Epoch 2 | Loss: 1.0457314252853394 | Accuracy: 65.625%\n",
            "GB | Epoch 2 | Loss: 0.8354295492172241 | Accuracy: 75.0%\n"
          ]
        },
        {
          "output_type": "stream",
          "name": "stderr",
          "text": [
            "Epoch 2:  50%|█████     | 379/751 [00:02<00:01, 236.25batch/s, accuracy=60.9375%, loss=0.904]"
          ]
        },
        {
          "output_type": "stream",
          "name": "stdout",
          "text": [
            "GB | Epoch 2 | Loss: 0.8909067511558533 | Accuracy: 64.0625%\n",
            "GB | Epoch 2 | Loss: 0.9767650961875916 | Accuracy: 60.9375%\n",
            "GB | Epoch 2 | Loss: 0.8063523173332214 | Accuracy: 75.0%\n",
            "GB | Epoch 2 | Loss: 0.8344303369522095 | Accuracy: 67.1875%\n",
            "GB | Epoch 2 | Loss: 0.908051609992981 | Accuracy: 65.625%\n",
            "GB | Epoch 2 | Loss: 0.806269645690918 | Accuracy: 78.125%\n",
            "GB | Epoch 2 | Loss: 0.9436607360839844 | Accuracy: 65.625%\n",
            "GB | Epoch 2 | Loss: 0.9438391327857971 | Accuracy: 68.75%\n",
            "GB | Epoch 2 | Loss: 0.8255615830421448 | Accuracy: 71.875%\n",
            "GB | Epoch 2 | Loss: 0.6578966975212097 | Accuracy: 81.25%\n",
            "GB | Epoch 2 | Loss: 0.7964208722114563 | Accuracy: 70.3125%\n",
            "GB | Epoch 2 | Loss: 1.0628615617752075 | Accuracy: 68.75%\n",
            "GB | Epoch 2 | Loss: 0.8914309740066528 | Accuracy: 67.1875%\n",
            "GB | Epoch 2 | Loss: 0.8525148034095764 | Accuracy: 75.0%\n",
            "GB | Epoch 2 | Loss: 1.0312254428863525 | Accuracy: 53.125%\n",
            "GB | Epoch 2 | Loss: 0.9146984815597534 | Accuracy: 62.5%\n",
            "GB | Epoch 2 | Loss: 0.9499163031578064 | Accuracy: 65.625%\n",
            "GB | Epoch 2 | Loss: 1.0131611824035645 | Accuracy: 64.0625%\n",
            "GB | Epoch 2 | Loss: 0.8603490591049194 | Accuracy: 68.75%\n",
            "GB | Epoch 2 | Loss: 1.0053699016571045 | Accuracy: 59.375%\n",
            "GB | Epoch 2 | Loss: 0.898563802242279 | Accuracy: 71.875%\n",
            "GB | Epoch 2 | Loss: 0.8809722661972046 | Accuracy: 73.4375%\n",
            "GB | Epoch 2 | Loss: 1.233349323272705 | Accuracy: 54.6875%\n",
            "GB | Epoch 2 | Loss: 0.8460229635238647 | Accuracy: 67.1875%\n",
            "GB | Epoch 2 | Loss: 0.8649352192878723 | Accuracy: 71.875%\n",
            "GB | Epoch 2 | Loss: 0.7288870215415955 | Accuracy: 79.6875%\n",
            "GB | Epoch 2 | Loss: 0.9143835306167603 | Accuracy: 68.75%\n",
            "GB | Epoch 2 | Loss: 0.8021873235702515 | Accuracy: 70.3125%\n",
            "GB | Epoch 2 | Loss: 0.8903515934944153 | Accuracy: 71.875%\n",
            "GB | Epoch 2 | Loss: 1.094352126121521 | Accuracy: 53.125%\n",
            "GB | Epoch 2 | Loss: 0.9213951230049133 | Accuracy: 65.625%\n",
            "GB | Epoch 2 | Loss: 0.9441461563110352 | Accuracy: 65.625%\n",
            "GB | Epoch 2 | Loss: 0.9488815665245056 | Accuracy: 73.4375%\n",
            "GB | Epoch 2 | Loss: 1.0314245223999023 | Accuracy: 62.5%\n",
            "GB | Epoch 2 | Loss: 0.9501799941062927 | Accuracy: 73.4375%\n",
            "GB | Epoch 2 | Loss: 0.9433978199958801 | Accuracy: 62.5%\n",
            "GB | Epoch 2 | Loss: 0.9663763046264648 | Accuracy: 60.9375%\n",
            "GB | Epoch 2 | Loss: 0.8379626870155334 | Accuracy: 67.1875%\n",
            "GB | Epoch 2 | Loss: 0.8464844226837158 | Accuracy: 73.4375%\n",
            "GB | Epoch 2 | Loss: 0.8012517690658569 | Accuracy: 71.875%\n",
            "GB | Epoch 2 | Loss: 0.7728950381278992 | Accuracy: 78.125%\n",
            "GB | Epoch 2 | Loss: 0.9506502151489258 | Accuracy: 67.1875%\n",
            "GB | Epoch 2 | Loss: 0.8337455987930298 | Accuracy: 62.5%\n",
            "GB | Epoch 2 | Loss: 0.8021071553230286 | Accuracy: 76.5625%\n",
            "GB | Epoch 2 | Loss: 0.9137606620788574 | Accuracy: 60.9375%\n",
            "GB | Epoch 2 | Loss: 0.9863462448120117 | Accuracy: 71.875%\n",
            "GB | Epoch 2 | Loss: 0.9808451533317566 | Accuracy: 64.0625%\n",
            "GB | Epoch 2 | Loss: 0.9526714086532593 | Accuracy: 62.5%\n",
            "GB | Epoch 2 | Loss: 0.9038934707641602 | Accuracy: 60.9375%\n"
          ]
        },
        {
          "output_type": "stream",
          "name": "stderr",
          "text": [
            "Epoch 2:  57%|█████▋    | 430/751 [00:02<00:01, 241.99batch/s, accuracy=79.6875%, loss=0.73] "
          ]
        },
        {
          "output_type": "stream",
          "name": "stdout",
          "text": [
            "GB | Epoch 2 | Loss: 0.7516942620277405 | Accuracy: 75.0%\n",
            "GB | Epoch 2 | Loss: 0.916655421257019 | Accuracy: 62.5%\n",
            "GB | Epoch 2 | Loss: 0.9226008653640747 | Accuracy: 67.1875%\n",
            "GB | Epoch 2 | Loss: 0.9073370695114136 | Accuracy: 70.3125%\n",
            "GB | Epoch 2 | Loss: 0.7337881922721863 | Accuracy: 76.5625%\n",
            "GB | Epoch 2 | Loss: 0.9413716197013855 | Accuracy: 62.5%\n",
            "GB | Epoch 2 | Loss: 0.8170887231826782 | Accuracy: 75.0%\n",
            "GB | Epoch 2 | Loss: 0.882434606552124 | Accuracy: 76.5625%\n",
            "GB | Epoch 2 | Loss: 0.8556662201881409 | Accuracy: 70.3125%\n",
            "GB | Epoch 2 | Loss: 0.7804709672927856 | Accuracy: 79.6875%\n",
            "GB | Epoch 2 | Loss: 0.7639683485031128 | Accuracy: 76.5625%\n",
            "GB | Epoch 2 | Loss: 0.832099199295044 | Accuracy: 71.875%\n",
            "GB | Epoch 2 | Loss: 0.9626283645629883 | Accuracy: 57.8125%\n",
            "GB | Epoch 2 | Loss: 0.864682137966156 | Accuracy: 70.3125%\n",
            "GB | Epoch 2 | Loss: 0.8643243312835693 | Accuracy: 65.625%\n",
            "GB | Epoch 2 | Loss: 0.7293801307678223 | Accuracy: 75.0%\n",
            "GB | Epoch 2 | Loss: 0.7372174859046936 | Accuracy: 76.5625%\n",
            "GB | Epoch 2 | Loss: 0.8240637183189392 | Accuracy: 67.1875%\n",
            "GB | Epoch 2 | Loss: 0.9449189305305481 | Accuracy: 59.375%\n",
            "GB | Epoch 2 | Loss: 0.7990865111351013 | Accuracy: 71.875%\n",
            "GB | Epoch 2 | Loss: 0.8816092014312744 | Accuracy: 65.625%\n",
            "GB | Epoch 2 | Loss: 0.9664060473442078 | Accuracy: 67.1875%\n",
            "GB | Epoch 2 | Loss: 0.7621594071388245 | Accuracy: 71.875%\n",
            "GB | Epoch 2 | Loss: 0.736457884311676 | Accuracy: 76.5625%\n",
            "GB | Epoch 2 | Loss: 0.7982684373855591 | Accuracy: 71.875%\n",
            "GB | Epoch 2 | Loss: 0.8800239562988281 | Accuracy: 68.75%\n",
            "GB | Epoch 2 | Loss: 0.8465608954429626 | Accuracy: 73.4375%\n",
            "GB | Epoch 2 | Loss: 0.9503679275512695 | Accuracy: 59.375%\n",
            "GB | Epoch 2 | Loss: 0.7840571999549866 | Accuracy: 73.4375%\n",
            "GB | Epoch 2 | Loss: 0.8527585864067078 | Accuracy: 67.1875%\n",
            "GB | Epoch 2 | Loss: 0.718329668045044 | Accuracy: 70.3125%\n",
            "GB | Epoch 2 | Loss: 0.7464715838432312 | Accuracy: 70.3125%\n",
            "GB | Epoch 2 | Loss: 0.6631115674972534 | Accuracy: 84.375%\n",
            "GB | Epoch 2 | Loss: 0.7500668168067932 | Accuracy: 79.6875%\n",
            "GB | Epoch 2 | Loss: 0.748887300491333 | Accuracy: 79.6875%\n",
            "GB | Epoch 2 | Loss: 0.7605925798416138 | Accuracy: 73.4375%\n",
            "GB | Epoch 2 | Loss: 0.8987577557563782 | Accuracy: 73.4375%\n",
            "GB | Epoch 2 | Loss: 0.968834400177002 | Accuracy: 60.9375%\n",
            "GB | Epoch 2 | Loss: 1.00727117061615 | Accuracy: 54.6875%\n",
            "GB | Epoch 2 | Loss: 0.7117475867271423 | Accuracy: 75.0%\n",
            "GB | Epoch 2 | Loss: 0.7550041079521179 | Accuracy: 76.5625%\n",
            "GB | Epoch 2 | Loss: 0.7848076820373535 | Accuracy: 73.4375%\n",
            "GB | Epoch 2 | Loss: 0.7711285352706909 | Accuracy: 70.3125%\n",
            "GB | Epoch 2 | Loss: 0.9221650958061218 | Accuracy: 67.1875%\n",
            "GB | Epoch 2 | Loss: 0.8355690836906433 | Accuracy: 75.0%\n",
            "GB | Epoch 2 | Loss: 0.9396486282348633 | Accuracy: 64.0625%\n",
            "GB | Epoch 2 | Loss: 0.6767275333404541 | Accuracy: 82.8125%\n",
            "GB | Epoch 2 | Loss: 0.8325886726379395 | Accuracy: 71.875%\n",
            "GB | Epoch 2 | Loss: 0.7846967577934265 | Accuracy: 70.3125%\n",
            "GB | Epoch 2 | Loss: 0.729834258556366 | Accuracy: 79.6875%\n"
          ]
        },
        {
          "output_type": "stream",
          "name": "stderr",
          "text": [
            "Epoch 2:  64%|██████▍   | 481/751 [00:02<00:01, 244.87batch/s, accuracy=84.375%, loss=0.591]"
          ]
        },
        {
          "output_type": "stream",
          "name": "stdout",
          "text": [
            "GB | Epoch 2 | Loss: 0.8480611443519592 | Accuracy: 70.3125%\n",
            "GB | Epoch 2 | Loss: 0.9640519022941589 | Accuracy: 64.0625%\n",
            "GB | Epoch 2 | Loss: 1.073849081993103 | Accuracy: 68.75%\n",
            "GB | Epoch 2 | Loss: 0.793196439743042 | Accuracy: 65.625%\n",
            "GB | Epoch 2 | Loss: 0.8390843272209167 | Accuracy: 70.3125%\n",
            "GB | Epoch 2 | Loss: 0.8152980804443359 | Accuracy: 73.4375%\n",
            "GB | Epoch 2 | Loss: 0.7148330807685852 | Accuracy: 79.6875%\n",
            "GB | Epoch 2 | Loss: 0.8396667242050171 | Accuracy: 70.3125%\n",
            "GB | Epoch 2 | Loss: 0.7048843502998352 | Accuracy: 78.125%\n",
            "GB | Epoch 2 | Loss: 0.7348806262016296 | Accuracy: 78.125%\n",
            "GB | Epoch 2 | Loss: 0.8186451196670532 | Accuracy: 71.875%\n",
            "GB | Epoch 2 | Loss: 0.7205818295478821 | Accuracy: 75.0%\n",
            "GB | Epoch 2 | Loss: 0.6692329049110413 | Accuracy: 75.0%\n",
            "GB | Epoch 2 | Loss: 0.7676262855529785 | Accuracy: 75.0%\n",
            "GB | Epoch 2 | Loss: 0.763813853263855 | Accuracy: 76.5625%\n",
            "GB | Epoch 2 | Loss: 0.6913358569145203 | Accuracy: 78.125%\n",
            "GB | Epoch 2 | Loss: 0.6688939332962036 | Accuracy: 76.5625%\n",
            "GB | Epoch 2 | Loss: 0.7741193175315857 | Accuracy: 68.75%\n",
            "GB | Epoch 2 | Loss: 0.6501424312591553 | Accuracy: 81.25%\n",
            "GB | Epoch 2 | Loss: 0.8152622580528259 | Accuracy: 67.1875%\n",
            "GB | Epoch 2 | Loss: 0.5961467027664185 | Accuracy: 82.8125%\n",
            "GB | Epoch 2 | Loss: 0.6698511242866516 | Accuracy: 84.375%\n",
            "GB | Epoch 2 | Loss: 0.7481165528297424 | Accuracy: 67.1875%\n",
            "GB | Epoch 2 | Loss: 0.8871644735336304 | Accuracy: 68.75%\n",
            "GB | Epoch 2 | Loss: 0.6660963296890259 | Accuracy: 81.25%\n",
            "GB | Epoch 2 | Loss: 0.8363551497459412 | Accuracy: 70.3125%\n",
            "GB | Epoch 2 | Loss: 0.724484384059906 | Accuracy: 73.4375%\n",
            "GB | Epoch 2 | Loss: 0.7263411283493042 | Accuracy: 73.4375%\n",
            "GB | Epoch 2 | Loss: 0.7072826027870178 | Accuracy: 76.5625%\n",
            "GB | Epoch 2 | Loss: 0.6758739948272705 | Accuracy: 78.125%\n",
            "GB | Epoch 2 | Loss: 0.8793498277664185 | Accuracy: 70.3125%\n",
            "GB | Epoch 2 | Loss: 0.7856706976890564 | Accuracy: 70.3125%\n",
            "GB | Epoch 2 | Loss: 0.7745608687400818 | Accuracy: 73.4375%\n",
            "GB | Epoch 2 | Loss: 0.6901395320892334 | Accuracy: 68.75%\n",
            "GB | Epoch 2 | Loss: 0.5950798392295837 | Accuracy: 81.25%\n",
            "GB | Epoch 2 | Loss: 0.7749081254005432 | Accuracy: 76.5625%\n",
            "GB | Epoch 2 | Loss: 0.826119065284729 | Accuracy: 70.3125%\n",
            "GB | Epoch 2 | Loss: 0.8013070225715637 | Accuracy: 68.75%\n",
            "GB | Epoch 2 | Loss: 0.6360853910446167 | Accuracy: 81.25%\n",
            "GB | Epoch 2 | Loss: 0.4846557378768921 | Accuracy: 85.9375%\n",
            "GB | Epoch 2 | Loss: 0.6345424652099609 | Accuracy: 79.6875%\n",
            "GB | Epoch 2 | Loss: 0.6626636981964111 | Accuracy: 79.6875%\n",
            "GB | Epoch 2 | Loss: 0.7444320321083069 | Accuracy: 70.3125%\n",
            "GB | Epoch 2 | Loss: 0.7453468441963196 | Accuracy: 73.4375%\n",
            "GB | Epoch 2 | Loss: 0.6221468448638916 | Accuracy: 82.8125%\n",
            "GB | Epoch 2 | Loss: 0.7106083035469055 | Accuracy: 78.125%\n",
            "GB | Epoch 2 | Loss: 0.7791996002197266 | Accuracy: 70.3125%\n",
            "GB | Epoch 2 | Loss: 0.6032549738883972 | Accuracy: 84.375%\n",
            "GB | Epoch 2 | Loss: 0.6764117479324341 | Accuracy: 75.0%\n",
            "GB | Epoch 2 | Loss: 0.732164740562439 | Accuracy: 71.875%\n",
            "GB | Epoch 2 | Loss: 0.5913572311401367 | Accuracy: 84.375%\n"
          ]
        },
        {
          "output_type": "stream",
          "name": "stderr",
          "text": [
            "Epoch 2:  71%|███████   | 532/751 [00:02<00:00, 247.66batch/s, accuracy=85.9375%, loss=0.547]"
          ]
        },
        {
          "output_type": "stream",
          "name": "stdout",
          "text": [
            "GB | Epoch 2 | Loss: 0.9447614550590515 | Accuracy: 67.1875%\n",
            "GB | Epoch 2 | Loss: 0.7965563535690308 | Accuracy: 71.875%\n",
            "GB | Epoch 2 | Loss: 0.6937461495399475 | Accuracy: 71.875%\n",
            "GB | Epoch 2 | Loss: 0.64454585313797 | Accuracy: 81.25%\n",
            "GB | Epoch 2 | Loss: 0.9203211665153503 | Accuracy: 70.3125%\n",
            "GB | Epoch 2 | Loss: 0.71687251329422 | Accuracy: 73.4375%\n",
            "GB | Epoch 2 | Loss: 0.7393341660499573 | Accuracy: 73.4375%\n",
            "GB | Epoch 2 | Loss: 0.8048557639122009 | Accuracy: 71.875%\n",
            "GB | Epoch 2 | Loss: 0.6805627942085266 | Accuracy: 82.8125%\n",
            "GB | Epoch 2 | Loss: 0.7937189936637878 | Accuracy: 71.875%\n",
            "GB | Epoch 2 | Loss: 0.7126216888427734 | Accuracy: 73.4375%\n",
            "GB | Epoch 2 | Loss: 0.7334550619125366 | Accuracy: 76.5625%\n",
            "GB | Epoch 2 | Loss: 0.6319400072097778 | Accuracy: 82.8125%\n",
            "GB | Epoch 2 | Loss: 0.829789936542511 | Accuracy: 71.875%\n",
            "GB | Epoch 2 | Loss: 0.7740657329559326 | Accuracy: 76.5625%\n",
            "GB | Epoch 2 | Loss: 0.6089401841163635 | Accuracy: 75.0%\n",
            "GB | Epoch 2 | Loss: 0.5918645858764648 | Accuracy: 76.5625%\n",
            "GB | Epoch 2 | Loss: 0.6363657116889954 | Accuracy: 78.125%\n",
            "GB | Epoch 2 | Loss: 0.6574418544769287 | Accuracy: 81.25%\n",
            "GB | Epoch 2 | Loss: 0.6768156886100769 | Accuracy: 79.6875%\n",
            "GB | Epoch 2 | Loss: 0.7255529165267944 | Accuracy: 78.125%\n",
            "GB | Epoch 2 | Loss: 0.7215470671653748 | Accuracy: 71.875%\n",
            "GB | Epoch 2 | Loss: 0.7823566198348999 | Accuracy: 71.875%\n",
            "GB | Epoch 2 | Loss: 0.6308345198631287 | Accuracy: 79.6875%\n",
            "GB | Epoch 2 | Loss: 0.729601263999939 | Accuracy: 76.5625%\n",
            "GB | Epoch 2 | Loss: 0.7715911865234375 | Accuracy: 78.125%\n",
            "GB | Epoch 2 | Loss: 0.6439274549484253 | Accuracy: 76.5625%\n",
            "GB | Epoch 2 | Loss: 0.614323616027832 | Accuracy: 79.6875%\n",
            "GB | Epoch 2 | Loss: 0.7037947177886963 | Accuracy: 73.4375%\n",
            "GB | Epoch 2 | Loss: 0.4907569885253906 | Accuracy: 81.25%\n",
            "GB | Epoch 2 | Loss: 0.6533055901527405 | Accuracy: 78.125%\n",
            "GB | Epoch 2 | Loss: 0.7064213156700134 | Accuracy: 75.0%\n",
            "GB | Epoch 2 | Loss: 0.7546853423118591 | Accuracy: 79.6875%\n",
            "GB | Epoch 2 | Loss: 0.6407610177993774 | Accuracy: 78.125%\n",
            "GB | Epoch 2 | Loss: 0.5990282893180847 | Accuracy: 76.5625%\n",
            "GB | Epoch 2 | Loss: 0.7231601476669312 | Accuracy: 78.125%\n",
            "GB | Epoch 2 | Loss: 0.5463052988052368 | Accuracy: 78.125%\n",
            "GB | Epoch 2 | Loss: 0.6967199444770813 | Accuracy: 75.0%\n",
            "GB | Epoch 2 | Loss: 0.5837842226028442 | Accuracy: 82.8125%\n",
            "GB | Epoch 2 | Loss: 0.7084357142448425 | Accuracy: 76.5625%\n",
            "GB | Epoch 2 | Loss: 0.5761361718177795 | Accuracy: 84.375%\n",
            "GB | Epoch 2 | Loss: 0.6044830679893494 | Accuracy: 79.6875%\n",
            "GB | Epoch 2 | Loss: 0.6318380236625671 | Accuracy: 85.9375%\n",
            "GB | Epoch 2 | Loss: 0.4519330859184265 | Accuracy: 89.0625%\n",
            "GB | Epoch 2 | Loss: 0.6821526885032654 | Accuracy: 75.0%\n",
            "GB | Epoch 2 | Loss: 0.8054019808769226 | Accuracy: 70.3125%\n",
            "GB | Epoch 2 | Loss: 0.7262822389602661 | Accuracy: 82.8125%\n",
            "GB | Epoch 2 | Loss: 0.5602481365203857 | Accuracy: 82.8125%\n",
            "GB | Epoch 2 | Loss: 0.7483726143836975 | Accuracy: 75.0%\n",
            "GB | Epoch 2 | Loss: 0.7087785005569458 | Accuracy: 76.5625%\n",
            "GB | Epoch 2 | Loss: 0.5467079281806946 | Accuracy: 85.9375%\n"
          ]
        },
        {
          "output_type": "stream",
          "name": "stderr",
          "text": [
            "Epoch 2:  78%|███████▊  | 583/751 [00:02<00:00, 249.50batch/s, accuracy=71.875%, loss=0.663] "
          ]
        },
        {
          "output_type": "stream",
          "name": "stdout",
          "text": [
            "GB | Epoch 2 | Loss: 0.6552802324295044 | Accuracy: 76.5625%\n",
            "GB | Epoch 2 | Loss: 0.6248373985290527 | Accuracy: 82.8125%\n",
            "GB | Epoch 2 | Loss: 0.4696815609931946 | Accuracy: 84.375%\n",
            "GB | Epoch 2 | Loss: 0.6505171060562134 | Accuracy: 76.5625%\n",
            "GB | Epoch 2 | Loss: 0.641179621219635 | Accuracy: 78.125%\n",
            "GB | Epoch 2 | Loss: 0.7192540764808655 | Accuracy: 73.4375%\n",
            "GB | Epoch 2 | Loss: 0.6056340932846069 | Accuracy: 79.6875%\n",
            "GB | Epoch 2 | Loss: 0.4927569031715393 | Accuracy: 85.9375%\n",
            "GB | Epoch 2 | Loss: 0.5508068799972534 | Accuracy: 87.5%\n",
            "GB | Epoch 2 | Loss: 0.4655795693397522 | Accuracy: 87.5%\n",
            "GB | Epoch 2 | Loss: 0.55643230676651 | Accuracy: 79.6875%\n",
            "GB | Epoch 2 | Loss: 0.7639116644859314 | Accuracy: 73.4375%\n",
            "GB | Epoch 2 | Loss: 0.5531286597251892 | Accuracy: 81.25%\n",
            "GB | Epoch 2 | Loss: 0.48410290479660034 | Accuracy: 79.6875%\n",
            "GB | Epoch 2 | Loss: 0.6230363249778748 | Accuracy: 70.3125%\n",
            "GB | Epoch 2 | Loss: 0.642873227596283 | Accuracy: 78.125%\n",
            "GB | Epoch 2 | Loss: 0.6370853781700134 | Accuracy: 71.875%\n",
            "GB | Epoch 2 | Loss: 0.696914792060852 | Accuracy: 73.4375%\n",
            "GB | Epoch 2 | Loss: 0.6380239725112915 | Accuracy: 79.6875%\n",
            "GB | Epoch 2 | Loss: 0.4434961676597595 | Accuracy: 82.8125%\n",
            "GB | Epoch 2 | Loss: 0.8846138119697571 | Accuracy: 62.5%\n",
            "GB | Epoch 2 | Loss: 0.5999370217323303 | Accuracy: 76.5625%\n",
            "GB | Epoch 2 | Loss: 0.5489581823348999 | Accuracy: 82.8125%\n",
            "GB | Epoch 2 | Loss: 0.7275614142417908 | Accuracy: 71.875%\n",
            "GB | Epoch 2 | Loss: 0.5964699387550354 | Accuracy: 78.125%\n",
            "GB | Epoch 2 | Loss: 0.9914764165878296 | Accuracy: 62.5%\n",
            "GB | Epoch 2 | Loss: 0.5711369514465332 | Accuracy: 78.125%\n",
            "GB | Epoch 2 | Loss: 0.7777630090713501 | Accuracy: 75.0%\n",
            "GB | Epoch 2 | Loss: 0.6923374533653259 | Accuracy: 76.5625%\n",
            "GB | Epoch 2 | Loss: 0.7923865914344788 | Accuracy: 68.75%\n",
            "GB | Epoch 2 | Loss: 0.39311954379081726 | Accuracy: 89.0625%\n",
            "GB | Epoch 2 | Loss: 0.5293070077896118 | Accuracy: 85.9375%\n",
            "GB | Epoch 2 | Loss: 0.6350375413894653 | Accuracy: 76.5625%\n",
            "GB | Epoch 2 | Loss: 0.5052605271339417 | Accuracy: 85.9375%\n",
            "GB | Epoch 2 | Loss: 0.5439778566360474 | Accuracy: 79.6875%\n",
            "GB | Epoch 2 | Loss: 0.7816535830497742 | Accuracy: 71.875%\n",
            "GB | Epoch 2 | Loss: 0.8019017577171326 | Accuracy: 71.875%\n",
            "GB | Epoch 2 | Loss: 0.5140029788017273 | Accuracy: 82.8125%\n",
            "GB | Epoch 2 | Loss: 0.5870692729949951 | Accuracy: 78.125%\n",
            "GB | Epoch 2 | Loss: 0.4610641598701477 | Accuracy: 84.375%\n",
            "GB | Epoch 2 | Loss: 0.6171807050704956 | Accuracy: 79.6875%\n",
            "GB | Epoch 2 | Loss: 0.6018491983413696 | Accuracy: 81.25%\n",
            "GB | Epoch 2 | Loss: 0.6321215629577637 | Accuracy: 79.6875%\n",
            "GB | Epoch 2 | Loss: 0.5200811624526978 | Accuracy: 82.8125%\n",
            "GB | Epoch 2 | Loss: 0.7869138121604919 | Accuracy: 65.625%\n",
            "GB | Epoch 2 | Loss: 0.5649183392524719 | Accuracy: 78.125%\n",
            "GB | Epoch 2 | Loss: 0.44408315420150757 | Accuracy: 90.625%\n",
            "GB | Epoch 2 | Loss: 0.8954157829284668 | Accuracy: 73.4375%\n",
            "GB | Epoch 2 | Loss: 0.6545897126197815 | Accuracy: 73.4375%\n",
            "GB | Epoch 2 | Loss: 0.662983238697052 | Accuracy: 71.875%\n"
          ]
        },
        {
          "output_type": "stream",
          "name": "stderr",
          "text": [
            "Epoch 2:  84%|████████▍ | 633/751 [00:03<00:00, 247.04batch/s, accuracy=82.8125%, loss=0.581]"
          ]
        },
        {
          "output_type": "stream",
          "name": "stdout",
          "text": [
            "GB | Epoch 2 | Loss: 0.49211809039115906 | Accuracy: 85.9375%\n",
            "GB | Epoch 2 | Loss: 0.5862119197845459 | Accuracy: 82.8125%\n",
            "GB | Epoch 2 | Loss: 0.4744258224964142 | Accuracy: 84.375%\n",
            "GB | Epoch 2 | Loss: 0.7804036736488342 | Accuracy: 75.0%\n",
            "GB | Epoch 2 | Loss: 0.6297809481620789 | Accuracy: 78.125%\n",
            "GB | Epoch 2 | Loss: 0.590926468372345 | Accuracy: 73.4375%\n",
            "GB | Epoch 2 | Loss: 0.8382924199104309 | Accuracy: 71.875%\n",
            "GB | Epoch 2 | Loss: 0.5929695963859558 | Accuracy: 84.375%\n",
            "GB | Epoch 2 | Loss: 0.6929565072059631 | Accuracy: 71.875%\n",
            "GB | Epoch 2 | Loss: 0.6601064801216125 | Accuracy: 78.125%\n",
            "GB | Epoch 2 | Loss: 0.4900173544883728 | Accuracy: 84.375%\n",
            "GB | Epoch 2 | Loss: 0.6069865822792053 | Accuracy: 79.6875%\n",
            "GB | Epoch 2 | Loss: 0.4563422203063965 | Accuracy: 82.8125%\n",
            "GB | Epoch 2 | Loss: 0.5617520213127136 | Accuracy: 81.25%\n",
            "GB | Epoch 2 | Loss: 0.8394191861152649 | Accuracy: 68.75%\n",
            "GB | Epoch 2 | Loss: 0.5920249223709106 | Accuracy: 81.25%\n",
            "GB | Epoch 2 | Loss: 0.6749590039253235 | Accuracy: 70.3125%\n",
            "GB | Epoch 2 | Loss: 0.44367629289627075 | Accuracy: 90.625%\n",
            "GB | Epoch 2 | Loss: 0.5699659585952759 | Accuracy: 85.9375%\n",
            "GB | Epoch 2 | Loss: 0.5965761542320251 | Accuracy: 78.125%\n",
            "GB | Epoch 2 | Loss: 0.6299085021018982 | Accuracy: 78.125%\n",
            "GB | Epoch 2 | Loss: 0.6164267659187317 | Accuracy: 75.0%\n",
            "GB | Epoch 2 | Loss: 0.641993522644043 | Accuracy: 75.0%\n",
            "GB | Epoch 2 | Loss: 0.5451837778091431 | Accuracy: 78.125%\n",
            "GB | Epoch 2 | Loss: 0.513025164604187 | Accuracy: 82.8125%\n",
            "GB | Epoch 2 | Loss: 0.5454348921775818 | Accuracy: 82.8125%\n",
            "GB | Epoch 2 | Loss: 0.5724026560783386 | Accuracy: 81.25%\n",
            "GB | Epoch 2 | Loss: 0.4861252009868622 | Accuracy: 78.125%\n",
            "GB | Epoch 2 | Loss: 0.5131894946098328 | Accuracy: 85.9375%\n",
            "GB | Epoch 2 | Loss: 0.40188032388687134 | Accuracy: 85.9375%\n",
            "GB | Epoch 2 | Loss: 0.51314777135849 | Accuracy: 84.375%\n",
            "GB | Epoch 2 | Loss: 0.44696471095085144 | Accuracy: 87.5%\n",
            "GB | Epoch 2 | Loss: 0.4915769696235657 | Accuracy: 82.8125%\n",
            "GB | Epoch 2 | Loss: 0.4514053165912628 | Accuracy: 87.5%\n",
            "GB | Epoch 2 | Loss: 0.822717547416687 | Accuracy: 65.625%\n",
            "GB | Epoch 2 | Loss: 0.5946162939071655 | Accuracy: 82.8125%\n",
            "GB | Epoch 2 | Loss: 0.5476641654968262 | Accuracy: 79.6875%\n",
            "GB | Epoch 2 | Loss: 0.5131222605705261 | Accuracy: 84.375%\n",
            "GB | Epoch 2 | Loss: 0.6887854933738708 | Accuracy: 75.0%\n",
            "GB | Epoch 2 | Loss: 0.4668002128601074 | Accuracy: 81.25%\n",
            "GB | Epoch 2 | Loss: 0.6355890035629272 | Accuracy: 75.0%\n",
            "GB | Epoch 2 | Loss: 0.44729602336883545 | Accuracy: 87.5%\n",
            "GB | Epoch 2 | Loss: 0.4339732527732849 | Accuracy: 85.9375%\n",
            "GB | Epoch 2 | Loss: 0.6304426789283752 | Accuracy: 68.75%\n",
            "GB | Epoch 2 | Loss: 0.5835557579994202 | Accuracy: 78.125%\n",
            "GB | Epoch 2 | Loss: 0.4859510362148285 | Accuracy: 79.6875%\n",
            "GB | Epoch 2 | Loss: 0.45127296447753906 | Accuracy: 81.25%\n",
            "GB | Epoch 2 | Loss: 0.5972718596458435 | Accuracy: 75.0%\n",
            "GB | Epoch 2 | Loss: 0.541292130947113 | Accuracy: 84.375%\n"
          ]
        },
        {
          "output_type": "stream",
          "name": "stderr",
          "text": [
            "Epoch 2:  91%|█████████ | 683/751 [00:03<00:00, 243.71batch/s, accuracy=79.6875%, loss=0.459]"
          ]
        },
        {
          "output_type": "stream",
          "name": "stdout",
          "text": [
            "GB | Epoch 2 | Loss: 0.580612063407898 | Accuracy: 82.8125%\n",
            "GB | Epoch 2 | Loss: 0.39617234468460083 | Accuracy: 89.0625%\n",
            "GB | Epoch 2 | Loss: 0.36972102522850037 | Accuracy: 92.1875%\n",
            "GB | Epoch 2 | Loss: 0.7131454348564148 | Accuracy: 78.125%\n",
            "GB | Epoch 2 | Loss: 0.48339781165122986 | Accuracy: 87.5%\n",
            "GB | Epoch 2 | Loss: 0.300771027803421 | Accuracy: 90.625%\n",
            "GB | Epoch 2 | Loss: 0.4939601719379425 | Accuracy: 78.125%\n",
            "GB | Epoch 2 | Loss: 0.5674167275428772 | Accuracy: 79.6875%\n",
            "GB | Epoch 2 | Loss: 0.5136739611625671 | Accuracy: 82.8125%\n",
            "GB | Epoch 2 | Loss: 0.4359901547431946 | Accuracy: 84.375%\n",
            "GB | Epoch 2 | Loss: 0.6808565855026245 | Accuracy: 68.75%\n",
            "GB | Epoch 2 | Loss: 0.3928550183773041 | Accuracy: 85.9375%\n",
            "GB | Epoch 2 | Loss: 0.4117404818534851 | Accuracy: 84.375%\n",
            "GB | Epoch 2 | Loss: 0.49508482217788696 | Accuracy: 87.5%\n",
            "GB | Epoch 2 | Loss: 0.4996890723705292 | Accuracy: 84.375%\n",
            "GB | Epoch 2 | Loss: 0.5875425934791565 | Accuracy: 78.125%\n",
            "GB | Epoch 2 | Loss: 0.5200293660163879 | Accuracy: 82.8125%\n",
            "GB | Epoch 2 | Loss: 0.5333846807479858 | Accuracy: 75.0%\n",
            "GB | Epoch 2 | Loss: 0.4893357753753662 | Accuracy: 81.25%\n",
            "GB | Epoch 2 | Loss: 0.5380865931510925 | Accuracy: 87.5%\n",
            "GB | Epoch 2 | Loss: 0.529606282711029 | Accuracy: 82.8125%\n",
            "GB | Epoch 2 | Loss: 0.7385903000831604 | Accuracy: 75.0%\n",
            "GB | Epoch 2 | Loss: 0.5926392078399658 | Accuracy: 82.8125%\n",
            "GB | Epoch 2 | Loss: 0.6200041174888611 | Accuracy: 76.5625%\n",
            "GB | Epoch 2 | Loss: 0.6799454092979431 | Accuracy: 76.5625%\n",
            "GB | Epoch 2 | Loss: 0.6373223066329956 | Accuracy: 81.25%\n",
            "GB | Epoch 2 | Loss: 0.4701120853424072 | Accuracy: 87.5%\n",
            "GB | Epoch 2 | Loss: 0.4931929409503937 | Accuracy: 81.25%\n",
            "GB | Epoch 2 | Loss: 0.5696753859519958 | Accuracy: 76.5625%\n",
            "GB | Epoch 2 | Loss: 0.49365556240081787 | Accuracy: 81.25%\n",
            "GB | Epoch 2 | Loss: 0.6462012529373169 | Accuracy: 76.5625%\n",
            "GB | Epoch 2 | Loss: 0.5151159763336182 | Accuracy: 82.8125%\n",
            "GB | Epoch 2 | Loss: 0.3940208852291107 | Accuracy: 87.5%\n",
            "GB | Epoch 2 | Loss: 0.5753377676010132 | Accuracy: 79.6875%\n",
            "GB | Epoch 2 | Loss: 0.5524562001228333 | Accuracy: 76.5625%\n",
            "GB | Epoch 2 | Loss: 0.5703296661376953 | Accuracy: 79.6875%\n",
            "GB | Epoch 2 | Loss: 0.47076988220214844 | Accuracy: 82.8125%\n",
            "GB | Epoch 2 | Loss: 0.730912446975708 | Accuracy: 73.4375%\n",
            "GB | Epoch 2 | Loss: 0.5472216606140137 | Accuracy: 81.25%\n",
            "GB | Epoch 2 | Loss: 0.4603503942489624 | Accuracy: 84.375%\n",
            "GB | Epoch 2 | Loss: 0.350607305765152 | Accuracy: 87.5%\n",
            "GB | Epoch 2 | Loss: 0.49192100763320923 | Accuracy: 78.125%\n",
            "GB | Epoch 2 | Loss: 0.5049939155578613 | Accuracy: 84.375%\n",
            "GB | Epoch 2 | Loss: 0.654289960861206 | Accuracy: 76.5625%\n",
            "GB | Epoch 2 | Loss: 0.5071865320205688 | Accuracy: 81.25%\n",
            "GB | Epoch 2 | Loss: 0.5828973054885864 | Accuracy: 76.5625%\n",
            "GB | Epoch 2 | Loss: 0.48776867985725403 | Accuracy: 85.9375%\n",
            "GB | Epoch 2 | Loss: 0.5564357042312622 | Accuracy: 78.125%\n",
            "GB | Epoch 2 | Loss: 0.4587055742740631 | Accuracy: 79.6875%\n"
          ]
        },
        {
          "output_type": "stream",
          "name": "stderr",
          "text": [
            "Epoch 2:  98%|█████████▊| 734/751 [00:03<00:00, 246.00batch/s, accuracy=84.375%, loss=0.508]"
          ]
        },
        {
          "output_type": "stream",
          "name": "stdout",
          "text": [
            "GB | Epoch 2 | Loss: 0.6260102391242981 | Accuracy: 78.125%\n",
            "GB | Epoch 2 | Loss: 0.4814195930957794 | Accuracy: 81.25%\n",
            "GB | Epoch 2 | Loss: 0.7031370997428894 | Accuracy: 76.5625%\n",
            "GB | Epoch 2 | Loss: 0.4682014286518097 | Accuracy: 82.8125%\n",
            "GB | Epoch 2 | Loss: 0.38968193531036377 | Accuracy: 87.5%\n",
            "GB | Epoch 2 | Loss: 0.6320418119430542 | Accuracy: 84.375%\n",
            "GB | Epoch 2 | Loss: 0.533087432384491 | Accuracy: 82.8125%\n",
            "GB | Epoch 2 | Loss: 0.5682801008224487 | Accuracy: 78.125%\n",
            "GB | Epoch 2 | Loss: 0.4641709327697754 | Accuracy: 82.8125%\n",
            "GB | Epoch 2 | Loss: 0.5842469334602356 | Accuracy: 76.5625%\n",
            "GB | Epoch 2 | Loss: 0.4373694062232971 | Accuracy: 89.0625%\n",
            "GB | Epoch 2 | Loss: 0.5202484726905823 | Accuracy: 81.25%\n",
            "GB | Epoch 2 | Loss: 0.578870952129364 | Accuracy: 81.25%\n",
            "GB | Epoch 2 | Loss: 0.4679366648197174 | Accuracy: 82.8125%\n",
            "GB | Epoch 2 | Loss: 0.6365656852722168 | Accuracy: 78.125%\n",
            "GB | Epoch 2 | Loss: 0.4577675759792328 | Accuracy: 89.0625%\n",
            "GB | Epoch 2 | Loss: 0.49758416414260864 | Accuracy: 84.375%\n",
            "GB | Epoch 2 | Loss: 0.4414423108100891 | Accuracy: 89.0625%\n",
            "GB | Epoch 2 | Loss: 0.503108561038971 | Accuracy: 81.25%\n",
            "GB | Epoch 2 | Loss: 0.5021859407424927 | Accuracy: 81.25%\n",
            "GB | Epoch 2 | Loss: 0.65389084815979 | Accuracy: 73.4375%\n",
            "GB | Epoch 2 | Loss: 0.537349283695221 | Accuracy: 79.6875%\n",
            "GB | Epoch 2 | Loss: 0.49635088443756104 | Accuracy: 79.6875%\n",
            "GB | Epoch 2 | Loss: 0.5043175220489502 | Accuracy: 79.6875%\n",
            "GB | Epoch 2 | Loss: 0.642754077911377 | Accuracy: 78.125%\n",
            "GB | Epoch 2 | Loss: 0.41616806387901306 | Accuracy: 87.5%\n",
            "GB | Epoch 2 | Loss: 0.5918124318122864 | Accuracy: 73.4375%\n",
            "GB | Epoch 2 | Loss: 0.38485485315322876 | Accuracy: 87.5%\n",
            "GB | Epoch 2 | Loss: 0.4500886797904968 | Accuracy: 82.8125%\n",
            "GB | Epoch 2 | Loss: 0.4525983929634094 | Accuracy: 82.8125%\n",
            "GB | Epoch 2 | Loss: 0.4847986102104187 | Accuracy: 78.125%\n",
            "GB | Epoch 2 | Loss: 0.558814287185669 | Accuracy: 79.6875%\n",
            "GB | Epoch 2 | Loss: 0.3991563618183136 | Accuracy: 90.625%\n",
            "GB | Epoch 2 | Loss: 0.4469491243362427 | Accuracy: 76.5625%\n",
            "GB | Epoch 2 | Loss: 0.6943898797035217 | Accuracy: 75.0%\n",
            "GB | Epoch 2 | Loss: 0.5167398452758789 | Accuracy: 81.25%\n",
            "GB | Epoch 2 | Loss: 0.5584816336631775 | Accuracy: 75.0%\n",
            "GB | Epoch 2 | Loss: 0.5279122591018677 | Accuracy: 76.5625%\n",
            "GB | Epoch 2 | Loss: 0.3530736565589905 | Accuracy: 90.625%\n",
            "GB | Epoch 2 | Loss: 0.49376752972602844 | Accuracy: 78.125%\n",
            "GB | Epoch 2 | Loss: 0.4903513491153717 | Accuracy: 81.25%\n",
            "GB | Epoch 2 | Loss: 0.5187796354293823 | Accuracy: 81.25%\n",
            "GB | Epoch 2 | Loss: 0.6604819893836975 | Accuracy: 79.6875%\n",
            "GB | Epoch 2 | Loss: 0.46472954750061035 | Accuracy: 78.125%\n",
            "GB | Epoch 2 | Loss: 0.45178017020225525 | Accuracy: 89.0625%\n",
            "GB | Epoch 2 | Loss: 0.4076613187789917 | Accuracy: 85.9375%\n",
            "GB | Epoch 2 | Loss: 0.546047568321228 | Accuracy: 78.125%\n",
            "GB | Epoch 2 | Loss: 0.5951559543609619 | Accuracy: 82.8125%\n",
            "GB | Epoch 2 | Loss: 0.5271437764167786 | Accuracy: 84.375%\n",
            "GB | Epoch 2 | Loss: 0.47848403453826904 | Accuracy: 84.375%\n",
            "GB | Epoch 2 | Loss: 0.5080172419548035 | Accuracy: 84.375%\n"
          ]
        },
        {
          "output_type": "stream",
          "name": "stderr",
          "text": [
            "Epoch 2: 100%|██████████| 751/751 [00:03<00:00, 212.52batch/s, accuracy=100.0%, loss=0.171]\n"
          ]
        },
        {
          "output_type": "stream",
          "name": "stdout",
          "text": [
            "GB | Epoch 2 | Loss: 0.47216957807540894 | Accuracy: 81.25%\n",
            "GB | Epoch 2 | Loss: 0.622651219367981 | Accuracy: 81.25%\n",
            "GB | Epoch 2 | Loss: 0.17068813741207123 | Accuracy: 100.0%\n"
          ]
        },
        {
          "output_type": "stream",
          "name": "stderr",
          "text": [
            "Epoch 3:   3%|▎         | 20/751 [00:00<00:09, 80.45batch/s, accuracy=79.6875%, loss=0.448]"
          ]
        },
        {
          "output_type": "stream",
          "name": "stdout",
          "text": [
            "GB | Epoch 3 | Loss: 0.6178436279296875 | Accuracy: 78.125%\n",
            "GB | Epoch 3 | Loss: 0.5403847694396973 | Accuracy: 81.25%\n",
            "GB | Epoch 3 | Loss: 0.5012778043746948 | Accuracy: 85.9375%\n",
            "GB | Epoch 3 | Loss: 0.5075573921203613 | Accuracy: 82.8125%\n",
            "GB | Epoch 3 | Loss: 0.3441357910633087 | Accuracy: 90.625%\n",
            "GB | Epoch 3 | Loss: 0.3888237178325653 | Accuracy: 93.75%\n",
            "GB | Epoch 3 | Loss: 0.4657820463180542 | Accuracy: 84.375%\n",
            "GB | Epoch 3 | Loss: 0.34486350417137146 | Accuracy: 90.625%\n",
            "GB | Epoch 3 | Loss: 0.555871844291687 | Accuracy: 82.8125%\n",
            "GB | Epoch 3 | Loss: 0.463016152381897 | Accuracy: 79.6875%\n",
            "GB | Epoch 3 | Loss: 0.49275559186935425 | Accuracy: 79.6875%\n",
            "GB | Epoch 3 | Loss: 0.4428133964538574 | Accuracy: 87.5%\n",
            "GB | Epoch 3 | Loss: 0.365034818649292 | Accuracy: 87.5%\n",
            "GB | Epoch 3 | Loss: 0.3053678870201111 | Accuracy: 89.0625%\n",
            "GB | Epoch 3 | Loss: 0.5354722738265991 | Accuracy: 81.25%\n",
            "GB | Epoch 3 | Loss: 0.39840373396873474 | Accuracy: 87.5%\n",
            "GB | Epoch 3 | Loss: 0.4853222072124481 | Accuracy: 85.9375%\n",
            "GB | Epoch 3 | Loss: 0.5007621645927429 | Accuracy: 82.8125%\n",
            "GB | Epoch 3 | Loss: 0.46985045075416565 | Accuracy: 89.0625%\n",
            "GB | Epoch 3 | Loss: 0.4344025254249573 | Accuracy: 85.9375%\n",
            "GB | Epoch 3 | Loss: 0.49809932708740234 | Accuracy: 79.6875%\n",
            "GB | Epoch 3 | Loss: 0.27192166447639465 | Accuracy: 90.625%\n",
            "GB | Epoch 3 | Loss: 0.3049411177635193 | Accuracy: 92.1875%\n",
            "GB | Epoch 3 | Loss: 0.47352761030197144 | Accuracy: 85.9375%\n",
            "GB | Epoch 3 | Loss: 0.6434150338172913 | Accuracy: 78.125%\n",
            "GB | Epoch 3 | Loss: 0.47348976135253906 | Accuracy: 84.375%\n",
            "GB | Epoch 3 | Loss: 0.38896599411964417 | Accuracy: 85.9375%\n",
            "GB | Epoch 3 | Loss: 0.4055883586406708 | Accuracy: 85.9375%\n",
            "GB | Epoch 3 | Loss: 0.49791261553764343 | Accuracy: 82.8125%\n",
            "GB | Epoch 3 | Loss: 0.5679617524147034 | Accuracy: 82.8125%\n",
            "GB | Epoch 3 | Loss: 0.4614046812057495 | Accuracy: 82.8125%\n",
            "GB | Epoch 3 | Loss: 0.36301565170288086 | Accuracy: 89.0625%\n",
            "GB | Epoch 3 | Loss: 0.34984880685806274 | Accuracy: 89.0625%\n",
            "GB | Epoch 3 | Loss: 0.4652654230594635 | Accuracy: 82.8125%\n",
            "GB | Epoch 3 | Loss: 0.3635064959526062 | Accuracy: 87.5%\n",
            "GB | Epoch 3 | Loss: 0.5189810991287231 | Accuracy: 79.6875%\n",
            "GB | Epoch 3 | Loss: 0.5048217177391052 | Accuracy: 82.8125%\n",
            "GB | Epoch 3 | Loss: 0.5145390033721924 | Accuracy: 82.8125%\n",
            "GB | Epoch 3 | Loss: 0.44810816645622253 | Accuracy: 79.6875%\n"
          ]
        },
        {
          "output_type": "stream",
          "name": "stderr",
          "text": [
            "Epoch 3:   8%|▊         | 60/751 [00:00<00:04, 148.69batch/s, accuracy=89.0625%, loss=0.406]"
          ]
        },
        {
          "output_type": "stream",
          "name": "stdout",
          "text": [
            "GB | Epoch 3 | Loss: 0.6218240857124329 | Accuracy: 76.5625%\n",
            "GB | Epoch 3 | Loss: 0.5197395086288452 | Accuracy: 78.125%\n",
            "GB | Epoch 3 | Loss: 0.5367031693458557 | Accuracy: 82.8125%\n",
            "GB | Epoch 3 | Loss: 0.4063788652420044 | Accuracy: 87.5%\n",
            "GB | Epoch 3 | Loss: 0.3742648959159851 | Accuracy: 85.9375%\n",
            "GB | Epoch 3 | Loss: 0.5301074981689453 | Accuracy: 73.4375%\n",
            "GB | Epoch 3 | Loss: 0.5126155614852905 | Accuracy: 84.375%\n",
            "GB | Epoch 3 | Loss: 0.6218684315681458 | Accuracy: 79.6875%\n",
            "GB | Epoch 3 | Loss: 0.44646531343460083 | Accuracy: 85.9375%\n",
            "GB | Epoch 3 | Loss: 0.5585542321205139 | Accuracy: 87.5%\n",
            "GB | Epoch 3 | Loss: 0.5623613595962524 | Accuracy: 78.125%\n",
            "GB | Epoch 3 | Loss: 0.35346534848213196 | Accuracy: 85.9375%\n",
            "GB | Epoch 3 | Loss: 0.46084803342819214 | Accuracy: 84.375%\n",
            "GB | Epoch 3 | Loss: 0.40231844782829285 | Accuracy: 79.6875%\n",
            "GB | Epoch 3 | Loss: 0.48183557391166687 | Accuracy: 82.8125%\n",
            "GB | Epoch 3 | Loss: 0.3765300214290619 | Accuracy: 92.1875%\n",
            "GB | Epoch 3 | Loss: 0.3493639826774597 | Accuracy: 84.375%\n",
            "GB | Epoch 3 | Loss: 0.47684550285339355 | Accuracy: 81.25%\n",
            "GB | Epoch 3 | Loss: 0.5098235011100769 | Accuracy: 84.375%\n",
            "GB | Epoch 3 | Loss: 0.42089417576789856 | Accuracy: 85.9375%\n",
            "GB | Epoch 3 | Loss: 0.36206918954849243 | Accuracy: 87.5%\n",
            "GB | Epoch 3 | Loss: 0.456942081451416 | Accuracy: 87.5%\n",
            "GB | Epoch 3 | Loss: 0.5269196629524231 | Accuracy: 84.375%\n",
            "GB | Epoch 3 | Loss: 0.2384045422077179 | Accuracy: 95.3125%\n",
            "GB | Epoch 3 | Loss: 0.47894105315208435 | Accuracy: 82.8125%\n",
            "GB | Epoch 3 | Loss: 0.5123400688171387 | Accuracy: 82.8125%\n",
            "GB | Epoch 3 | Loss: 0.4751827120780945 | Accuracy: 89.0625%\n",
            "GB | Epoch 3 | Loss: 0.5846881866455078 | Accuracy: 76.5625%\n",
            "GB | Epoch 3 | Loss: 0.5187378525733948 | Accuracy: 81.25%\n",
            "GB | Epoch 3 | Loss: 0.4691561162471771 | Accuracy: 87.5%\n",
            "GB | Epoch 3 | Loss: 0.3118951618671417 | Accuracy: 90.625%\n",
            "GB | Epoch 3 | Loss: 0.5905334949493408 | Accuracy: 78.125%\n",
            "GB | Epoch 3 | Loss: 0.3317159116268158 | Accuracy: 90.625%\n",
            "GB | Epoch 3 | Loss: 0.4956229031085968 | Accuracy: 82.8125%\n",
            "GB | Epoch 3 | Loss: 0.46549299359321594 | Accuracy: 84.375%\n",
            "GB | Epoch 3 | Loss: 0.4672856628894806 | Accuracy: 82.8125%\n",
            "GB | Epoch 3 | Loss: 0.32669851183891296 | Accuracy: 87.5%\n",
            "GB | Epoch 3 | Loss: 0.37475648522377014 | Accuracy: 90.625%\n",
            "GB | Epoch 3 | Loss: 0.4539690315723419 | Accuracy: 89.0625%\n",
            "GB | Epoch 3 | Loss: 0.40643230080604553 | Accuracy: 89.0625%\n"
          ]
        },
        {
          "output_type": "stream",
          "name": "stderr",
          "text": [
            "Epoch 3:  13%|█▎        | 100/751 [00:00<00:03, 175.10batch/s, accuracy=90.625%, loss=0.413]"
          ]
        },
        {
          "output_type": "stream",
          "name": "stdout",
          "text": [
            "GB | Epoch 3 | Loss: 0.4658397138118744 | Accuracy: 81.25%\n",
            "GB | Epoch 3 | Loss: 0.42272573709487915 | Accuracy: 89.0625%\n",
            "GB | Epoch 3 | Loss: 0.5687153935432434 | Accuracy: 79.6875%\n",
            "GB | Epoch 3 | Loss: 0.4757733643054962 | Accuracy: 84.375%\n",
            "GB | Epoch 3 | Loss: 0.48485809564590454 | Accuracy: 85.9375%\n",
            "GB | Epoch 3 | Loss: 0.45184072852134705 | Accuracy: 81.25%\n",
            "GB | Epoch 3 | Loss: 0.45048877596855164 | Accuracy: 87.5%\n",
            "GB | Epoch 3 | Loss: 0.3393420875072479 | Accuracy: 87.5%\n",
            "GB | Epoch 3 | Loss: 0.3945958912372589 | Accuracy: 87.5%\n",
            "GB | Epoch 3 | Loss: 0.3869151771068573 | Accuracy: 90.625%\n",
            "GB | Epoch 3 | Loss: 0.32815536856651306 | Accuracy: 84.375%\n",
            "GB | Epoch 3 | Loss: 0.5228490829467773 | Accuracy: 78.125%\n",
            "GB | Epoch 3 | Loss: 0.46978288888931274 | Accuracy: 81.25%\n",
            "GB | Epoch 3 | Loss: 0.6211170554161072 | Accuracy: 76.5625%\n",
            "GB | Epoch 3 | Loss: 0.4753836691379547 | Accuracy: 84.375%\n",
            "GB | Epoch 3 | Loss: 0.40860238671302795 | Accuracy: 87.5%\n",
            "GB | Epoch 3 | Loss: 0.4380146265029907 | Accuracy: 87.5%\n",
            "GB | Epoch 3 | Loss: 0.41492632031440735 | Accuracy: 85.9375%\n",
            "GB | Epoch 3 | Loss: 0.48304668068885803 | Accuracy: 87.5%\n",
            "GB | Epoch 3 | Loss: 0.3231669068336487 | Accuracy: 90.625%\n",
            "GB | Epoch 3 | Loss: 0.5049740672111511 | Accuracy: 81.25%\n",
            "GB | Epoch 3 | Loss: 0.4358304738998413 | Accuracy: 81.25%\n",
            "GB | Epoch 3 | Loss: 0.4045833349227905 | Accuracy: 87.5%\n",
            "GB | Epoch 3 | Loss: 0.309702068567276 | Accuracy: 87.5%\n",
            "GB | Epoch 3 | Loss: 0.353306382894516 | Accuracy: 89.0625%\n",
            "GB | Epoch 3 | Loss: 0.4580143392086029 | Accuracy: 85.9375%\n",
            "GB | Epoch 3 | Loss: 0.4820250868797302 | Accuracy: 78.125%\n",
            "GB | Epoch 3 | Loss: 0.3553066551685333 | Accuracy: 85.9375%\n",
            "GB | Epoch 3 | Loss: 0.42538368701934814 | Accuracy: 81.25%\n",
            "GB | Epoch 3 | Loss: 0.5607026219367981 | Accuracy: 76.5625%\n",
            "GB | Epoch 3 | Loss: 0.2480444610118866 | Accuracy: 93.75%\n",
            "GB | Epoch 3 | Loss: 0.2937922775745392 | Accuracy: 92.1875%\n",
            "GB | Epoch 3 | Loss: 0.43094468116760254 | Accuracy: 82.8125%\n",
            "GB | Epoch 3 | Loss: 0.28532958030700684 | Accuracy: 90.625%\n",
            "GB | Epoch 3 | Loss: 0.41639646887779236 | Accuracy: 85.9375%\n",
            "GB | Epoch 3 | Loss: 0.5544108152389526 | Accuracy: 76.5625%\n",
            "GB | Epoch 3 | Loss: 0.4019196927547455 | Accuracy: 89.0625%\n",
            "GB | Epoch 3 | Loss: 0.46668747067451477 | Accuracy: 87.5%\n",
            "GB | Epoch 3 | Loss: 0.40109649300575256 | Accuracy: 84.375%\n",
            "GB | Epoch 3 | Loss: 0.4132978320121765 | Accuracy: 90.625%\n"
          ]
        },
        {
          "output_type": "stream",
          "name": "stderr",
          "text": [
            "Epoch 3:  19%|█▉        | 141/751 [00:01<00:03, 190.92batch/s, accuracy=78.125%, loss=0.679] "
          ]
        },
        {
          "output_type": "stream",
          "name": "stdout",
          "text": [
            "GB | Epoch 3 | Loss: 0.44516539573669434 | Accuracy: 84.375%\n",
            "GB | Epoch 3 | Loss: 0.39317959547042847 | Accuracy: 84.375%\n",
            "GB | Epoch 3 | Loss: 0.5499799251556396 | Accuracy: 87.5%\n",
            "GB | Epoch 3 | Loss: 0.4714694917201996 | Accuracy: 82.8125%\n",
            "GB | Epoch 3 | Loss: 0.46528729796409607 | Accuracy: 85.9375%\n",
            "GB | Epoch 3 | Loss: 0.3111029863357544 | Accuracy: 92.1875%\n",
            "GB | Epoch 3 | Loss: 0.4237608313560486 | Accuracy: 89.0625%\n",
            "GB | Epoch 3 | Loss: 0.3520267903804779 | Accuracy: 89.0625%\n",
            "GB | Epoch 3 | Loss: 0.2727206349372864 | Accuracy: 87.5%\n",
            "GB | Epoch 3 | Loss: 0.47525879740715027 | Accuracy: 82.8125%\n",
            "GB | Epoch 3 | Loss: 0.36656856536865234 | Accuracy: 89.0625%\n",
            "GB | Epoch 3 | Loss: 0.3688312768936157 | Accuracy: 89.0625%\n",
            "GB | Epoch 3 | Loss: 0.3651682734489441 | Accuracy: 87.5%\n",
            "GB | Epoch 3 | Loss: 0.32118380069732666 | Accuracy: 92.1875%\n",
            "GB | Epoch 3 | Loss: 0.3478488624095917 | Accuracy: 93.75%\n",
            "GB | Epoch 3 | Loss: 0.30354273319244385 | Accuracy: 90.625%\n",
            "GB | Epoch 3 | Loss: 0.31845393776893616 | Accuracy: 87.5%\n",
            "GB | Epoch 3 | Loss: 0.3476552963256836 | Accuracy: 89.0625%\n",
            "GB | Epoch 3 | Loss: 0.4852243661880493 | Accuracy: 81.25%\n",
            "GB | Epoch 3 | Loss: 0.33390599489212036 | Accuracy: 85.9375%\n",
            "GB | Epoch 3 | Loss: 0.33339497447013855 | Accuracy: 85.9375%\n",
            "GB | Epoch 3 | Loss: 0.3711993098258972 | Accuracy: 87.5%\n",
            "GB | Epoch 3 | Loss: 0.4010976552963257 | Accuracy: 89.0625%\n",
            "GB | Epoch 3 | Loss: 0.3710843324661255 | Accuracy: 92.1875%\n",
            "GB | Epoch 3 | Loss: 0.48094892501831055 | Accuracy: 82.8125%\n",
            "GB | Epoch 3 | Loss: 0.3724607825279236 | Accuracy: 89.0625%\n",
            "GB | Epoch 3 | Loss: 0.4456403851509094 | Accuracy: 89.0625%\n",
            "GB | Epoch 3 | Loss: 0.3264038860797882 | Accuracy: 92.1875%\n",
            "GB | Epoch 3 | Loss: 0.5334026217460632 | Accuracy: 85.9375%\n",
            "GB | Epoch 3 | Loss: 0.44236478209495544 | Accuracy: 87.5%\n",
            "GB | Epoch 3 | Loss: 0.576171338558197 | Accuracy: 78.125%\n",
            "GB | Epoch 3 | Loss: 0.4663636386394501 | Accuracy: 87.5%\n",
            "GB | Epoch 3 | Loss: 0.22366152703762054 | Accuracy: 93.75%\n",
            "GB | Epoch 3 | Loss: 0.48937374353408813 | Accuracy: 84.375%\n",
            "GB | Epoch 3 | Loss: 0.38169991970062256 | Accuracy: 87.5%\n",
            "GB | Epoch 3 | Loss: 0.38862842321395874 | Accuracy: 89.0625%\n",
            "GB | Epoch 3 | Loss: 0.3855349123477936 | Accuracy: 85.9375%\n",
            "GB | Epoch 3 | Loss: 0.3699675500392914 | Accuracy: 89.0625%\n",
            "GB | Epoch 3 | Loss: 0.3812696635723114 | Accuracy: 90.625%\n",
            "GB | Epoch 3 | Loss: 0.5971304774284363 | Accuracy: 76.5625%\n",
            "GB | Epoch 3 | Loss: 0.5428256392478943 | Accuracy: 84.375%\n",
            "GB | Epoch 3 | Loss: 0.4200432002544403 | Accuracy: 85.9375%\n",
            "GB | Epoch 3 | Loss: 0.28787297010421753 | Accuracy: 90.625%\n",
            "GB | Epoch 3 | Loss: 0.5056637525558472 | Accuracy: 87.5%\n",
            "GB | Epoch 3 | Loss: 0.5064235329627991 | Accuracy: 82.8125%\n",
            "GB | Epoch 3 | Loss: 0.6789349913597107 | Accuracy: 78.125%\n"
          ]
        },
        {
          "output_type": "stream",
          "name": "stderr",
          "text": [
            "Epoch 3:  25%|██▌       | 190/751 [00:01<00:02, 214.77batch/s, accuracy=84.375%, loss=0.377] "
          ]
        },
        {
          "output_type": "stream",
          "name": "stdout",
          "text": [
            "GB | Epoch 3 | Loss: 0.38150712847709656 | Accuracy: 84.375%\n",
            "GB | Epoch 3 | Loss: 0.24668528139591217 | Accuracy: 92.1875%\n",
            "GB | Epoch 3 | Loss: 0.4396745562553406 | Accuracy: 85.9375%\n",
            "GB | Epoch 3 | Loss: 0.3986414968967438 | Accuracy: 87.5%\n",
            "GB | Epoch 3 | Loss: 0.41150546073913574 | Accuracy: 84.375%\n",
            "GB | Epoch 3 | Loss: 0.375249981880188 | Accuracy: 87.5%\n",
            "GB | Epoch 3 | Loss: 0.4042782485485077 | Accuracy: 82.8125%\n",
            "GB | Epoch 3 | Loss: 0.38323894143104553 | Accuracy: 87.5%\n",
            "GB | Epoch 3 | Loss: 0.3679996132850647 | Accuracy: 85.9375%\n",
            "GB | Epoch 3 | Loss: 0.25167912244796753 | Accuracy: 90.625%\n",
            "GB | Epoch 3 | Loss: 0.30509939789772034 | Accuracy: 92.1875%\n",
            "GB | Epoch 3 | Loss: 0.3551916778087616 | Accuracy: 89.0625%\n",
            "GB | Epoch 3 | Loss: 0.5156297087669373 | Accuracy: 87.5%\n",
            "GB | Epoch 3 | Loss: 0.4153246581554413 | Accuracy: 92.1875%\n",
            "GB | Epoch 3 | Loss: 0.3827967941761017 | Accuracy: 85.9375%\n",
            "GB | Epoch 3 | Loss: 0.47714391350746155 | Accuracy: 82.8125%\n",
            "GB | Epoch 3 | Loss: 0.46096357703208923 | Accuracy: 84.375%\n",
            "GB | Epoch 3 | Loss: 0.43554332852363586 | Accuracy: 87.5%\n",
            "GB | Epoch 3 | Loss: 0.36394497752189636 | Accuracy: 87.5%\n",
            "GB | Epoch 3 | Loss: 0.30607175827026367 | Accuracy: 89.0625%\n",
            "GB | Epoch 3 | Loss: 0.4506904184818268 | Accuracy: 84.375%\n",
            "GB | Epoch 3 | Loss: 0.28524917364120483 | Accuracy: 87.5%\n",
            "GB | Epoch 3 | Loss: 0.34745943546295166 | Accuracy: 87.5%\n",
            "GB | Epoch 3 | Loss: 0.33158814907073975 | Accuracy: 90.625%\n",
            "GB | Epoch 3 | Loss: 0.3620908558368683 | Accuracy: 87.5%\n",
            "GB | Epoch 3 | Loss: 0.364793062210083 | Accuracy: 89.0625%\n",
            "GB | Epoch 3 | Loss: 0.2655858099460602 | Accuracy: 92.1875%\n",
            "GB | Epoch 3 | Loss: 0.30422288179397583 | Accuracy: 90.625%\n",
            "GB | Epoch 3 | Loss: 0.42197635769844055 | Accuracy: 87.5%\n",
            "GB | Epoch 3 | Loss: 0.40032047033309937 | Accuracy: 89.0625%\n",
            "GB | Epoch 3 | Loss: 0.32638707756996155 | Accuracy: 87.5%\n",
            "GB | Epoch 3 | Loss: 0.46940842270851135 | Accuracy: 82.8125%\n",
            "GB | Epoch 3 | Loss: 0.21885773539543152 | Accuracy: 93.75%\n",
            "GB | Epoch 3 | Loss: 0.42392444610595703 | Accuracy: 87.5%\n",
            "GB | Epoch 3 | Loss: 0.3894680440425873 | Accuracy: 89.0625%\n",
            "GB | Epoch 3 | Loss: 0.4207504391670227 | Accuracy: 87.5%\n",
            "GB | Epoch 3 | Loss: 0.37286463379859924 | Accuracy: 92.1875%\n",
            "GB | Epoch 3 | Loss: 0.3397783041000366 | Accuracy: 90.625%\n",
            "GB | Epoch 3 | Loss: 0.47546231746673584 | Accuracy: 85.9375%\n",
            "GB | Epoch 3 | Loss: 0.292941689491272 | Accuracy: 89.0625%\n",
            "GB | Epoch 3 | Loss: 0.35908401012420654 | Accuracy: 87.5%\n",
            "GB | Epoch 3 | Loss: 0.37164464592933655 | Accuracy: 90.625%\n",
            "GB | Epoch 3 | Loss: 0.3639468252658844 | Accuracy: 85.9375%\n",
            "GB | Epoch 3 | Loss: 0.27017611265182495 | Accuracy: 92.1875%\n",
            "GB | Epoch 3 | Loss: 0.4247513711452484 | Accuracy: 87.5%\n",
            "GB | Epoch 3 | Loss: 0.3522934317588806 | Accuracy: 92.1875%\n",
            "GB | Epoch 3 | Loss: 0.37702763080596924 | Accuracy: 84.375%\n"
          ]
        },
        {
          "output_type": "stream",
          "name": "stderr",
          "text": [
            "Epoch 3:  32%|███▏      | 238/751 [00:01<00:02, 225.87batch/s, accuracy=92.1875%, loss=0.237]"
          ]
        },
        {
          "output_type": "stream",
          "name": "stdout",
          "text": [
            "GB | Epoch 3 | Loss: 0.3060998022556305 | Accuracy: 90.625%\n",
            "GB | Epoch 3 | Loss: 0.33980733156204224 | Accuracy: 87.5%\n",
            "GB | Epoch 3 | Loss: 0.3952711820602417 | Accuracy: 89.0625%\n",
            "GB | Epoch 3 | Loss: 0.2717074453830719 | Accuracy: 90.625%\n",
            "GB | Epoch 3 | Loss: 0.3415169417858124 | Accuracy: 89.0625%\n",
            "GB | Epoch 3 | Loss: 0.34701502323150635 | Accuracy: 87.5%\n",
            "GB | Epoch 3 | Loss: 0.33816593885421753 | Accuracy: 89.0625%\n",
            "GB | Epoch 3 | Loss: 0.5851574540138245 | Accuracy: 79.6875%\n",
            "GB | Epoch 3 | Loss: 0.394709974527359 | Accuracy: 90.625%\n",
            "GB | Epoch 3 | Loss: 0.28956758975982666 | Accuracy: 92.1875%\n",
            "GB | Epoch 3 | Loss: 0.3887576758861542 | Accuracy: 89.0625%\n",
            "GB | Epoch 3 | Loss: 0.25269290804862976 | Accuracy: 92.1875%\n",
            "GB | Epoch 3 | Loss: 0.3362767994403839 | Accuracy: 92.1875%\n",
            "GB | Epoch 3 | Loss: 0.3690354526042938 | Accuracy: 92.1875%\n",
            "GB | Epoch 3 | Loss: 0.29152482748031616 | Accuracy: 90.625%\n",
            "GB | Epoch 3 | Loss: 0.36065423488616943 | Accuracy: 84.375%\n",
            "GB | Epoch 3 | Loss: 0.30312082171440125 | Accuracy: 93.75%\n",
            "GB | Epoch 3 | Loss: 0.4432837963104248 | Accuracy: 87.5%\n",
            "GB | Epoch 3 | Loss: 0.34052178263664246 | Accuracy: 87.5%\n",
            "GB | Epoch 3 | Loss: 0.3596462607383728 | Accuracy: 89.0625%\n",
            "GB | Epoch 3 | Loss: 0.28502970933914185 | Accuracy: 93.75%\n",
            "GB | Epoch 3 | Loss: 0.2993769943714142 | Accuracy: 93.75%\n",
            "GB | Epoch 3 | Loss: 0.5307961702346802 | Accuracy: 81.25%\n",
            "GB | Epoch 3 | Loss: 0.4025793671607971 | Accuracy: 84.375%\n",
            "GB | Epoch 3 | Loss: 0.4212125241756439 | Accuracy: 84.375%\n",
            "GB | Epoch 3 | Loss: 0.44955798983573914 | Accuracy: 87.5%\n",
            "GB | Epoch 3 | Loss: 0.41013920307159424 | Accuracy: 85.9375%\n",
            "GB | Epoch 3 | Loss: 0.45224833488464355 | Accuracy: 82.8125%\n",
            "GB | Epoch 3 | Loss: 0.5097813606262207 | Accuracy: 78.125%\n",
            "GB | Epoch 3 | Loss: 0.2567286789417267 | Accuracy: 92.1875%\n",
            "GB | Epoch 3 | Loss: 0.3332853615283966 | Accuracy: 85.9375%\n",
            "GB | Epoch 3 | Loss: 0.49450552463531494 | Accuracy: 87.5%\n",
            "GB | Epoch 3 | Loss: 0.3586636781692505 | Accuracy: 84.375%\n",
            "GB | Epoch 3 | Loss: 0.3367212116718292 | Accuracy: 90.625%\n",
            "GB | Epoch 3 | Loss: 0.2407960444688797 | Accuracy: 92.1875%\n",
            "GB | Epoch 3 | Loss: 0.3898668587207794 | Accuracy: 90.625%\n",
            "GB | Epoch 3 | Loss: 0.48839977383613586 | Accuracy: 85.9375%\n",
            "GB | Epoch 3 | Loss: 0.26897022128105164 | Accuracy: 90.625%\n",
            "GB | Epoch 3 | Loss: 0.5058278441429138 | Accuracy: 84.375%\n",
            "GB | Epoch 3 | Loss: 0.3805619478225708 | Accuracy: 89.0625%\n",
            "GB | Epoch 3 | Loss: 0.37521880865097046 | Accuracy: 85.9375%\n",
            "GB | Epoch 3 | Loss: 0.3127491772174835 | Accuracy: 90.625%\n",
            "GB | Epoch 3 | Loss: 0.35519909858703613 | Accuracy: 89.0625%\n",
            "GB | Epoch 3 | Loss: 0.4888196289539337 | Accuracy: 85.9375%\n",
            "GB | Epoch 3 | Loss: 0.3469817638397217 | Accuracy: 85.9375%\n",
            "GB | Epoch 3 | Loss: 0.35324913263320923 | Accuracy: 90.625%\n",
            "GB | Epoch 3 | Loss: 0.23660984635353088 | Accuracy: 90.625%\n",
            "GB | Epoch 3 | Loss: 0.3231047987937927 | Accuracy: 90.625%\n",
            "GB | Epoch 3 | Loss: 0.23744435608386993 | Accuracy: 92.1875%\n"
          ]
        },
        {
          "output_type": "stream",
          "name": "stderr",
          "text": [
            "Epoch 3:  38%|███▊      | 288/751 [00:01<00:01, 234.42batch/s, accuracy=89.0625%, loss=0.347]"
          ]
        },
        {
          "output_type": "stream",
          "name": "stdout",
          "text": [
            "GB | Epoch 3 | Loss: 0.4248057007789612 | Accuracy: 87.5%\n",
            "GB | Epoch 3 | Loss: 0.4172590672969818 | Accuracy: 81.25%\n",
            "GB | Epoch 3 | Loss: 0.23438775539398193 | Accuracy: 90.625%\n",
            "GB | Epoch 3 | Loss: 0.3739616870880127 | Accuracy: 87.5%\n",
            "GB | Epoch 3 | Loss: 0.3478364646434784 | Accuracy: 87.5%\n",
            "GB | Epoch 3 | Loss: 0.2667824625968933 | Accuracy: 89.0625%\n",
            "GB | Epoch 3 | Loss: 0.2534841299057007 | Accuracy: 92.1875%\n",
            "GB | Epoch 3 | Loss: 0.3113483786582947 | Accuracy: 92.1875%\n",
            "GB | Epoch 3 | Loss: 0.24230827391147614 | Accuracy: 93.75%\n",
            "GB | Epoch 3 | Loss: 0.4341717064380646 | Accuracy: 82.8125%\n",
            "GB | Epoch 3 | Loss: 0.273299902677536 | Accuracy: 92.1875%\n",
            "GB | Epoch 3 | Loss: 0.3978104889392853 | Accuracy: 87.5%\n",
            "GB | Epoch 3 | Loss: 0.443428099155426 | Accuracy: 87.5%\n",
            "GB | Epoch 3 | Loss: 0.30815210938453674 | Accuracy: 90.625%\n",
            "GB | Epoch 3 | Loss: 0.22747166454792023 | Accuracy: 93.75%\n",
            "GB | Epoch 3 | Loss: 0.16437089443206787 | Accuracy: 95.3125%\n",
            "GB | Epoch 3 | Loss: 0.34636297821998596 | Accuracy: 87.5%\n",
            "GB | Epoch 3 | Loss: 0.3636512756347656 | Accuracy: 92.1875%\n",
            "GB | Epoch 3 | Loss: 0.3839360177516937 | Accuracy: 85.9375%\n",
            "GB | Epoch 3 | Loss: 0.4850236475467682 | Accuracy: 78.125%\n",
            "GB | Epoch 3 | Loss: 0.33476972579956055 | Accuracy: 87.5%\n",
            "GB | Epoch 3 | Loss: 0.4511411190032959 | Accuracy: 87.5%\n",
            "GB | Epoch 3 | Loss: 0.27601367235183716 | Accuracy: 92.1875%\n",
            "GB | Epoch 3 | Loss: 0.2671486735343933 | Accuracy: 92.1875%\n",
            "GB | Epoch 3 | Loss: 0.2325105518102646 | Accuracy: 96.875%\n",
            "GB | Epoch 3 | Loss: 0.25831401348114014 | Accuracy: 93.75%\n",
            "GB | Epoch 3 | Loss: 0.41331738233566284 | Accuracy: 85.9375%\n",
            "GB | Epoch 3 | Loss: 0.20006506145000458 | Accuracy: 95.3125%\n",
            "GB | Epoch 3 | Loss: 0.36836129426956177 | Accuracy: 89.0625%\n",
            "GB | Epoch 3 | Loss: 0.4628794491291046 | Accuracy: 87.5%\n",
            "GB | Epoch 3 | Loss: 0.42386406660079956 | Accuracy: 85.9375%\n",
            "GB | Epoch 3 | Loss: 0.2970096468925476 | Accuracy: 92.1875%\n",
            "GB | Epoch 3 | Loss: 0.23927156627178192 | Accuracy: 95.3125%\n",
            "GB | Epoch 3 | Loss: 0.27961939573287964 | Accuracy: 92.1875%\n",
            "GB | Epoch 3 | Loss: 0.2500152587890625 | Accuracy: 92.1875%\n",
            "GB | Epoch 3 | Loss: 0.3447495996952057 | Accuracy: 92.1875%\n",
            "GB | Epoch 3 | Loss: 0.39358198642730713 | Accuracy: 85.9375%\n",
            "GB | Epoch 3 | Loss: 0.49135589599609375 | Accuracy: 82.8125%\n",
            "GB | Epoch 3 | Loss: 0.22128821909427643 | Accuracy: 93.75%\n",
            "GB | Epoch 3 | Loss: 0.2608625590801239 | Accuracy: 89.0625%\n",
            "GB | Epoch 3 | Loss: 0.33173489570617676 | Accuracy: 90.625%\n",
            "GB | Epoch 3 | Loss: 0.347054123878479 | Accuracy: 90.625%\n",
            "GB | Epoch 3 | Loss: 0.32169950008392334 | Accuracy: 90.625%\n",
            "GB | Epoch 3 | Loss: 0.258857786655426 | Accuracy: 92.1875%\n",
            "GB | Epoch 3 | Loss: 0.2719932198524475 | Accuracy: 92.1875%\n",
            "GB | Epoch 3 | Loss: 0.34234941005706787 | Accuracy: 89.0625%\n",
            "GB | Epoch 3 | Loss: 0.32656773924827576 | Accuracy: 89.0625%\n",
            "GB | Epoch 3 | Loss: 0.390433669090271 | Accuracy: 87.5%\n",
            "GB | Epoch 3 | Loss: 0.3469347655773163 | Accuracy: 89.0625%\n"
          ]
        },
        {
          "output_type": "stream",
          "name": "stderr",
          "text": [
            "Epoch 3:  45%|████▍     | 336/751 [00:01<00:01, 231.75batch/s, accuracy=92.1875%, loss=0.305]"
          ]
        },
        {
          "output_type": "stream",
          "name": "stdout",
          "text": [
            "GB | Epoch 3 | Loss: 0.2424059361219406 | Accuracy: 92.1875%\n",
            "GB | Epoch 3 | Loss: 0.43349412083625793 | Accuracy: 81.25%\n",
            "GB | Epoch 3 | Loss: 0.2182701677083969 | Accuracy: 96.875%\n",
            "GB | Epoch 3 | Loss: 0.5281035304069519 | Accuracy: 78.125%\n",
            "GB | Epoch 3 | Loss: 0.3425309956073761 | Accuracy: 90.625%\n",
            "GB | Epoch 3 | Loss: 0.2993307411670685 | Accuracy: 96.875%\n",
            "GB | Epoch 3 | Loss: 0.23909416794776917 | Accuracy: 96.875%\n",
            "GB | Epoch 3 | Loss: 0.21991580724716187 | Accuracy: 95.3125%\n",
            "GB | Epoch 3 | Loss: 0.42589709162712097 | Accuracy: 79.6875%\n",
            "GB | Epoch 3 | Loss: 0.34560704231262207 | Accuracy: 87.5%\n",
            "GB | Epoch 3 | Loss: 0.2802443504333496 | Accuracy: 90.625%\n",
            "GB | Epoch 3 | Loss: 0.29083555936813354 | Accuracy: 90.625%\n",
            "GB | Epoch 3 | Loss: 0.45318594574928284 | Accuracy: 81.25%\n",
            "GB | Epoch 3 | Loss: 0.35885247588157654 | Accuracy: 87.5%\n",
            "GB | Epoch 3 | Loss: 0.23063109815120697 | Accuracy: 95.3125%\n",
            "GB | Epoch 3 | Loss: 0.305829793214798 | Accuracy: 87.5%\n",
            "GB | Epoch 3 | Loss: 0.2708260715007782 | Accuracy: 90.625%\n",
            "GB | Epoch 3 | Loss: 0.34606504440307617 | Accuracy: 87.5%\n",
            "GB | Epoch 3 | Loss: 0.26333820819854736 | Accuracy: 90.625%\n",
            "GB | Epoch 3 | Loss: 0.34562090039253235 | Accuracy: 92.1875%\n",
            "GB | Epoch 3 | Loss: 0.2854370176792145 | Accuracy: 92.1875%\n",
            "GB | Epoch 3 | Loss: 0.4066903293132782 | Accuracy: 82.8125%\n",
            "GB | Epoch 3 | Loss: 0.40273317694664 | Accuracy: 82.8125%\n",
            "GB | Epoch 3 | Loss: 0.32886427640914917 | Accuracy: 85.9375%\n",
            "GB | Epoch 3 | Loss: 0.2878008782863617 | Accuracy: 90.625%\n",
            "GB | Epoch 3 | Loss: 0.35927388072013855 | Accuracy: 89.0625%\n",
            "GB | Epoch 3 | Loss: 0.2703590989112854 | Accuracy: 90.625%\n",
            "GB | Epoch 3 | Loss: 0.4230845272541046 | Accuracy: 85.9375%\n",
            "GB | Epoch 3 | Loss: 0.30203717947006226 | Accuracy: 89.0625%\n",
            "GB | Epoch 3 | Loss: 0.29841509461402893 | Accuracy: 92.1875%\n",
            "GB | Epoch 3 | Loss: 0.2643200159072876 | Accuracy: 93.75%\n",
            "GB | Epoch 3 | Loss: 0.27258941531181335 | Accuracy: 93.75%\n",
            "GB | Epoch 3 | Loss: 0.3751106858253479 | Accuracy: 84.375%\n",
            "GB | Epoch 3 | Loss: 0.38140061497688293 | Accuracy: 84.375%\n",
            "GB | Epoch 3 | Loss: 0.30527541041374207 | Accuracy: 89.0625%\n",
            "GB | Epoch 3 | Loss: 0.35811418294906616 | Accuracy: 85.9375%\n",
            "GB | Epoch 3 | Loss: 0.2800699770450592 | Accuracy: 93.75%\n",
            "GB | Epoch 3 | Loss: 0.4082370400428772 | Accuracy: 81.25%\n",
            "GB | Epoch 3 | Loss: 0.2953677177429199 | Accuracy: 90.625%\n",
            "GB | Epoch 3 | Loss: 0.27638617157936096 | Accuracy: 89.0625%\n",
            "GB | Epoch 3 | Loss: 0.3148144781589508 | Accuracy: 87.5%\n",
            "GB | Epoch 3 | Loss: 0.18855319917201996 | Accuracy: 95.3125%\n",
            "GB | Epoch 3 | Loss: 0.32489752769470215 | Accuracy: 89.0625%\n",
            "GB | Epoch 3 | Loss: 0.36912909150123596 | Accuracy: 87.5%\n",
            "GB | Epoch 3 | Loss: 0.32601404190063477 | Accuracy: 90.625%\n",
            "GB | Epoch 3 | Loss: 0.4095624089241028 | Accuracy: 87.5%\n",
            "GB | Epoch 3 | Loss: 0.30501872301101685 | Accuracy: 92.1875%\n"
          ]
        },
        {
          "output_type": "stream",
          "name": "stderr",
          "text": [
            "Epoch 3:  51%|█████▏    | 385/751 [00:02<00:01, 237.27batch/s, accuracy=92.1875%, loss=0.221]"
          ]
        },
        {
          "output_type": "stream",
          "name": "stdout",
          "text": [
            "GB | Epoch 3 | Loss: 0.25035348534584045 | Accuracy: 93.75%\n",
            "GB | Epoch 3 | Loss: 0.23274631798267365 | Accuracy: 92.1875%\n",
            "GB | Epoch 3 | Loss: 0.19275954365730286 | Accuracy: 95.3125%\n",
            "GB | Epoch 3 | Loss: 0.24712318181991577 | Accuracy: 90.625%\n",
            "GB | Epoch 3 | Loss: 0.3415168821811676 | Accuracy: 89.0625%\n",
            "GB | Epoch 3 | Loss: 0.310517281293869 | Accuracy: 89.0625%\n",
            "GB | Epoch 3 | Loss: 0.3148326277732849 | Accuracy: 90.625%\n",
            "GB | Epoch 3 | Loss: 0.4014969766139984 | Accuracy: 92.1875%\n",
            "GB | Epoch 3 | Loss: 0.16452427208423615 | Accuracy: 96.875%\n",
            "GB | Epoch 3 | Loss: 0.2115391492843628 | Accuracy: 92.1875%\n",
            "GB | Epoch 3 | Loss: 0.28063324093818665 | Accuracy: 92.1875%\n",
            "GB | Epoch 3 | Loss: 0.3171326220035553 | Accuracy: 90.625%\n",
            "GB | Epoch 3 | Loss: 0.17710591852664948 | Accuracy: 96.875%\n",
            "GB | Epoch 3 | Loss: 0.3621673882007599 | Accuracy: 85.9375%\n",
            "GB | Epoch 3 | Loss: 0.2312055230140686 | Accuracy: 95.3125%\n",
            "GB | Epoch 3 | Loss: 0.2838626205921173 | Accuracy: 90.625%\n",
            "GB | Epoch 3 | Loss: 0.33673998713493347 | Accuracy: 87.5%\n",
            "GB | Epoch 3 | Loss: 0.23077300190925598 | Accuracy: 95.3125%\n",
            "GB | Epoch 3 | Loss: 0.29514768719673157 | Accuracy: 92.1875%\n",
            "GB | Epoch 3 | Loss: 0.28700509667396545 | Accuracy: 95.3125%\n",
            "GB | Epoch 3 | Loss: 0.3990437686443329 | Accuracy: 89.0625%\n",
            "GB | Epoch 3 | Loss: 0.3429130017757416 | Accuracy: 90.625%\n",
            "GB | Epoch 3 | Loss: 0.2237088680267334 | Accuracy: 95.3125%\n",
            "GB | Epoch 3 | Loss: 0.33023133873939514 | Accuracy: 92.1875%\n",
            "GB | Epoch 3 | Loss: 0.16700218617916107 | Accuracy: 98.4375%\n",
            "GB | Epoch 3 | Loss: 0.3322364389896393 | Accuracy: 87.5%\n",
            "GB | Epoch 3 | Loss: 0.3089616894721985 | Accuracy: 90.625%\n",
            "GB | Epoch 3 | Loss: 0.2784768044948578 | Accuracy: 93.75%\n",
            "GB | Epoch 3 | Loss: 0.2655988931655884 | Accuracy: 90.625%\n",
            "GB | Epoch 3 | Loss: 0.28767743706703186 | Accuracy: 90.625%\n",
            "GB | Epoch 3 | Loss: 0.3312554955482483 | Accuracy: 85.9375%\n",
            "GB | Epoch 3 | Loss: 0.33905836939811707 | Accuracy: 90.625%\n",
            "GB | Epoch 3 | Loss: 0.25904160737991333 | Accuracy: 90.625%\n",
            "GB | Epoch 3 | Loss: 0.32284247875213623 | Accuracy: 90.625%\n",
            "GB | Epoch 3 | Loss: 0.2676616609096527 | Accuracy: 93.75%\n",
            "GB | Epoch 3 | Loss: 0.2363997995853424 | Accuracy: 92.1875%\n",
            "GB | Epoch 3 | Loss: 0.2931460440158844 | Accuracy: 95.3125%\n",
            "GB | Epoch 3 | Loss: 0.32425105571746826 | Accuracy: 89.0625%\n",
            "GB | Epoch 3 | Loss: 0.17113631963729858 | Accuracy: 96.875%\n",
            "GB | Epoch 3 | Loss: 0.24221284687519073 | Accuracy: 93.75%\n",
            "GB | Epoch 3 | Loss: 0.39660948514938354 | Accuracy: 87.5%\n",
            "GB | Epoch 3 | Loss: 0.4668313264846802 | Accuracy: 81.25%\n",
            "GB | Epoch 3 | Loss: 0.2992316484451294 | Accuracy: 90.625%\n",
            "GB | Epoch 3 | Loss: 0.42742571234703064 | Accuracy: 82.8125%\n",
            "GB | Epoch 3 | Loss: 0.24985849857330322 | Accuracy: 95.3125%\n",
            "GB | Epoch 3 | Loss: 0.31081974506378174 | Accuracy: 87.5%\n",
            "GB | Epoch 3 | Loss: 0.32251212000846863 | Accuracy: 93.75%\n",
            "GB | Epoch 3 | Loss: 0.2266138195991516 | Accuracy: 90.625%\n",
            "GB | Epoch 3 | Loss: 0.39302119612693787 | Accuracy: 92.1875%\n",
            "GB | Epoch 3 | Loss: 0.22115924954414368 | Accuracy: 92.1875%\n"
          ]
        },
        {
          "output_type": "stream",
          "name": "stderr",
          "text": [
            "Epoch 3:  58%|█████▊    | 435/751 [00:02<00:01, 241.76batch/s, accuracy=90.625%, loss=0.248] "
          ]
        },
        {
          "output_type": "stream",
          "name": "stdout",
          "text": [
            "GB | Epoch 3 | Loss: 0.4239838123321533 | Accuracy: 84.375%\n",
            "GB | Epoch 3 | Loss: 0.2581474483013153 | Accuracy: 93.75%\n",
            "GB | Epoch 3 | Loss: 0.3245752155780792 | Accuracy: 87.5%\n",
            "GB | Epoch 3 | Loss: 0.18266484141349792 | Accuracy: 96.875%\n",
            "GB | Epoch 3 | Loss: 0.2189825028181076 | Accuracy: 93.75%\n",
            "GB | Epoch 3 | Loss: 0.3068140149116516 | Accuracy: 90.625%\n",
            "GB | Epoch 3 | Loss: 0.2599954605102539 | Accuracy: 92.1875%\n",
            "GB | Epoch 3 | Loss: 0.2510838210582733 | Accuracy: 90.625%\n",
            "GB | Epoch 3 | Loss: 0.22659240663051605 | Accuracy: 93.75%\n",
            "GB | Epoch 3 | Loss: 0.22523213922977448 | Accuracy: 95.3125%\n",
            "GB | Epoch 3 | Loss: 0.21112795174121857 | Accuracy: 96.875%\n",
            "GB | Epoch 3 | Loss: 0.24274328351020813 | Accuracy: 93.75%\n",
            "GB | Epoch 3 | Loss: 0.3871123790740967 | Accuracy: 87.5%\n",
            "GB | Epoch 3 | Loss: 0.34583279490470886 | Accuracy: 93.75%\n",
            "GB | Epoch 3 | Loss: 0.1954299807548523 | Accuracy: 92.1875%\n",
            "GB | Epoch 3 | Loss: 0.2676522135734558 | Accuracy: 92.1875%\n",
            "GB | Epoch 3 | Loss: 0.19332171976566315 | Accuracy: 95.3125%\n",
            "GB | Epoch 3 | Loss: 0.2089640200138092 | Accuracy: 92.1875%\n",
            "GB | Epoch 3 | Loss: 0.2633401155471802 | Accuracy: 89.0625%\n",
            "GB | Epoch 3 | Loss: 0.47693124413490295 | Accuracy: 85.9375%\n",
            "GB | Epoch 3 | Loss: 0.349521666765213 | Accuracy: 87.5%\n",
            "GB | Epoch 3 | Loss: 0.2763303518295288 | Accuracy: 93.75%\n",
            "GB | Epoch 3 | Loss: 0.24891391396522522 | Accuracy: 92.1875%\n",
            "GB | Epoch 3 | Loss: 0.21189890801906586 | Accuracy: 93.75%\n",
            "GB | Epoch 3 | Loss: 0.3148462176322937 | Accuracy: 92.1875%\n",
            "GB | Epoch 3 | Loss: 0.28746822476387024 | Accuracy: 90.625%\n",
            "GB | Epoch 3 | Loss: 0.39262232184410095 | Accuracy: 89.0625%\n",
            "GB | Epoch 3 | Loss: 0.46553143858909607 | Accuracy: 82.8125%\n",
            "GB | Epoch 3 | Loss: 0.25145378708839417 | Accuracy: 90.625%\n",
            "GB | Epoch 3 | Loss: 0.36458340287208557 | Accuracy: 87.5%\n",
            "GB | Epoch 3 | Loss: 0.2513560354709625 | Accuracy: 92.1875%\n",
            "GB | Epoch 3 | Loss: 0.34202656149864197 | Accuracy: 85.9375%\n",
            "GB | Epoch 3 | Loss: 0.2659342288970947 | Accuracy: 93.75%\n",
            "GB | Epoch 3 | Loss: 0.2240753471851349 | Accuracy: 96.875%\n",
            "GB | Epoch 3 | Loss: 0.29244375228881836 | Accuracy: 93.75%\n",
            "GB | Epoch 3 | Loss: 0.2618485987186432 | Accuracy: 93.75%\n",
            "GB | Epoch 3 | Loss: 0.22519095242023468 | Accuracy: 93.75%\n",
            "GB | Epoch 3 | Loss: 0.20413964986801147 | Accuracy: 93.75%\n",
            "GB | Epoch 3 | Loss: 0.25691479444503784 | Accuracy: 92.1875%\n",
            "GB | Epoch 3 | Loss: 0.23727190494537354 | Accuracy: 95.3125%\n",
            "GB | Epoch 3 | Loss: 0.2606242299079895 | Accuracy: 92.1875%\n",
            "GB | Epoch 3 | Loss: 0.19311381876468658 | Accuracy: 95.3125%\n",
            "GB | Epoch 3 | Loss: 0.3337092101573944 | Accuracy: 90.625%\n",
            "GB | Epoch 3 | Loss: 0.1694469004869461 | Accuracy: 95.3125%\n",
            "GB | Epoch 3 | Loss: 0.31740960478782654 | Accuracy: 92.1875%\n",
            "GB | Epoch 3 | Loss: 0.22824551165103912 | Accuracy: 87.5%\n",
            "GB | Epoch 3 | Loss: 0.35649213194847107 | Accuracy: 89.0625%\n",
            "GB | Epoch 3 | Loss: 0.21218128502368927 | Accuracy: 95.3125%\n",
            "GB | Epoch 3 | Loss: 0.2475796490907669 | Accuracy: 90.625%\n"
          ]
        },
        {
          "output_type": "stream",
          "name": "stderr",
          "text": [
            "Epoch 3:  65%|██████▍   | 486/751 [00:02<00:01, 244.50batch/s, accuracy=89.0625%, loss=0.274]"
          ]
        },
        {
          "output_type": "stream",
          "name": "stdout",
          "text": [
            "GB | Epoch 3 | Loss: 0.32566455006599426 | Accuracy: 87.5%\n",
            "GB | Epoch 3 | Loss: 0.1918858140707016 | Accuracy: 93.75%\n",
            "GB | Epoch 3 | Loss: 0.24529454112052917 | Accuracy: 93.75%\n",
            "GB | Epoch 3 | Loss: 0.2696681022644043 | Accuracy: 93.75%\n",
            "GB | Epoch 3 | Loss: 0.20949816703796387 | Accuracy: 93.75%\n",
            "GB | Epoch 3 | Loss: 0.39067772030830383 | Accuracy: 85.9375%\n",
            "GB | Epoch 3 | Loss: 0.3202577829360962 | Accuracy: 82.8125%\n",
            "GB | Epoch 3 | Loss: 0.3057132363319397 | Accuracy: 90.625%\n",
            "GB | Epoch 3 | Loss: 0.257365882396698 | Accuracy: 92.1875%\n",
            "GB | Epoch 3 | Loss: 0.21232619881629944 | Accuracy: 92.1875%\n",
            "GB | Epoch 3 | Loss: 0.4245561957359314 | Accuracy: 87.5%\n",
            "GB | Epoch 3 | Loss: 0.20455464720726013 | Accuracy: 92.1875%\n",
            "GB | Epoch 3 | Loss: 0.14495308697223663 | Accuracy: 96.875%\n",
            "GB | Epoch 3 | Loss: 0.19816836714744568 | Accuracy: 93.75%\n",
            "GB | Epoch 3 | Loss: 0.35262271761894226 | Accuracy: 89.0625%\n",
            "GB | Epoch 3 | Loss: 0.26445168256759644 | Accuracy: 92.1875%\n",
            "GB | Epoch 3 | Loss: 0.3655862510204315 | Accuracy: 85.9375%\n",
            "GB | Epoch 3 | Loss: 0.25387147068977356 | Accuracy: 90.625%\n",
            "GB | Epoch 3 | Loss: 0.29447293281555176 | Accuracy: 87.5%\n",
            "GB | Epoch 3 | Loss: 0.21481581032276154 | Accuracy: 93.75%\n",
            "GB | Epoch 3 | Loss: 0.44862809777259827 | Accuracy: 84.375%\n",
            "GB | Epoch 3 | Loss: 0.20366525650024414 | Accuracy: 92.1875%\n",
            "GB | Epoch 3 | Loss: 0.2680608630180359 | Accuracy: 85.9375%\n",
            "GB | Epoch 3 | Loss: 0.18800561130046844 | Accuracy: 95.3125%\n",
            "GB | Epoch 3 | Loss: 0.2191711813211441 | Accuracy: 92.1875%\n",
            "GB | Epoch 3 | Loss: 0.19003313779830933 | Accuracy: 95.3125%\n",
            "GB | Epoch 3 | Loss: 0.397882342338562 | Accuracy: 90.625%\n",
            "GB | Epoch 3 | Loss: 0.3449662923812866 | Accuracy: 87.5%\n",
            "GB | Epoch 3 | Loss: 0.2777557671070099 | Accuracy: 90.625%\n",
            "GB | Epoch 3 | Loss: 0.3650944232940674 | Accuracy: 87.5%\n",
            "GB | Epoch 3 | Loss: 0.2604871988296509 | Accuracy: 92.1875%\n",
            "GB | Epoch 3 | Loss: 0.20039133727550507 | Accuracy: 92.1875%\n",
            "GB | Epoch 3 | Loss: 0.2105897068977356 | Accuracy: 92.1875%\n",
            "GB | Epoch 3 | Loss: 0.29359492659568787 | Accuracy: 90.625%\n",
            "GB | Epoch 3 | Loss: 0.20775939524173737 | Accuracy: 93.75%\n",
            "GB | Epoch 3 | Loss: 0.3395143151283264 | Accuracy: 89.0625%\n",
            "GB | Epoch 3 | Loss: 0.24411773681640625 | Accuracy: 92.1875%\n",
            "GB | Epoch 3 | Loss: 0.4103528559207916 | Accuracy: 85.9375%\n",
            "GB | Epoch 3 | Loss: 0.2635919451713562 | Accuracy: 93.75%\n",
            "GB | Epoch 3 | Loss: 0.27612122893333435 | Accuracy: 89.0625%\n",
            "GB | Epoch 3 | Loss: 0.21702921390533447 | Accuracy: 92.1875%\n",
            "GB | Epoch 3 | Loss: 0.2180926352739334 | Accuracy: 95.3125%\n",
            "GB | Epoch 3 | Loss: 0.34468796849250793 | Accuracy: 87.5%\n",
            "GB | Epoch 3 | Loss: 0.17019124329090118 | Accuracy: 95.3125%\n",
            "GB | Epoch 3 | Loss: 0.23216086626052856 | Accuracy: 95.3125%\n",
            "GB | Epoch 3 | Loss: 0.14232632517814636 | Accuracy: 100.0%\n",
            "GB | Epoch 3 | Loss: 0.2749912142753601 | Accuracy: 90.625%\n",
            "GB | Epoch 3 | Loss: 0.3520275056362152 | Accuracy: 87.5%\n",
            "GB | Epoch 3 | Loss: 0.20935069024562836 | Accuracy: 92.1875%\n",
            "GB | Epoch 3 | Loss: 0.23018914461135864 | Accuracy: 90.625%\n"
          ]
        },
        {
          "output_type": "stream",
          "name": "stderr",
          "text": [
            "Epoch 3:  71%|███████▏  | 536/751 [00:02<00:00, 244.97batch/s, accuracy=90.625%, loss=0.319]"
          ]
        },
        {
          "output_type": "stream",
          "name": "stdout",
          "text": [
            "GB | Epoch 3 | Loss: 0.27438679337501526 | Accuracy: 89.0625%\n",
            "GB | Epoch 3 | Loss: 0.28438833355903625 | Accuracy: 92.1875%\n",
            "GB | Epoch 3 | Loss: 0.27722954750061035 | Accuracy: 93.75%\n",
            "GB | Epoch 3 | Loss: 0.3344651460647583 | Accuracy: 90.625%\n",
            "GB | Epoch 3 | Loss: 0.25885942578315735 | Accuracy: 93.75%\n",
            "GB | Epoch 3 | Loss: 0.28747615218162537 | Accuracy: 90.625%\n",
            "GB | Epoch 3 | Loss: 0.260609894990921 | Accuracy: 89.0625%\n",
            "GB | Epoch 3 | Loss: 0.21787573397159576 | Accuracy: 95.3125%\n",
            "GB | Epoch 3 | Loss: 0.22680026292800903 | Accuracy: 93.75%\n",
            "GB | Epoch 3 | Loss: 0.29399988055229187 | Accuracy: 92.1875%\n",
            "GB | Epoch 3 | Loss: 0.6077170968055725 | Accuracy: 82.8125%\n",
            "GB | Epoch 3 | Loss: 0.2549843192100525 | Accuracy: 93.75%\n",
            "GB | Epoch 3 | Loss: 0.2954818904399872 | Accuracy: 87.5%\n",
            "GB | Epoch 3 | Loss: 0.31351760029792786 | Accuracy: 90.625%\n",
            "GB | Epoch 3 | Loss: 0.273429811000824 | Accuracy: 93.75%\n",
            "GB | Epoch 3 | Loss: 0.26361435651779175 | Accuracy: 92.1875%\n",
            "GB | Epoch 3 | Loss: 0.191427543759346 | Accuracy: 95.3125%\n",
            "GB | Epoch 3 | Loss: 0.282707542181015 | Accuracy: 92.1875%\n",
            "GB | Epoch 3 | Loss: 0.5652684569358826 | Accuracy: 87.5%\n",
            "GB | Epoch 3 | Loss: 0.1638934165239334 | Accuracy: 96.875%\n",
            "GB | Epoch 3 | Loss: 0.3183988928794861 | Accuracy: 90.625%\n",
            "GB | Epoch 3 | Loss: 0.22778195142745972 | Accuracy: 95.3125%\n",
            "GB | Epoch 3 | Loss: 0.15178027749061584 | Accuracy: 92.1875%\n",
            "GB | Epoch 3 | Loss: 0.20009998977184296 | Accuracy: 93.75%\n",
            "GB | Epoch 3 | Loss: 0.4009128510951996 | Accuracy: 92.1875%\n",
            "GB | Epoch 3 | Loss: 0.33617648482322693 | Accuracy: 90.625%\n",
            "GB | Epoch 3 | Loss: 0.3477494418621063 | Accuracy: 89.0625%\n",
            "GB | Epoch 3 | Loss: 0.4271102547645569 | Accuracy: 90.625%\n",
            "GB | Epoch 3 | Loss: 0.18179719150066376 | Accuracy: 96.875%\n",
            "GB | Epoch 3 | Loss: 0.24338828027248383 | Accuracy: 93.75%\n",
            "GB | Epoch 3 | Loss: 0.40930864214897156 | Accuracy: 89.0625%\n",
            "GB | Epoch 3 | Loss: 0.2669956386089325 | Accuracy: 93.75%\n",
            "GB | Epoch 3 | Loss: 0.14674891531467438 | Accuracy: 95.3125%\n",
            "GB | Epoch 3 | Loss: 0.23745107650756836 | Accuracy: 93.75%\n",
            "GB | Epoch 3 | Loss: 0.2196783423423767 | Accuracy: 90.625%\n",
            "GB | Epoch 3 | Loss: 0.2851904034614563 | Accuracy: 90.625%\n",
            "GB | Epoch 3 | Loss: 0.2658785283565521 | Accuracy: 90.625%\n",
            "GB | Epoch 3 | Loss: 0.25286853313446045 | Accuracy: 87.5%\n",
            "GB | Epoch 3 | Loss: 0.2668878138065338 | Accuracy: 92.1875%\n",
            "GB | Epoch 3 | Loss: 0.21536575257778168 | Accuracy: 92.1875%\n",
            "GB | Epoch 3 | Loss: 0.23975123465061188 | Accuracy: 92.1875%\n",
            "GB | Epoch 3 | Loss: 0.28501224517822266 | Accuracy: 90.625%\n",
            "GB | Epoch 3 | Loss: 0.3199264407157898 | Accuracy: 93.75%\n",
            "GB | Epoch 3 | Loss: 0.18308742344379425 | Accuracy: 93.75%\n",
            "GB | Epoch 3 | Loss: 0.27917081117630005 | Accuracy: 90.625%\n",
            "GB | Epoch 3 | Loss: 0.2024400383234024 | Accuracy: 92.1875%\n",
            "GB | Epoch 3 | Loss: 0.1792093813419342 | Accuracy: 96.875%\n",
            "GB | Epoch 3 | Loss: 0.251727432012558 | Accuracy: 93.75%\n",
            "GB | Epoch 3 | Loss: 0.20006650686264038 | Accuracy: 95.3125%\n",
            "GB | Epoch 3 | Loss: 0.31914952397346497 | Accuracy: 90.625%\n"
          ]
        },
        {
          "output_type": "stream",
          "name": "stderr",
          "text": [
            "Epoch 3:  78%|███████▊  | 586/751 [00:02<00:00, 244.24batch/s, accuracy=90.625%, loss=0.285]"
          ]
        },
        {
          "output_type": "stream",
          "name": "stdout",
          "text": [
            "GB | Epoch 3 | Loss: 0.4395545423030853 | Accuracy: 92.1875%\n",
            "GB | Epoch 3 | Loss: 0.4293884038925171 | Accuracy: 89.0625%\n",
            "GB | Epoch 3 | Loss: 0.24725677073001862 | Accuracy: 90.625%\n",
            "GB | Epoch 3 | Loss: 0.29239800572395325 | Accuracy: 89.0625%\n",
            "GB | Epoch 3 | Loss: 0.23409493267536163 | Accuracy: 95.3125%\n",
            "GB | Epoch 3 | Loss: 0.32872775197029114 | Accuracy: 85.9375%\n",
            "GB | Epoch 3 | Loss: 0.22319310903549194 | Accuracy: 95.3125%\n",
            "GB | Epoch 3 | Loss: 0.2233501374721527 | Accuracy: 93.75%\n",
            "GB | Epoch 3 | Loss: 0.2698422074317932 | Accuracy: 90.625%\n",
            "GB | Epoch 3 | Loss: 0.2016286700963974 | Accuracy: 95.3125%\n",
            "GB | Epoch 3 | Loss: 0.2408677488565445 | Accuracy: 90.625%\n",
            "GB | Epoch 3 | Loss: 0.18667183816432953 | Accuracy: 96.875%\n",
            "GB | Epoch 3 | Loss: 0.29496580362319946 | Accuracy: 92.1875%\n",
            "GB | Epoch 3 | Loss: 0.295289009809494 | Accuracy: 93.75%\n",
            "GB | Epoch 3 | Loss: 0.12653708457946777 | Accuracy: 96.875%\n",
            "GB | Epoch 3 | Loss: 0.1428593397140503 | Accuracy: 98.4375%\n",
            "GB | Epoch 3 | Loss: 0.1841350942850113 | Accuracy: 96.875%\n",
            "GB | Epoch 3 | Loss: 0.2289050817489624 | Accuracy: 92.1875%\n",
            "GB | Epoch 3 | Loss: 0.2022552192211151 | Accuracy: 95.3125%\n",
            "GB | Epoch 3 | Loss: 0.3091529905796051 | Accuracy: 93.75%\n",
            "GB | Epoch 3 | Loss: 0.3191836476325989 | Accuracy: 93.75%\n",
            "GB | Epoch 3 | Loss: 0.23126503825187683 | Accuracy: 90.625%\n",
            "GB | Epoch 3 | Loss: 0.12862476706504822 | Accuracy: 100.0%\n",
            "GB | Epoch 3 | Loss: 0.15742503106594086 | Accuracy: 95.3125%\n",
            "GB | Epoch 3 | Loss: 0.3292447030544281 | Accuracy: 87.5%\n",
            "GB | Epoch 3 | Loss: 0.22508352994918823 | Accuracy: 96.875%\n",
            "GB | Epoch 3 | Loss: 0.18665039539337158 | Accuracy: 95.3125%\n",
            "GB | Epoch 3 | Loss: 0.24688702821731567 | Accuracy: 93.75%\n",
            "GB | Epoch 3 | Loss: 0.1551835536956787 | Accuracy: 98.4375%\n",
            "GB | Epoch 3 | Loss: 0.26417744159698486 | Accuracy: 92.1875%\n",
            "GB | Epoch 3 | Loss: 0.3599551022052765 | Accuracy: 87.5%\n",
            "GB | Epoch 3 | Loss: 0.24462080001831055 | Accuracy: 93.75%\n",
            "GB | Epoch 3 | Loss: 0.1893536001443863 | Accuracy: 93.75%\n",
            "GB | Epoch 3 | Loss: 0.3195946216583252 | Accuracy: 89.0625%\n",
            "GB | Epoch 3 | Loss: 0.19836603105068207 | Accuracy: 96.875%\n",
            "GB | Epoch 3 | Loss: 0.19345732033252716 | Accuracy: 96.875%\n",
            "GB | Epoch 3 | Loss: 0.23616701364517212 | Accuracy: 92.1875%\n",
            "GB | Epoch 3 | Loss: 0.20866365730762482 | Accuracy: 93.75%\n",
            "GB | Epoch 3 | Loss: 0.4069589674472809 | Accuracy: 81.25%\n",
            "GB | Epoch 3 | Loss: 0.2094767987728119 | Accuracy: 92.1875%\n",
            "GB | Epoch 3 | Loss: 0.168820321559906 | Accuracy: 93.75%\n",
            "GB | Epoch 3 | Loss: 0.3644239604473114 | Accuracy: 85.9375%\n",
            "GB | Epoch 3 | Loss: 0.22733710706233978 | Accuracy: 93.75%\n",
            "GB | Epoch 3 | Loss: 0.15746888518333435 | Accuracy: 96.875%\n",
            "GB | Epoch 3 | Loss: 0.18826867640018463 | Accuracy: 93.75%\n",
            "GB | Epoch 3 | Loss: 0.20795917510986328 | Accuracy: 93.75%\n",
            "GB | Epoch 3 | Loss: 0.3063002824783325 | Accuracy: 90.625%\n",
            "GB | Epoch 3 | Loss: 0.14078901708126068 | Accuracy: 96.875%\n",
            "GB | Epoch 3 | Loss: 0.2847985029220581 | Accuracy: 90.625%\n"
          ]
        },
        {
          "output_type": "stream",
          "name": "stderr",
          "text": [
            "Epoch 3:  85%|████████▍ | 636/751 [00:03<00:00, 242.13batch/s, accuracy=95.3125%, loss=0.152]"
          ]
        },
        {
          "output_type": "stream",
          "name": "stdout",
          "text": [
            "GB | Epoch 3 | Loss: 0.2771717607975006 | Accuracy: 89.0625%\n",
            "GB | Epoch 3 | Loss: 0.15193666517734528 | Accuracy: 96.875%\n",
            "GB | Epoch 3 | Loss: 0.1636437624692917 | Accuracy: 95.3125%\n",
            "GB | Epoch 3 | Loss: 0.29707393050193787 | Accuracy: 90.625%\n",
            "GB | Epoch 3 | Loss: 0.2925160229206085 | Accuracy: 89.0625%\n",
            "GB | Epoch 3 | Loss: 0.19327199459075928 | Accuracy: 96.875%\n",
            "GB | Epoch 3 | Loss: 0.27484485507011414 | Accuracy: 90.625%\n",
            "GB | Epoch 3 | Loss: 0.15774600207805634 | Accuracy: 95.3125%\n",
            "GB | Epoch 3 | Loss: 0.17270684242248535 | Accuracy: 93.75%\n",
            "GB | Epoch 3 | Loss: 0.16501076519489288 | Accuracy: 93.75%\n",
            "GB | Epoch 3 | Loss: 0.1628061980009079 | Accuracy: 93.75%\n",
            "GB | Epoch 3 | Loss: 0.209560364484787 | Accuracy: 92.1875%\n",
            "GB | Epoch 3 | Loss: 0.31870079040527344 | Accuracy: 87.5%\n",
            "GB | Epoch 3 | Loss: 0.17034995555877686 | Accuracy: 96.875%\n",
            "GB | Epoch 3 | Loss: 0.28773170709609985 | Accuracy: 89.0625%\n",
            "GB | Epoch 3 | Loss: 0.15747880935668945 | Accuracy: 95.3125%\n",
            "GB | Epoch 3 | Loss: 0.18006804585456848 | Accuracy: 92.1875%\n",
            "GB | Epoch 3 | Loss: 0.1812393218278885 | Accuracy: 96.875%\n",
            "GB | Epoch 3 | Loss: 0.23334695398807526 | Accuracy: 92.1875%\n",
            "GB | Epoch 3 | Loss: 0.13065871596336365 | Accuracy: 95.3125%\n",
            "GB | Epoch 3 | Loss: 0.23689182102680206 | Accuracy: 90.625%\n",
            "GB | Epoch 3 | Loss: 0.4230400025844574 | Accuracy: 93.75%\n",
            "GB | Epoch 3 | Loss: 0.3452422618865967 | Accuracy: 90.625%\n",
            "GB | Epoch 3 | Loss: 0.37098997831344604 | Accuracy: 92.1875%\n",
            "GB | Epoch 3 | Loss: 0.3437333106994629 | Accuracy: 89.0625%\n",
            "GB | Epoch 3 | Loss: 0.2804584205150604 | Accuracy: 90.625%\n",
            "GB | Epoch 3 | Loss: 0.11804582923650742 | Accuracy: 95.3125%\n",
            "GB | Epoch 3 | Loss: 0.11888818442821503 | Accuracy: 95.3125%\n",
            "GB | Epoch 3 | Loss: 0.13713185489177704 | Accuracy: 95.3125%\n",
            "GB | Epoch 3 | Loss: 0.24877271056175232 | Accuracy: 89.0625%\n",
            "GB | Epoch 3 | Loss: 0.1950678676366806 | Accuracy: 92.1875%\n",
            "GB | Epoch 3 | Loss: 0.1344127357006073 | Accuracy: 96.875%\n",
            "GB | Epoch 3 | Loss: 0.25406405329704285 | Accuracy: 93.75%\n",
            "GB | Epoch 3 | Loss: 0.15101055800914764 | Accuracy: 95.3125%\n",
            "GB | Epoch 3 | Loss: 0.1939021646976471 | Accuracy: 93.75%\n",
            "GB | Epoch 3 | Loss: 0.18935051560401917 | Accuracy: 95.3125%\n",
            "GB | Epoch 3 | Loss: 0.14597059786319733 | Accuracy: 96.875%\n",
            "GB | Epoch 3 | Loss: 0.15888649225234985 | Accuracy: 96.875%\n",
            "GB | Epoch 3 | Loss: 0.26391252875328064 | Accuracy: 95.3125%\n",
            "GB | Epoch 3 | Loss: 0.2547222971916199 | Accuracy: 93.75%\n",
            "GB | Epoch 3 | Loss: 0.37830522656440735 | Accuracy: 90.625%\n",
            "GB | Epoch 3 | Loss: 0.30123522877693176 | Accuracy: 89.0625%\n",
            "GB | Epoch 3 | Loss: 0.17917147278785706 | Accuracy: 95.3125%\n",
            "GB | Epoch 3 | Loss: 0.175114244222641 | Accuracy: 95.3125%\n",
            "GB | Epoch 3 | Loss: 0.23101788759231567 | Accuracy: 89.0625%\n",
            "GB | Epoch 3 | Loss: 0.1485370397567749 | Accuracy: 95.3125%\n",
            "GB | Epoch 3 | Loss: 0.21210569143295288 | Accuracy: 92.1875%\n",
            "GB | Epoch 3 | Loss: 0.15231792628765106 | Accuracy: 95.3125%\n"
          ]
        },
        {
          "output_type": "stream",
          "name": "stderr",
          "text": [
            "Epoch 3:  91%|█████████▏| 686/751 [00:03<00:00, 241.18batch/s, accuracy=92.1875%, loss=0.238]"
          ]
        },
        {
          "output_type": "stream",
          "name": "stdout",
          "text": [
            "GB | Epoch 3 | Loss: 0.2884179949760437 | Accuracy: 89.0625%\n",
            "GB | Epoch 3 | Loss: 0.3342067301273346 | Accuracy: 89.0625%\n",
            "GB | Epoch 3 | Loss: 0.1723031997680664 | Accuracy: 96.875%\n",
            "GB | Epoch 3 | Loss: 0.21447312831878662 | Accuracy: 90.625%\n",
            "GB | Epoch 3 | Loss: 0.21757002174854279 | Accuracy: 93.75%\n",
            "GB | Epoch 3 | Loss: 0.142090305685997 | Accuracy: 96.875%\n",
            "GB | Epoch 3 | Loss: 0.25642338395118713 | Accuracy: 89.0625%\n",
            "GB | Epoch 3 | Loss: 0.18843811750411987 | Accuracy: 93.75%\n",
            "GB | Epoch 3 | Loss: 0.25496405363082886 | Accuracy: 93.75%\n",
            "GB | Epoch 3 | Loss: 0.27359041571617126 | Accuracy: 89.0625%\n",
            "GB | Epoch 3 | Loss: 0.10694146156311035 | Accuracy: 96.875%\n",
            "GB | Epoch 3 | Loss: 0.21410982310771942 | Accuracy: 92.1875%\n",
            "GB | Epoch 3 | Loss: 0.24413253366947174 | Accuracy: 95.3125%\n",
            "GB | Epoch 3 | Loss: 0.36379680037498474 | Accuracy: 85.9375%\n",
            "GB | Epoch 3 | Loss: 0.1620328575372696 | Accuracy: 96.875%\n",
            "GB | Epoch 3 | Loss: 0.12025881558656693 | Accuracy: 96.875%\n",
            "GB | Epoch 3 | Loss: 0.21345047652721405 | Accuracy: 95.3125%\n",
            "GB | Epoch 3 | Loss: 0.17606361210346222 | Accuracy: 96.875%\n",
            "GB | Epoch 3 | Loss: 0.24055463075637817 | Accuracy: 93.75%\n",
            "GB | Epoch 3 | Loss: 0.19813920557498932 | Accuracy: 96.875%\n",
            "GB | Epoch 3 | Loss: 0.4800436794757843 | Accuracy: 85.9375%\n",
            "GB | Epoch 3 | Loss: 0.332461416721344 | Accuracy: 90.625%\n",
            "GB | Epoch 3 | Loss: 0.27161601185798645 | Accuracy: 95.3125%\n",
            "GB | Epoch 3 | Loss: 0.28692665696144104 | Accuracy: 92.1875%\n",
            "GB | Epoch 3 | Loss: 0.23735889792442322 | Accuracy: 93.75%\n",
            "GB | Epoch 3 | Loss: 0.23451903462409973 | Accuracy: 90.625%\n",
            "GB | Epoch 3 | Loss: 0.17646104097366333 | Accuracy: 95.3125%\n",
            "GB | Epoch 3 | Loss: 0.16889597475528717 | Accuracy: 95.3125%\n",
            "GB | Epoch 3 | Loss: 0.2777685523033142 | Accuracy: 95.3125%\n",
            "GB | Epoch 3 | Loss: 0.24047428369522095 | Accuracy: 90.625%\n",
            "GB | Epoch 3 | Loss: 0.18609881401062012 | Accuracy: 93.75%\n",
            "GB | Epoch 3 | Loss: 0.20381662249565125 | Accuracy: 95.3125%\n",
            "GB | Epoch 3 | Loss: 0.2687361240386963 | Accuracy: 89.0625%\n",
            "GB | Epoch 3 | Loss: 0.13482774794101715 | Accuracy: 96.875%\n",
            "GB | Epoch 3 | Loss: 0.2099076509475708 | Accuracy: 95.3125%\n",
            "GB | Epoch 3 | Loss: 0.2104143649339676 | Accuracy: 95.3125%\n",
            "GB | Epoch 3 | Loss: 0.2980661392211914 | Accuracy: 89.0625%\n",
            "GB | Epoch 3 | Loss: 0.15182287991046906 | Accuracy: 95.3125%\n",
            "GB | Epoch 3 | Loss: 0.1876402497291565 | Accuracy: 92.1875%\n",
            "GB | Epoch 3 | Loss: 0.22984319925308228 | Accuracy: 93.75%\n",
            "GB | Epoch 3 | Loss: 0.19917836785316467 | Accuracy: 92.1875%\n",
            "GB | Epoch 3 | Loss: 0.23764225840568542 | Accuracy: 92.1875%\n",
            "GB | Epoch 3 | Loss: 0.1671936959028244 | Accuracy: 95.3125%\n",
            "GB | Epoch 3 | Loss: 0.15958434343338013 | Accuracy: 98.4375%\n",
            "GB | Epoch 3 | Loss: 0.3584524989128113 | Accuracy: 95.3125%\n",
            "GB | Epoch 3 | Loss: 0.1361062377691269 | Accuracy: 93.75%\n",
            "GB | Epoch 3 | Loss: 0.28209492564201355 | Accuracy: 90.625%\n",
            "GB | Epoch 3 | Loss: 0.23775243759155273 | Accuracy: 92.1875%\n"
          ]
        },
        {
          "output_type": "stream",
          "name": "stderr",
          "text": [
            "Epoch 3:  98%|█████████▊| 736/751 [00:03<00:00, 240.52batch/s, accuracy=100.0%, loss=0.0444]"
          ]
        },
        {
          "output_type": "stream",
          "name": "stdout",
          "text": [
            "GB | Epoch 3 | Loss: 0.42943891882896423 | Accuracy: 89.0625%\n",
            "GB | Epoch 3 | Loss: 0.13583359122276306 | Accuracy: 98.4375%\n",
            "GB | Epoch 3 | Loss: 0.08922571688890457 | Accuracy: 100.0%\n",
            "GB | Epoch 3 | Loss: 0.12288549542427063 | Accuracy: 96.875%\n",
            "GB | Epoch 3 | Loss: 0.1528850644826889 | Accuracy: 95.3125%\n",
            "GB | Epoch 3 | Loss: 0.14351268112659454 | Accuracy: 96.875%\n",
            "GB | Epoch 3 | Loss: 0.1509036123752594 | Accuracy: 95.3125%\n",
            "GB | Epoch 3 | Loss: 0.1261439472436905 | Accuracy: 96.875%\n",
            "GB | Epoch 3 | Loss: 0.15720409154891968 | Accuracy: 96.875%\n",
            "GB | Epoch 3 | Loss: 0.21875128149986267 | Accuracy: 92.1875%\n",
            "GB | Epoch 3 | Loss: 0.4467724561691284 | Accuracy: 93.75%\n",
            "GB | Epoch 3 | Loss: 0.13865000009536743 | Accuracy: 95.3125%\n",
            "GB | Epoch 3 | Loss: 0.17746706306934357 | Accuracy: 92.1875%\n",
            "GB | Epoch 3 | Loss: 0.25102388858795166 | Accuracy: 89.0625%\n",
            "GB | Epoch 3 | Loss: 0.15733247995376587 | Accuracy: 96.875%\n",
            "GB | Epoch 3 | Loss: 0.18066459894180298 | Accuracy: 96.875%\n",
            "GB | Epoch 3 | Loss: 0.250428706407547 | Accuracy: 90.625%\n",
            "GB | Epoch 3 | Loss: 0.1956234872341156 | Accuracy: 96.875%\n",
            "GB | Epoch 3 | Loss: 0.25440841913223267 | Accuracy: 90.625%\n",
            "GB | Epoch 3 | Loss: 0.24581685662269592 | Accuracy: 92.1875%\n",
            "GB | Epoch 3 | Loss: 0.09313282370567322 | Accuracy: 98.4375%\n",
            "GB | Epoch 3 | Loss: 0.17771625518798828 | Accuracy: 92.1875%\n",
            "GB | Epoch 3 | Loss: 0.28825700283050537 | Accuracy: 92.1875%\n",
            "GB | Epoch 3 | Loss: 0.12948527932167053 | Accuracy: 95.3125%\n",
            "GB | Epoch 3 | Loss: 0.12538623809814453 | Accuracy: 96.875%\n",
            "GB | Epoch 3 | Loss: 0.36745980381965637 | Accuracy: 89.0625%\n",
            "GB | Epoch 3 | Loss: 0.22063195705413818 | Accuracy: 93.75%\n",
            "GB | Epoch 3 | Loss: 0.14638222754001617 | Accuracy: 95.3125%\n",
            "GB | Epoch 3 | Loss: 0.3285204768180847 | Accuracy: 95.3125%\n",
            "GB | Epoch 3 | Loss: 0.20248445868492126 | Accuracy: 95.3125%\n",
            "GB | Epoch 3 | Loss: 0.15127138793468475 | Accuracy: 92.1875%\n",
            "GB | Epoch 3 | Loss: 0.1482691615819931 | Accuracy: 95.3125%\n",
            "GB | Epoch 3 | Loss: 0.3055298328399658 | Accuracy: 89.0625%\n",
            "GB | Epoch 3 | Loss: 0.3033399283885956 | Accuracy: 92.1875%\n",
            "GB | Epoch 3 | Loss: 0.2569235563278198 | Accuracy: 92.1875%\n",
            "GB | Epoch 3 | Loss: 0.22816382348537445 | Accuracy: 92.1875%\n",
            "GB | Epoch 3 | Loss: 0.24665701389312744 | Accuracy: 90.625%\n",
            "GB | Epoch 3 | Loss: 0.24767890572547913 | Accuracy: 92.1875%\n",
            "GB | Epoch 3 | Loss: 0.17055048048496246 | Accuracy: 95.3125%\n",
            "GB | Epoch 3 | Loss: 0.1413109004497528 | Accuracy: 93.75%\n",
            "GB | Epoch 3 | Loss: 0.12716329097747803 | Accuracy: 95.3125%\n",
            "GB | Epoch 3 | Loss: 0.19735030829906464 | Accuracy: 96.875%\n",
            "GB | Epoch 3 | Loss: 0.23244266211986542 | Accuracy: 90.625%\n",
            "GB | Epoch 3 | Loss: 0.2277650535106659 | Accuracy: 93.75%\n",
            "GB | Epoch 3 | Loss: 0.23798051476478577 | Accuracy: 90.625%\n",
            "GB | Epoch 3 | Loss: 0.12460944801568985 | Accuracy: 95.3125%\n",
            "GB | Epoch 3 | Loss: 0.2271786630153656 | Accuracy: 89.0625%\n",
            "GB | Epoch 3 | Loss: 0.15945148468017578 | Accuracy: 93.75%\n",
            "GB | Epoch 3 | Loss: 0.23382538557052612 | Accuracy: 93.75%\n",
            "GB | Epoch 3 | Loss: 0.044381823390722275 | Accuracy: 100.0%\n"
          ]
        },
        {
          "output_type": "stream",
          "name": "stderr",
          "text": [
            "Epoch 3: 100%|██████████| 751/751 [00:03<00:00, 213.31batch/s, accuracy=100.0%, loss=0.0444]\n",
            "Epoch 4:   3%|▎         | 21/751 [00:00<00:08, 84.08batch/s, accuracy=93.75%, loss=0.164]"
          ]
        },
        {
          "output_type": "stream",
          "name": "stdout",
          "text": [
            "GB | Epoch 4 | Loss: 0.1704956293106079 | Accuracy: 93.75%\n",
            "GB | Epoch 4 | Loss: 0.26797130703926086 | Accuracy: 93.75%\n",
            "GB | Epoch 4 | Loss: 0.17204585671424866 | Accuracy: 95.3125%\n",
            "GB | Epoch 4 | Loss: 0.18399280309677124 | Accuracy: 95.3125%\n",
            "GB | Epoch 4 | Loss: 0.22969283163547516 | Accuracy: 93.75%\n",
            "GB | Epoch 4 | Loss: 0.1945815533399582 | Accuracy: 95.3125%\n",
            "GB | Epoch 4 | Loss: 0.2231847494840622 | Accuracy: 90.625%\n",
            "GB | Epoch 4 | Loss: 0.3354240655899048 | Accuracy: 87.5%\n",
            "GB | Epoch 4 | Loss: 0.286275714635849 | Accuracy: 89.0625%\n",
            "GB | Epoch 4 | Loss: 0.2377694547176361 | Accuracy: 90.625%\n",
            "GB | Epoch 4 | Loss: 0.17270542681217194 | Accuracy: 93.75%\n",
            "GB | Epoch 4 | Loss: 0.16078057885169983 | Accuracy: 90.625%\n",
            "GB | Epoch 4 | Loss: 0.10199110954999924 | Accuracy: 100.0%\n",
            "GB | Epoch 4 | Loss: 0.12784913182258606 | Accuracy: 98.4375%\n",
            "GB | Epoch 4 | Loss: 0.21108855307102203 | Accuracy: 95.3125%\n",
            "GB | Epoch 4 | Loss: 0.1105446144938469 | Accuracy: 96.875%\n",
            "GB | Epoch 4 | Loss: 0.12186820060014725 | Accuracy: 95.3125%\n",
            "GB | Epoch 4 | Loss: 0.19983930885791779 | Accuracy: 98.4375%\n",
            "GB | Epoch 4 | Loss: 0.12437085807323456 | Accuracy: 98.4375%\n",
            "GB | Epoch 4 | Loss: 0.15499666333198547 | Accuracy: 95.3125%\n",
            "GB | Epoch 4 | Loss: 0.22181864082813263 | Accuracy: 92.1875%\n",
            "GB | Epoch 4 | Loss: 0.19284778833389282 | Accuracy: 95.3125%\n",
            "GB | Epoch 4 | Loss: 0.11286180466413498 | Accuracy: 96.875%\n",
            "GB | Epoch 4 | Loss: 0.09837768226861954 | Accuracy: 96.875%\n",
            "GB | Epoch 4 | Loss: 0.30053436756134033 | Accuracy: 87.5%\n",
            "GB | Epoch 4 | Loss: 0.12835370004177094 | Accuracy: 98.4375%\n",
            "GB | Epoch 4 | Loss: 0.3803470730781555 | Accuracy: 87.5%\n",
            "GB | Epoch 4 | Loss: 0.1505124270915985 | Accuracy: 95.3125%\n",
            "GB | Epoch 4 | Loss: 0.07860472798347473 | Accuracy: 98.4375%\n",
            "GB | Epoch 4 | Loss: 0.2149781733751297 | Accuracy: 92.1875%\n",
            "GB | Epoch 4 | Loss: 0.18407920002937317 | Accuracy: 93.75%\n",
            "GB | Epoch 4 | Loss: 0.24198858439922333 | Accuracy: 93.75%\n",
            "GB | Epoch 4 | Loss: 0.16433270275592804 | Accuracy: 96.875%\n",
            "GB | Epoch 4 | Loss: 0.1598646640777588 | Accuracy: 95.3125%\n",
            "GB | Epoch 4 | Loss: 0.2003348171710968 | Accuracy: 90.625%\n",
            "GB | Epoch 4 | Loss: 0.15219618380069733 | Accuracy: 96.875%\n",
            "GB | Epoch 4 | Loss: 0.18778705596923828 | Accuracy: 95.3125%\n",
            "GB | Epoch 4 | Loss: 0.14825117588043213 | Accuracy: 93.75%\n",
            "GB | Epoch 4 | Loss: 0.16379302740097046 | Accuracy: 93.75%\n"
          ]
        },
        {
          "output_type": "stream",
          "name": "stderr",
          "text": [
            "Epoch 4:   8%|▊         | 61/751 [00:00<00:04, 149.72batch/s, accuracy=95.3125%, loss=0.159]"
          ]
        },
        {
          "output_type": "stream",
          "name": "stdout",
          "text": [
            "GB | Epoch 4 | Loss: 0.16251415014266968 | Accuracy: 95.3125%\n",
            "GB | Epoch 4 | Loss: 0.14643767476081848 | Accuracy: 96.875%\n",
            "GB | Epoch 4 | Loss: 0.19972383975982666 | Accuracy: 93.75%\n",
            "GB | Epoch 4 | Loss: 0.21677765250205994 | Accuracy: 92.1875%\n",
            "GB | Epoch 4 | Loss: 0.10622721165418625 | Accuracy: 98.4375%\n",
            "GB | Epoch 4 | Loss: 0.10698381811380386 | Accuracy: 100.0%\n",
            "GB | Epoch 4 | Loss: 0.1171126514673233 | Accuracy: 98.4375%\n",
            "GB | Epoch 4 | Loss: 0.18426883220672607 | Accuracy: 93.75%\n",
            "GB | Epoch 4 | Loss: 0.19199006259441376 | Accuracy: 93.75%\n",
            "GB | Epoch 4 | Loss: 0.11862536519765854 | Accuracy: 96.875%\n",
            "GB | Epoch 4 | Loss: 0.1757032573223114 | Accuracy: 92.1875%\n",
            "GB | Epoch 4 | Loss: 0.17257282137870789 | Accuracy: 93.75%\n",
            "GB | Epoch 4 | Loss: 0.10092141479253769 | Accuracy: 98.4375%\n",
            "GB | Epoch 4 | Loss: 0.19796103239059448 | Accuracy: 93.75%\n",
            "GB | Epoch 4 | Loss: 0.18540635704994202 | Accuracy: 93.75%\n",
            "GB | Epoch 4 | Loss: 0.11093942821025848 | Accuracy: 98.4375%\n",
            "GB | Epoch 4 | Loss: 0.12257000058889389 | Accuracy: 95.3125%\n",
            "GB | Epoch 4 | Loss: 0.16184253990650177 | Accuracy: 95.3125%\n",
            "GB | Epoch 4 | Loss: 0.2160106748342514 | Accuracy: 93.75%\n",
            "GB | Epoch 4 | Loss: 0.11026182025671005 | Accuracy: 95.3125%\n",
            "GB | Epoch 4 | Loss: 0.16005852818489075 | Accuracy: 95.3125%\n",
            "GB | Epoch 4 | Loss: 0.2087879776954651 | Accuracy: 93.75%\n",
            "GB | Epoch 4 | Loss: 0.11569438129663467 | Accuracy: 96.875%\n",
            "GB | Epoch 4 | Loss: 0.28531575202941895 | Accuracy: 82.8125%\n",
            "GB | Epoch 4 | Loss: 0.13523922860622406 | Accuracy: 95.3125%\n",
            "GB | Epoch 4 | Loss: 0.11323869973421097 | Accuracy: 98.4375%\n",
            "GB | Epoch 4 | Loss: 0.19318251311779022 | Accuracy: 95.3125%\n",
            "GB | Epoch 4 | Loss: 0.13738806545734406 | Accuracy: 95.3125%\n",
            "GB | Epoch 4 | Loss: 0.34118175506591797 | Accuracy: 90.625%\n",
            "GB | Epoch 4 | Loss: 0.13253535330295563 | Accuracy: 96.875%\n",
            "GB | Epoch 4 | Loss: 0.1202012225985527 | Accuracy: 95.3125%\n",
            "GB | Epoch 4 | Loss: 0.13376888632774353 | Accuracy: 98.4375%\n",
            "GB | Epoch 4 | Loss: 0.1218043640255928 | Accuracy: 96.875%\n",
            "GB | Epoch 4 | Loss: 0.14261969923973083 | Accuracy: 95.3125%\n",
            "GB | Epoch 4 | Loss: 0.1482771784067154 | Accuracy: 95.3125%\n",
            "GB | Epoch 4 | Loss: 0.2462271749973297 | Accuracy: 90.625%\n",
            "GB | Epoch 4 | Loss: 0.13115891814231873 | Accuracy: 96.875%\n",
            "GB | Epoch 4 | Loss: 0.21211397647857666 | Accuracy: 95.3125%\n",
            "GB | Epoch 4 | Loss: 0.16956618428230286 | Accuracy: 93.75%\n",
            "GB | Epoch 4 | Loss: 0.18794195353984833 | Accuracy: 92.1875%\n",
            "GB | Epoch 4 | Loss: 0.1370755136013031 | Accuracy: 96.875%\n"
          ]
        },
        {
          "output_type": "stream",
          "name": "stderr",
          "text": [
            "Epoch 4:  14%|█▎        | 103/751 [00:00<00:03, 180.09batch/s, accuracy=96.875%, loss=0.15]  "
          ]
        },
        {
          "output_type": "stream",
          "name": "stdout",
          "text": [
            "GB | Epoch 4 | Loss: 0.15938812494277954 | Accuracy: 95.3125%\n",
            "GB | Epoch 4 | Loss: 0.21563223004341125 | Accuracy: 90.625%\n",
            "GB | Epoch 4 | Loss: 0.1616508811712265 | Accuracy: 95.3125%\n",
            "GB | Epoch 4 | Loss: 0.23697097599506378 | Accuracy: 90.625%\n",
            "GB | Epoch 4 | Loss: 0.11596430093050003 | Accuracy: 98.4375%\n",
            "GB | Epoch 4 | Loss: 0.17491917312145233 | Accuracy: 95.3125%\n",
            "GB | Epoch 4 | Loss: 0.13212475180625916 | Accuracy: 96.875%\n",
            "GB | Epoch 4 | Loss: 0.13019245862960815 | Accuracy: 95.3125%\n",
            "GB | Epoch 4 | Loss: 0.18086469173431396 | Accuracy: 95.3125%\n",
            "GB | Epoch 4 | Loss: 0.15452641248703003 | Accuracy: 96.875%\n",
            "GB | Epoch 4 | Loss: 0.10885808616876602 | Accuracy: 96.875%\n",
            "GB | Epoch 4 | Loss: 0.15377819538116455 | Accuracy: 95.3125%\n",
            "GB | Epoch 4 | Loss: 0.23063266277313232 | Accuracy: 93.75%\n",
            "GB | Epoch 4 | Loss: 0.2704087197780609 | Accuracy: 92.1875%\n",
            "GB | Epoch 4 | Loss: 0.16215796768665314 | Accuracy: 93.75%\n",
            "GB | Epoch 4 | Loss: 0.23823143541812897 | Accuracy: 90.625%\n",
            "GB | Epoch 4 | Loss: 0.2760810852050781 | Accuracy: 93.75%\n",
            "GB | Epoch 4 | Loss: 0.17970140278339386 | Accuracy: 93.75%\n",
            "GB | Epoch 4 | Loss: 0.18981938064098358 | Accuracy: 96.875%\n",
            "GB | Epoch 4 | Loss: 0.13297685980796814 | Accuracy: 100.0%\n",
            "GB | Epoch 4 | Loss: 0.19044362008571625 | Accuracy: 95.3125%\n",
            "GB | Epoch 4 | Loss: 0.15251632034778595 | Accuracy: 95.3125%\n",
            "GB | Epoch 4 | Loss: 0.16930364072322845 | Accuracy: 96.875%\n",
            "GB | Epoch 4 | Loss: 0.15458625555038452 | Accuracy: 95.3125%\n",
            "GB | Epoch 4 | Loss: 0.28540176153182983 | Accuracy: 93.75%\n",
            "GB | Epoch 4 | Loss: 0.14643143117427826 | Accuracy: 98.4375%\n",
            "GB | Epoch 4 | Loss: 0.11766863614320755 | Accuracy: 98.4375%\n",
            "GB | Epoch 4 | Loss: 0.05822683870792389 | Accuracy: 100.0%\n",
            "GB | Epoch 4 | Loss: 0.1669534146785736 | Accuracy: 89.0625%\n",
            "GB | Epoch 4 | Loss: 0.13568852841854095 | Accuracy: 96.875%\n",
            "GB | Epoch 4 | Loss: 0.21912582218647003 | Accuracy: 90.625%\n",
            "GB | Epoch 4 | Loss: 0.17639270424842834 | Accuracy: 93.75%\n",
            "GB | Epoch 4 | Loss: 0.1929532140493393 | Accuracy: 92.1875%\n",
            "GB | Epoch 4 | Loss: 0.11299441009759903 | Accuracy: 96.875%\n",
            "GB | Epoch 4 | Loss: 0.21928313374519348 | Accuracy: 89.0625%\n",
            "GB | Epoch 4 | Loss: 0.15303313732147217 | Accuracy: 95.3125%\n",
            "GB | Epoch 4 | Loss: 0.13394512236118317 | Accuracy: 95.3125%\n",
            "GB | Epoch 4 | Loss: 0.18451198935508728 | Accuracy: 90.625%\n",
            "GB | Epoch 4 | Loss: 0.16477568447589874 | Accuracy: 96.875%\n",
            "GB | Epoch 4 | Loss: 0.16761678457260132 | Accuracy: 95.3125%\n",
            "GB | Epoch 4 | Loss: 0.14979971945285797 | Accuracy: 96.875%\n"
          ]
        },
        {
          "output_type": "stream",
          "name": "stderr",
          "text": [
            "Epoch 4:  19%|█▉        | 145/751 [00:01<00:03, 195.99batch/s, accuracy=95.3125%, loss=0.131]"
          ]
        },
        {
          "output_type": "stream",
          "name": "stdout",
          "text": [
            "GB | Epoch 4 | Loss: 0.1672506332397461 | Accuracy: 92.1875%\n",
            "GB | Epoch 4 | Loss: 0.16472552716732025 | Accuracy: 93.75%\n",
            "GB | Epoch 4 | Loss: 0.20685622096061707 | Accuracy: 93.75%\n",
            "GB | Epoch 4 | Loss: 0.16275526583194733 | Accuracy: 92.1875%\n",
            "GB | Epoch 4 | Loss: 0.2553735375404358 | Accuracy: 93.75%\n",
            "GB | Epoch 4 | Loss: 0.13772441446781158 | Accuracy: 95.3125%\n",
            "GB | Epoch 4 | Loss: 0.1286853700876236 | Accuracy: 96.875%\n",
            "GB | Epoch 4 | Loss: 0.16911903023719788 | Accuracy: 93.75%\n",
            "GB | Epoch 4 | Loss: 0.10868548601865768 | Accuracy: 95.3125%\n",
            "GB | Epoch 4 | Loss: 0.16128842532634735 | Accuracy: 93.75%\n",
            "GB | Epoch 4 | Loss: 0.11123335361480713 | Accuracy: 96.875%\n",
            "GB | Epoch 4 | Loss: 0.09317251294851303 | Accuracy: 95.3125%\n",
            "GB | Epoch 4 | Loss: 0.1269528716802597 | Accuracy: 95.3125%\n",
            "GB | Epoch 4 | Loss: 0.06291975826025009 | Accuracy: 100.0%\n",
            "GB | Epoch 4 | Loss: 0.18771255016326904 | Accuracy: 92.1875%\n",
            "GB | Epoch 4 | Loss: 0.2255110740661621 | Accuracy: 92.1875%\n",
            "GB | Epoch 4 | Loss: 0.1365048587322235 | Accuracy: 95.3125%\n",
            "GB | Epoch 4 | Loss: 0.22452709078788757 | Accuracy: 87.5%\n",
            "GB | Epoch 4 | Loss: 0.3601722717285156 | Accuracy: 90.625%\n",
            "GB | Epoch 4 | Loss: 0.12802821397781372 | Accuracy: 96.875%\n",
            "GB | Epoch 4 | Loss: 0.15026719868183136 | Accuracy: 96.875%\n",
            "GB | Epoch 4 | Loss: 0.15189696848392487 | Accuracy: 96.875%\n",
            "GB | Epoch 4 | Loss: 0.16568419337272644 | Accuracy: 92.1875%\n",
            "GB | Epoch 4 | Loss: 0.1257089376449585 | Accuracy: 95.3125%\n",
            "GB | Epoch 4 | Loss: 0.12975047528743744 | Accuracy: 93.75%\n",
            "GB | Epoch 4 | Loss: 0.18493026494979858 | Accuracy: 96.875%\n",
            "GB | Epoch 4 | Loss: 0.18005408346652985 | Accuracy: 92.1875%\n",
            "GB | Epoch 4 | Loss: 0.1444019377231598 | Accuracy: 95.3125%\n",
            "GB | Epoch 4 | Loss: 0.12400788068771362 | Accuracy: 92.1875%\n",
            "GB | Epoch 4 | Loss: 0.08707672357559204 | Accuracy: 100.0%\n",
            "GB | Epoch 4 | Loss: 0.17523859441280365 | Accuracy: 90.625%\n",
            "GB | Epoch 4 | Loss: 0.11010876297950745 | Accuracy: 98.4375%\n",
            "GB | Epoch 4 | Loss: 0.1675376147031784 | Accuracy: 95.3125%\n",
            "GB | Epoch 4 | Loss: 0.13392610847949982 | Accuracy: 95.3125%\n",
            "GB | Epoch 4 | Loss: 0.09513029456138611 | Accuracy: 98.4375%\n",
            "GB | Epoch 4 | Loss: 0.17765210568904877 | Accuracy: 93.75%\n",
            "GB | Epoch 4 | Loss: 0.10446107387542725 | Accuracy: 96.875%\n",
            "GB | Epoch 4 | Loss: 0.1342180371284485 | Accuracy: 95.3125%\n",
            "GB | Epoch 4 | Loss: 0.18771325051784515 | Accuracy: 92.1875%\n",
            "GB | Epoch 4 | Loss: 0.3073570132255554 | Accuracy: 90.625%\n",
            "GB | Epoch 4 | Loss: 0.13790296018123627 | Accuracy: 95.3125%\n",
            "GB | Epoch 4 | Loss: 0.11189808696508408 | Accuracy: 96.875%\n",
            "GB | Epoch 4 | Loss: 0.17775170505046844 | Accuracy: 93.75%\n",
            "GB | Epoch 4 | Loss: 0.13136814534664154 | Accuracy: 93.75%\n",
            "GB | Epoch 4 | Loss: 0.13061772286891937 | Accuracy: 95.3125%\n"
          ]
        },
        {
          "output_type": "stream",
          "name": "stderr",
          "text": [
            "Epoch 4:  26%|██▌       | 192/751 [00:01<00:02, 215.03batch/s, accuracy=100.0%, loss=0.0682]"
          ]
        },
        {
          "output_type": "stream",
          "name": "stdout",
          "text": [
            "GB | Epoch 4 | Loss: 0.3972185552120209 | Accuracy: 90.625%\n",
            "GB | Epoch 4 | Loss: 0.22492842376232147 | Accuracy: 92.1875%\n",
            "GB | Epoch 4 | Loss: 0.13773609697818756 | Accuracy: 95.3125%\n",
            "GB | Epoch 4 | Loss: 0.14185704290866852 | Accuracy: 96.875%\n",
            "GB | Epoch 4 | Loss: 0.14410142600536346 | Accuracy: 93.75%\n",
            "GB | Epoch 4 | Loss: 0.235251322388649 | Accuracy: 92.1875%\n",
            "GB | Epoch 4 | Loss: 0.10041223466396332 | Accuracy: 96.875%\n",
            "GB | Epoch 4 | Loss: 0.29951757192611694 | Accuracy: 85.9375%\n",
            "GB | Epoch 4 | Loss: 0.09741555154323578 | Accuracy: 98.4375%\n",
            "GB | Epoch 4 | Loss: 0.1824389398097992 | Accuracy: 95.3125%\n",
            "GB | Epoch 4 | Loss: 0.1323152482509613 | Accuracy: 96.875%\n",
            "GB | Epoch 4 | Loss: 0.09992104023694992 | Accuracy: 98.4375%\n",
            "GB | Epoch 4 | Loss: 0.2052648663520813 | Accuracy: 95.3125%\n",
            "GB | Epoch 4 | Loss: 0.3388293981552124 | Accuracy: 90.625%\n",
            "GB | Epoch 4 | Loss: 0.11903474479913712 | Accuracy: 96.875%\n",
            "GB | Epoch 4 | Loss: 0.16233646869659424 | Accuracy: 93.75%\n",
            "GB | Epoch 4 | Loss: 0.13346005976200104 | Accuracy: 96.875%\n",
            "GB | Epoch 4 | Loss: 0.15380296111106873 | Accuracy: 93.75%\n",
            "GB | Epoch 4 | Loss: 0.1126297265291214 | Accuracy: 96.875%\n",
            "GB | Epoch 4 | Loss: 0.21672947704792023 | Accuracy: 93.75%\n",
            "GB | Epoch 4 | Loss: 0.1230800673365593 | Accuracy: 95.3125%\n",
            "GB | Epoch 4 | Loss: 0.1247219368815422 | Accuracy: 96.875%\n",
            "GB | Epoch 4 | Loss: 0.2518479526042938 | Accuracy: 95.3125%\n",
            "GB | Epoch 4 | Loss: 0.0765421912074089 | Accuracy: 98.4375%\n",
            "GB | Epoch 4 | Loss: 0.1526796519756317 | Accuracy: 98.4375%\n",
            "GB | Epoch 4 | Loss: 0.13155458867549896 | Accuracy: 96.875%\n",
            "GB | Epoch 4 | Loss: 0.09204588085412979 | Accuracy: 96.875%\n",
            "GB | Epoch 4 | Loss: 0.18610253930091858 | Accuracy: 90.625%\n",
            "GB | Epoch 4 | Loss: 0.1810256391763687 | Accuracy: 95.3125%\n",
            "GB | Epoch 4 | Loss: 0.17707695066928864 | Accuracy: 95.3125%\n",
            "GB | Epoch 4 | Loss: 0.14445805549621582 | Accuracy: 95.3125%\n",
            "GB | Epoch 4 | Loss: 0.1623295247554779 | Accuracy: 96.875%\n",
            "GB | Epoch 4 | Loss: 0.17527548968791962 | Accuracy: 93.75%\n",
            "GB | Epoch 4 | Loss: 0.23648858070373535 | Accuracy: 89.0625%\n",
            "GB | Epoch 4 | Loss: 0.3361029326915741 | Accuracy: 92.1875%\n",
            "GB | Epoch 4 | Loss: 0.21992026269435883 | Accuracy: 90.625%\n",
            "GB | Epoch 4 | Loss: 0.14639246463775635 | Accuracy: 96.875%\n",
            "GB | Epoch 4 | Loss: 0.23081697523593903 | Accuracy: 96.875%\n",
            "GB | Epoch 4 | Loss: 0.1626025140285492 | Accuracy: 93.75%\n",
            "GB | Epoch 4 | Loss: 0.1067160815000534 | Accuracy: 96.875%\n",
            "GB | Epoch 4 | Loss: 0.09724785387516022 | Accuracy: 96.875%\n",
            "GB | Epoch 4 | Loss: 0.21004295349121094 | Accuracy: 96.875%\n",
            "GB | Epoch 4 | Loss: 0.08851729333400726 | Accuracy: 100.0%\n",
            "GB | Epoch 4 | Loss: 0.23276980221271515 | Accuracy: 92.1875%\n",
            "GB | Epoch 4 | Loss: 0.15770184993743896 | Accuracy: 92.1875%\n",
            "GB | Epoch 4 | Loss: 0.130485400557518 | Accuracy: 95.3125%\n",
            "GB | Epoch 4 | Loss: 0.1857290416955948 | Accuracy: 96.875%\n",
            "GB | Epoch 4 | Loss: 0.06820442527532578 | Accuracy: 100.0%\n"
          ]
        },
        {
          "output_type": "stream",
          "name": "stderr",
          "text": [
            "Epoch 4:  32%|███▏      | 240/751 [00:01<00:02, 224.55batch/s, accuracy=93.75%, loss=0.153] "
          ]
        },
        {
          "output_type": "stream",
          "name": "stdout",
          "text": [
            "GB | Epoch 4 | Loss: 0.15787987411022186 | Accuracy: 95.3125%\n",
            "GB | Epoch 4 | Loss: 0.09098309278488159 | Accuracy: 98.4375%\n",
            "GB | Epoch 4 | Loss: 0.15973088145256042 | Accuracy: 93.75%\n",
            "GB | Epoch 4 | Loss: 0.0783199742436409 | Accuracy: 100.0%\n",
            "GB | Epoch 4 | Loss: 0.2258569896221161 | Accuracy: 92.1875%\n",
            "GB | Epoch 4 | Loss: 0.11922253668308258 | Accuracy: 95.3125%\n",
            "GB | Epoch 4 | Loss: 0.21316838264465332 | Accuracy: 95.3125%\n",
            "GB | Epoch 4 | Loss: 0.10278324037790298 | Accuracy: 98.4375%\n",
            "GB | Epoch 4 | Loss: 0.10612588375806808 | Accuracy: 98.4375%\n",
            "GB | Epoch 4 | Loss: 0.12383206933736801 | Accuracy: 96.875%\n",
            "GB | Epoch 4 | Loss: 0.10628022253513336 | Accuracy: 96.875%\n",
            "GB | Epoch 4 | Loss: 0.12609313428401947 | Accuracy: 98.4375%\n",
            "GB | Epoch 4 | Loss: 0.1444450467824936 | Accuracy: 93.75%\n",
            "GB | Epoch 4 | Loss: 0.29307088255882263 | Accuracy: 92.1875%\n",
            "GB | Epoch 4 | Loss: 0.2291421890258789 | Accuracy: 90.625%\n",
            "GB | Epoch 4 | Loss: 0.10551533848047256 | Accuracy: 96.875%\n",
            "GB | Epoch 4 | Loss: 0.14026615023612976 | Accuracy: 95.3125%\n",
            "GB | Epoch 4 | Loss: 0.197953999042511 | Accuracy: 95.3125%\n",
            "GB | Epoch 4 | Loss: 0.10216470062732697 | Accuracy: 96.875%\n",
            "GB | Epoch 4 | Loss: 0.09670527279376984 | Accuracy: 98.4375%\n",
            "GB | Epoch 4 | Loss: 0.09333787113428116 | Accuracy: 100.0%\n",
            "GB | Epoch 4 | Loss: 0.05904991924762726 | Accuracy: 100.0%\n",
            "GB | Epoch 4 | Loss: 0.20295099914073944 | Accuracy: 93.75%\n",
            "GB | Epoch 4 | Loss: 0.22475190460681915 | Accuracy: 93.75%\n",
            "GB | Epoch 4 | Loss: 0.10592219233512878 | Accuracy: 98.4375%\n",
            "GB | Epoch 4 | Loss: 0.1362665742635727 | Accuracy: 95.3125%\n",
            "GB | Epoch 4 | Loss: 0.19871020317077637 | Accuracy: 96.875%\n",
            "GB | Epoch 4 | Loss: 0.12019536644220352 | Accuracy: 93.75%\n",
            "GB | Epoch 4 | Loss: 0.16246098279953003 | Accuracy: 93.75%\n",
            "GB | Epoch 4 | Loss: 0.18225300312042236 | Accuracy: 95.3125%\n",
            "GB | Epoch 4 | Loss: 0.22858838737010956 | Accuracy: 93.75%\n",
            "GB | Epoch 4 | Loss: 0.29253461956977844 | Accuracy: 90.625%\n",
            "GB | Epoch 4 | Loss: 0.1216917634010315 | Accuracy: 96.875%\n",
            "GB | Epoch 4 | Loss: 0.10172701627016068 | Accuracy: 98.4375%\n",
            "GB | Epoch 4 | Loss: 0.15643930435180664 | Accuracy: 92.1875%\n",
            "GB | Epoch 4 | Loss: 0.1266721487045288 | Accuracy: 95.3125%\n",
            "GB | Epoch 4 | Loss: 0.17178232967853546 | Accuracy: 93.75%\n",
            "GB | Epoch 4 | Loss: 0.24834108352661133 | Accuracy: 89.0625%\n",
            "GB | Epoch 4 | Loss: 0.10013528913259506 | Accuracy: 98.4375%\n",
            "GB | Epoch 4 | Loss: 0.24672050774097443 | Accuracy: 95.3125%\n",
            "GB | Epoch 4 | Loss: 0.21235749125480652 | Accuracy: 92.1875%\n",
            "GB | Epoch 4 | Loss: 0.11461876332759857 | Accuracy: 96.875%\n",
            "GB | Epoch 4 | Loss: 0.1546858698129654 | Accuracy: 93.75%\n",
            "GB | Epoch 4 | Loss: 0.12049052864313126 | Accuracy: 96.875%\n",
            "GB | Epoch 4 | Loss: 0.07854245603084564 | Accuracy: 100.0%\n",
            "GB | Epoch 4 | Loss: 0.14023253321647644 | Accuracy: 95.3125%\n",
            "GB | Epoch 4 | Loss: 0.15329888463020325 | Accuracy: 93.75%\n"
          ]
        },
        {
          "output_type": "stream",
          "name": "stderr",
          "text": [
            "Epoch 4:  38%|███▊      | 288/751 [00:01<00:02, 230.47batch/s, accuracy=93.75%, loss=0.164]  "
          ]
        },
        {
          "output_type": "stream",
          "name": "stdout",
          "text": [
            "GB | Epoch 4 | Loss: 0.13242191076278687 | Accuracy: 95.3125%\n",
            "GB | Epoch 4 | Loss: 0.1073470190167427 | Accuracy: 95.3125%\n",
            "GB | Epoch 4 | Loss: 0.22904299199581146 | Accuracy: 90.625%\n",
            "GB | Epoch 4 | Loss: 0.09798745810985565 | Accuracy: 98.4375%\n",
            "GB | Epoch 4 | Loss: 0.13029173016548157 | Accuracy: 95.3125%\n",
            "GB | Epoch 4 | Loss: 0.13054148852825165 | Accuracy: 95.3125%\n",
            "GB | Epoch 4 | Loss: 0.16784043610095978 | Accuracy: 93.75%\n",
            "GB | Epoch 4 | Loss: 0.24469804763793945 | Accuracy: 93.75%\n",
            "GB | Epoch 4 | Loss: 0.16948989033699036 | Accuracy: 95.3125%\n",
            "GB | Epoch 4 | Loss: 0.16944478452205658 | Accuracy: 95.3125%\n",
            "GB | Epoch 4 | Loss: 0.2617098093032837 | Accuracy: 93.75%\n",
            "GB | Epoch 4 | Loss: 0.20159567892551422 | Accuracy: 90.625%\n",
            "GB | Epoch 4 | Loss: 0.12150261551141739 | Accuracy: 98.4375%\n",
            "GB | Epoch 4 | Loss: 0.17235355079174042 | Accuracy: 92.1875%\n",
            "GB | Epoch 4 | Loss: 0.172175332903862 | Accuracy: 95.3125%\n",
            "GB | Epoch 4 | Loss: 0.21822072565555573 | Accuracy: 92.1875%\n",
            "GB | Epoch 4 | Loss: 0.11393000930547714 | Accuracy: 96.875%\n",
            "GB | Epoch 4 | Loss: 0.12203144282102585 | Accuracy: 95.3125%\n",
            "GB | Epoch 4 | Loss: 0.17136560380458832 | Accuracy: 93.75%\n",
            "GB | Epoch 4 | Loss: 0.12785975635051727 | Accuracy: 96.875%\n",
            "GB | Epoch 4 | Loss: 0.16264550387859344 | Accuracy: 95.3125%\n",
            "GB | Epoch 4 | Loss: 0.12682414054870605 | Accuracy: 95.3125%\n",
            "GB | Epoch 4 | Loss: 0.15017317235469818 | Accuracy: 95.3125%\n",
            "GB | Epoch 4 | Loss: 0.20950950682163239 | Accuracy: 92.1875%\n",
            "GB | Epoch 4 | Loss: 0.10936109721660614 | Accuracy: 96.875%\n",
            "GB | Epoch 4 | Loss: 0.04527086019515991 | Accuracy: 100.0%\n",
            "GB | Epoch 4 | Loss: 0.08406446129083633 | Accuracy: 100.0%\n",
            "GB | Epoch 4 | Loss: 0.2286742478609085 | Accuracy: 98.4375%\n",
            "GB | Epoch 4 | Loss: 0.09601528942584991 | Accuracy: 96.875%\n",
            "GB | Epoch 4 | Loss: 0.13888905942440033 | Accuracy: 95.3125%\n",
            "GB | Epoch 4 | Loss: 0.06575878709554672 | Accuracy: 100.0%\n",
            "GB | Epoch 4 | Loss: 0.12213563919067383 | Accuracy: 96.875%\n",
            "GB | Epoch 4 | Loss: 0.13260331749916077 | Accuracy: 95.3125%\n",
            "GB | Epoch 4 | Loss: 0.05181446298956871 | Accuracy: 100.0%\n",
            "GB | Epoch 4 | Loss: 0.1378001868724823 | Accuracy: 95.3125%\n",
            "GB | Epoch 4 | Loss: 0.07440891116857529 | Accuracy: 98.4375%\n",
            "GB | Epoch 4 | Loss: 0.24039559066295624 | Accuracy: 92.1875%\n",
            "GB | Epoch 4 | Loss: 0.10131129622459412 | Accuracy: 95.3125%\n",
            "GB | Epoch 4 | Loss: 0.06038302928209305 | Accuracy: 100.0%\n",
            "GB | Epoch 4 | Loss: 0.32476702332496643 | Accuracy: 93.75%\n",
            "GB | Epoch 4 | Loss: 0.12012968212366104 | Accuracy: 95.3125%\n",
            "GB | Epoch 4 | Loss: 0.10917621850967407 | Accuracy: 98.4375%\n",
            "GB | Epoch 4 | Loss: 0.13545989990234375 | Accuracy: 95.3125%\n",
            "GB | Epoch 4 | Loss: 0.1484670639038086 | Accuracy: 93.75%\n",
            "GB | Epoch 4 | Loss: 0.09577740728855133 | Accuracy: 96.875%\n",
            "GB | Epoch 4 | Loss: 0.14414292573928833 | Accuracy: 96.875%\n",
            "GB | Epoch 4 | Loss: 0.16166384518146515 | Accuracy: 95.3125%\n",
            "GB | Epoch 4 | Loss: 0.1644383668899536 | Accuracy: 93.75%\n"
          ]
        },
        {
          "output_type": "stream",
          "name": "stderr",
          "text": [
            "Epoch 4:  45%|████▍     | 336/751 [00:01<00:01, 231.30batch/s, accuracy=95.3125%, loss=0.149]"
          ]
        },
        {
          "output_type": "stream",
          "name": "stdout",
          "text": [
            "GB | Epoch 4 | Loss: 0.0883367732167244 | Accuracy: 98.4375%\n",
            "GB | Epoch 4 | Loss: 0.17644450068473816 | Accuracy: 93.75%\n",
            "GB | Epoch 4 | Loss: 0.07529599219560623 | Accuracy: 100.0%\n",
            "GB | Epoch 4 | Loss: 0.07532087713479996 | Accuracy: 98.4375%\n",
            "GB | Epoch 4 | Loss: 0.10411897301673889 | Accuracy: 100.0%\n",
            "GB | Epoch 4 | Loss: 0.10542910546064377 | Accuracy: 100.0%\n",
            "GB | Epoch 4 | Loss: 0.1282949298620224 | Accuracy: 96.875%\n",
            "GB | Epoch 4 | Loss: 0.23713460564613342 | Accuracy: 89.0625%\n",
            "GB | Epoch 4 | Loss: 0.11808042973279953 | Accuracy: 95.3125%\n",
            "GB | Epoch 4 | Loss: 0.1114635244011879 | Accuracy: 96.875%\n",
            "GB | Epoch 4 | Loss: 0.2114356905221939 | Accuracy: 98.4375%\n",
            "GB | Epoch 4 | Loss: 0.14215925335884094 | Accuracy: 95.3125%\n",
            "GB | Epoch 4 | Loss: 0.196209117770195 | Accuracy: 95.3125%\n",
            "GB | Epoch 4 | Loss: 0.07928801327943802 | Accuracy: 98.4375%\n",
            "GB | Epoch 4 | Loss: 0.17747583985328674 | Accuracy: 96.875%\n",
            "GB | Epoch 4 | Loss: 0.13592615723609924 | Accuracy: 96.875%\n",
            "GB | Epoch 4 | Loss: 0.15136320888996124 | Accuracy: 96.875%\n",
            "GB | Epoch 4 | Loss: 0.0591566264629364 | Accuracy: 100.0%\n",
            "GB | Epoch 4 | Loss: 0.21102406084537506 | Accuracy: 96.875%\n",
            "GB | Epoch 4 | Loss: 0.07566513866186142 | Accuracy: 100.0%\n",
            "GB | Epoch 4 | Loss: 0.08138119429349899 | Accuracy: 100.0%\n",
            "GB | Epoch 4 | Loss: 0.11963300406932831 | Accuracy: 93.75%\n",
            "GB | Epoch 4 | Loss: 0.07127820700407028 | Accuracy: 100.0%\n",
            "GB | Epoch 4 | Loss: 0.07012449204921722 | Accuracy: 100.0%\n",
            "GB | Epoch 4 | Loss: 0.06948073208332062 | Accuracy: 100.0%\n",
            "GB | Epoch 4 | Loss: 0.07770194113254547 | Accuracy: 98.4375%\n",
            "GB | Epoch 4 | Loss: 0.16499535739421844 | Accuracy: 95.3125%\n",
            "GB | Epoch 4 | Loss: 0.09679218381643295 | Accuracy: 96.875%\n",
            "GB | Epoch 4 | Loss: 0.13799405097961426 | Accuracy: 98.4375%\n",
            "GB | Epoch 4 | Loss: 0.05325103551149368 | Accuracy: 100.0%\n",
            "GB | Epoch 4 | Loss: 0.1799820214509964 | Accuracy: 95.3125%\n",
            "GB | Epoch 4 | Loss: 0.17032946646213531 | Accuracy: 96.875%\n",
            "GB | Epoch 4 | Loss: 0.10152558237314224 | Accuracy: 96.875%\n",
            "GB | Epoch 4 | Loss: 0.1162366047501564 | Accuracy: 95.3125%\n",
            "GB | Epoch 4 | Loss: 0.21174198389053345 | Accuracy: 95.3125%\n",
            "GB | Epoch 4 | Loss: 0.07470732927322388 | Accuracy: 98.4375%\n",
            "GB | Epoch 4 | Loss: 0.09776873886585236 | Accuracy: 95.3125%\n",
            "GB | Epoch 4 | Loss: 0.0746183693408966 | Accuracy: 98.4375%\n",
            "GB | Epoch 4 | Loss: 0.07016806304454803 | Accuracy: 98.4375%\n",
            "GB | Epoch 4 | Loss: 0.07627729326486588 | Accuracy: 98.4375%\n",
            "GB | Epoch 4 | Loss: 0.11359696090221405 | Accuracy: 95.3125%\n",
            "GB | Epoch 4 | Loss: 0.2601473331451416 | Accuracy: 92.1875%\n",
            "GB | Epoch 4 | Loss: 0.22974251210689545 | Accuracy: 92.1875%\n",
            "GB | Epoch 4 | Loss: 0.08729900419712067 | Accuracy: 100.0%\n",
            "GB | Epoch 4 | Loss: 0.08381034433841705 | Accuracy: 98.4375%\n",
            "GB | Epoch 4 | Loss: 0.19318634271621704 | Accuracy: 96.875%\n",
            "GB | Epoch 4 | Loss: 0.14890743792057037 | Accuracy: 95.3125%\n"
          ]
        },
        {
          "output_type": "stream",
          "name": "stderr",
          "text": [
            "Epoch 4:  51%|█████     | 384/751 [00:02<00:01, 231.82batch/s, accuracy=96.875%, loss=0.13]  "
          ]
        },
        {
          "output_type": "stream",
          "name": "stdout",
          "text": [
            "GB | Epoch 4 | Loss: 0.21406087279319763 | Accuracy: 90.625%\n",
            "GB | Epoch 4 | Loss: 0.2050255835056305 | Accuracy: 93.75%\n",
            "GB | Epoch 4 | Loss: 0.1368996798992157 | Accuracy: 95.3125%\n",
            "GB | Epoch 4 | Loss: 0.09265978634357452 | Accuracy: 96.875%\n",
            "GB | Epoch 4 | Loss: 0.09348100423812866 | Accuracy: 98.4375%\n",
            "GB | Epoch 4 | Loss: 0.17573094367980957 | Accuracy: 96.875%\n",
            "GB | Epoch 4 | Loss: 0.17111331224441528 | Accuracy: 93.75%\n",
            "GB | Epoch 4 | Loss: 0.1157485842704773 | Accuracy: 98.4375%\n",
            "GB | Epoch 4 | Loss: 0.10588473081588745 | Accuracy: 98.4375%\n",
            "GB | Epoch 4 | Loss: 0.17582054436206818 | Accuracy: 95.3125%\n",
            "GB | Epoch 4 | Loss: 0.13464009761810303 | Accuracy: 96.875%\n",
            "GB | Epoch 4 | Loss: 0.05815594643354416 | Accuracy: 100.0%\n",
            "GB | Epoch 4 | Loss: 0.13042551279067993 | Accuracy: 93.75%\n",
            "GB | Epoch 4 | Loss: 0.15871748328208923 | Accuracy: 92.1875%\n",
            "GB | Epoch 4 | Loss: 0.09778784960508347 | Accuracy: 96.875%\n",
            "GB | Epoch 4 | Loss: 0.11251778900623322 | Accuracy: 98.4375%\n",
            "GB | Epoch 4 | Loss: 0.0729537382721901 | Accuracy: 98.4375%\n",
            "GB | Epoch 4 | Loss: 0.11920206993818283 | Accuracy: 96.875%\n",
            "GB | Epoch 4 | Loss: 0.12996138632297516 | Accuracy: 96.875%\n",
            "GB | Epoch 4 | Loss: 0.12606388330459595 | Accuracy: 95.3125%\n",
            "GB | Epoch 4 | Loss: 0.06191086024045944 | Accuracy: 100.0%\n",
            "GB | Epoch 4 | Loss: 0.07901997864246368 | Accuracy: 96.875%\n",
            "GB | Epoch 4 | Loss: 0.3409980833530426 | Accuracy: 95.3125%\n",
            "GB | Epoch 4 | Loss: 0.13896875083446503 | Accuracy: 95.3125%\n",
            "GB | Epoch 4 | Loss: 0.32544004917144775 | Accuracy: 92.1875%\n",
            "GB | Epoch 4 | Loss: 0.1981746107339859 | Accuracy: 95.3125%\n",
            "GB | Epoch 4 | Loss: 0.11788575351238251 | Accuracy: 96.875%\n",
            "GB | Epoch 4 | Loss: 0.129804328083992 | Accuracy: 95.3125%\n",
            "GB | Epoch 4 | Loss: 0.05760573223233223 | Accuracy: 100.0%\n",
            "GB | Epoch 4 | Loss: 0.11444246023893356 | Accuracy: 98.4375%\n",
            "GB | Epoch 4 | Loss: 0.08695747703313828 | Accuracy: 98.4375%\n",
            "GB | Epoch 4 | Loss: 0.054927509278059006 | Accuracy: 100.0%\n",
            "GB | Epoch 4 | Loss: 0.22132138907909393 | Accuracy: 90.625%\n",
            "GB | Epoch 4 | Loss: 0.14823654294013977 | Accuracy: 95.3125%\n",
            "GB | Epoch 4 | Loss: 0.15054580569267273 | Accuracy: 93.75%\n",
            "GB | Epoch 4 | Loss: 0.11998146027326584 | Accuracy: 96.875%\n",
            "GB | Epoch 4 | Loss: 0.22148114442825317 | Accuracy: 93.75%\n",
            "GB | Epoch 4 | Loss: 0.15000495314598083 | Accuracy: 95.3125%\n",
            "GB | Epoch 4 | Loss: 0.1664407104253769 | Accuracy: 95.3125%\n",
            "GB | Epoch 4 | Loss: 0.11283490061759949 | Accuracy: 96.875%\n",
            "GB | Epoch 4 | Loss: 0.18884003162384033 | Accuracy: 92.1875%\n",
            "GB | Epoch 4 | Loss: 0.21068765223026276 | Accuracy: 93.75%\n",
            "GB | Epoch 4 | Loss: 0.12489686161279678 | Accuracy: 93.75%\n",
            "GB | Epoch 4 | Loss: 0.21349139511585236 | Accuracy: 95.3125%\n",
            "GB | Epoch 4 | Loss: 0.16622139513492584 | Accuracy: 92.1875%\n",
            "GB | Epoch 4 | Loss: 0.12785358726978302 | Accuracy: 95.3125%\n",
            "GB | Epoch 4 | Loss: 0.06058117747306824 | Accuracy: 100.0%\n",
            "GB | Epoch 4 | Loss: 0.12224982678890228 | Accuracy: 95.3125%\n"
          ]
        },
        {
          "output_type": "stream",
          "name": "stderr",
          "text": [
            "Epoch 4:  58%|█████▊    | 434/751 [00:02<00:01, 240.20batch/s, accuracy=98.4375%, loss=0.101]"
          ]
        },
        {
          "output_type": "stream",
          "name": "stdout",
          "text": [
            "GB | Epoch 4 | Loss: 0.12997469305992126 | Accuracy: 96.875%\n",
            "GB | Epoch 4 | Loss: 0.18902753293514252 | Accuracy: 93.75%\n",
            "GB | Epoch 4 | Loss: 0.15176014602184296 | Accuracy: 95.3125%\n",
            "GB | Epoch 4 | Loss: 0.10509367287158966 | Accuracy: 96.875%\n",
            "GB | Epoch 4 | Loss: 0.17493291199207306 | Accuracy: 95.3125%\n",
            "GB | Epoch 4 | Loss: 0.14766350388526917 | Accuracy: 93.75%\n",
            "GB | Epoch 4 | Loss: 0.11014367640018463 | Accuracy: 95.3125%\n",
            "GB | Epoch 4 | Loss: 0.0996897742152214 | Accuracy: 98.4375%\n",
            "GB | Epoch 4 | Loss: 0.20732535421848297 | Accuracy: 95.3125%\n",
            "GB | Epoch 4 | Loss: 0.06673045456409454 | Accuracy: 100.0%\n",
            "GB | Epoch 4 | Loss: 0.15232032537460327 | Accuracy: 93.75%\n",
            "GB | Epoch 4 | Loss: 0.0799504742026329 | Accuracy: 96.875%\n",
            "GB | Epoch 4 | Loss: 0.07640936225652695 | Accuracy: 96.875%\n",
            "GB | Epoch 4 | Loss: 0.27709895372390747 | Accuracy: 90.625%\n",
            "GB | Epoch 4 | Loss: 0.11231150478124619 | Accuracy: 96.875%\n",
            "GB | Epoch 4 | Loss: 0.11148881912231445 | Accuracy: 95.3125%\n",
            "GB | Epoch 4 | Loss: 0.22448743879795074 | Accuracy: 90.625%\n",
            "GB | Epoch 4 | Loss: 0.13369764387607574 | Accuracy: 95.3125%\n",
            "GB | Epoch 4 | Loss: 0.1484927535057068 | Accuracy: 96.875%\n",
            "GB | Epoch 4 | Loss: 0.07828669250011444 | Accuracy: 98.4375%\n",
            "GB | Epoch 4 | Loss: 0.12496367841959 | Accuracy: 96.875%\n",
            "GB | Epoch 4 | Loss: 0.11819034814834595 | Accuracy: 98.4375%\n",
            "GB | Epoch 4 | Loss: 0.188812717795372 | Accuracy: 90.625%\n",
            "GB | Epoch 4 | Loss: 0.08271035552024841 | Accuracy: 96.875%\n",
            "GB | Epoch 4 | Loss: 0.1213175430893898 | Accuracy: 96.875%\n",
            "GB | Epoch 4 | Loss: 0.10464099794626236 | Accuracy: 96.875%\n",
            "GB | Epoch 4 | Loss: 0.10435616970062256 | Accuracy: 98.4375%\n",
            "GB | Epoch 4 | Loss: 0.12250879406929016 | Accuracy: 95.3125%\n",
            "GB | Epoch 4 | Loss: 0.0610642209649086 | Accuracy: 98.4375%\n",
            "GB | Epoch 4 | Loss: 0.08727538585662842 | Accuracy: 100.0%\n",
            "GB | Epoch 4 | Loss: 0.0969422236084938 | Accuracy: 95.3125%\n",
            "GB | Epoch 4 | Loss: 0.1710994839668274 | Accuracy: 92.1875%\n",
            "GB | Epoch 4 | Loss: 0.10685667395591736 | Accuracy: 98.4375%\n",
            "GB | Epoch 4 | Loss: 0.14216828346252441 | Accuracy: 95.3125%\n",
            "GB | Epoch 4 | Loss: 0.13806097209453583 | Accuracy: 95.3125%\n",
            "GB | Epoch 4 | Loss: 0.04383506998419762 | Accuracy: 100.0%\n",
            "GB | Epoch 4 | Loss: 0.0580720528960228 | Accuracy: 100.0%\n",
            "GB | Epoch 4 | Loss: 0.16622737050056458 | Accuracy: 93.75%\n",
            "GB | Epoch 4 | Loss: 0.13812300562858582 | Accuracy: 96.875%\n",
            "GB | Epoch 4 | Loss: 0.06867142766714096 | Accuracy: 100.0%\n",
            "GB | Epoch 4 | Loss: 0.12719105184078217 | Accuracy: 96.875%\n",
            "GB | Epoch 4 | Loss: 0.07806263118982315 | Accuracy: 100.0%\n",
            "GB | Epoch 4 | Loss: 0.178621307015419 | Accuracy: 92.1875%\n",
            "GB | Epoch 4 | Loss: 0.09223814308643341 | Accuracy: 96.875%\n",
            "GB | Epoch 4 | Loss: 0.09847073256969452 | Accuracy: 98.4375%\n",
            "GB | Epoch 4 | Loss: 0.15215331315994263 | Accuracy: 93.75%\n",
            "GB | Epoch 4 | Loss: 0.07078707218170166 | Accuracy: 100.0%\n",
            "GB | Epoch 4 | Loss: 0.13472267985343933 | Accuracy: 96.875%\n",
            "GB | Epoch 4 | Loss: 0.08760891854763031 | Accuracy: 96.875%\n",
            "GB | Epoch 4 | Loss: 0.10127440094947815 | Accuracy: 98.4375%\n"
          ]
        },
        {
          "output_type": "stream",
          "name": "stderr",
          "text": [
            "Epoch 4:  64%|██████▍   | 484/751 [00:02<00:01, 234.69batch/s, accuracy=92.1875%, loss=0.121]"
          ]
        },
        {
          "output_type": "stream",
          "name": "stdout",
          "text": [
            "GB | Epoch 4 | Loss: 0.0633588507771492 | Accuracy: 98.4375%\n",
            "GB | Epoch 4 | Loss: 0.256276398897171 | Accuracy: 93.75%\n",
            "GB | Epoch 4 | Loss: 0.05979985371232033 | Accuracy: 98.4375%\n",
            "GB | Epoch 4 | Loss: 0.10715595632791519 | Accuracy: 98.4375%\n",
            "GB | Epoch 4 | Loss: 0.17701321840286255 | Accuracy: 95.3125%\n",
            "GB | Epoch 4 | Loss: 0.0955783873796463 | Accuracy: 100.0%\n",
            "GB | Epoch 4 | Loss: 0.08376583456993103 | Accuracy: 96.875%\n",
            "GB | Epoch 4 | Loss: 0.09867408871650696 | Accuracy: 96.875%\n",
            "GB | Epoch 4 | Loss: 0.11400207132101059 | Accuracy: 96.875%\n",
            "GB | Epoch 4 | Loss: 0.12809443473815918 | Accuracy: 95.3125%\n",
            "GB | Epoch 4 | Loss: 0.06188696250319481 | Accuracy: 100.0%\n",
            "GB | Epoch 4 | Loss: 0.215500608086586 | Accuracy: 93.75%\n",
            "GB | Epoch 4 | Loss: 0.08030473440885544 | Accuracy: 98.4375%\n",
            "GB | Epoch 4 | Loss: 0.062208618968725204 | Accuracy: 98.4375%\n",
            "GB | Epoch 4 | Loss: 0.13054272532463074 | Accuracy: 95.3125%\n",
            "GB | Epoch 4 | Loss: 0.11028768867254257 | Accuracy: 96.875%\n",
            "GB | Epoch 4 | Loss: 0.1368965059518814 | Accuracy: 95.3125%\n",
            "GB | Epoch 4 | Loss: 0.11445192247629166 | Accuracy: 95.3125%\n",
            "GB | Epoch 4 | Loss: 0.18942426145076752 | Accuracy: 96.875%\n",
            "GB | Epoch 4 | Loss: 0.08459102362394333 | Accuracy: 96.875%\n",
            "GB | Epoch 4 | Loss: 0.14694549143314362 | Accuracy: 93.75%\n",
            "GB | Epoch 4 | Loss: 0.12522482872009277 | Accuracy: 95.3125%\n",
            "GB | Epoch 4 | Loss: 0.10434254258871078 | Accuracy: 98.4375%\n",
            "GB | Epoch 4 | Loss: 0.09867947548627853 | Accuracy: 95.3125%\n",
            "GB | Epoch 4 | Loss: 0.26586464047431946 | Accuracy: 95.3125%\n",
            "GB | Epoch 4 | Loss: 0.13717038929462433 | Accuracy: 96.875%\n",
            "GB | Epoch 4 | Loss: 0.0680350661277771 | Accuracy: 98.4375%\n",
            "GB | Epoch 4 | Loss: 0.08274172991514206 | Accuracy: 98.4375%\n",
            "GB | Epoch 4 | Loss: 0.12332186102867126 | Accuracy: 98.4375%\n",
            "GB | Epoch 4 | Loss: 0.0734272450208664 | Accuracy: 100.0%\n",
            "GB | Epoch 4 | Loss: 0.09601150453090668 | Accuracy: 96.875%\n",
            "GB | Epoch 4 | Loss: 0.17743191123008728 | Accuracy: 92.1875%\n",
            "GB | Epoch 4 | Loss: 0.06971371173858643 | Accuracy: 100.0%\n",
            "GB | Epoch 4 | Loss: 0.07874643057584763 | Accuracy: 98.4375%\n",
            "GB | Epoch 4 | Loss: 0.09440555423498154 | Accuracy: 96.875%\n",
            "GB | Epoch 4 | Loss: 0.1942911148071289 | Accuracy: 92.1875%\n",
            "GB | Epoch 4 | Loss: 0.05573122948408127 | Accuracy: 100.0%\n",
            "GB | Epoch 4 | Loss: 0.06998027861118317 | Accuracy: 98.4375%\n",
            "GB | Epoch 4 | Loss: 0.09374482929706573 | Accuracy: 98.4375%\n",
            "GB | Epoch 4 | Loss: 0.23777209222316742 | Accuracy: 93.75%\n",
            "GB | Epoch 4 | Loss: 0.06294301152229309 | Accuracy: 98.4375%\n",
            "GB | Epoch 4 | Loss: 0.12489501386880875 | Accuracy: 95.3125%\n",
            "GB | Epoch 4 | Loss: 0.09420832246541977 | Accuracy: 96.875%\n",
            "GB | Epoch 4 | Loss: 0.07822837680578232 | Accuracy: 100.0%\n",
            "GB | Epoch 4 | Loss: 0.050482869148254395 | Accuracy: 100.0%\n",
            "GB | Epoch 4 | Loss: 0.12123598158359528 | Accuracy: 92.1875%\n"
          ]
        },
        {
          "output_type": "stream",
          "name": "stderr",
          "text": [
            "Epoch 4:  71%|███████   | 533/751 [00:02<00:00, 236.42batch/s, accuracy=96.875%, loss=0.11]"
          ]
        },
        {
          "output_type": "stream",
          "name": "stdout",
          "text": [
            "GB | Epoch 4 | Loss: 0.05374797433614731 | Accuracy: 100.0%\n",
            "GB | Epoch 4 | Loss: 0.12639206647872925 | Accuracy: 96.875%\n",
            "GB | Epoch 4 | Loss: 0.0925552174448967 | Accuracy: 96.875%\n",
            "GB | Epoch 4 | Loss: 0.10528535395860672 | Accuracy: 96.875%\n",
            "GB | Epoch 4 | Loss: 0.0722755640745163 | Accuracy: 100.0%\n",
            "GB | Epoch 4 | Loss: 0.19404247403144836 | Accuracy: 93.75%\n",
            "GB | Epoch 4 | Loss: 0.08478207141160965 | Accuracy: 98.4375%\n",
            "GB | Epoch 4 | Loss: 0.11620935052633286 | Accuracy: 100.0%\n",
            "GB | Epoch 4 | Loss: 0.06102193519473076 | Accuracy: 98.4375%\n",
            "GB | Epoch 4 | Loss: 0.09802241623401642 | Accuracy: 95.3125%\n",
            "GB | Epoch 4 | Loss: 0.06347182393074036 | Accuracy: 98.4375%\n",
            "GB | Epoch 4 | Loss: 0.11107347160577774 | Accuracy: 96.875%\n",
            "GB | Epoch 4 | Loss: 0.18764512240886688 | Accuracy: 95.3125%\n",
            "GB | Epoch 4 | Loss: 0.1664990335702896 | Accuracy: 92.1875%\n",
            "GB | Epoch 4 | Loss: 0.06215551868081093 | Accuracy: 98.4375%\n",
            "GB | Epoch 4 | Loss: 0.07896723598241806 | Accuracy: 98.4375%\n",
            "GB | Epoch 4 | Loss: 0.1382676362991333 | Accuracy: 95.3125%\n",
            "GB | Epoch 4 | Loss: 0.12209402769804001 | Accuracy: 96.875%\n",
            "GB | Epoch 4 | Loss: 0.1284617781639099 | Accuracy: 96.875%\n",
            "GB | Epoch 4 | Loss: 0.06859031319618225 | Accuracy: 100.0%\n",
            "GB | Epoch 4 | Loss: 0.12298490852117538 | Accuracy: 92.1875%\n",
            "GB | Epoch 4 | Loss: 0.06106458231806755 | Accuracy: 100.0%\n",
            "GB | Epoch 4 | Loss: 0.0713474303483963 | Accuracy: 98.4375%\n",
            "GB | Epoch 4 | Loss: 0.13601556420326233 | Accuracy: 96.875%\n",
            "GB | Epoch 4 | Loss: 0.08177617937326431 | Accuracy: 98.4375%\n",
            "GB | Epoch 4 | Loss: 0.07752717286348343 | Accuracy: 100.0%\n",
            "GB | Epoch 4 | Loss: 0.17987973988056183 | Accuracy: 95.3125%\n",
            "GB | Epoch 4 | Loss: 0.13157452642917633 | Accuracy: 95.3125%\n",
            "GB | Epoch 4 | Loss: 0.09649551659822464 | Accuracy: 95.3125%\n",
            "GB | Epoch 4 | Loss: 0.06461133807897568 | Accuracy: 100.0%\n",
            "GB | Epoch 4 | Loss: 0.048558399081230164 | Accuracy: 100.0%\n",
            "GB | Epoch 4 | Loss: 0.2717931866645813 | Accuracy: 95.3125%\n",
            "GB | Epoch 4 | Loss: 0.1378331482410431 | Accuracy: 95.3125%\n",
            "GB | Epoch 4 | Loss: 0.1301385462284088 | Accuracy: 96.875%\n",
            "GB | Epoch 4 | Loss: 0.3936643600463867 | Accuracy: 96.875%\n",
            "GB | Epoch 4 | Loss: 0.07595022767782211 | Accuracy: 98.4375%\n",
            "GB | Epoch 4 | Loss: 0.06779828667640686 | Accuracy: 100.0%\n",
            "GB | Epoch 4 | Loss: 0.051338132470846176 | Accuracy: 100.0%\n",
            "GB | Epoch 4 | Loss: 0.0954919159412384 | Accuracy: 96.875%\n",
            "GB | Epoch 4 | Loss: 0.08111730217933655 | Accuracy: 100.0%\n",
            "GB | Epoch 4 | Loss: 0.1748999059200287 | Accuracy: 93.75%\n",
            "GB | Epoch 4 | Loss: 0.11138012260198593 | Accuracy: 95.3125%\n",
            "GB | Epoch 4 | Loss: 0.164092019200325 | Accuracy: 96.875%\n",
            "GB | Epoch 4 | Loss: 0.10568530857563019 | Accuracy: 98.4375%\n",
            "GB | Epoch 4 | Loss: 0.17848984897136688 | Accuracy: 93.75%\n",
            "GB | Epoch 4 | Loss: 0.05582426115870476 | Accuracy: 98.4375%\n",
            "GB | Epoch 4 | Loss: 0.17450129985809326 | Accuracy: 93.75%\n",
            "GB | Epoch 4 | Loss: 0.11009414494037628 | Accuracy: 96.875%\n"
          ]
        },
        {
          "output_type": "stream",
          "name": "stderr",
          "text": [
            "Epoch 4:  77%|███████▋  | 582/751 [00:02<00:00, 239.00batch/s, accuracy=98.4375%, loss=0.102]"
          ]
        },
        {
          "output_type": "stream",
          "name": "stdout",
          "text": [
            "GB | Epoch 4 | Loss: 0.08852227032184601 | Accuracy: 96.875%\n",
            "GB | Epoch 4 | Loss: 0.17095442116260529 | Accuracy: 92.1875%\n",
            "GB | Epoch 4 | Loss: 0.13815858960151672 | Accuracy: 95.3125%\n",
            "GB | Epoch 4 | Loss: 0.07047240436077118 | Accuracy: 98.4375%\n",
            "GB | Epoch 4 | Loss: 0.058244816958904266 | Accuracy: 98.4375%\n",
            "GB | Epoch 4 | Loss: 0.10869549959897995 | Accuracy: 98.4375%\n",
            "GB | Epoch 4 | Loss: 0.2240189164876938 | Accuracy: 95.3125%\n",
            "GB | Epoch 4 | Loss: 0.12533043324947357 | Accuracy: 93.75%\n",
            "GB | Epoch 4 | Loss: 0.0466281995177269 | Accuracy: 100.0%\n",
            "GB | Epoch 4 | Loss: 0.0938505306839943 | Accuracy: 98.4375%\n",
            "GB | Epoch 4 | Loss: 0.0984940230846405 | Accuracy: 95.3125%\n",
            "GB | Epoch 4 | Loss: 0.13232865929603577 | Accuracy: 95.3125%\n",
            "GB | Epoch 4 | Loss: 0.15245097875595093 | Accuracy: 93.75%\n",
            "GB | Epoch 4 | Loss: 0.06019005924463272 | Accuracy: 100.0%\n",
            "GB | Epoch 4 | Loss: 0.15025587379932404 | Accuracy: 95.3125%\n",
            "GB | Epoch 4 | Loss: 0.08521736413240433 | Accuracy: 96.875%\n",
            "GB | Epoch 4 | Loss: 0.0792836844921112 | Accuracy: 98.4375%\n",
            "GB | Epoch 4 | Loss: 0.08516820520162582 | Accuracy: 98.4375%\n",
            "GB | Epoch 4 | Loss: 0.08182419836521149 | Accuracy: 98.4375%\n",
            "GB | Epoch 4 | Loss: 0.047326818108558655 | Accuracy: 100.0%\n",
            "GB | Epoch 4 | Loss: 0.1072988286614418 | Accuracy: 96.875%\n",
            "GB | Epoch 4 | Loss: 0.05822601914405823 | Accuracy: 100.0%\n",
            "GB | Epoch 4 | Loss: 0.15237125754356384 | Accuracy: 93.75%\n",
            "GB | Epoch 4 | Loss: 0.09539438039064407 | Accuracy: 98.4375%\n",
            "GB | Epoch 4 | Loss: 0.1029919683933258 | Accuracy: 96.875%\n",
            "GB | Epoch 4 | Loss: 0.1341826617717743 | Accuracy: 93.75%\n",
            "GB | Epoch 4 | Loss: 0.15584398806095123 | Accuracy: 96.875%\n",
            "GB | Epoch 4 | Loss: 0.05166438966989517 | Accuracy: 100.0%\n",
            "GB | Epoch 4 | Loss: 0.07983836531639099 | Accuracy: 98.4375%\n",
            "GB | Epoch 4 | Loss: 0.07955484092235565 | Accuracy: 98.4375%\n",
            "GB | Epoch 4 | Loss: 0.058790434151887894 | Accuracy: 100.0%\n",
            "GB | Epoch 4 | Loss: 0.08034359663724899 | Accuracy: 96.875%\n",
            "GB | Epoch 4 | Loss: 0.11281804740428925 | Accuracy: 96.875%\n",
            "GB | Epoch 4 | Loss: 0.11918111145496368 | Accuracy: 93.75%\n",
            "GB | Epoch 4 | Loss: 0.04830879345536232 | Accuracy: 100.0%\n",
            "GB | Epoch 4 | Loss: 0.05595947057008743 | Accuracy: 100.0%\n",
            "GB | Epoch 4 | Loss: 0.09986405819654465 | Accuracy: 96.875%\n",
            "GB | Epoch 4 | Loss: 0.10285113751888275 | Accuracy: 98.4375%\n",
            "GB | Epoch 4 | Loss: 0.0487886443734169 | Accuracy: 100.0%\n",
            "GB | Epoch 4 | Loss: 0.08596353977918625 | Accuracy: 96.875%\n",
            "GB | Epoch 4 | Loss: 0.12993758916854858 | Accuracy: 95.3125%\n",
            "GB | Epoch 4 | Loss: 0.18491972982883453 | Accuracy: 98.4375%\n",
            "GB | Epoch 4 | Loss: 0.05102728679776192 | Accuracy: 100.0%\n",
            "GB | Epoch 4 | Loss: 0.03902044519782066 | Accuracy: 100.0%\n",
            "GB | Epoch 4 | Loss: 0.062413882464170456 | Accuracy: 100.0%\n",
            "GB | Epoch 4 | Loss: 0.08141964673995972 | Accuracy: 98.4375%\n",
            "GB | Epoch 4 | Loss: 0.07738083600997925 | Accuracy: 96.875%\n",
            "GB | Epoch 4 | Loss: 0.0977962389588356 | Accuracy: 96.875%\n",
            "GB | Epoch 4 | Loss: 0.1022946909070015 | Accuracy: 98.4375%\n"
          ]
        },
        {
          "output_type": "stream",
          "name": "stderr",
          "text": [
            "Epoch 4:  84%|████████▍ | 631/751 [00:03<00:00, 241.14batch/s, accuracy=96.875%, loss=0.0916] "
          ]
        },
        {
          "output_type": "stream",
          "name": "stdout",
          "text": [
            "GB | Epoch 4 | Loss: 0.0976613461971283 | Accuracy: 95.3125%\n",
            "GB | Epoch 4 | Loss: 0.047385673969984055 | Accuracy: 100.0%\n",
            "GB | Epoch 4 | Loss: 0.10360202193260193 | Accuracy: 96.875%\n",
            "GB | Epoch 4 | Loss: 0.07953115552663803 | Accuracy: 98.4375%\n",
            "GB | Epoch 4 | Loss: 0.06689228862524033 | Accuracy: 98.4375%\n",
            "GB | Epoch 4 | Loss: 0.0671725869178772 | Accuracy: 100.0%\n",
            "GB | Epoch 4 | Loss: 0.045460451394319534 | Accuracy: 98.4375%\n",
            "GB | Epoch 4 | Loss: 0.1454470008611679 | Accuracy: 96.875%\n",
            "GB | Epoch 4 | Loss: 0.147895947098732 | Accuracy: 93.75%\n",
            "GB | Epoch 4 | Loss: 0.10820561647415161 | Accuracy: 95.3125%\n",
            "GB | Epoch 4 | Loss: 0.08206271380186081 | Accuracy: 98.4375%\n",
            "GB | Epoch 4 | Loss: 0.10332836955785751 | Accuracy: 95.3125%\n",
            "GB | Epoch 4 | Loss: 0.18086238205432892 | Accuracy: 95.3125%\n",
            "GB | Epoch 4 | Loss: 0.0910630077123642 | Accuracy: 96.875%\n",
            "GB | Epoch 4 | Loss: 0.09807633608579636 | Accuracy: 96.875%\n",
            "GB | Epoch 4 | Loss: 0.11086085438728333 | Accuracy: 95.3125%\n",
            "GB | Epoch 4 | Loss: 0.13507597148418427 | Accuracy: 95.3125%\n",
            "GB | Epoch 4 | Loss: 0.04559382423758507 | Accuracy: 96.875%\n",
            "GB | Epoch 4 | Loss: 0.04496561735868454 | Accuracy: 100.0%\n",
            "GB | Epoch 4 | Loss: 0.07795552909374237 | Accuracy: 98.4375%\n",
            "GB | Epoch 4 | Loss: 0.15419748425483704 | Accuracy: 95.3125%\n",
            "GB | Epoch 4 | Loss: 0.10089525580406189 | Accuracy: 96.875%\n",
            "GB | Epoch 4 | Loss: 0.2088557630777359 | Accuracy: 98.4375%\n",
            "GB | Epoch 4 | Loss: 0.07978606224060059 | Accuracy: 96.875%\n",
            "GB | Epoch 4 | Loss: 0.04767267405986786 | Accuracy: 100.0%\n",
            "GB | Epoch 4 | Loss: 0.14711454510688782 | Accuracy: 98.4375%\n",
            "GB | Epoch 4 | Loss: 0.07943370938301086 | Accuracy: 98.4375%\n",
            "GB | Epoch 4 | Loss: 0.07639061659574509 | Accuracy: 98.4375%\n",
            "GB | Epoch 4 | Loss: 0.16593164205551147 | Accuracy: 96.875%\n",
            "GB | Epoch 4 | Loss: 0.12913130223751068 | Accuracy: 96.875%\n",
            "GB | Epoch 4 | Loss: 0.1418789029121399 | Accuracy: 95.3125%\n",
            "GB | Epoch 4 | Loss: 0.09855006635189056 | Accuracy: 95.3125%\n",
            "GB | Epoch 4 | Loss: 0.09568265825510025 | Accuracy: 96.875%\n",
            "GB | Epoch 4 | Loss: 0.052164338529109955 | Accuracy: 100.0%\n",
            "GB | Epoch 4 | Loss: 0.15880176424980164 | Accuracy: 95.3125%\n",
            "GB | Epoch 4 | Loss: 0.06103147193789482 | Accuracy: 100.0%\n",
            "GB | Epoch 4 | Loss: 0.07623588293790817 | Accuracy: 100.0%\n",
            "GB | Epoch 4 | Loss: 0.06901707500219345 | Accuracy: 98.4375%\n",
            "GB | Epoch 4 | Loss: 0.06171531602740288 | Accuracy: 98.4375%\n",
            "GB | Epoch 4 | Loss: 0.11179154366254807 | Accuracy: 98.4375%\n",
            "GB | Epoch 4 | Loss: 0.0998024120926857 | Accuracy: 95.3125%\n",
            "GB | Epoch 4 | Loss: 0.16536250710487366 | Accuracy: 95.3125%\n",
            "GB | Epoch 4 | Loss: 0.09478181600570679 | Accuracy: 93.75%\n",
            "GB | Epoch 4 | Loss: 0.08085057139396667 | Accuracy: 100.0%\n",
            "GB | Epoch 4 | Loss: 0.10000275820493698 | Accuracy: 95.3125%\n",
            "GB | Epoch 4 | Loss: 0.06770959496498108 | Accuracy: 100.0%\n",
            "GB | Epoch 4 | Loss: 0.07243207097053528 | Accuracy: 96.875%\n",
            "GB | Epoch 4 | Loss: 0.055199239403009415 | Accuracy: 98.4375%\n",
            "GB | Epoch 4 | Loss: 0.09159953892230988 | Accuracy: 96.875%\n"
          ]
        },
        {
          "output_type": "stream",
          "name": "stderr",
          "text": [
            "Epoch 4:  91%|█████████ | 681/751 [00:03<00:00, 240.46batch/s, accuracy=95.3125%, loss=0.173]"
          ]
        },
        {
          "output_type": "stream",
          "name": "stdout",
          "text": [
            "GB | Epoch 4 | Loss: 0.06351732462644577 | Accuracy: 98.4375%\n",
            "GB | Epoch 4 | Loss: 0.07148684561252594 | Accuracy: 98.4375%\n",
            "GB | Epoch 4 | Loss: 0.08150266855955124 | Accuracy: 98.4375%\n",
            "GB | Epoch 4 | Loss: 0.052853774279356 | Accuracy: 100.0%\n",
            "GB | Epoch 4 | Loss: 0.08859021216630936 | Accuracy: 96.875%\n",
            "GB | Epoch 4 | Loss: 0.103253073990345 | Accuracy: 96.875%\n",
            "GB | Epoch 4 | Loss: 0.09957889467477798 | Accuracy: 96.875%\n",
            "GB | Epoch 4 | Loss: 0.1243075504899025 | Accuracy: 93.75%\n",
            "GB | Epoch 4 | Loss: 0.07638874650001526 | Accuracy: 96.875%\n",
            "GB | Epoch 4 | Loss: 0.07104718685150146 | Accuracy: 98.4375%\n",
            "GB | Epoch 4 | Loss: 0.18093891441822052 | Accuracy: 95.3125%\n",
            "GB | Epoch 4 | Loss: 0.06355440616607666 | Accuracy: 98.4375%\n",
            "GB | Epoch 4 | Loss: 0.10654840618371964 | Accuracy: 96.875%\n",
            "GB | Epoch 4 | Loss: 0.07123361527919769 | Accuracy: 96.875%\n",
            "GB | Epoch 4 | Loss: 0.07675592601299286 | Accuracy: 96.875%\n",
            "GB | Epoch 4 | Loss: 0.12065361440181732 | Accuracy: 95.3125%\n",
            "GB | Epoch 4 | Loss: 0.0761772021651268 | Accuracy: 96.875%\n",
            "GB | Epoch 4 | Loss: 0.08716386556625366 | Accuracy: 96.875%\n",
            "GB | Epoch 4 | Loss: 0.2733497619628906 | Accuracy: 95.3125%\n",
            "GB | Epoch 4 | Loss: 0.10037340223789215 | Accuracy: 96.875%\n",
            "GB | Epoch 4 | Loss: 0.09415186941623688 | Accuracy: 98.4375%\n",
            "GB | Epoch 4 | Loss: 0.06342059373855591 | Accuracy: 98.4375%\n",
            "GB | Epoch 4 | Loss: 0.06426060199737549 | Accuracy: 96.875%\n",
            "GB | Epoch 4 | Loss: 0.05547064542770386 | Accuracy: 98.4375%\n",
            "GB | Epoch 4 | Loss: 0.05342773720622063 | Accuracy: 100.0%\n",
            "GB | Epoch 4 | Loss: 0.04603048041462898 | Accuracy: 100.0%\n",
            "GB | Epoch 4 | Loss: 0.11519111692905426 | Accuracy: 98.4375%\n",
            "GB | Epoch 4 | Loss: 0.06595879048109055 | Accuracy: 98.4375%\n",
            "GB | Epoch 4 | Loss: 0.06928764283657074 | Accuracy: 98.4375%\n",
            "GB | Epoch 4 | Loss: 0.04870445653796196 | Accuracy: 100.0%\n",
            "GB | Epoch 4 | Loss: 0.0808478370308876 | Accuracy: 95.3125%\n",
            "GB | Epoch 4 | Loss: 0.08183511346578598 | Accuracy: 96.875%\n",
            "GB | Epoch 4 | Loss: 0.12983910739421844 | Accuracy: 92.1875%\n",
            "GB | Epoch 4 | Loss: 0.07113863527774811 | Accuracy: 96.875%\n",
            "GB | Epoch 4 | Loss: 0.10615754127502441 | Accuracy: 95.3125%\n",
            "GB | Epoch 4 | Loss: 0.08058756589889526 | Accuracy: 98.4375%\n",
            "GB | Epoch 4 | Loss: 0.06871549040079117 | Accuracy: 100.0%\n",
            "GB | Epoch 4 | Loss: 0.07359403371810913 | Accuracy: 96.875%\n",
            "GB | Epoch 4 | Loss: 0.07594925165176392 | Accuracy: 100.0%\n",
            "GB | Epoch 4 | Loss: 0.12134493887424469 | Accuracy: 95.3125%\n",
            "GB | Epoch 4 | Loss: 0.10008154809474945 | Accuracy: 96.875%\n",
            "GB | Epoch 4 | Loss: 0.10166660696268082 | Accuracy: 96.875%\n",
            "GB | Epoch 4 | Loss: 0.03607422485947609 | Accuracy: 100.0%\n",
            "GB | Epoch 4 | Loss: 0.03869472071528435 | Accuracy: 100.0%\n",
            "GB | Epoch 4 | Loss: 0.17982080578804016 | Accuracy: 95.3125%\n",
            "GB | Epoch 4 | Loss: 0.06288325041532516 | Accuracy: 100.0%\n",
            "GB | Epoch 4 | Loss: 0.06265415996313095 | Accuracy: 98.4375%\n",
            "GB | Epoch 4 | Loss: 0.06434430181980133 | Accuracy: 100.0%\n",
            "GB | Epoch 4 | Loss: 0.1729496866464615 | Accuracy: 95.3125%\n"
          ]
        },
        {
          "output_type": "stream",
          "name": "stderr",
          "text": [
            "Epoch 4:  97%|█████████▋| 732/751 [00:03<00:00, 243.91batch/s, accuracy=98.4375%, loss=0.0957]"
          ]
        },
        {
          "output_type": "stream",
          "name": "stdout",
          "text": [
            "GB | Epoch 4 | Loss: 0.09697731584310532 | Accuracy: 98.4375%\n",
            "GB | Epoch 4 | Loss: 0.06737558543682098 | Accuracy: 98.4375%\n",
            "GB | Epoch 4 | Loss: 0.054279666393995285 | Accuracy: 96.875%\n",
            "GB | Epoch 4 | Loss: 0.049379341304302216 | Accuracy: 100.0%\n",
            "GB | Epoch 4 | Loss: 0.07595686614513397 | Accuracy: 98.4375%\n",
            "GB | Epoch 4 | Loss: 0.05553518980741501 | Accuracy: 98.4375%\n",
            "GB | Epoch 4 | Loss: 0.10617266595363617 | Accuracy: 95.3125%\n",
            "GB | Epoch 4 | Loss: 0.07934374362230301 | Accuracy: 96.875%\n",
            "GB | Epoch 4 | Loss: 0.09054742753505707 | Accuracy: 96.875%\n",
            "GB | Epoch 4 | Loss: 0.060838982462882996 | Accuracy: 96.875%\n",
            "GB | Epoch 4 | Loss: 0.13575051724910736 | Accuracy: 98.4375%\n",
            "GB | Epoch 4 | Loss: 0.08501974493265152 | Accuracy: 96.875%\n",
            "GB | Epoch 4 | Loss: 0.07200779020786285 | Accuracy: 98.4375%\n",
            "GB | Epoch 4 | Loss: 0.09191759675741196 | Accuracy: 98.4375%\n",
            "GB | Epoch 4 | Loss: 0.07705642282962799 | Accuracy: 98.4375%\n",
            "GB | Epoch 4 | Loss: 0.036289915442466736 | Accuracy: 100.0%\n",
            "GB | Epoch 4 | Loss: 0.18116970360279083 | Accuracy: 96.875%\n",
            "GB | Epoch 4 | Loss: 0.08365190029144287 | Accuracy: 96.875%\n",
            "GB | Epoch 4 | Loss: 0.10974748432636261 | Accuracy: 96.875%\n",
            "GB | Epoch 4 | Loss: 0.1383923888206482 | Accuracy: 93.75%\n",
            "GB | Epoch 4 | Loss: 0.08322938531637192 | Accuracy: 96.875%\n",
            "GB | Epoch 4 | Loss: 0.039608534425497055 | Accuracy: 100.0%\n",
            "GB | Epoch 4 | Loss: 0.06266812235116959 | Accuracy: 100.0%\n",
            "GB | Epoch 4 | Loss: 0.09199261665344238 | Accuracy: 96.875%\n",
            "GB | Epoch 4 | Loss: 0.0651911124587059 | Accuracy: 96.875%\n",
            "GB | Epoch 4 | Loss: 0.06668383628129959 | Accuracy: 98.4375%\n",
            "GB | Epoch 4 | Loss: 0.04103272408246994 | Accuracy: 100.0%\n",
            "GB | Epoch 4 | Loss: 0.07292373478412628 | Accuracy: 98.4375%\n",
            "GB | Epoch 4 | Loss: 0.06826784461736679 | Accuracy: 98.4375%\n",
            "GB | Epoch 4 | Loss: 0.09668406844139099 | Accuracy: 95.3125%\n",
            "GB | Epoch 4 | Loss: 0.05399099737405777 | Accuracy: 100.0%\n",
            "GB | Epoch 4 | Loss: 0.08497552573680878 | Accuracy: 98.4375%\n",
            "GB | Epoch 4 | Loss: 0.07166984677314758 | Accuracy: 100.0%\n",
            "GB | Epoch 4 | Loss: 0.08622834086418152 | Accuracy: 95.3125%\n",
            "GB | Epoch 4 | Loss: 0.1411214917898178 | Accuracy: 95.3125%\n",
            "GB | Epoch 4 | Loss: 0.26636672019958496 | Accuracy: 96.875%\n",
            "GB | Epoch 4 | Loss: 0.11843327432870865 | Accuracy: 96.875%\n",
            "GB | Epoch 4 | Loss: 0.15433460474014282 | Accuracy: 95.3125%\n",
            "GB | Epoch 4 | Loss: 0.14284472167491913 | Accuracy: 95.3125%\n",
            "GB | Epoch 4 | Loss: 0.07137449085712433 | Accuracy: 98.4375%\n",
            "GB | Epoch 4 | Loss: 0.1216902807354927 | Accuracy: 98.4375%\n",
            "GB | Epoch 4 | Loss: 0.07002707570791245 | Accuracy: 100.0%\n",
            "GB | Epoch 4 | Loss: 0.10137355327606201 | Accuracy: 96.875%\n",
            "GB | Epoch 4 | Loss: 0.039064548909664154 | Accuracy: 100.0%\n",
            "GB | Epoch 4 | Loss: 0.06139330565929413 | Accuracy: 100.0%\n",
            "GB | Epoch 4 | Loss: 0.0754404366016388 | Accuracy: 100.0%\n",
            "GB | Epoch 4 | Loss: 0.07815404236316681 | Accuracy: 98.4375%\n",
            "GB | Epoch 4 | Loss: 0.10867135971784592 | Accuracy: 96.875%\n",
            "GB | Epoch 4 | Loss: 0.0925927460193634 | Accuracy: 98.4375%\n",
            "GB | Epoch 4 | Loss: 0.16891741752624512 | Accuracy: 96.875%\n",
            "GB | Epoch 4 | Loss: 0.09574685245752335 | Accuracy: 98.4375%\n"
          ]
        },
        {
          "output_type": "stream",
          "name": "stderr",
          "text": [
            "Epoch 4: 100%|██████████| 751/751 [00:03<00:00, 212.44batch/s, accuracy=100.0%, loss=0.032]"
          ]
        },
        {
          "output_type": "stream",
          "name": "stdout",
          "text": [
            "GB | Epoch 4 | Loss: 0.15339167416095734 | Accuracy: 93.75%\n",
            "GB | Epoch 4 | Loss: 0.04954090714454651 | Accuracy: 98.4375%\n",
            "GB | Epoch 4 | Loss: 0.06136088818311691 | Accuracy: 98.4375%\n",
            "GB | Epoch 4 | Loss: 0.08754970133304596 | Accuracy: 96.875%\n",
            "GB | Epoch 4 | Loss: 0.032014232128858566 | Accuracy: 100.0%\n"
          ]
        },
        {
          "output_type": "stream",
          "name": "stderr",
          "text": [
            "\n"
          ]
        }
      ],
      "source": [
        "from spuco.robust_train import GroupBalanceBatchERM, ClassBalanceBatchERM\n",
        "\n",
        "model = model_factory(\"lenet\", trainset[0][0].shape, trainset.num_classes).to(device)\n",
        "group_balance_erm = GroupBalanceBatchERM(\n",
        "    model=model,\n",
        "    num_epochs=5,\n",
        "    trainset=trainset,\n",
        "    group_partition=group_partition,\n",
        "    batch_size=64,\n",
        "    optimizer=SGD(model.parameters(), lr=1e-3, weight_decay=5e-4, momentum=0.9, nesterov=True),\n",
        "    device=device,\n",
        "    verbose=True\n",
        ")\n",
        "group_balance_erm.train()"
      ]
    },
    {
      "cell_type": "code",
      "execution_count": null,
      "metadata": {
        "id": "BNxSVJas6SZF",
        "outputId": "9db9ee79-43c3-4602-f8ab-399f276aec3a",
        "colab": {
          "base_uri": "https://localhost:8080/"
        }
      },
      "outputs": [
        {
          "output_type": "stream",
          "name": "stderr",
          "text": [
            "Evaluating group-wise accuracy:   4%|▍         | 1/25 [00:00<00:06,  3.59it/s]"
          ]
        },
        {
          "output_type": "stream",
          "name": "stdout",
          "text": [
            "Group (0, 0) Accuracy: 99.29078014184397\n"
          ]
        },
        {
          "output_type": "stream",
          "name": "stderr",
          "text": [
            "\rEvaluating group-wise accuracy:   8%|▊         | 2/25 [00:00<00:06,  3.65it/s]"
          ]
        },
        {
          "output_type": "stream",
          "name": "stdout",
          "text": [
            "Group (0, 1) Accuracy: 86.52482269503547\n"
          ]
        },
        {
          "output_type": "stream",
          "name": "stderr",
          "text": [
            "\rEvaluating group-wise accuracy:  12%|█▏        | 3/25 [00:00<00:06,  3.65it/s]"
          ]
        },
        {
          "output_type": "stream",
          "name": "stdout",
          "text": [
            "Group (0, 2) Accuracy: 88.17966903073287\n"
          ]
        },
        {
          "output_type": "stream",
          "name": "stderr",
          "text": [
            "\rEvaluating group-wise accuracy:  16%|█▌        | 4/25 [00:01<00:05,  3.62it/s]"
          ]
        },
        {
          "output_type": "stream",
          "name": "stdout",
          "text": [
            "Group (0, 3) Accuracy: 68.32151300236407\n"
          ]
        },
        {
          "output_type": "stream",
          "name": "stderr",
          "text": [
            "\rEvaluating group-wise accuracy:  20%|██        | 5/25 [00:01<00:05,  3.63it/s]"
          ]
        },
        {
          "output_type": "stream",
          "name": "stdout",
          "text": [
            "Group (0, 4) Accuracy: 87.23404255319149\n"
          ]
        },
        {
          "output_type": "stream",
          "name": "stderr",
          "text": [
            "\rEvaluating group-wise accuracy:  24%|██▍       | 6/25 [00:01<00:05,  3.61it/s]"
          ]
        },
        {
          "output_type": "stream",
          "name": "stdout",
          "text": [
            "Group (1, 0) Accuracy: 80.19559902200488\n"
          ]
        },
        {
          "output_type": "stream",
          "name": "stderr",
          "text": [
            "\rEvaluating group-wise accuracy:  28%|██▊       | 7/25 [00:01<00:04,  3.66it/s]"
          ]
        },
        {
          "output_type": "stream",
          "name": "stdout",
          "text": [
            "Group (1, 1) Accuracy: 98.0440097799511\n"
          ]
        },
        {
          "output_type": "stream",
          "name": "stderr",
          "text": [
            "\rEvaluating group-wise accuracy:  32%|███▏      | 8/25 [00:02<00:04,  3.69it/s]"
          ]
        },
        {
          "output_type": "stream",
          "name": "stdout",
          "text": [
            "Group (1, 2) Accuracy: 78.67647058823529\n"
          ]
        },
        {
          "output_type": "stream",
          "name": "stderr",
          "text": [
            "\rEvaluating group-wise accuracy:  36%|███▌      | 9/25 [00:02<00:04,  3.65it/s]"
          ]
        },
        {
          "output_type": "stream",
          "name": "stdout",
          "text": [
            "Group (1, 3) Accuracy: 70.83333333333333\n"
          ]
        },
        {
          "output_type": "stream",
          "name": "stderr",
          "text": [
            "\rEvaluating group-wise accuracy:  40%|████      | 10/25 [00:02<00:04,  3.63it/s]"
          ]
        },
        {
          "output_type": "stream",
          "name": "stdout",
          "text": [
            "Group (1, 4) Accuracy: 68.13725490196079\n"
          ]
        },
        {
          "output_type": "stream",
          "name": "stderr",
          "text": [
            "\rEvaluating group-wise accuracy:  44%|████▍     | 11/25 [00:03<00:03,  3.64it/s]"
          ]
        },
        {
          "output_type": "stream",
          "name": "stdout",
          "text": [
            "Group (2, 0) Accuracy: 66.4\n"
          ]
        },
        {
          "output_type": "stream",
          "name": "stderr",
          "text": [
            "\rEvaluating group-wise accuracy:  48%|████▊     | 12/25 [00:03<00:03,  3.66it/s]"
          ]
        },
        {
          "output_type": "stream",
          "name": "stdout",
          "text": [
            "Group (2, 1) Accuracy: 62.666666666666664\n"
          ]
        },
        {
          "output_type": "stream",
          "name": "stderr",
          "text": [
            "\rEvaluating group-wise accuracy:  52%|█████▏    | 13/25 [00:03<00:03,  3.65it/s]"
          ]
        },
        {
          "output_type": "stream",
          "name": "stdout",
          "text": [
            "Group (2, 2) Accuracy: 95.2\n"
          ]
        },
        {
          "output_type": "stream",
          "name": "stderr",
          "text": [
            "\rEvaluating group-wise accuracy:  56%|█████▌    | 14/25 [00:03<00:03,  3.66it/s]"
          ]
        },
        {
          "output_type": "stream",
          "name": "stdout",
          "text": [
            "Group (2, 3) Accuracy: 70.4\n"
          ]
        },
        {
          "output_type": "stream",
          "name": "stderr",
          "text": [
            "\rEvaluating group-wise accuracy:  60%|██████    | 15/25 [00:04<00:02,  3.58it/s]"
          ]
        },
        {
          "output_type": "stream",
          "name": "stdout",
          "text": [
            "Group (2, 4) Accuracy: 50.26737967914438\n"
          ]
        },
        {
          "output_type": "stream",
          "name": "stderr",
          "text": [
            "\rEvaluating group-wise accuracy:  64%|██████▍   | 16/25 [00:04<00:02,  3.60it/s]"
          ]
        },
        {
          "output_type": "stream",
          "name": "stdout",
          "text": [
            "Group (3, 0) Accuracy: 83.66834170854271\n"
          ]
        },
        {
          "output_type": "stream",
          "name": "stderr",
          "text": [
            "\rEvaluating group-wise accuracy:  68%|██████▊   | 17/25 [00:04<00:02,  3.63it/s]"
          ]
        },
        {
          "output_type": "stream",
          "name": "stdout",
          "text": [
            "Group (3, 1) Accuracy: 68.01007556675063\n"
          ]
        },
        {
          "output_type": "stream",
          "name": "stderr",
          "text": [
            "\rEvaluating group-wise accuracy:  72%|███████▏  | 18/25 [00:04<00:01,  3.64it/s]"
          ]
        },
        {
          "output_type": "stream",
          "name": "stdout",
          "text": [
            "Group (3, 2) Accuracy: 76.0705289672544\n"
          ]
        },
        {
          "output_type": "stream",
          "name": "stderr",
          "text": [
            "\rEvaluating group-wise accuracy:  76%|███████▌  | 19/25 [00:05<00:01,  3.64it/s]"
          ]
        },
        {
          "output_type": "stream",
          "name": "stdout",
          "text": [
            "Group (3, 3) Accuracy: 96.72544080604534\n"
          ]
        },
        {
          "output_type": "stream",
          "name": "stderr",
          "text": [
            "\rEvaluating group-wise accuracy:  80%|████████  | 20/25 [00:05<00:01,  3.62it/s]"
          ]
        },
        {
          "output_type": "stream",
          "name": "stdout",
          "text": [
            "Group (3, 4) Accuracy: 63.97984886649874\n"
          ]
        },
        {
          "output_type": "stream",
          "name": "stderr",
          "text": [
            "\rEvaluating group-wise accuracy:  84%|████████▍ | 21/25 [00:05<00:01,  3.63it/s]"
          ]
        },
        {
          "output_type": "stream",
          "name": "stdout",
          "text": [
            "Group (4, 0) Accuracy: 83.37531486146096\n"
          ]
        },
        {
          "output_type": "stream",
          "name": "stderr",
          "text": [
            "\rEvaluating group-wise accuracy:  88%|████████▊ | 22/25 [00:06<00:00,  3.62it/s]"
          ]
        },
        {
          "output_type": "stream",
          "name": "stdout",
          "text": [
            "Group (4, 1) Accuracy: 61.712846347607055\n"
          ]
        },
        {
          "output_type": "stream",
          "name": "stderr",
          "text": [
            "\rEvaluating group-wise accuracy:  92%|█████████▏| 23/25 [00:06<00:00,  3.64it/s]"
          ]
        },
        {
          "output_type": "stream",
          "name": "stdout",
          "text": [
            "Group (4, 2) Accuracy: 69.77329974811083\n"
          ]
        },
        {
          "output_type": "stream",
          "name": "stderr",
          "text": [
            "\rEvaluating group-wise accuracy:  96%|█████████▌| 24/25 [00:06<00:00,  3.64it/s]"
          ]
        },
        {
          "output_type": "stream",
          "name": "stdout",
          "text": [
            "Group (4, 3) Accuracy: 45.2020202020202\n"
          ]
        },
        {
          "output_type": "stream",
          "name": "stderr",
          "text": [
            "Evaluating group-wise accuracy: 100%|██████████| 25/25 [00:06<00:00,  3.64it/s]"
          ]
        },
        {
          "output_type": "stream",
          "name": "stdout",
          "text": [
            "Group (4, 4) Accuracy: 97.97979797979798\n"
          ]
        },
        {
          "output_type": "stream",
          "name": "stderr",
          "text": [
            "\n"
          ]
        },
        {
          "output_type": "execute_result",
          "data": {
            "text/plain": [
              "{(0, 0): 99.29078014184397,\n",
              " (0, 1): 86.52482269503547,\n",
              " (0, 2): 88.17966903073287,\n",
              " (0, 3): 68.32151300236407,\n",
              " (0, 4): 87.23404255319149,\n",
              " (1, 0): 80.19559902200488,\n",
              " (1, 1): 98.0440097799511,\n",
              " (1, 2): 78.67647058823529,\n",
              " (1, 3): 70.83333333333333,\n",
              " (1, 4): 68.13725490196079,\n",
              " (2, 0): 66.4,\n",
              " (2, 1): 62.666666666666664,\n",
              " (2, 2): 95.2,\n",
              " (2, 3): 70.4,\n",
              " (2, 4): 50.26737967914438,\n",
              " (3, 0): 83.66834170854271,\n",
              " (3, 1): 68.01007556675063,\n",
              " (3, 2): 76.0705289672544,\n",
              " (3, 3): 96.72544080604534,\n",
              " (3, 4): 63.97984886649874,\n",
              " (4, 0): 83.37531486146096,\n",
              " (4, 1): 61.712846347607055,\n",
              " (4, 2): 69.77329974811083,\n",
              " (4, 3): 45.2020202020202,\n",
              " (4, 4): 97.97979797979798}"
            ]
          },
          "metadata": {},
          "execution_count": 68
        }
      ],
      "source": [
        "from spuco.evaluate import Evaluator\n",
        "\n",
        "evaluator = Evaluator(\n",
        "    testset=testset,\n",
        "    group_partition=testset.group_partition,\n",
        "    group_weights=trainset.group_weights,\n",
        "    batch_size=64,\n",
        "    model=model,\n",
        "    device=device,\n",
        "    verbose=True\n",
        ")\n",
        "evaluator.evaluate()"
      ]
    },
    {
      "cell_type": "code",
      "execution_count": null,
      "metadata": {
        "id": "8hzr4c4m6SZG",
        "outputId": "a8ed0cf6-c296-4556-cf84-769514dd4315",
        "colab": {
          "base_uri": "https://localhost:8080/"
        }
      },
      "outputs": [
        {
          "output_type": "execute_result",
          "data": {
            "text/plain": [
              "((4, 3), 45.2020202020202)"
            ]
          },
          "metadata": {},
          "execution_count": 69
        }
      ],
      "source": [
        "evaluator.worst_group_accuracy"
      ]
    },
    {
      "cell_type": "code",
      "execution_count": null,
      "metadata": {
        "id": "W2OfclUn6SZG",
        "outputId": "f8bcabde-0d34-48f1-be85-cf4c59bb403a",
        "colab": {
          "base_uri": "https://localhost:8080/"
        }
      },
      "outputs": [
        {
          "output_type": "execute_result",
          "data": {
            "text/plain": [
              "97.37173414755108"
            ]
          },
          "metadata": {},
          "execution_count": 70
        }
      ],
      "source": [
        "evaluator.average_accuracy"
      ]
    },
    {
      "cell_type": "code",
      "execution_count": null,
      "metadata": {
        "id": "1wR_dWcr6SZG",
        "outputId": "81b84ecb-7931-4efc-f530-fe6a83240dc6",
        "colab": {
          "base_uri": "https://localhost:8080/"
        }
      },
      "outputs": [
        {
          "output_type": "execute_result",
          "data": {
            "text/plain": [
              "20.74"
            ]
          },
          "metadata": {},
          "execution_count": 71
        }
      ],
      "source": [
        "evaluator.evaluate_spurious_attribute_prediction()"
      ]
    }
  ],
  "metadata": {
    "kernelspec": {
      "display_name": "Python 3",
      "name": "python3"
    },
    "language_info": {
      "codemirror_mode": {
        "name": "ipython",
        "version": 3
      },
      "file_extension": ".py",
      "mimetype": "text/x-python",
      "name": "python",
      "nbconvert_exporter": "python",
      "pygments_lexer": "ipython3",
      "version": "3.10.9"
    },
    "orig_nbformat": 4,
    "colab": {
      "provenance": [],
      "machine_shape": "hm",
      "gpuType": "A100",
      "include_colab_link": true
    },
    "accelerator": "GPU"
  },
  "nbformat": 4,
  "nbformat_minor": 0
}